{
 "cells": [
  {
   "cell_type": "markdown",
   "id": "f24ef423-70c0-4dcf-81d9-2423a7695c20",
   "metadata": {},
   "source": [
    "# Programming Assignment - 7"
   ]
  },
  {
   "cell_type": "markdown",
   "id": "792fb54b-0b35-475b-8c1a-75d53d0e4f56",
   "metadata": {},
   "source": [
    "### 1. Write a Python Program to find sum of array?"
   ]
  },
  {
   "cell_type": "code",
   "execution_count": 1,
   "id": "879f9398-a8eb-45d4-bf94-fbf106751779",
   "metadata": {},
   "outputs": [
    {
     "name": "stdout",
     "output_type": "stream",
     "text": [
      "15\n"
     ]
    }
   ],
   "source": [
    "def sum_array(arr):\n",
    "    sum = 0\n",
    "    for i in arr:\n",
    "        sum += i\n",
    "    return sum\n",
    "\n",
    "# Example usage:\n",
    "my_arr = [1, 2, 3, 4, 5]\n",
    "print(sum_array(my_arr))"
   ]
  },
  {
   "cell_type": "markdown",
   "id": "dc7f4d9a-4fa8-4f4e-9e2a-3b5d3e09558b",
   "metadata": {},
   "source": [
    "### 2. Write a Python Program to find largest element in an array?"
   ]
  },
  {
   "cell_type": "code",
   "execution_count": 2,
   "id": "210cae8d-604d-485c-8082-941c344e6db0",
   "metadata": {},
   "outputs": [
    {
     "name": "stdout",
     "output_type": "stream",
     "text": [
      "The largest element in the array is: 9\n"
     ]
    }
   ],
   "source": [
    "def find_largest(arr):\n",
    "    max_element = arr[0]\n",
    "    for element in arr:\n",
    "        if element > max_element:\n",
    "            max_element = element\n",
    "    return max_element\n",
    "\n",
    "# Example usage:\n",
    "array = [5, 2, 8, 1, 9, 4]\n",
    "largest = find_largest(array)\n",
    "print(\"The largest element in the array is:\", largest)"
   ]
  },
  {
   "cell_type": "markdown",
   "id": "27b5256e-dd7e-47e4-895a-685515c2b035",
   "metadata": {},
   "source": [
    "### 3. Write a Python Program for array rotation?"
   ]
  },
  {
   "cell_type": "code",
   "execution_count": 3,
   "id": "033bd64f-9d0e-4ba1-a3f0-f4cc389b6269",
   "metadata": {},
   "outputs": [],
   "source": [
    "def rotate_array(arr, n):\n",
    "    \"\"\"\n",
    "    Rotate the array `arr` by `n` elements to the left\n",
    "    \"\"\"\n",
    "    # calculate the length of the array\n",
    "    length = len(arr)\n",
    "    \n",
    "    # ensure that `n` is less than or equal to the length of the array\n",
    "    n = n % length\n",
    "    \n",
    "    # reverse the first `n` elements of the array\n",
    "    arr[:n] = arr[:n][::-1]\n",
    "    \n",
    "    # reverse the remaining elements of the array\n",
    "    arr[n:] = arr[n:][::-1]\n",
    "    \n",
    "    # reverse the entire array\n",
    "    arr[:] = arr[::-1]\n",
    "    \n",
    "    return arr"
   ]
  },
  {
   "cell_type": "code",
   "execution_count": 6,
   "id": "558f386f-292f-4efd-aac2-f3d4d58d848e",
   "metadata": {},
   "outputs": [
    {
     "data": {
      "text/plain": [
       "[5, 1, 2, 3, 4]"
      ]
     },
     "execution_count": 6,
     "metadata": {},
     "output_type": "execute_result"
    }
   ],
   "source": [
    "arr = [1, 2, 3, 4, 5]\n",
    "rotate_array(arr,4)"
   ]
  },
  {
   "cell_type": "markdown",
   "id": "df6db8b2-5ce4-43d5-8936-9c6151dde332",
   "metadata": {},
   "source": [
    "### 4. Write a Python Program to Split the array and add the first part to the end?"
   ]
  },
  {
   "cell_type": "code",
   "execution_count": 7,
   "id": "98169937-f8c9-49a4-a8d6-a9107b9c5618",
   "metadata": {},
   "outputs": [
    {
     "name": "stdout",
     "output_type": "stream",
     "text": [
      "[3, 4, 5, 1, 2]\n"
     ]
    }
   ],
   "source": [
    "def split_and_add(arr, n):\n",
    "    for i in range(n):\n",
    "        # remove first element and append it to the end\n",
    "        first = arr.pop(0)\n",
    "        arr.append(first)\n",
    "    return arr\n",
    "\n",
    "# example usage\n",
    "arr = [1, 2, 3, 4, 5]\n",
    "n = 2\n",
    "new_arr = split_and_add(arr, n)\n",
    "print(new_arr)"
   ]
  },
  {
   "cell_type": "markdown",
   "id": "8d50c0a5-19b7-48e2-b482-7880620f1756",
   "metadata": {},
   "source": [
    "### 5. Write a Python Program to check if given array is Monotonic?"
   ]
  },
  {
   "cell_type": "code",
   "execution_count": 8,
   "id": "fbc6db5d-4121-4504-a75f-46a70a170583",
   "metadata": {},
   "outputs": [],
   "source": [
    "def is_monotonic(arr):\n",
    "    if len(arr) <= 2:\n",
    "        return True\n",
    "\n",
    "    direction = None\n",
    "    for i in range(1, len(arr)):\n",
    "        if arr[i] > arr[i-1]:\n",
    "            if direction is None:\n",
    "                direction = 'inc'\n",
    "            elif direction == 'dec':\n",
    "                return False\n",
    "        elif arr[i] < arr[i-1]:\n",
    "            if direction is None:\n",
    "                direction = 'dec'\n",
    "            elif direction == 'inc':\n",
    "                return False\n",
    "\n",
    "    return True"
   ]
  },
  {
   "cell_type": "code",
   "execution_count": 9,
   "id": "e00aa956-a615-4352-b65e-75fde55e8248",
   "metadata": {},
   "outputs": [
    {
     "name": "stdout",
     "output_type": "stream",
     "text": [
      "True\n",
      "True\n",
      "False\n"
     ]
    }
   ],
   "source": [
    "arr1 = [1, 2, 3, 3, 4, 5]\n",
    "arr2 = [5, 4, 3, 3, 2, 1]\n",
    "arr3 = [1, 2, 3, 2, 4, 5]\n",
    "\n",
    "print(is_monotonic(arr1))  # True\n",
    "print(is_monotonic(arr2))  # True\n",
    "print(is_monotonic(arr3))  # False\n"
   ]
  }
 ],
 "metadata": {
  "kernelspec": {
   "display_name": "Python 3 (ipykernel)",
   "language": "python",
   "name": "python3"
  },
  "language_info": {
   "codemirror_mode": {
    "name": "ipython",
    "version": 3
   },
   "file_extension": ".py",
   "mimetype": "text/x-python",
   "name": "python",
   "nbconvert_exporter": "python",
   "pygments_lexer": "ipython3",
   "version": "3.10.6"
  }
 },
 "nbformat": 4,
 "nbformat_minor": 5
}

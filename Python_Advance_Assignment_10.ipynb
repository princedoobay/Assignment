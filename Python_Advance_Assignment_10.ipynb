{
  "nbformat": 4,
  "nbformat_minor": 0,
  "metadata": {
    "colab": {
      "provenance": []
    },
    "kernelspec": {
      "name": "python3",
      "display_name": "Python 3"
    },
    "language_info": {
      "name": "python"
    }
  },
  "cells": [
    {
      "cell_type": "markdown",
      "source": [
        "# Python_Advance_Assignment-10"
      ],
      "metadata": {
        "id": "lflQnI2x4hws"
      }
    },
    {
      "cell_type": "markdown",
      "source": [
        "Q1. What is the difference between __getattr__ and __getattribute__?\n",
        "\n",
        "Difference between __getattr__ and __getattribute__:\n",
        "\n",
        " - \\___getattribute___ : This method is called every time an attribute is accessed on an object, regardless of whether the attribute exists or not. It's a built-in method that can be overridden in a class to customize attribute access behavior.\n",
        "\n",
        "- \\___getattr___ : This method is only called when an attribute is not found through regular means (i.e., not found as an instance attribute, class attribute, or in the instance's dictionary). It's a fallback mechanism to provide a default behavior for accessing missing attributes.\n",
        "\n",
        "In summary, \\__getattribute__ is called for every attribute access, while \\__getattr__ is only called when the attribute is not found by other means."
      ],
      "metadata": {
        "id": "KO6XklqX4NBk"
      }
    },
    {
      "cell_type": "markdown",
      "source": [
        "Q2. What is the difference between properties and descriptors?\n",
        "\n",
        "Properties and descriptors are both mechanisms in Python to control and customize attribute access, but they have differences in how they are implemented and their use cases:\n",
        "\n",
        "- Properties: Properties are a convenient way to define getter, setter, and deleter methods for a class attribute. They are created using the @property decorator and provide a way to encapsulate attribute access with method-like syntax. Properties are more focused on controlling access to an existing attribute and providing computed values.\n",
        "\n",
        "- Descriptors: Descriptors are more general-purpose than properties. A descriptor is an object that defines one or more of the methods \\__get__, \\__set__, or \\__delete__. They can be used to customize attribute access and modification at the class level, and they can be shared among multiple attributes in a class.\n",
        "\n",
        "In essence, properties are a specific use case of descriptors, where the descriptor mainly focuses on attribute access control."
      ],
      "metadata": {
        "id": "wSS3HtGI4kPd"
      }
    },
    {
      "cell_type": "markdown",
      "source": [
        "Q3. What are the key differences in functionality between \\__getattr__ and \\__getattribute__, as well as properties and descriptors?\n",
        "\n",
        "Key differences in functionality between \\__getattr__, \\__getattribute__, properties, and descriptors:\n",
        "\n",
        "- \\__getattribute__ vs. \\__getattr__:\n",
        "\n",
        ">- \\__getattribute__ is called for every attribute access, whether the attribute exists or not.\n",
        ">- \\__getattr__ is called only when an attribute is not found through other means.\n",
        ">- Use \\__getattribute__ for fine-grained control over attribute access.\n",
        ">- Use \\__getattr__ for providing default behavior for missing attributes.\n",
        "\n",
        "- Properties vs. Descriptors:\n",
        "\n",
        ">- Properties are a specific type of descriptor that provide a high-level way to control access to an attribute.\n",
        ">- Descriptors are more general and can be used for attribute access, modification, and deletion with fine-grained control.\n",
        ">- Properties are often used to create computed attributes or encapsulate access to private attributes.\n",
        ">- Descriptors can be shared among multiple attributes in a class and offer more flexibility in customization.\n",
        "\n",
        "In summary, \\__getattribute__ and \\__getattr__ control attribute access at the instance level, while properties and descriptors provide mechanisms for customizing attribute access behavior in more controlled and organized ways."
      ],
      "metadata": {
        "id": "4GnHumm6540-"
      }
    }
  ]
}
{
 "cells": [
  {
   "cell_type": "markdown",
   "id": "6e606d1a-986e-4193-8de0-b0be8c78e756",
   "metadata": {},
   "source": [
    "# Assignment - 25"
   ]
  },
  {
   "cell_type": "markdown",
   "id": "e494475f-eabd-4780-8a83-ea0ed7e34b7b",
   "metadata": {},
   "source": [
    "### 1) . What is the difference between enclosing a list comprehension in square brackets and parentheses?"
   ]
  },
  {
   "cell_type": "markdown",
   "id": "c1069cbf-c9ac-421b-af25-6bf0d6904d51",
   "metadata": {},
   "source": [
    "The difference between enclosing a list comprehension in square brackets and parentheses is that square brackets create a list object, whereas parentheses create a generator object.\n",
    "\n",
    "When using square brackets, the list comprehension is executed immediately, and the result is a list. This means that the entire list is created in memory at once. \n",
    "\n",
    "When using parentheses, the list comprehension is not executed immediately. Instead, it returns a generator object that can be iterated over to produce the results one at a time. This is more memory-efficient as the generator object generates each element on-the-fly as it is requested, rather than creating the entire list in memory at once. However, the downside is that generators can only be iterated once."
   ]
  },
  {
   "cell_type": "markdown",
   "id": "23a9f4d6-ffb3-4617-a727-276a6f0ab9b7",
   "metadata": {},
   "source": [
    "### 2) What is the relationship between generators and iterators?"
   ]
  },
  {
   "cell_type": "markdown",
   "id": "3d6b4fd3-1412-496d-8ac5-e2bea96d4a9f",
   "metadata": {},
   "source": [
    "Generators and iterators are related concepts in Python. In fact, a generator is a type of iterator. \n",
    "\n",
    "An iterator is an object that implements the iterator protocol, which requires the object to implement two methods: `__iter__()` and `__next__()`. The `__iter__()` method returns the iterator object itself, and the `__next__()` method returns the next value from the iterator. \n",
    "\n",
    "A generator is a special type of iterator that is defined using a `yield` statement. The `yield` statement suspends the function's execution and sends a value back to the caller, but retains enough state to enable the function to resume where it left off. This allows the generator to produce a sequence of values on-the-fly, rather than generating them all at once and storing them in memory like a list comprehension would. \n",
    "\n",
    "In other words, while list comprehensions use brackets to generate a list all at once in memory, generators use parentheses to generate values on the fly as they are needed."
   ]
  },
  {
   "cell_type": "markdown",
   "id": "ff7f6248-4f97-4b65-b422-6d3c07d733f1",
   "metadata": {},
   "source": [
    "### 3) What are the signs that a function is a generator function?"
   ]
  },
  {
   "cell_type": "markdown",
   "id": "9101e8a9-f656-4db3-9c7a-18f84389d284",
   "metadata": {},
   "source": [
    "A generator function is a special type of function that returns an iterator. It is defined using the `yield` keyword instead of `return` and allows you to generate a series of values on the fly. The following are the signs that a function is a generator function:\n",
    "\n",
    "1. It contains one or more `yield` statements.\n",
    "2. It returns an iterator when called.\n",
    "3. It can be used in a `for` loop.\n",
    "4. It can be passed to any function or method that expects an iterable."
   ]
  },
  {
   "cell_type": "markdown",
   "id": "1aaf9f8d-20c1-46d1-a565-d4dfce538c15",
   "metadata": {},
   "source": [
    "### 4) What is the purpose of a yield statement?"
   ]
  },
  {
   "cell_type": "markdown",
   "id": "e23915d2-57ae-4f03-a3df-9249c7d4eccc",
   "metadata": {},
   "source": [
    "The `yield` statement is used in Python to create a generator function. When a function contains a `yield` statement, it becomes a generator function that returns a generator object when called. \n",
    "\n",
    "The purpose of the `yield` statement is to return a value from the generator function to the caller, without terminating the function. The generator function can be resumed from where it left off the next time it is called, and it continues to generate values until it either reaches the end of the function or encounters a `return` statement. \n",
    "\n",
    "In other words, the `yield` statement allows the generator function to generate a sequence of values on-the-fly, as requested by the caller, rather than generating all the values at once and returning them in a list or other data structure. This is useful for generating large sequences of data that might be too large to store in memory all at once."
   ]
  },
  {
   "cell_type": "markdown",
   "id": "0987b4ca-78d6-423a-b058-3b6adcb12fc6",
   "metadata": {},
   "source": [
    "### 5) What is the relationship between map calls and list comprehensions? Make a comparison and contrast between the two."
   ]
  },
  {
   "cell_type": "markdown",
   "id": "b3056665-07ea-4ea9-befd-1fb8e3b46f55",
   "metadata": {},
   "source": [
    "Both `map()` calls and list comprehensions are used to apply a function to each element in a sequence, and return the resulting sequence of transformed values. However, there are a few differences:\n",
    "\n",
    "- `map()` returns a map object, whereas a list comprehension returns a list.\n",
    "- `map()` applies a function to each element in a sequence lazily, only when an element is needed. List comprehensions, on the other hand, generate the entire sequence at once.\n",
    "- `map()` can take multiple sequences as input, whereas list comprehensions operate on a single sequence.\n",
    "- List comprehensions allow the use of conditional expressions to filter the input sequence and apply the function only to certain elements. This can be achieved in `map()` by chaining it with `filter()`.\n",
    "\n",
    "Here is an example that demonstrates these differences:\n",
    "\n",
    "```python\n",
    "# Using map() and filter() to apply a function conditionally to multiple input sequences\n",
    "nums1 = [1, 2, 3, 4, 5]\n",
    "nums2 = [6, 7, 8, 9, 10]\n",
    "result = map(lambda x: x**2, filter(lambda x: x % 2 == 0, nums1))\n",
    "print(list(result))  # [4, 16]\n",
    "\n",
    "# Using a list comprehension to achieve the same result\n",
    "result = [x**2 for x in nums1 if x % 2 == 0]\n",
    "print(result)  # [4, 16]\n",
    "\n",
    "# Using map() to apply a function lazily to a single sequence\n",
    "result = map(lambda x: x**2, nums2)\n",
    "print(result)  # <map object at 0x7ff2e457f550>\n",
    "print(list(result))  # [36, 49, 64, 81, 100]\n",
    "\n",
    "# Using a list comprehension to generate the entire sequence at once\n",
    "result = [x**2 for x in nums2]\n",
    "print(result)  # [36, 49, 64, 81, 100]\n",
    "```"
   ]
  }
 ],
 "metadata": {
  "kernelspec": {
   "display_name": "Python 3 (ipykernel)",
   "language": "python",
   "name": "python3"
  },
  "language_info": {
   "codemirror_mode": {
    "name": "ipython",
    "version": 3
   },
   "file_extension": ".py",
   "mimetype": "text/x-python",
   "name": "python",
   "nbconvert_exporter": "python",
   "pygments_lexer": "ipython3",
   "version": "3.10.6"
  }
 },
 "nbformat": 4,
 "nbformat_minor": 5
}

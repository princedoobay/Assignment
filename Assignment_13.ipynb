{
 "cells": [
  {
   "cell_type": "markdown",
   "id": "75477cac",
   "metadata": {},
   "source": [
    "# Assignment-13"
   ]
  },
  {
   "cell_type": "markdown",
   "id": "8dc88274",
   "metadata": {},
   "source": [
    "## 1. What advantages do Excel spreadsheets have over CSV spreadsheets?\n",
    "\n",
    "Ans: Excel is more superior when compared with the CSV file format; thus, CSV consumes less amount of file size when the user is importing data; it is a much faster format compared to excel. CSV does not manipulate data and stores it as-is. Excel also allows the user the add-in feature."
   ]
  },
  {
   "cell_type": "markdown",
   "id": "532f7d40",
   "metadata": {},
   "source": [
    "## 2. What do you pass to csv.reader() and csv.writer() to create reader and writer objects?\n",
    "\n",
    "Ans: We have to pass the file inside csv.reader() and csv.writer() functions. For e.g.\n",
    "csv.reader(file) , csv.writer(file)"
   ]
  },
  {
   "cell_type": "markdown",
   "id": "62cb9d64",
   "metadata": {},
   "source": [
    "## 3. What modes do File objects for reader and writer objects need to be opened in?\n",
    "\n",
    "Ans:The open() function uses two arguments. First is the name of the file and second is for what purpose we want to open it .i.e. for reading or writing?\n",
    "\n",
    "The syntax to open a file object in python is:\n",
    "\n",
    "File_obj = open(“filename”, “mode”)\n",
    "\n",
    "Here mode -- 'r' open for reading a file\n",
    "--'w' open for writing a file"
   ]
  },
  {
   "cell_type": "markdown",
   "id": "62f28bd5",
   "metadata": {},
   "source": [
    "## 4. What method takes a list argument and writes it to a CSV file?\n",
    "\n",
    "Ans: csv.writer() takes a list argument and write it into a file where strings are separated by comma."
   ]
  },
  {
   "cell_type": "markdown",
   "id": "9f1dbbab",
   "metadata": {},
   "source": [
    "## 5. What do the keyword arguments delimiter and line terminator do?\n",
    "\n",
    "Ans: The delimiter is the character that appears between cells on a row. By default, the delimiter for a CSV file is a comma. The line terminator is the character that comes at the end of a row.\n",
    "    \n",
    "    Passing delimeter='\\t' and lineterminator='\\n\\n' ❶ changes the character between cells to a tab and the character between rows to two newlines. "
   ]
  },
  {
   "cell_type": "markdown",
   "id": "0628bd46",
   "metadata": {},
   "source": [
    "## 6. What function takes a string of JSON data and returns a Python data structure?\n",
    "\n",
    "Ans: If we have a JSON string, we can parse it by using the json.loads() method."
   ]
  },
  {
   "cell_type": "markdown",
   "id": "6e29d4fc",
   "metadata": {},
   "source": [
    "## 7. What function takes a Python data structure and returns a string of JSON data?\n",
    "\n",
    "Ans: To handle the data flow in a file, the JSON library in Python uses a dump() and dumps() method, that does the conversion and makes it easy to write data into files. \n",
    "    Jason.dump() will be the function for this."
   ]
  },
  {
   "cell_type": "code",
   "execution_count": null,
   "id": "dd32f979",
   "metadata": {},
   "outputs": [],
   "source": []
  }
 ],
 "metadata": {
  "kernelspec": {
   "display_name": "Python 3 (ipykernel)",
   "language": "python",
   "name": "python3"
  },
  "language_info": {
   "codemirror_mode": {
    "name": "ipython",
    "version": 3
   },
   "file_extension": ".py",
   "mimetype": "text/x-python",
   "name": "python",
   "nbconvert_exporter": "python",
   "pygments_lexer": "ipython3",
   "version": "3.9.12"
  }
 },
 "nbformat": 4,
 "nbformat_minor": 5
}

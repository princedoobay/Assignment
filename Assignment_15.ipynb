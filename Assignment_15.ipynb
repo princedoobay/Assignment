{
 "cells": [
  {
   "cell_type": "markdown",
   "id": "d329f0d9",
   "metadata": {},
   "source": [
    "# Assignment - 15"
   ]
  },
  {
   "cell_type": "markdown",
   "id": "c798db1a",
   "metadata": {},
   "source": [
    "### 1. How many seconds are in an hour? Use the interactive interpreter as a calculator and multiply the number of seconds in a minute (60) by the number of minutes in an hour (also 60)."
   ]
  },
  {
   "cell_type": "markdown",
   "id": "8bd7deb1",
   "metadata": {},
   "source": [
    "To find out how many seconds are in an hour, we can use the interactive interpreter as follows:"
   ]
  },
  {
   "cell_type": "code",
   "execution_count": 1,
   "id": "0a598516",
   "metadata": {},
   "outputs": [
    {
     "data": {
      "text/plain": [
       "3600"
      ]
     },
     "execution_count": 1,
     "metadata": {},
     "output_type": "execute_result"
    }
   ],
   "source": [
    "60 * 60"
   ]
  },
  {
   "cell_type": "markdown",
   "id": "465ea03f",
   "metadata": {},
   "source": [
    "Therefore, there are 3600 seconds in an hour."
   ]
  },
  {
   "cell_type": "markdown",
   "id": "8b8c5960",
   "metadata": {},
   "source": [
    "### 2. Assign the result from the previous task (seconds in an hour) to a variable called seconds_per_hour."
   ]
  },
  {
   "cell_type": "code",
   "execution_count": 2,
   "id": "188e014b",
   "metadata": {},
   "outputs": [],
   "source": [
    "seconds_per_hour = 60*60"
   ]
  },
  {
   "cell_type": "markdown",
   "id": "13f0f1e3",
   "metadata": {},
   "source": [
    "### 3. How many seconds do you think there are in a day? Make use of the variables seconds per hour and minutes per hour."
   ]
  },
  {
   "cell_type": "code",
   "execution_count": 5,
   "id": "2ad47681",
   "metadata": {},
   "outputs": [
    {
     "name": "stdout",
     "output_type": "stream",
     "text": [
      "There are 86400 seconds in a day.\n"
     ]
    }
   ],
   "source": [
    "seconds_per_hour = 60 * 60  # Number of seconds per hour\n",
    "seconds_per_day = seconds_per_hour * 24  # Number of seconds per day\n",
    "print(f'There are {seconds_per_day} seconds in a day.')"
   ]
  },
  {
   "cell_type": "markdown",
   "id": "379f3ef8",
   "metadata": {},
   "source": [
    "### 4. Calculate seconds per day again, but this time save the result in a variable called seconds_per_day"
   ]
  },
  {
   "cell_type": "code",
   "execution_count": 6,
   "id": "2aa90f09",
   "metadata": {},
   "outputs": [
    {
     "name": "stdout",
     "output_type": "stream",
     "text": [
      "86400\n"
     ]
    }
   ],
   "source": [
    "seconds_per_hour = 60 * 60  # Number of seconds per hour\n",
    "hours_per_day = 24  # Number of hours per day\n",
    "seconds_per_day = seconds_per_hour * hours_per_day  # Number of seconds per day\n",
    "\n",
    "print(seconds_per_day)"
   ]
  },
  {
   "cell_type": "markdown",
   "id": "94d3a0ca",
   "metadata": {},
   "source": [
    "### 5. Divide seconds_per_day by seconds_per_hour. Use floating-point (/) division."
   ]
  },
  {
   "cell_type": "code",
   "execution_count": 7,
   "id": "24a33978",
   "metadata": {},
   "outputs": [
    {
     "data": {
      "text/plain": [
       "24.0"
      ]
     },
     "execution_count": 7,
     "metadata": {},
     "output_type": "execute_result"
    }
   ],
   "source": [
    "seconds_per_day/seconds_per_hour"
   ]
  },
  {
   "cell_type": "markdown",
   "id": "e7139b89",
   "metadata": {},
   "source": [
    "### 6. Divide seconds_per_day by seconds_per_hour, using integer (//) division. Did this number agree with the floating-point value from the previous question, aside from the final .0?"
   ]
  },
  {
   "cell_type": "code",
   "execution_count": 8,
   "id": "c3892aa2",
   "metadata": {},
   "outputs": [
    {
     "data": {
      "text/plain": [
       "24"
      ]
     },
     "execution_count": 8,
     "metadata": {},
     "output_type": "execute_result"
    }
   ],
   "source": [
    "seconds_per_day//seconds_per_hour"
   ]
  },
  {
   "cell_type": "markdown",
   "id": "e636151b",
   "metadata": {},
   "source": [
    "Yes, this number agrees with the floating-point value from the previous question, aside from the final .0. This is because the floating-point division returns a float value while the integer division returns an integer value, but the value itself is the same in both cases."
   ]
  },
  {
   "cell_type": "markdown",
   "id": "64b98f30",
   "metadata": {},
   "source": [
    "### 7. Write a generator, genPrimes, that returns the sequence of prime numbers on successive calls to its next() method: 2, 3, 5, 7, 11, ..."
   ]
  },
  {
   "cell_type": "code",
   "execution_count": 9,
   "id": "7997929b",
   "metadata": {},
   "outputs": [],
   "source": [
    "def genPrimes():\n",
    "    # Initialize variables\n",
    "    primes = []  # List of prime numbers\n",
    "    num = 2  # Current number to test for primality\n",
    "\n",
    "    while True:\n",
    "        is_prime = True  # Assume num is prime\n",
    "\n",
    "        # Check if num is divisible by any prime number less than num\n",
    "        for prime in primes:\n",
    "            if num % prime == 0:\n",
    "                is_prime = False  # num is not prime\n",
    "                break\n",
    "\n",
    "        if is_prime:\n",
    "            # num is prime\n",
    "            primes.append(num)  # Add num to list of prime numbers\n",
    "            yield num  # Yield num\n",
    "\n",
    "        num += 1  # Increment num for next iteration\n"
   ]
  },
  {
   "cell_type": "code",
   "execution_count": 13,
   "id": "94b7589e",
   "metadata": {},
   "outputs": [],
   "source": [
    "primes = genPrimes()"
   ]
  },
  {
   "cell_type": "code",
   "execution_count": 14,
   "id": "005042e6",
   "metadata": {},
   "outputs": [
    {
     "name": "stdout",
     "output_type": "stream",
     "text": [
      "2\n",
      "3\n",
      "5\n",
      "7\n",
      "11\n"
     ]
    }
   ],
   "source": [
    "print(next(primes))  \n",
    "print(next(primes))  \n",
    "print(next(primes))  \n",
    "print(next(primes))  \n",
    "print(next(primes))  "
   ]
  }
 ],
 "metadata": {
  "kernelspec": {
   "display_name": "Python 3 (ipykernel)",
   "language": "python",
   "name": "python3"
  },
  "language_info": {
   "codemirror_mode": {
    "name": "ipython",
    "version": 3
   },
   "file_extension": ".py",
   "mimetype": "text/x-python",
   "name": "python",
   "nbconvert_exporter": "python",
   "pygments_lexer": "ipython3",
   "version": "3.9.12"
  }
 },
 "nbformat": 4,
 "nbformat_minor": 5
}

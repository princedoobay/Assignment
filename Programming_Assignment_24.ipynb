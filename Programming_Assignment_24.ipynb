{
 "cells": [
  {
   "cell_type": "markdown",
   "id": "d49c443e-281b-4fa9-becc-1c127956dc38",
   "metadata": {},
   "source": [
    "# Programming Assignment - 24"
   ]
  },
  {
   "cell_type": "markdown",
   "id": "b189766e-d1f5-4ea6-8ab5-c339247f2710",
   "metadata": {},
   "source": [
    "### 1. Create a function that takes an integer and returns a list from 1 to the given number, where:\n",
    "1. If the number can be divided evenly by 4, amplify it by 10 (i.e. return 10 times the number).\n",
    "2. If the number cannot be divided evenly by 4, simply return the number.\n",
    "Examples\n",
    "\n",
    "amplify(4) ➞ [1, 2, 3, 40]\n",
    "\n",
    "amplify(3) ➞ [1, 2, 3]\n",
    "\n",
    "amplify(25) ➞ [1, 2, 3, 40, 5, 6, 7, 80, 9, 10, 11, 120, 13, 14, 15, 160,\n",
    "17, 18, 19, 200, 21, 22, 23, 240, 25]\n",
    "\n",
    "Notes\n",
    "\n",
    " The given integer will always be equal to or greater than 1.\n",
    "\n",
    " Include the number (see example above).\n",
    "\n",
    " To perform this problem with its intended purpose, try doing it with list comprehensions. If that&#39;s too difficult, just solve the challenge any way you can."
   ]
  },
  {
   "cell_type": "code",
   "execution_count": 1,
   "id": "137f5980-9102-43cc-9e26-3ab3f8e26c31",
   "metadata": {},
   "outputs": [],
   "source": [
    "def amplify(num):\n",
    "    return [n*10 if n%4==0 else n for n in range(1,num+1)]"
   ]
  },
  {
   "cell_type": "code",
   "execution_count": 2,
   "id": "9d4582ea-7edc-4880-8988-61892b990a5f",
   "metadata": {},
   "outputs": [
    {
     "data": {
      "text/plain": [
       "[1, 2, 3, 40]"
      ]
     },
     "execution_count": 2,
     "metadata": {},
     "output_type": "execute_result"
    }
   ],
   "source": [
    "amplify(4)"
   ]
  },
  {
   "cell_type": "code",
   "execution_count": 3,
   "id": "d764fd42-a9fa-489c-b33b-c6fb7ef4690e",
   "metadata": {},
   "outputs": [
    {
     "data": {
      "text/plain": [
       "[1, 2, 3]"
      ]
     },
     "execution_count": 3,
     "metadata": {},
     "output_type": "execute_result"
    }
   ],
   "source": [
    "amplify(3)"
   ]
  },
  {
   "cell_type": "code",
   "execution_count": 4,
   "id": "42ef5e40-f845-4ba9-99ab-2b3a97244022",
   "metadata": {},
   "outputs": [
    {
     "data": {
      "text/plain": [
       "[1,\n",
       " 2,\n",
       " 3,\n",
       " 40,\n",
       " 5,\n",
       " 6,\n",
       " 7,\n",
       " 80,\n",
       " 9,\n",
       " 10,\n",
       " 11,\n",
       " 120,\n",
       " 13,\n",
       " 14,\n",
       " 15,\n",
       " 160,\n",
       " 17,\n",
       " 18,\n",
       " 19,\n",
       " 200,\n",
       " 21,\n",
       " 22,\n",
       " 23,\n",
       " 240,\n",
       " 25]"
      ]
     },
     "execution_count": 4,
     "metadata": {},
     "output_type": "execute_result"
    }
   ],
   "source": [
    "amplify(25)"
   ]
  },
  {
   "cell_type": "markdown",
   "id": "f0e94e37-21a9-4df6-9e98-3d93bd5bdaca",
   "metadata": {},
   "source": [
    "### 2. Create a function that takes a list of numbers and return the number that&#39;s unique.\n",
    "Examples\n",
    "\n",
    "unique([3, 3, 3, 7, 3, 3]) ➞ 7\n",
    "\n",
    "unique([0, 0, 0.77, 0, 0]) ➞ 0.77\n",
    "\n",
    "unique([0, 1, 1, 1, 1, 1, 1, 1]) ➞ 0\n",
    "\n",
    "Notes\n",
    "\n",
    "Test cases will always have exactly one unique number while all others are the same."
   ]
  },
  {
   "cell_type": "code",
   "execution_count": 5,
   "id": "da2d72ea-bb4e-4971-a761-67d82819fd03",
   "metadata": {},
   "outputs": [],
   "source": [
    "def unique(lst):\n",
    "    counts = {}\n",
    "    for num in lst:\n",
    "        if num in counts:\n",
    "            counts[num] += 1\n",
    "        else:\n",
    "            counts[num] = 1\n",
    "    for num, count in counts.items():\n",
    "        if count == 1:\n",
    "            return num"
   ]
  },
  {
   "cell_type": "code",
   "execution_count": 6,
   "id": "19cf7cfc-a6bc-4290-828b-6e0c0f14d38f",
   "metadata": {},
   "outputs": [
    {
     "name": "stdout",
     "output_type": "stream",
     "text": [
      "7\n",
      "0.77\n",
      "0\n"
     ]
    }
   ],
   "source": [
    "print(unique([3, 3, 3, 7, 3, 3]))   # Output: 7\n",
    "print(unique([0, 0, 0.77, 0, 0]))   # Output: 0.77\n",
    "print(unique([0, 1, 1, 1, 1, 1, 1, 1]))   # Output: 0"
   ]
  },
  {
   "cell_type": "markdown",
   "id": "698599bd-8eed-46d2-933b-1b31e100d81e",
   "metadata": {},
   "source": [
    "### 3. Your task is to create a Circle constructor that creates a circle with a radius provided by an argument. The circles constructed must have two getters getArea() (PIr^2) and getPerimeter() (2PI*r) which give both respective areas and perimeter (circumference).\n",
    "For help with this class, I have provided you with a Rectangle constructor which you can use as a base example.\n",
    "\n",
    "Examples\n",
    "\n",
    "circy = Circle(11)\n",
    "\n",
    "circy.getArea()\n",
    "#### Should return 380.132711084365\n",
    "circy = Circle(4.44)\n",
    "\n",
    "circy.getPerimeter()\n",
    "#### Should return 27.897342763877365\n",
    "Notes\n",
    "\n",
    "Round results up to the nearest integer."
   ]
  },
  {
   "cell_type": "code",
   "execution_count": 18,
   "id": "ae685e6f-dfc0-4ddc-86aa-5df751922046",
   "metadata": {},
   "outputs": [],
   "source": [
    "import math\n",
    "\n",
    "class Circle:\n",
    "    def __init__(self, radius):\n",
    "        self.radius = radius\n",
    "    \n",
    "    def getArea(self):\n",
    "        return round(math.pi * self.radius ** 2)\n",
    "    \n",
    "    def getPerimeter(self):\n",
    "        return round(2 * math.pi * self.radius)"
   ]
  },
  {
   "cell_type": "code",
   "execution_count": 19,
   "id": "6b8caf1d-897d-4393-bdd7-82155a35fd74",
   "metadata": {},
   "outputs": [
    {
     "name": "stdout",
     "output_type": "stream",
     "text": [
      "380\n"
     ]
    }
   ],
   "source": [
    "circy = Circle(11)\n",
    "print(circy.getArea())  # Output: 380"
   ]
  },
  {
   "cell_type": "code",
   "execution_count": 21,
   "id": "298b42bb-d7ce-492c-82be-1478684497cc",
   "metadata": {},
   "outputs": [
    {
     "name": "stdout",
     "output_type": "stream",
     "text": [
      "28\n"
     ]
    }
   ],
   "source": [
    "circy = Circle(4.44)\n",
    "print(circy.getPerimeter())  # Output: 380"
   ]
  },
  {
   "cell_type": "markdown",
   "id": "f340bd6f-e0f3-4131-b196-df21ef8c8cc0",
   "metadata": {},
   "source": [
    "### 4. Create a function that takes a list of strings and return a list, sorted from shortest to longest.\n",
    "Examples\n",
    "\n",
    "sort_by_length([&quot;Google&quot;, &quot;Apple&quot;, &quot;Microsoft&quot;])\n",
    "➞ [&quot;Apple&quot;, &quot;Google&quot;, &quot;Microsoft&quot;]\n",
    "\n",
    "sort_by_length([&quot;Leonardo&quot;, &quot;Michelangelo&quot;, &quot;Raphael&quot;, &quot;Donatello&quot;])\n",
    "➞ [&quot;Raphael&quot;, &quot;Leonardo&quot;, &quot;Donatello&quot;, &quot;Michelangelo&quot;]\n",
    "\n",
    "sort_by_length([&quot;Turing&quot;, &quot;Einstein&quot;, &quot;Jung&quot;])\n",
    "➞ [&quot;Jung&quot;, &quot;Turing&quot;, &quot;Einstein&quot;]\n",
    "\n",
    "Notes\n",
    "\n",
    "All test cases contain lists with strings of different lengths, so you won&#39;t have to deal with multiple strings of the same length."
   ]
  },
  {
   "cell_type": "code",
   "execution_count": 22,
   "id": "3104676b-574c-4a3b-926d-c60dada36607",
   "metadata": {},
   "outputs": [],
   "source": [
    "def sort_by_length(lst):\n",
    "    return sorted(lst, key=len)"
   ]
  },
  {
   "cell_type": "code",
   "execution_count": 23,
   "id": "21edd89e-fa74-43df-a2a4-30bd2ab7957b",
   "metadata": {},
   "outputs": [
    {
     "data": {
      "text/plain": [
       "['Apple', 'Google', 'Microsoft']"
      ]
     },
     "execution_count": 23,
     "metadata": {},
     "output_type": "execute_result"
    }
   ],
   "source": [
    "sort_by_length([\"Google\", \"Apple\", \"Microsoft\"])"
   ]
  },
  {
   "cell_type": "code",
   "execution_count": 25,
   "id": "129fd95d-f379-41c1-a685-78ebfd95828f",
   "metadata": {},
   "outputs": [
    {
     "data": {
      "text/plain": [
       "['Raphael', 'Leonardo', 'Donatello', 'Michelangelo']"
      ]
     },
     "execution_count": 25,
     "metadata": {},
     "output_type": "execute_result"
    }
   ],
   "source": [
    "sort_by_length([\"Leonardo\", \"Michelangelo\", \"Raphael\", \"Donatello\"])"
   ]
  },
  {
   "cell_type": "code",
   "execution_count": 26,
   "id": "f653a6f3-3dd7-44ec-b2c5-741254d3db7a",
   "metadata": {},
   "outputs": [
    {
     "data": {
      "text/plain": [
       "['Jung', 'Turing', 'Einstein']"
      ]
     },
     "execution_count": 26,
     "metadata": {},
     "output_type": "execute_result"
    }
   ],
   "source": [
    "sort_by_length([\"Turing\", \"Einstein\", \"Jung\"])"
   ]
  },
  {
   "cell_type": "markdown",
   "id": "0b812dae-33b3-450a-b61e-af047b4065a9",
   "metadata": {},
   "source": [
    "### 5. Create a function that validates whether three given integers form a Pythagorean triplet. The sum of the squares of the two smallest integers must equal the square of the largest number to be validated.\n",
    "Examples\n",
    "\n",
    "is_triplet(3, 4, 5) ➞ True\n",
    "#### 3² + 4² = 25\n",
    "#### 5² = 25\n",
    "is_triplet(13, 5, 12) ➞ True\n",
    "#### 5² + 12² = 169\n",
    "#### 13² = 169\n",
    "is_triplet(1, 2, 3) ➞ False\n",
    "#### 1² + 2² = 5\n",
    "#### 3² = 9\n",
    "Notes\n",
    "\n",
    "Numbers may not be given in a sorted order."
   ]
  },
  {
   "cell_type": "code",
   "execution_count": 27,
   "id": "dbcee13b-e8dc-4931-8dbb-7af4f91ed636",
   "metadata": {},
   "outputs": [],
   "source": [
    "def is_triplet(n1, n2, n3):\n",
    "    # Put the numbers in a list and sort it\n",
    "    numbers = [n1, n2, n3]\n",
    "    numbers.sort()\n",
    "    # Check if the squared sum of the two smaller numbers is equal to the square of the largest number\n",
    "    return numbers[0]**2 + numbers[1]**2 == numbers[2]**2"
   ]
  },
  {
   "cell_type": "code",
   "execution_count": 28,
   "id": "1f09e5ac-d007-48b2-93e0-c6a5f4e5c4ee",
   "metadata": {},
   "outputs": [
    {
     "name": "stdout",
     "output_type": "stream",
     "text": [
      "True\n",
      "True\n",
      "False\n"
     ]
    }
   ],
   "source": [
    "print(is_triplet(3, 4, 5))\n",
    "print(is_triplet(13, 5, 12))\n",
    "print(is_triplet(1, 2, 3))"
   ]
  }
 ],
 "metadata": {
  "kernelspec": {
   "display_name": "Python 3 (ipykernel)",
   "language": "python",
   "name": "python3"
  },
  "language_info": {
   "codemirror_mode": {
    "name": "ipython",
    "version": 3
   },
   "file_extension": ".py",
   "mimetype": "text/x-python",
   "name": "python",
   "nbconvert_exporter": "python",
   "pygments_lexer": "ipython3",
   "version": "3.10.6"
  }
 },
 "nbformat": 4,
 "nbformat_minor": 5
}

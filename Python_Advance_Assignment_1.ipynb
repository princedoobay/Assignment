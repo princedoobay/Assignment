{
  "nbformat": 4,
  "nbformat_minor": 0,
  "metadata": {
    "colab": {
      "provenance": []
    },
    "kernelspec": {
      "name": "python3",
      "display_name": "Python 3"
    },
    "language_info": {
      "name": "python"
    }
  },
  "cells": [
    {
      "cell_type": "markdown",
      "source": [
        "# Python_Advance_Assignment - 1"
      ],
      "metadata": {
        "id": "aaldRxsTNBzK"
      }
    },
    {
      "cell_type": "markdown",
      "source": [
        "Q1. What is the purpose of Python&#39;s OOP?\n",
        "\n",
        "The purpose of Python's Object-Oriented Programming (OOP) is to provide a programming paradigm that facilitates the organization and structuring of code by representing real-world entities and their interactions as objects. OOP promotes the use of classes and objects to encapsulate data (attributes) and behaviors (methods) into reusable and modular components. This approach enhances code readability, maintainability, and allows for easier abstraction and modeling of complex systems.\n",
        "\n"
      ],
      "metadata": {
        "id": "n5xAayMnNP0G"
      }
    },
    {
      "cell_type": "markdown",
      "source": [
        "Q2. Where does an inheritance search look for an attribute?\n",
        "\n",
        "Inheritance search for an attribute in Python follows a specific order known as the Method Resolution Order (MRO). The MRO determines where Python looks for attributes when they are accessed on an object. The inheritance search order is as follows:\n",
        "\n",
        "The instance itself.\n",
        "The class where the instance was created (direct class of the instance).\n",
        "Base classes in the order they are defined in the class definition, following the inheritance hierarchy."
      ],
      "metadata": {
        "id": "9OJTKX_2NYOG"
      }
    },
    {
      "cell_type": "markdown",
      "source": [
        "Q3. How do you distinguish between a class object and an instance object?\n",
        "\n",
        "In Python, a class object is a blueprint for creating instances (objects) with shared attributes and methods. It defines the structure and behavior that instances will have, but it is not an instance itself. An instance object, on the other hand, is a specific realization of a class, created using the class constructor. Instances have their own unique data (attributes) and can invoke the methods defined in the class. In short, a class object defines the structure, while an instance object represents a specific instance of that structure.\n",
        "\n"
      ],
      "metadata": {
        "id": "tSnyjca5Niu2"
      }
    },
    {
      "cell_type": "markdown",
      "source": [
        "Q4. What makes the first argument in a class’s method function special?\n",
        "\n",
        "The first argument in a class's method function, conventionally named self, is special because it refers to the instance of the class on which the method is being called. When you call an instance method, Python automatically passes the instance as the first argument (self) to the method. This allows the method to access and manipulate the attributes and behaviors specific to that instance. It's a way for methods to interact with the instance's data and perform actions that are relevant to that particular instance."
      ],
      "metadata": {
        "id": "DUPW1fy9Nqz-"
      }
    },
    {
      "cell_type": "markdown",
      "source": [
        "Q5. What is the purpose of the \\__init__ method?\n",
        "\n",
        "The \\__init__ method in Python is a special method (also known as a constructor) that is automatically called when an instance of a class is created. Its purpose is to initialize the attributes of the instance with specific values. This method allows you to set up the initial state of an object by providing values for its attributes. It takes at least one argument, conventionally named `self`, which refers to the instance being created, and additional arguments can be used to initialize other attributes.\n",
        "\n",
        "\n"
      ],
      "metadata": {
        "id": "GhJHrKGBNw01"
      }
    },
    {
      "cell_type": "markdown",
      "source": [
        "Q6. What is the process for creating a class instance?\n",
        "\n",
        "The process for creating a class instance involves the following steps:\n",
        "\n",
        "Define the class: Create a class blueprint by defining its attributes and methods.\n",
        "\n",
        "Instantiate the class: To create an instance of the class, call the class's constructor (usually \\__init__) with any required arguments.\n",
        "\n",
        "Initialize attributes: The constructor sets the initial values of the instance's attributes, based on the arguments provided.\n",
        "\n",
        "Use the instance: Once the instance is created, you can access its attributes and methods using dot notation (`instance.attribute` or `instance.method()`).\n",
        "Example:"
      ],
      "metadata": {
        "id": "jPg5kXk5OF5V"
      }
    },
    {
      "cell_type": "code",
      "source": [
        "class Person:\n",
        "    def __init__(self, name, age):\n",
        "        self.name = name\n",
        "        self.age = age\n",
        "\n",
        "person_instance = Person(\"Alice\", 30)\n",
        "print(person_instance.name)\n",
        "print(person_instance.age)"
      ],
      "metadata": {
        "colab": {
          "base_uri": "https://localhost:8080/"
        },
        "id": "Y46Fggm7NWy9",
        "outputId": "c0b3dd7c-21ac-4454-bb2e-3002999c2030"
      },
      "execution_count": 1,
      "outputs": [
        {
          "output_type": "stream",
          "name": "stdout",
          "text": [
            "Alice\n",
            "30\n"
          ]
        }
      ]
    },
    {
      "cell_type": "markdown",
      "source": [
        "Q7. What is the process for creating a class?\n",
        "\n",
        "The process for creating a class involves the following steps:\n",
        "\n",
        "Define the class: Write a class definition using the class keyword, followed by the class name and a colon.\n",
        "\n",
        "Define attributes: Inside the class, define attributes that will store data for instances.\n",
        "\n",
        "Define methods: Create methods that define the behavior of instances.\n",
        "Optionally, define an __init__ method: If you want to initialize attributes when instances are created, define the __init__ method.\n",
        "\n",
        "Instantiate the class: Create instances of the class using the class name followed by parentheses, optionally passing arguments to the constructor.\n",
        "Use the instances: Access attributes and invoke methods on the instances.\n",
        "Example:"
      ],
      "metadata": {
        "id": "_fWRE7L_Oel5"
      }
    },
    {
      "cell_type": "code",
      "source": [
        "class Dog:\n",
        "    def __init__(self, name):\n",
        "        self.name = name\n",
        "\n",
        "    def bark(self):\n",
        "        print(f\"{self.name} says woof!\")\n",
        "\n",
        "dog_instance = Dog(\"Buddy\")\n",
        "dog_instance.bark()  # Output: Buddy says woof!"
      ],
      "metadata": {
        "colab": {
          "base_uri": "https://localhost:8080/"
        },
        "id": "8D1Xta5WOa16",
        "outputId": "18f28b7a-c561-4c73-b9e2-5e5bdf23c46a"
      },
      "execution_count": 2,
      "outputs": [
        {
          "output_type": "stream",
          "name": "stdout",
          "text": [
            "Buddy says woof!\n"
          ]
        }
      ]
    },
    {
      "cell_type": "markdown",
      "source": [
        "Q8. How would you define the superclasses of a class?\n",
        "\n",
        "The superclasses of a class are the classes from which the given class inherits. In other words, superclasses are the parent classes in the inheritance hierarchy. When a class inherits from another class, it gains access to the attributes and methods defined in the superclass. These attributes and methods can be used in the subclass, and the subclass can also override or extend them.\n",
        "\n",
        "For example, consider the following class hierarchy:"
      ],
      "metadata": {
        "id": "hswYEZJYOqMf"
      }
    },
    {
      "cell_type": "code",
      "source": [
        "class Animal:\n",
        "    def speak(self):\n",
        "        pass\n",
        "\n",
        "class Dog(Animal):\n",
        "    def speak(self):\n",
        "        print(\"Woof!\")\n",
        "\n",
        "class Cat(Animal):\n",
        "    def speak(self):\n",
        "        print(\"Meow!\")\n"
      ],
      "metadata": {
        "id": "ubJj1PoXOntl"
      },
      "execution_count": 3,
      "outputs": []
    },
    {
      "cell_type": "markdown",
      "source": [
        "In this example, `Dog` and `Cat` are subclasses of `Animal`, making `Animal` the superclass of both `Dog` and `Cat`. The subclasses inherit the speak method from the `Animal` class and provide their own implementations.\n",
        "\n",
        "To summarize, superclasses are the classes higher in the inheritance hierarchy that provide a foundation for the attributes and behaviors of their subclasses."
      ],
      "metadata": {
        "id": "p2dqeOO_O7j9"
      }
    }
  ]
}
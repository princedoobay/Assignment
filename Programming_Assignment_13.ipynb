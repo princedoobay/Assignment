{
 "cells": [
  {
   "cell_type": "markdown",
   "id": "bb9485d4",
   "metadata": {},
   "source": [
    "# Programming Assignment - 13"
   ]
  },
  {
   "cell_type": "markdown",
   "id": "32f8f291",
   "metadata": {},
   "source": [
    "### 1. Write a program that calculates and prints the value according to the given formula:\n",
    "Q = Square root of [(2 * C * D)/H]\n",
    "\n",
    "Following are the fixed values of C and H: C is 50. H is 30.\n",
    "\n",
    "D is the variable whose values should be input to your program in a comma-separated sequence. Example\n",
    "\n",
    "Let us assume the following comma separated input sequence is given to the program:\n",
    "\n",
    "100,150,180\n",
    "\n",
    "The output of the program should be:\n",
    "\n",
    "18,22,24"
   ]
  },
  {
   "cell_type": "code",
   "execution_count": 1,
   "id": "e394549b",
   "metadata": {},
   "outputs": [
    {
     "name": "stdout",
     "output_type": "stream",
     "text": [
      "Enter comma-separated values for D: 100,150,180\n",
      "18,22,24\n"
     ]
    }
   ],
   "source": [
    "import math\n",
    "\n",
    "# Fixed values of C and H\n",
    "C = 50\n",
    "H = 30\n",
    "\n",
    "# Get input values for D\n",
    "input_str = input(\"Enter comma-separated values for D: \")\n",
    "D_list = input_str.split(\",\")\n",
    "\n",
    "# Calculate Q for each value of D and print the result\n",
    "result_list = []\n",
    "for D_str in D_list:\n",
    "    D = int(D_str)\n",
    "    Q = math.sqrt((2 * C * D) / H)\n",
    "    result_list.append(str(round(Q)))\n",
    "\n",
    "print(\",\".join(result_list))\n"
   ]
  },
  {
   "cell_type": "markdown",
   "id": "e4d83890",
   "metadata": {},
   "source": [
    "###  2. Write a program which takes 2 digits, X,Y as input and generates a 2-dimensional array. The element value in the i-th row and j-th column of the array should be i*j.\n",
    "Note: i=0,1.., X-1; j=0,1,¡Y-1.\n",
    "\n",
    "Example\n",
    "\n",
    "Suppose the following inputs are given to the program:\n",
    "\n",
    "3,5\n",
    "\n",
    "Then, the output of the program should be:\n",
    "\n",
    "[[0, 0, 0, 0, 0], [0, 1, 2, 3, 4], [0, 2, 4, 6, 8]]"
   ]
  },
  {
   "cell_type": "code",
   "execution_count": 2,
   "id": "a2f9955b",
   "metadata": {},
   "outputs": [
    {
     "name": "stdout",
     "output_type": "stream",
     "text": [
      "Enter values for X and Y: 3,5\n",
      "[[0, 0, 0, 0, 0], [0, 1, 2, 3, 4], [0, 2, 4, 6, 8]]\n"
     ]
    }
   ],
   "source": [
    "# Get input values for X and Y\n",
    "input_str = input(\"Enter values for X and Y: \")\n",
    "X, Y = map(int, input_str.split(\",\"))\n",
    "\n",
    "# Initialize the 2-dimensional array with zeros\n",
    "array = [[0 for j in range(Y)] for i in range(X)]\n",
    "\n",
    "# Fill in the array with values i*j for i=0,1,...,X-1 and j=0,1,...,Y-1\n",
    "for i in range(X):\n",
    "    for j in range(Y):\n",
    "        array[i][j] = i*j\n",
    "\n",
    "# Print the resulting 2-dimensional array\n",
    "print(array)\n"
   ]
  },
  {
   "cell_type": "markdown",
   "id": "de8f87ed",
   "metadata": {},
   "source": [
    "### 3. Write a program that accepts a comma separated sequence of words as input and prints the words in a comma-separated sequence after sorting them alphabetically.\n",
    "Suppose the following input is supplied to the program:\n",
    "\n",
    "without,hello,bag,world\n",
    "\n",
    "Then, the output should be:\n",
    "\n",
    "bag,hello,without,world"
   ]
  },
  {
   "cell_type": "code",
   "execution_count": 3,
   "id": "e1fe0c93",
   "metadata": {},
   "outputs": [
    {
     "name": "stdout",
     "output_type": "stream",
     "text": [
      "Enter comma-separated sequence of words: without,hello,bag,world\n",
      "bag,hello,without,world\n"
     ]
    }
   ],
   "source": [
    "# Get input sequence of words\n",
    "input_str = input(\"Enter comma-separated sequence of words: \")\n",
    "words = input_str.split(\",\")\n",
    "\n",
    "# Sort the words alphabetically\n",
    "words_sorted = sorted(words)\n",
    "\n",
    "# Print the sorted words as a comma-separated sequence\n",
    "print(\",\".join(words_sorted))\n"
   ]
  },
  {
   "cell_type": "markdown",
   "id": "9f74766f",
   "metadata": {},
   "source": [
    "### 4. Write a program that accepts a sequence of whitespace separated words as input and prints the words after removing all duplicate words and sorting them alphanumerically.\n",
    "Suppose the following input is supplied to the program:\n",
    "\n",
    "hello world and practice makes perfect and hello world again\n",
    "\n",
    "Then, the output should be:\n",
    "\n",
    "again and hello makes perfect practice world"
   ]
  },
  {
   "cell_type": "code",
   "execution_count": 4,
   "id": "8750baef",
   "metadata": {},
   "outputs": [
    {
     "name": "stdout",
     "output_type": "stream",
     "text": [
      "Enter whitespace-separated sequence of words: hello world and practice makes perfect and hello world again\n",
      "again and hello makes perfect practice world\n"
     ]
    }
   ],
   "source": [
    "# Get input sequence of words\n",
    "input_str = input(\"Enter whitespace-separated sequence of words: \")\n",
    "words = input_str.split()\n",
    "\n",
    "# Remove duplicates and sort the words alphanumerically\n",
    "words_unique_sorted = sorted(set(words))\n",
    "\n",
    "# Print the unique and sorted words as a whitespace-separated sequence\n",
    "print(\" \".join(words_unique_sorted))\n"
   ]
  },
  {
   "cell_type": "markdown",
   "id": "847a8c03",
   "metadata": {},
   "source": [
    "### 5. Write a program that accepts a sentence and calculate the number of letters and digits.\n",
    "Suppose the following input is supplied to the program:\n",
    "\n",
    "hello world! 123\n",
    "\n",
    "Then, the output should be:\n",
    "\n",
    "LETTERS 10\n",
    "\n",
    "DIGITS 3"
   ]
  },
  {
   "cell_type": "code",
   "execution_count": 5,
   "id": "cce6ccc2",
   "metadata": {},
   "outputs": [
    {
     "name": "stdout",
     "output_type": "stream",
     "text": [
      "Enter a sentence: hello world! 123\n",
      "LETTERS 10\n",
      "DIGITS 3\n"
     ]
    }
   ],
   "source": [
    "# Get input sentence\n",
    "input_str = input(\"Enter a sentence: \")\n",
    "\n",
    "# Initialize variables to count letters and digits\n",
    "num_letters = 0\n",
    "num_digits = 0\n",
    "\n",
    "# Iterate over each character in the input sentence\n",
    "for char in input_str:\n",
    "    # Check if the character is a letter\n",
    "    if char.isalpha():\n",
    "        num_letters += 1\n",
    "    # Check if the character is a digit\n",
    "    elif char.isdigit():\n",
    "        num_digits += 1\n",
    "\n",
    "# Print the counts of letters and digits\n",
    "print(\"LETTERS\", num_letters)\n",
    "print(\"DIGITS\", num_digits)\n"
   ]
  },
  {
   "cell_type": "markdown",
   "id": "547f9622",
   "metadata": {},
   "source": [
    "### 6. A website requires the users to input username and password to register. Write a program to check the validity of password input by users.\n",
    "Following are the criteria for checking the password:\n",
    "- 1. At least 1 letter between [a-z]\n",
    "- 2. At least 1 number between [0-9]\n",
    "- 3. At least 1 letter between [A-Z]\n",
    "- 4. At least 1 character from [$#@]\n",
    "- 5. Minimum length of transaction password: 6\n",
    "- 6. Maximum length of transaction password: 12\n",
    "Your program should accept a sequence of comma separated passwords and will check them according to the above criteria. Passwords that match the criteria are to be printed, each separated by a comma.\n",
    "Example\n",
    "\n",
    "If the following passwords are given as input to the program:\n",
    "\n",
    "ABd1234@1,a F1#,2w3E*,2We3345\n",
    "\n",
    "Then, the output of the program should be:\n",
    "\n",
    "ABd1234@1"
   ]
  },
  {
   "cell_type": "code",
   "execution_count": 6,
   "id": "ba8cb43c",
   "metadata": {},
   "outputs": [
    {
     "name": "stdout",
     "output_type": "stream",
     "text": [
      "Enter comma-separated passwords: ABd1234@1,a F1#,2w3E*,2We3345\n",
      "ABd1234@1\n"
     ]
    }
   ],
   "source": [
    "import re\n",
    "\n",
    "# Get input sequence of passwords\n",
    "input_str = input(\"Enter comma-separated passwords: \")\n",
    "passwords = input_str.split(\",\")\n",
    "\n",
    "# Define the password validation regex\n",
    "password_regex = \"^(?=.*[a-z])(?=.*[A-Z])(?=.*[0-9])(?=.*[$#@])[a-zA-Z0-9$#@]{6,12}$\"\n",
    "\n",
    "# Initialize list to store valid passwords\n",
    "valid_passwords = []\n",
    "\n",
    "# Iterate over each password in the input sequence\n",
    "for password in passwords:\n",
    "    # Check if the password matches the validation regex\n",
    "    if re.match(password_regex, password):\n",
    "        valid_passwords.append(password)\n",
    "\n",
    "# Print the valid passwords as a comma-separated sequence\n",
    "print(\",\".join(valid_passwords))\n"
   ]
  }
 ],
 "metadata": {
  "kernelspec": {
   "display_name": "Python 3 (ipykernel)",
   "language": "python",
   "name": "python3"
  },
  "language_info": {
   "codemirror_mode": {
    "name": "ipython",
    "version": 3
   },
   "file_extension": ".py",
   "mimetype": "text/x-python",
   "name": "python",
   "nbconvert_exporter": "python",
   "pygments_lexer": "ipython3",
   "version": "3.9.12"
  }
 },
 "nbformat": 4,
 "nbformat_minor": 5
}

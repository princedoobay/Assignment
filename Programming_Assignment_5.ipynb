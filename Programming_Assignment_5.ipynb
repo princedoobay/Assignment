{
 "cells": [
  {
   "cell_type": "markdown",
   "id": "9386f09e",
   "metadata": {},
   "source": [
    "# Programming Assignment-5"
   ]
  },
  {
   "cell_type": "markdown",
   "id": "79f034b8",
   "metadata": {},
   "source": [
    "#### Q1.\tWrite a Python Program to Find LCM?\n"
   ]
  },
  {
   "cell_type": "code",
   "execution_count": 1,
   "id": "9085bf28",
   "metadata": {},
   "outputs": [
    {
     "name": "stdout",
     "output_type": "stream",
     "text": [
      "Enter the first number:8\n",
      "Enter the second number:12\n",
      "24 is the LCM of (8, 12)\n"
     ]
    }
   ],
   "source": [
    "a = int(input(\"Enter the first number:\"))\n",
    "b = int(input(\"Enter the second number:\"))\n",
    "Maximum = max(a,b)\n",
    "while(True):\n",
    "    if (Maximum%a == 0 and Maximum%b == 0):\n",
    "        break\n",
    "    Maximum = Maximum + 1\n",
    "print(f\"{Maximum} is the LCM of {a,b}\")  "
   ]
  },
  {
   "cell_type": "markdown",
   "id": "1ca6fa53",
   "metadata": {},
   "source": [
    "#### Q2.\tWrite a Python Program to Find HCF?\n"
   ]
  },
  {
   "cell_type": "code",
   "execution_count": 2,
   "id": "b7227a2d",
   "metadata": {},
   "outputs": [
    {
     "name": "stdout",
     "output_type": "stream",
     "text": [
      "Enter the first number:12\n",
      "Enter the second number:16\n",
      "4 is the HCF of (12, 16)\n"
     ]
    }
   ],
   "source": [
    "a = int(input(\"Enter the first number:\"))\n",
    "b = int(input(\"Enter the second number:\"))\n",
    "if a > b:\n",
    "    Mn = a\n",
    "else:\n",
    "    Mn = b\n",
    "for i in range(1,Mn+1):\n",
    "    if a%i == 0 and b%i == 0 :\n",
    "        hcf = i\n",
    "print(f\"{hcf} is the HCF of {a,b}\")  "
   ]
  },
  {
   "cell_type": "markdown",
   "id": "9697b9d5",
   "metadata": {},
   "source": [
    "#### Q3.\tWrite a Python Program to Convert Decimal to Binary, Octal and Hexadecimal?\n"
   ]
  },
  {
   "cell_type": "code",
   "execution_count": 3,
   "id": "d01c5584",
   "metadata": {},
   "outputs": [
    {
     "name": "stdout",
     "output_type": "stream",
     "text": [
      "Enter decimal value: \n",
      "25\n",
      "Enter convert into: [1] Binary, [2] Octal, [3] Hexadecimal: \n",
      "3\n",
      "converted into Hexadecimal \n",
      " 0x19\n"
     ]
    }
   ],
   "source": [
    "decimal = int(input(\"Enter decimal value: \\n\"))\n",
    "convert = int(input(\"Enter convert into: [1] Binary, [2] Octal, [3] Hexadecimal: \\n\"))\n",
    "if convert == 1 :\n",
    "    print(\"converted into binary \\n\", bin(decimal))\n",
    "elif convert == 2:\n",
    "    print(\"converted inot Octal \\n\",  oct(decimal))\n",
    "elif convert == 3:\n",
    "    print(\"converted into Hexadecimal \\n\", hex(decimal))\n",
    "else:\n",
    "    print(\"Review your input\")"
   ]
  },
  {
   "cell_type": "markdown",
   "id": "940acfeb",
   "metadata": {},
   "source": [
    "#### Q4.\tWrite a Python Program To Find ASCII value of a character?\n"
   ]
  },
  {
   "cell_type": "code",
   "execution_count": 4,
   "id": "4baa159a",
   "metadata": {},
   "outputs": [
    {
     "name": "stdout",
     "output_type": "stream",
     "text": [
      "Enter a character: \n",
      "T\n",
      "ASCII code of T is 84\n"
     ]
    }
   ],
   "source": [
    "character = input(\"Enter a character: \\n\")\n",
    "a = ord(character)\n",
    "print(f\"ASCII code of {character} is\", a)"
   ]
  },
  {
   "cell_type": "markdown",
   "id": "9a819348",
   "metadata": {},
   "source": [
    "#### Q5.\tWrite a Python Program to Make a Simple Calculator with 4 basic mathematical operations?\n"
   ]
  },
  {
   "cell_type": "code",
   "execution_count": 5,
   "id": "68b29b1c",
   "metadata": {},
   "outputs": [
    {
     "name": "stdout",
     "output_type": "stream",
     "text": [
      "Select operation\n",
      "1.Add\n",
      "2.Subtract\n",
      "3.Multiply\n",
      "4.Divide\n",
      "Enter choice:2\n",
      "Enter first number:2\n",
      "Enter second number:4\n",
      "-2.0\n"
     ]
    }
   ],
   "source": [
    "print(\"Select operation\")\n",
    "print(\"1.Add\")\n",
    "print(\"2.Subtract\")\n",
    "print(\"3.Multiply\")\n",
    "print(\"4.Divide\")\n",
    "choice = int(input(\"Enter choice:\"))\n",
    "a = float(input(\"Enter first number:\"))\n",
    "b = float(input(\"Enter second number:\"))\n",
    "if choice == 1:\n",
    "    print(a+b)\n",
    "elif choice == 2:\n",
    "    print(a-b)\n",
    "elif choice == 3:\n",
    "    print(a*b)\n",
    "elif choice == 4:\n",
    "    print(a/b)\n",
    "else:\n",
    "    print(\"Invalid Choice\")"
   ]
  }
 ],
 "metadata": {
  "kernelspec": {
   "display_name": "Python 3 (ipykernel)",
   "language": "python",
   "name": "python3"
  },
  "language_info": {
   "codemirror_mode": {
    "name": "ipython",
    "version": 3
   },
   "file_extension": ".py",
   "mimetype": "text/x-python",
   "name": "python",
   "nbconvert_exporter": "python",
   "pygments_lexer": "ipython3",
   "version": "3.9.12"
  }
 },
 "nbformat": 4,
 "nbformat_minor": 5
}

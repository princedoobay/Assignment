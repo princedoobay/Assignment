{
 "cells": [
  {
   "cell_type": "markdown",
   "id": "10ecff42-21b0-4446-b1d9-5bf6bdf8bb31",
   "metadata": {},
   "source": [
    "# Programmming Assignment - 17"
   ]
  },
  {
   "cell_type": "markdown",
   "id": "c4e6d60a-1f81-4e45-81a4-43591bb5feab",
   "metadata": {},
   "source": [
    "### 1. Create a function that takes three arguments a, b, c and returns the sum of the numbers that are evenly divided by c from the range a, b inclusive.\n",
    "Examples\n",
    "evenly_divisible(1, 10, 20) ➞ 0\n",
    "#### No number between 1 and 10 can be evenly divided by 20.\n",
    "evenly_divisible(1, 10, 2) ➞ 30\n",
    "#### 2 + 4 + 6 + 8 + 10 = 30\n",
    "evenly_divisible(1, 10, 3) ➞ 18\n",
    "#### 3 + 6 + 9 = 18"
   ]
  },
  {
   "cell_type": "code",
   "execution_count": 1,
   "id": "7f67fa22-acba-43b1-9e17-62eb4db4e680",
   "metadata": {},
   "outputs": [],
   "source": [
    "def evenly_divisible(a, b, c):\n",
    "    sum = 0\n",
    "    for i in range(a, b+1):\n",
    "        if i % c == 0:\n",
    "            sum += i\n",
    "    return sum\n"
   ]
  },
  {
   "cell_type": "code",
   "execution_count": 2,
   "id": "31d93f9d-fd76-4c4b-ae41-6de3e8f286c3",
   "metadata": {},
   "outputs": [
    {
     "name": "stdout",
     "output_type": "stream",
     "text": [
      "0\n",
      "30\n",
      "18\n"
     ]
    }
   ],
   "source": [
    "print(evenly_divisible(1, 10, 20)) # 0\n",
    "print(evenly_divisible(1, 10, 2)) # 30\n",
    "print(evenly_divisible(1, 10, 3)) # 18\n"
   ]
  },
  {
   "cell_type": "markdown",
   "id": "04e0bcef-0910-42c3-9f8e-ccdf7baa2d6d",
   "metadata": {},
   "source": [
    "### 2. Create a function that returns True if a given inequality expression is correct and False otherwise.\n",
    "Examples\n",
    "\n",
    "correct_signs(&quot;3 &lt; 7 &lt; 11&quot;) ➞ True\n",
    "\n",
    "correct_signs(&quot;13 &gt; 44 &gt; 33 &gt; 1&quot;) ➞ False\n",
    "\n",
    "correct_signs(&quot;1 &lt; 2 &lt; 6 &lt; 9 &gt; 3&quot;) ➞ True"
   ]
  },
  {
   "cell_type": "code",
   "execution_count": 3,
   "id": "77d1a19f-4b90-4f26-a2d9-20bb7f5038a8",
   "metadata": {},
   "outputs": [],
   "source": [
    "def correct_signs(expr):\n",
    "    # split the expression into separate terms and operators\n",
    "    terms = expr.split()\n",
    "    # loop through the terms and operators, checking the inequality\n",
    "    for i in range(0, len(terms)-2, 2):\n",
    "        if terms[i+1] == '<' and int(terms[i]) >= int(terms[i+2]):\n",
    "            return False\n",
    "        elif terms[i+1] == '>' and int(terms[i]) <= int(terms[i+2]):\n",
    "            return False\n",
    "    return True\n"
   ]
  },
  {
   "cell_type": "code",
   "execution_count": 4,
   "id": "3025904c-7109-4dde-a895-9897cc55531e",
   "metadata": {},
   "outputs": [
    {
     "name": "stdout",
     "output_type": "stream",
     "text": [
      "True\n",
      "False\n",
      "True\n"
     ]
    }
   ],
   "source": [
    "print(correct_signs(\"3 < 7 < 11\")) # True\n",
    "print(correct_signs(\"13 > 44 > 33 > 1\")) # False\n",
    "print(correct_signs(\"1 < 2 < 6 < 9 > 3\")) # True"
   ]
  },
  {
   "cell_type": "markdown",
   "id": "16636127-892b-4b85-bddd-32e3d50f80dd",
   "metadata": {},
   "source": [
    "### 3. Create a function that replaces all the vowels in a string with a specified character.\n",
    "Examples\n",
    "\n",
    "replace_vowels(&quot;the aardvark&quot;, &quot;#&quot;) ➞ &quot;th# ##rdv#rk&quot;\n",
    "\n",
    "replace_vowels(&quot;minnie mouse&quot;, &quot;?&quot;) ➞ &quot;m?nn?? m??s?&quot;\n",
    "\n",
    "replace_vowels(&quot;shakespeare&quot;, &quot;*&quot;) ➞ &quot;sh*k*sp**r*&quot;"
   ]
  },
  {
   "cell_type": "code",
   "execution_count": 5,
   "id": "b45ec5da-6c83-4c8f-908f-7d53f8e4d908",
   "metadata": {},
   "outputs": [],
   "source": [
    "def replace_vowels(string, replace_char):\n",
    "    vowels = 'aeiouAEIOU'\n",
    "    # create a new string with vowels replaced by the replace_char\n",
    "    new_string = ''.join([replace_char if char in vowels else char for char in string])\n",
    "    return new_string\n"
   ]
  },
  {
   "cell_type": "code",
   "execution_count": 6,
   "id": "1e5a0e98-6554-4e67-8765-69c861992e30",
   "metadata": {},
   "outputs": [
    {
     "name": "stdout",
     "output_type": "stream",
     "text": [
      "th# ##rdv#rk\n",
      "m?nn?? m??s?\n",
      "sh*k*sp**r*\n"
     ]
    }
   ],
   "source": [
    "print(replace_vowels(\"the aardvark\", \"#\")) # \"th# ##rdv#rk\"\n",
    "print(replace_vowels(\"minnie mouse\", \"?\")) # \"m?nn?? m??s?\"\n",
    "print(replace_vowels(\"shakespeare\", \"*\")) # \"sh*k*sp**r*\""
   ]
  },
  {
   "cell_type": "markdown",
   "id": "b80e4ce1-7106-4d57-ba52-8daa9e49cb7d",
   "metadata": {},
   "source": [
    "### 4. Write a function that calculates the factorial of a number recursively.\n",
    "Examples\n",
    "\n",
    "factorial(5) ➞ 120\n",
    "\n",
    "factorial(3) ➞ 6\n",
    "\n",
    "factorial(1) ➞ 1\n",
    "\n",
    "factorial(0) ➞ 1"
   ]
  },
  {
   "cell_type": "code",
   "execution_count": 7,
   "id": "65e21e0c-a314-4f6b-a948-1133f2496fa9",
   "metadata": {},
   "outputs": [],
   "source": [
    "def factorial(n):\n",
    "    # base case: factorial of 0 or 1 is 1\n",
    "    if n == 0 or n == 1:\n",
    "        return 1\n",
    "    # recursive case: factorial of n is n times the factorial of (n-1)\n",
    "    else:\n",
    "        return n * factorial(n-1)\n"
   ]
  },
  {
   "cell_type": "code",
   "execution_count": 8,
   "id": "cfe06e40-ce5c-429d-a099-d7c424bafacb",
   "metadata": {},
   "outputs": [
    {
     "name": "stdout",
     "output_type": "stream",
     "text": [
      "120\n",
      "6\n",
      "1\n",
      "1\n"
     ]
    }
   ],
   "source": [
    "print(factorial(5)) # 120\n",
    "print(factorial(3)) # 6\n",
    "print(factorial(1)) # 1\n",
    "print(factorial(0)) # 1"
   ]
  },
  {
   "cell_type": "markdown",
   "id": "f0c59b57-c924-4a99-a453-aeea6968956f",
   "metadata": {},
   "source": [
    "### 5. Hamming distance is the number of characters that differ between two strings.\n",
    "To illustrate:\n",
    "\n",
    "String1: &quot;abcbba&quot;\n",
    "\n",
    "String2: &quot;abcbda&quot;\n",
    "\n",
    "Hamming Distance: 1 - &quot;b&quot; vs. &quot;d&quot; is the only difference.\n",
    "\n",
    "Create a function that computes the hamming distance between two strings.\n",
    "\n",
    "Examples\n",
    "\n",
    "hamming_distance(&quot;abcde&quot;, &quot;bcdef&quot;) ➞ 5\n",
    "\n",
    "hamming_distance(&quot;abcde&quot;, &quot;abcde&quot;) ➞ 0\n",
    "\n",
    "hamming_distance(&quot;strong&quot;, &quot;strung&quot;) ➞ 1"
   ]
  },
  {
   "cell_type": "code",
   "execution_count": 9,
   "id": "24631cc0-b9f9-4acb-a06b-0292722eaa0c",
   "metadata": {},
   "outputs": [],
   "source": [
    "def hamming_distance(str1, str2):\n",
    "    # check if the strings have the same length\n",
    "    if len(str1) != len(str2):\n",
    "        return \"Strings have different lengths\"\n",
    "    else:\n",
    "        # loop through the characters in the strings and count the differences\n",
    "        count = 0\n",
    "        for i in range(len(str1)):\n",
    "            if str1[i] != str2[i]:\n",
    "                count += 1\n",
    "        return count"
   ]
  },
  {
   "cell_type": "code",
   "execution_count": 10,
   "id": "1dc63eb1-3160-4b40-ab60-5281ba19ab9a",
   "metadata": {},
   "outputs": [
    {
     "name": "stdout",
     "output_type": "stream",
     "text": [
      "5\n",
      "0\n",
      "1\n"
     ]
    }
   ],
   "source": [
    "print(hamming_distance(\"abcde\", \"bcdef\")) # 5\n",
    "print(hamming_distance(\"abcde\", \"abcde\")) # 0\n",
    "print(hamming_distance(\"strong\", \"strung\")) # 1"
   ]
  }
 ],
 "metadata": {
  "kernelspec": {
   "display_name": "Python 3 (ipykernel)",
   "language": "python",
   "name": "python3"
  },
  "language_info": {
   "codemirror_mode": {
    "name": "ipython",
    "version": 3
   },
   "file_extension": ".py",
   "mimetype": "text/x-python",
   "name": "python",
   "nbconvert_exporter": "python",
   "pygments_lexer": "ipython3",
   "version": "3.10.6"
  }
 },
 "nbformat": 4,
 "nbformat_minor": 5
}

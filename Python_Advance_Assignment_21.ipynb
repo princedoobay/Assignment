{
  "nbformat": 4,
  "nbformat_minor": 0,
  "metadata": {
    "colab": {
      "provenance": []
    },
    "kernelspec": {
      "name": "python3",
      "display_name": "Python 3"
    },
    "language_info": {
      "name": "python"
    }
  },
  "cells": [
    {
      "cell_type": "markdown",
      "source": [
        "# Python_Advance_Assignment-21"
      ],
      "metadata": {
        "id": "wfnOYUTSWUk1"
      }
    },
    {
      "cell_type": "markdown",
      "source": [
        "Q1. What is a probability distribution, exactly? If the values are meant to be random, how can you predict them at all?\n",
        "\n",
        "A probability distribution is a mathematical function or a description that defines the likelihood of different outcomes or values occurring in a random process or experiment. It provides information about the probabilities associated with various events or values. While the individual outcomes are indeed random and unpredictable, the distribution describes the overall pattern of how these outcomes are likely to occur."
      ],
      "metadata": {
        "id": "-EN-_w-XWYAF"
      }
    },
    {
      "cell_type": "markdown",
      "source": [
        "Q2. Is there a distinction between true random numbers and pseudo-random numbers, if there is one? Why are the latter considered “good enough”?\n",
        "\n",
        "True random numbers are generated from genuinely unpredictable sources, such as radioactive decay or atmospheric noise. Pseudo-random numbers, on the other hand, are generated using deterministic algorithms that simulate randomness but are based on an initial value called a seed. While pseudo-random numbers are not truly random, they are considered \"good enough\" for many applications because they exhibit statistical properties similar to true randomness and are computationally efficient."
      ],
      "metadata": {
        "id": "rEzXvYdaWocW"
      }
    },
    {
      "cell_type": "markdown",
      "source": [
        "Q3. What are the two main factors that influence the behaviour of a &quot;normal&quot; probability distribution?\n",
        "\n",
        "The two main factors that influence the behavior of a \"normal\" probability distribution, also known as a Gaussian distribution or bell curve, are its mean (average) and standard deviation. The mean determines the central tendency of the distribution, while the standard deviation controls the spread or dispersion of the data points around the mean.\n",
        "\n"
      ],
      "metadata": {
        "id": "0Wl6udcFWrDH"
      }
    },
    {
      "cell_type": "markdown",
      "source": [
        "Q4. Provide a real-life example of a normal distribution.\n",
        "\n",
        "A real-life example of a normal distribution is the distribution of human heights in a large population. In this case, the majority of individuals cluster around the mean height, with fewer individuals at both shorter and taller heights. This results in a bell-shaped curve, with the mean height as the peak of the curve."
      ],
      "metadata": {
        "id": "2rd-ov_4Wste"
      }
    },
    {
      "cell_type": "markdown",
      "source": [
        "Q5. In the short term, how can you expect a probability distribution to behave? What do you think will happen as the number of trials grows?\n",
        "\n",
        "In the short term, a probability distribution might exhibit variability and randomness, making it difficult to predict specific outcomes. However, as the number of trials or observations grows, the distribution tends to stabilize and approach its expected pattern. This phenomenon is described by the law of large numbers. As the number of trials increases, the distribution becomes more consistent and closely resembles the theoretical distribution. This is why, over a large number of trials, the observed outcomes tend to align with the predicted probabilities from the distribution."
      ],
      "metadata": {
        "id": "SbRWBeTVWudV"
      }
    },
    {
      "cell_type": "markdown",
      "source": [
        "Q6. What kind of object can be shuffled by using `random.shuffle`?\n",
        "\n",
        "The `random.shuffle` function can shuffle a mutable sequence, such as a list, in-place. It rearranges the elements of the sequence in a random order."
      ],
      "metadata": {
        "id": "8vZ9K9CfXCpt"
      }
    },
    {
      "cell_type": "markdown",
      "source": [
        "Q7. Describe the `math` package&#39;s general categories of functions.\n",
        "\n",
        "The `math` package's general categories of functions are:\n",
        "\n",
        "- Basic arithmetic functions: These include functions for basic arithmetic operations like addition, subtraction, multiplication, and division.\n",
        "- Trigonometric functions: These functions deal with angles and include trigonometric ratios like sine, cosine, tangent, as well as their inverses (arcsine, arccosine, arctangent).\n",
        "- Exponential and logarithmic functions: These functions involve exponentiation and logarithms, which relate to the growth and decay of quantities.\n",
        "Hyperbolic functions: These functions are analogs of trigonometric functions for hyperbolas.\n",
        "- Special functions: These are functions that have specific mathematical properties, such as the gamma function, Bessel functions, and more.\n",
        "- Constants: The math package also provides various mathematical constants like π (pi) and e."
      ],
      "metadata": {
        "id": "B5tv9gCQXRge"
      }
    },
    {
      "cell_type": "markdown",
      "source": [
        "Q8. What is the relationship between exponentiation and logarithms?\n",
        "\n",
        "Exponentiation and logarithms are inverse operations. If you have a base (b) raised to an exponent (x) to get a result (y), the logarithm with base b of y (log_b(y)) gives you back the exponent (x). In other words, exponentiation is about finding the result of raising a number to a given power, while logarithms are about finding the power to which a given base must be raised to obtain a certain result."
      ],
      "metadata": {
        "id": "ULw2WFGkXS69"
      }
    },
    {
      "cell_type": "markdown",
      "source": [
        "Q9. What are the three logarithmic functions that Python supports?\n",
        "\n",
        "Python supports the following three logarithmic functions:\n",
        "\n",
        "- `math.log(x)`: Computes the natural logarithm (base e) of x.\n",
        "- `math.log10(x)`: Computes the base-10 logarithm of x.\n",
        "- `math.log(x, base)`: Computes the logarithm of x with the specified base."
      ],
      "metadata": {
        "id": "d0njXmKZXUPV"
      }
    }
  ]
}
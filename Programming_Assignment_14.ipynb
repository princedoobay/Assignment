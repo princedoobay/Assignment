{
 "cells": [
  {
   "cell_type": "markdown",
   "id": "6dc7b7e6",
   "metadata": {},
   "source": [
    "# Programming Assignment - 14"
   ]
  },
  {
   "cell_type": "markdown",
   "id": "0a7a8fb8",
   "metadata": {},
   "source": [
    "### 1. Define a class with a generator which can iterate the numbers, which are divisible by 7, between a given range 0 and n."
   ]
  },
  {
   "cell_type": "code",
   "execution_count": 1,
   "id": "9bb06e36",
   "metadata": {},
   "outputs": [],
   "source": [
    "class DivisibleBySeven:\n",
    "    def __init__(self, n):\n",
    "        self.n = n\n",
    "        \n",
    "    def divisible_by_seven(self):\n",
    "        for num in range(self.n):\n",
    "            if num % 7 == 0:\n",
    "                yield num\n"
   ]
  },
  {
   "cell_type": "code",
   "execution_count": 2,
   "id": "5cc6c596",
   "metadata": {},
   "outputs": [
    {
     "name": "stdout",
     "output_type": "stream",
     "text": [
      "0\n",
      "7\n",
      "14\n",
      "21\n",
      "28\n",
      "35\n",
      "42\n",
      "49\n"
     ]
    }
   ],
   "source": [
    "div_by_seven = DivisibleBySeven(50)\n",
    "for num in div_by_seven.divisible_by_seven():\n",
    "    print(num)"
   ]
  },
  {
   "cell_type": "markdown",
   "id": "cad70857",
   "metadata": {},
   "source": [
    "### 2. Write a program to compute the frequency of the words from the input. The output should output after sorting the key alphanumerically.\n",
    "Suppose the following input is supplied to the program:\n",
    "\n",
    "New to Python or choosing between Python 2 and Python 3? Read Python 2 or Python 3. Then, the output should be:\n",
    "\n",
    "2:2\n",
    "\n",
    "3.:1\n",
    "\n",
    "3?:1\n",
    "\n",
    "New:1\n",
    "\n",
    "Python:5\n",
    "\n",
    "Read:1\n",
    "\n",
    "and:1\n",
    "\n",
    "between:1\n",
    "\n",
    "choosing:1\n",
    "\n",
    "or:2\n",
    "\n",
    "to:1"
   ]
  },
  {
   "cell_type": "code",
   "execution_count": 3,
   "id": "e8595254",
   "metadata": {},
   "outputs": [
    {
     "name": "stdout",
     "output_type": "stream",
     "text": [
      "2:2\n",
      "3:2\n",
      "and:1\n",
      "between:1\n",
      "choosing:1\n",
      "new:1\n",
      "or:2\n",
      "python:5\n",
      "read:1\n",
      "to:1\n"
     ]
    }
   ],
   "source": [
    "import re\n",
    "\n",
    "def word_freq(text):\n",
    "    # use regex to split text into individual words\n",
    "    words = re.findall(r'\\w+', text.lower())\n",
    "    \n",
    "    # create a dictionary to store word frequencies\n",
    "    freq_dict = {}\n",
    "    for word in words:\n",
    "        if word in freq_dict:\n",
    "            freq_dict[word] += 1\n",
    "        else:\n",
    "            freq_dict[word] = 1\n",
    "    \n",
    "    # sort the dictionary by key and print the results\n",
    "    for word, freq in sorted(freq_dict.items()):\n",
    "        print(word + \":\" + str(freq))\n",
    "\n",
    "# example usage\n",
    "text = \"New to Python or choosing between Python 2 and Python 3? Read Python 2 or Python 3.\"\n",
    "word_freq(text)"
   ]
  },
  {
   "cell_type": "markdown",
   "id": "3c2cc537",
   "metadata": {},
   "source": [
    "### 3. Define a class Person and its two child classes: Male and Female. All classes have a method &quot;getGender&quot; which can print &quot;Male&quot; for Male class and &quot;Female&quot; for Female class."
   ]
  },
  {
   "cell_type": "code",
   "execution_count": 4,
   "id": "1a91c01a",
   "metadata": {},
   "outputs": [],
   "source": [
    "class Person:\n",
    "    def getGender(self):\n",
    "        return \"Unknown\"\n",
    "\n",
    "class Male(Person):\n",
    "    def getGender(self):\n",
    "        return \"Male\"\n",
    "\n",
    "class Female(Person):\n",
    "    def getGender(self):\n",
    "        return \"Female\"\n"
   ]
  },
  {
   "cell_type": "code",
   "execution_count": 5,
   "id": "8543b52f",
   "metadata": {},
   "outputs": [
    {
     "name": "stdout",
     "output_type": "stream",
     "text": [
      "Unknown\n",
      "Male\n",
      "Female\n"
     ]
    }
   ],
   "source": [
    "person = Person()\n",
    "male = Male()\n",
    "female = Female()\n",
    "\n",
    "print(person.getGender())  # prints \"Unknown\"\n",
    "print(male.getGender())   # prints \"Male\"\n",
    "print(female.getGender()) # prints \"Female\""
   ]
  },
  {
   "cell_type": "markdown",
   "id": "21608dd9",
   "metadata": {},
   "source": [
    "### 4. Please write a program to generate all sentences where subject is in [&quot;I&quot;, &quot;You&quot;] and verb is in [&quot;Play&quot;, &quot;Love&quot;] and the object is in [&quot;Hockey&quot;,&quot;Football&quot;]."
   ]
  },
  {
   "cell_type": "code",
   "execution_count": 6,
   "id": "9844e6e6",
   "metadata": {},
   "outputs": [
    {
     "name": "stdout",
     "output_type": "stream",
     "text": [
      "['I Play Hockey', 'I Play Football', 'I Love Hockey', 'I Love Football', 'You Play Hockey', 'You Play Football', 'You Love Hockey', 'You Love Football']\n"
     ]
    }
   ],
   "source": [
    "subjects = [\"I\", \"You\"]\n",
    "verbs = [\"Play\", \"Love\"]\n",
    "objects = [\"Hockey\", \"Football\"]\n",
    "\n",
    "sentences = []\n",
    "\n",
    "for subject in subjects:\n",
    "    for verb in verbs:\n",
    "        for obj in objects:\n",
    "            sentence = subject + \" \" + verb + \" \" + obj\n",
    "            sentences.append(sentence)\n",
    "\n",
    "print(sentences)"
   ]
  },
  {
   "cell_type": "markdown",
   "id": "13900148",
   "metadata": {},
   "source": [
    "### 5. Please write a program to compress and decompress the string &quot;hello world!hello world!hello world!hello world!&quot;."
   ]
  },
  {
   "cell_type": "code",
   "execution_count": 7,
   "id": "413c08e7",
   "metadata": {},
   "outputs": [
    {
     "name": "stdout",
     "output_type": "stream",
     "text": [
      "Compressed string: b'x\\x9c\\xcbH\\xcd\\xc9\\xc9W(\\xcf/\\xcaIQ\\xcc \\x82\\r\\x00\\xbd[\\x11\\xf5'\n",
      "Decompressed string: hello world!hello world!hello world!hello world!\n"
     ]
    }
   ],
   "source": [
    "import zlib\n",
    "\n",
    "original_string = \"hello world!hello world!hello world!hello world!\"\n",
    "\n",
    "# Compress the string\n",
    "compressed_string = zlib.compress(original_string.encode())\n",
    "\n",
    "# Print the compressed string\n",
    "print(\"Compressed string:\", compressed_string)\n",
    "\n",
    "# Decompress the string\n",
    "decompressed_string = zlib.decompress(compressed_string)\n",
    "\n",
    "# Print the decompressed string\n",
    "print(\"Decompressed string:\", decompressed_string.decode())\n"
   ]
  },
  {
   "cell_type": "markdown",
   "id": "df769e59",
   "metadata": {},
   "source": [
    "### 6. Please write a binary search function which searches an item in a sorted list. The function should return the index of element to be searched in the list."
   ]
  },
  {
   "cell_type": "code",
   "execution_count": 8,
   "id": "50ea2d88",
   "metadata": {},
   "outputs": [],
   "source": [
    "def binary_search(arr, x):\n",
    "    \"\"\"\n",
    "    Search for an element x in a sorted list arr using binary search.\n",
    "    Return the index of x in arr if found, or -1 otherwise.\n",
    "    \"\"\"\n",
    "    left, right = 0, len(arr) - 1\n",
    "    while left <= right:\n",
    "        mid = (left + right) // 2\n",
    "        if arr[mid] == x:\n",
    "            return mid\n",
    "        elif arr[mid] < x:\n",
    "            left = mid + 1\n",
    "        else:\n",
    "            right = mid - 1\n",
    "    return -1\n"
   ]
  },
  {
   "cell_type": "code",
   "execution_count": 9,
   "id": "57e22727",
   "metadata": {},
   "outputs": [
    {
     "name": "stdout",
     "output_type": "stream",
     "text": [
      "3\n"
     ]
    }
   ],
   "source": [
    "arr = [1, 2, 3, 4, 5, 6, 7, 8, 9, 10]\n",
    "x = 4\n",
    "index = binary_search(arr, x)\n",
    "print(index)  # Output: 3"
   ]
  }
 ],
 "metadata": {
  "kernelspec": {
   "display_name": "Python 3 (ipykernel)",
   "language": "python",
   "name": "python3"
  },
  "language_info": {
   "codemirror_mode": {
    "name": "ipython",
    "version": 3
   },
   "file_extension": ".py",
   "mimetype": "text/x-python",
   "name": "python",
   "nbconvert_exporter": "python",
   "pygments_lexer": "ipython3",
   "version": "3.9.12"
  }
 },
 "nbformat": 4,
 "nbformat_minor": 5
}

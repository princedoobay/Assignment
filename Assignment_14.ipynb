{
 "cells": [
  {
   "cell_type": "markdown",
   "id": "fe87a7ad",
   "metadata": {},
   "source": [
    "# Assignment - 14"
   ]
  },
  {
   "cell_type": "markdown",
   "id": "484d89f1",
   "metadata": {},
   "source": [
    "### 1. What does RGBA stand for?"
   ]
  },
  {
   "cell_type": "markdown",
   "id": "4f02bc57",
   "metadata": {},
   "source": [
    "RGBA stands for Red Green Blue Alpha in Python. It is a color model that represents colors using a combination of red, green, and blue light, along with an alpha channel that represents the transparency or opacity of the color. The alpha channel value ranges from 0 (fully transparent) to 255 (fully opaque)."
   ]
  },
  {
   "cell_type": "markdown",
   "id": "23dd147d",
   "metadata": {},
   "source": [
    "### 2. From the Pillow module, how do you get the RGBA value of any images?"
   ]
  },
  {
   "cell_type": "markdown",
   "id": "f53013a8",
   "metadata": {},
   "source": [
    "To get the RGBA value of any image using the Pillow module in Python, we can use the getdata() method. This method returns a sequence-like object that contains the pixel values of the image in a flat, one-dimensional sequence. We can then convert this sequence into a list of tuples, where each tuple represents the RGBA values of a single pixel."
   ]
  },
  {
   "cell_type": "code",
   "execution_count": 5,
   "id": "1538f13f",
   "metadata": {},
   "outputs": [
    {
     "name": "stdout",
     "output_type": "stream",
     "text": [
      "(77, 73, 46)\n"
     ]
    }
   ],
   "source": [
    "from PIL import Image\n",
    "\n",
    "# Open the image file\n",
    "image = Image.open(\"C:\\\\Users\\\\Lenovo\\\\Downloads\\\\pkd.jpg\")\n",
    "\n",
    "# Get the pixel data as a flat sequence\n",
    "pixel_data = image.getdata()\n",
    "\n",
    "# Convert the pixel data into a list of RGBA tuples\n",
    "pixels = [pixel[:4] for pixel in pixel_data]\n",
    "\n",
    "# Print the RGBA values of the first pixel\n",
    "print(pixels[0])\n"
   ]
  },
  {
   "cell_type": "markdown",
   "id": "b976278e",
   "metadata": {},
   "source": [
    "### 3. What is a box tuple, and how does it work?"
   ]
  },
  {
   "cell_type": "markdown",
   "id": "a90086fd",
   "metadata": {},
   "source": [
    "A box tuple is a tuple that defines a rectangular region in an image. It consists of four integers that represent the pixel coordinates of the box in the order (left, upper, right, lower). \n",
    "\n",
    "The `left` value is the x-coordinate of the leftmost pixel in the box, and the `upper` value is the y-coordinate of the topmost pixel in the box. The `right` value is the x-coordinate of the rightmost pixel in the box plus 1, and the `lower` value is the y-coordinate of the bottommost pixel in the box plus 1. \n",
    "\n",
    "For example, the box tuple `(100, 50, 200, 150)` represents a rectangular region that starts at the pixel with coordinates (100, 50) and ends at the pixel with coordinates (199, 149).\n",
    "\n",
    "Box tuples are commonly used in the Pillow module, particularly for cropping and resizing images. When you pass a box tuple to the `crop()` method of an Image object, it returns a new Image object that contains only the pixels within the specified rectangular region. Similarly, when you pass a box tuple to the `resize()` method, it resizes the image to fit within the specified rectangular region."
   ]
  },
  {
   "cell_type": "markdown",
   "id": "06a23896",
   "metadata": {},
   "source": [
    "### 4. Use your image and load in notebook then, How can you find out the width and height of an Image object?"
   ]
  },
  {
   "cell_type": "code",
   "execution_count": 6,
   "id": "58aeba1e",
   "metadata": {},
   "outputs": [
    {
     "name": "stdout",
     "output_type": "stream",
     "text": [
      "The image has a width of 800 pixels and a height of 800 pixels.\n"
     ]
    }
   ],
   "source": [
    "from PIL import Image\n",
    "\n",
    "# Open the image file\n",
    "image = Image.open(\"C:\\\\Users\\\\Lenovo\\\\Downloads\\\\pkd.jpg\")\n",
    "\n",
    "# Get the width and height of the image\n",
    "width, height = image.size\n",
    "\n",
    "# Print the dimensions of the image\n",
    "print(f\"The image has a width of {width} pixels and a height of {height} pixels.\")\n"
   ]
  },
  {
   "cell_type": "markdown",
   "id": "81458858",
   "metadata": {},
   "source": [
    "### 5. What method would you call to get Image object for a 100×100 image, excluding the lower-left quarter of it?"
   ]
  },
  {
   "cell_type": "code",
   "execution_count": 11,
   "id": "9cb8814f",
   "metadata": {},
   "outputs": [],
   "source": [
    "from PIL import Image\n",
    "\n",
    "# Open the image file\n",
    "image = Image.open(\"C:\\\\Users\\\\Lenovo\\\\Downloads\\\\pkd.jpg\")\n",
    "\n",
    "# Crop the image to exclude the lower-left quarter\n",
    "cropped_image = image.crop((50, 0, 100, 50))\n",
    "\n",
    "# Display the cropped image\n",
    "cropped_image.show()"
   ]
  },
  {
   "cell_type": "markdown",
   "id": "63474d7e",
   "metadata": {},
   "source": [
    "### 6. After making changes to an Image object, how could you save it as an image file?"
   ]
  },
  {
   "cell_type": "code",
   "execution_count": 12,
   "id": "88a3db16",
   "metadata": {},
   "outputs": [],
   "source": [
    "modified_image = cropped_image.save(\"modified_image.jpg\")"
   ]
  },
  {
   "cell_type": "markdown",
   "id": "684a53cf",
   "metadata": {},
   "source": [
    "### 7. What module contains Pillow’s shape-drawing code?"
   ]
  },
  {
   "cell_type": "markdown",
   "id": "428180a0",
   "metadata": {},
   "source": [
    "Pillow's shape-drawing code is contained in the ImageDraw module. The ImageDraw module is a module in the Pillow library that provides methods for drawing shapes, lines, text, and other graphics on an Image object. The module is typically used in conjunction with the Image module, which provides methods for opening, manipulating, and saving image files."
   ]
  },
  {
   "cell_type": "markdown",
   "id": "ddebe33a",
   "metadata": {},
   "source": [
    "### 8. Image objects do not have drawing methods. What kind of object does? How do you get this kind of object?"
   ]
  },
  {
   "cell_type": "markdown",
   "id": "04f411a4",
   "metadata": {},
   "source": [
    "Image objects in Pillow do not have drawing methods. To draw shapes or text on an image, you need to create an instance of the ImageDraw.Draw class.\n",
    "\n",
    "The ImageDraw.Draw class provides drawing methods for various shapes, lines, and text. You can create an instance of this class by calling its constructor with an Image object as the argument. Once you have an instance of ImageDraw.Draw, you can use its methods to draw on the Image object."
   ]
  }
 ],
 "metadata": {
  "kernelspec": {
   "display_name": "Python 3 (ipykernel)",
   "language": "python",
   "name": "python3"
  },
  "language_info": {
   "codemirror_mode": {
    "name": "ipython",
    "version": 3
   },
   "file_extension": ".py",
   "mimetype": "text/x-python",
   "name": "python",
   "nbconvert_exporter": "python",
   "pygments_lexer": "ipython3",
   "version": "3.9.12"
  }
 },
 "nbformat": 4,
 "nbformat_minor": 5
}

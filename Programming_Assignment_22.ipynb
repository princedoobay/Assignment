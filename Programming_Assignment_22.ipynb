{
 "cells": [
  {
   "cell_type": "markdown",
   "id": "c329ca9c-fa52-455c-ada5-24a2981e59df",
   "metadata": {},
   "source": [
    "# Programming Assignment - 22"
   ]
  },
  {
   "cell_type": "markdown",
   "id": "8854a1c1-4514-414a-9ea8-d91114c6a77e",
   "metadata": {},
   "source": [
    "### 1. Create a function that takes three parameters where:\n",
    " x is the start of the range (inclusive).\n",
    "\n",
    " y is the end of the range (inclusive).\n",
    "\n",
    " n is the divisor to be checked against.\n",
    "\n",
    "Return an ordered list with numbers in the range that are divisible by the third parameter n.\n",
    "\n",
    "Return an empty list if there are no numbers that are divisible by n.\n",
    "\n",
    "Examples\n",
    "\n",
    "list_operation(1, 10, 3) ➞ [3, 6, 9]\n",
    "\n",
    "list_operation(7, 9, 2) ➞ [8]\n",
    "\n",
    "list_operation(15, 20, 7) ➞ []"
   ]
  },
  {
   "cell_type": "code",
   "execution_count": 1,
   "id": "2682c45b-06eb-42af-acfb-e97c6ebfae3e",
   "metadata": {},
   "outputs": [],
   "source": [
    "def list_operation(x, y, n):\n",
    "    return [i for i in range(x, y+1) if i % n == 0]"
   ]
  },
  {
   "cell_type": "code",
   "execution_count": 2,
   "id": "431fafa9-3810-4bc4-850f-7a9de7d3be3f",
   "metadata": {},
   "outputs": [
    {
     "name": "stdout",
     "output_type": "stream",
     "text": [
      "[3, 6, 9]\n",
      "[8]\n",
      "[]\n"
     ]
    }
   ],
   "source": [
    "print(list_operation(1, 10, 3))  # Output: [3, 6, 9]\n",
    "print(list_operation(7, 9, 2))  # Output: [8]\n",
    "print(list_operation(15, 20, 7))  # Output: []"
   ]
  },
  {
   "cell_type": "markdown",
   "id": "2c58813b-fab4-45e7-a3fb-5e1a795a11d5",
   "metadata": {},
   "source": [
    "### 2. Create a function that takes in two lists and returns True if the second list follows the first list by one element, and False otherwise. In other words, determine if the second list is the first list shifted to the right by 1.\n",
    "Examples\n",
    "\n",
    "simon_says([1, 2], [5, 1]) ➞ True\n",
    "\n",
    "simon_says([1, 2], [5, 5]) ➞ False\n",
    "\n",
    "simon_says([1, 2, 3, 4, 5], [0, 1, 2, 3, 4]) ➞ True\n",
    "\n",
    "simon_says([1, 2, 3, 4, 5], [5, 5, 1, 2, 3]) ➞ False\n",
    "\n",
    "Notes\n",
    "\n",
    " Both input lists will be of the same length, and will have a minimum length of 2.\n",
    "\n",
    " The values of the 0-indexed element in the second list and the n-1th indexed element in the first list do not matter."
   ]
  },
  {
   "cell_type": "code",
   "execution_count": 3,
   "id": "559254dc-0665-4bbc-9b58-f63a1d42ef87",
   "metadata": {},
   "outputs": [],
   "source": [
    "def simon_says(lst1, lst2):\n",
    "    return lst1[:-1] == lst2[1:]"
   ]
  },
  {
   "cell_type": "code",
   "execution_count": 4,
   "id": "165b4f6a-9c23-4d14-9801-973e4f606c7d",
   "metadata": {},
   "outputs": [
    {
     "name": "stdout",
     "output_type": "stream",
     "text": [
      "True\n",
      "False\n",
      "True\n",
      "False\n"
     ]
    }
   ],
   "source": [
    "print(simon_says([1, 2], [5, 1]))  # Output: True\n",
    "print(simon_says([1, 2], [5, 5]))  # Output: False\n",
    "print(simon_says([1, 2, 3, 4, 5], [0, 1, 2, 3, 4]))  # Output: True\n",
    "print(simon_says([1, 2, 3, 4, 5], [5, 5, 1, 2, 3]))  # Output: False"
   ]
  },
  {
   "cell_type": "markdown",
   "id": "d3445399-80c7-4c06-98bb-223ed8ccf5ff",
   "metadata": {},
   "source": [
    "### 3. A group of friends have decided to start a secret society. The name will be the first letter of each of their names, sorted in alphabetical order. Create a function that takes in a list of names and returns the name of the secret society.\n",
    "Examples\n",
    "\n",
    "society_name([&quot;Adam&quot;, &quot;Sarah&quot;, &quot;Malcolm&quot;]) ➞ &quot;AMS&quot;\n",
    "\n",
    "society_name([&quot;Harry&quot;, &quot;Newt&quot;, &quot;Luna&quot;, &quot;Cho&quot;]) ➞ &quot;CHLN&quot;\n",
    "\n",
    "society_name([&quot;Phoebe&quot;, &quot;Chandler&quot;, &quot;Rachel&quot;, &quot;Ross&quot;, &quot;Monica&quot;, &quot;Joey&quot;])"
   ]
  },
  {
   "cell_type": "code",
   "execution_count": 5,
   "id": "7cbb79b2-5b7f-418e-bf13-ceae068b1b8c",
   "metadata": {},
   "outputs": [],
   "source": [
    "def society_name(lst):\n",
    "    return ''.join(sorted([name[0] for name in lst]))"
   ]
  },
  {
   "cell_type": "code",
   "execution_count": 6,
   "id": "7336492e-eca1-4711-ab45-ec9ad5780611",
   "metadata": {},
   "outputs": [
    {
     "name": "stdout",
     "output_type": "stream",
     "text": [
      "AMS\n",
      "CHLN\n",
      "CJMPRR\n"
     ]
    }
   ],
   "source": [
    "print(society_name([\"Adam\", \"Sarah\", \"Malcolm\"]))  # Output: \"AMS\"\n",
    "print(society_name([\"Harry\", \"Newt\", \"Luna\", \"Cho\"]))  # Output: \"CHLN\"\n",
    "print(society_name([\"Phoebe\", \"Chandler\", \"Rachel\", \"Ross\", \"Monica\", \"Joey\"]))  # Output: \"CJMPRR\""
   ]
  },
  {
   "cell_type": "markdown",
   "id": "2c985907-ea08-4af8-96e3-913e7e04c591",
   "metadata": {},
   "source": [
    "### 4. An isogram is a word that has no duplicate letters. Create a function that takes a string and returns either True or False depending on whether or not it&#39;s an &quot;isogram&quot;.\n",
    "Examples\n",
    "\n",
    "is_isogram(&quot;Algorism&quot;) ➞ True\n",
    "\n",
    "is_isogram(&quot;PasSword&quot;) ➞ False\n",
    "#### Not case sensitive.\n",
    "is_isogram(&quot;Consecutive&quot;) ➞ False\n",
    "\n",
    "Notes\n",
    "\n",
    " Ignore letter case (should not be case sensitive).\n",
    "\n",
    " All test cases contain valid one word strings."
   ]
  },
  {
   "cell_type": "code",
   "execution_count": 7,
   "id": "5d1f8c8d-4ff1-4e1f-a702-7f9d6af9f9a2",
   "metadata": {},
   "outputs": [],
   "source": [
    "def is_isogram(txt):\n",
    "    txt = txt.lower()  # convert string to lowercase\n",
    "    for char in txt:\n",
    "        if txt.count(char) > 1:\n",
    "            return False\n",
    "    return True"
   ]
  },
  {
   "cell_type": "code",
   "execution_count": 8,
   "id": "88e82b57-9307-429c-94e3-650da487d9ff",
   "metadata": {},
   "outputs": [
    {
     "name": "stdout",
     "output_type": "stream",
     "text": [
      "True\n",
      "False\n",
      "False\n"
     ]
    }
   ],
   "source": [
    "print(is_isogram(\"Algorism\"))  # Output: True\n",
    "print(is_isogram(\"PasSword\"))  # Output: False\n",
    "print(is_isogram(\"Consecutive\"))  # Output: False"
   ]
  },
  {
   "cell_type": "markdown",
   "id": "9b013eb4-8c70-4a3b-9ac1-9d3450e781e3",
   "metadata": {},
   "source": [
    "### 5. Create a function that takes a string and returns True or False, depending on whether the characters are in order or not.\n",
    "Examples\n",
    "\n",
    "is_in_order(&quot;abc&quot;) ➞ True\n",
    "\n",
    "is_in_order(&quot;edabit&quot;) ➞ False\n",
    "\n",
    "is_in_order(&quot;123&quot;) ➞ True\n",
    "\n",
    "is_in_order(&quot;xyzz&quot;) ➞ True\n",
    "\n",
    "Notes\n",
    "\n",
    "You don&#39;t have to handle empty strings."
   ]
  },
  {
   "cell_type": "code",
   "execution_count": 9,
   "id": "fd4253ed-adac-4322-b534-5ddde942233f",
   "metadata": {},
   "outputs": [],
   "source": [
    "def is_in_order(txt):\n",
    "    return txt == ''.join(sorted(txt))"
   ]
  },
  {
   "cell_type": "code",
   "execution_count": 10,
   "id": "d112007e-48fa-4a08-a73b-1ff66bf86f30",
   "metadata": {},
   "outputs": [
    {
     "name": "stdout",
     "output_type": "stream",
     "text": [
      "True\n",
      "False\n",
      "True\n",
      "True\n"
     ]
    }
   ],
   "source": [
    "print(is_in_order(\"abc\"))  # Output: True\n",
    "print(is_in_order(\"edabit\"))  # Output: False\n",
    "print(is_in_order(\"123\"))  # Output: True\n",
    "print(is_in_order(\"xyzz\"))  # Output: True"
   ]
  },
  {
   "cell_type": "code",
   "execution_count": null,
   "id": "ea6899ee-c0e1-44b1-bccc-46380b3fe088",
   "metadata": {},
   "outputs": [],
   "source": []
  }
 ],
 "metadata": {
  "kernelspec": {
   "display_name": "Python 3 (ipykernel)",
   "language": "python",
   "name": "python3"
  },
  "language_info": {
   "codemirror_mode": {
    "name": "ipython",
    "version": 3
   },
   "file_extension": ".py",
   "mimetype": "text/x-python",
   "name": "python",
   "nbconvert_exporter": "python",
   "pygments_lexer": "ipython3",
   "version": "3.10.6"
  }
 },
 "nbformat": 4,
 "nbformat_minor": 5
}

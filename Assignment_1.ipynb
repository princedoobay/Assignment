{
 "cells": [
  {
   "cell_type": "markdown",
   "id": "40a01c7e",
   "metadata": {},
   "source": [
    "# Assignment - 1"
   ]
  },
  {
   "cell_type": "markdown",
   "id": "8cbcfb39",
   "metadata": {},
   "source": [
    "#### Q1. In the below elements which of them are values or an expression? eg:- values can be integer or string and expressions will be mathematical operators.\n",
    "\n",
    "'*'     :- Expression\n",
    "\n",
    "'hello' :- Value\n",
    "\n",
    "'-87.8' :- Value\n",
    "\n",
    "'-'     :- Expression\n",
    "\n",
    "'/'     :- Expression\n",
    "\n",
    "'+'\t    :- Expression\n",
    "\n",
    "'6'     :- Value\n"
   ]
  },
  {
   "cell_type": "markdown",
   "id": "26cdfb14",
   "metadata": {},
   "source": [
    "#### Q2. What is the difference between string and variable?\n",
    "\n",
    "String is data type which can be stored inside a variable. It is a sequence of one or more characters inside the quotes. it is immutable means it values can not change.\n",
    "E.g. x = \"Prince\" here prince is a string.\n",
    "\n",
    "A variable is a symbol or symbolic representation that holds a value that may change. \n",
    "E.g. a = 5 here 'a' variable can hold 5 inside it."
   ]
  },
  {
   "cell_type": "markdown",
   "id": "0aec0e70",
   "metadata": {},
   "source": [
    "#### Q3. Describe three different data types.\n",
    "\n",
    "(a) Interger (int) – It represents all the whole numeric values.\n",
    "\n",
    "(b) String(str) – String is data type which can be stored inside a variable. It is a sequence of one or more characters inside the quotes. it is immutable means it values can not change.\n",
    "E.g. x = \"Prince\" here prince is a string.\n",
    "\n",
    "(c) Dictionary(dict) - This data type stores data in the form of keywords and values. Here each keyword has a value and Each keyword is unique. \n",
    "E.g. a = {Name : Prince, Age : 28}"
   ]
  },
  {
   "cell_type": "markdown",
   "id": "4ee3288d",
   "metadata": {},
   "source": [
    "#### Q4. What is an expression made up of? What do all expressions do?\n",
    "\n",
    "Expressions are representation of combination of values, variables, operators and functions in a sequence. \n",
    "it gives an output on the basis of logic and input given by us."
   ]
  },
  {
   "cell_type": "code",
   "execution_count": null,
   "id": "3a7b805e",
   "metadata": {},
   "outputs": [],
   "source": [
    "# E.g.\n",
    "a= 5\n",
    "b = 6\n",
    "c = a + b  #expression"
   ]
  },
  {
   "cell_type": "code",
   "execution_count": 16,
   "id": "193a3905",
   "metadata": {},
   "outputs": [
    {
     "data": {
      "text/plain": [
       "11"
      ]
     },
     "execution_count": 16,
     "metadata": {},
     "output_type": "execute_result"
    }
   ],
   "source": [
    "c"
   ]
  },
  {
   "cell_type": "markdown",
   "id": "41063edd",
   "metadata": {},
   "source": [
    "#### Q5. This assignment statements, like spam = 10. What is the difference between an expression and a statement?\n",
    "\n",
    "Expression always gives you a output based on the logic and iputs after the evaluation.\n",
    "Statement displays the assigned values or create a variable but not evaluate the logics."
   ]
  },
  {
   "cell_type": "code",
   "execution_count": 20,
   "id": "0fac1a7f",
   "metadata": {},
   "outputs": [],
   "source": [
    "spam = 10 #statement"
   ]
  },
  {
   "cell_type": "code",
   "execution_count": 22,
   "id": "adb99ebd",
   "metadata": {},
   "outputs": [
    {
     "data": {
      "text/plain": [
       "12"
      ]
     },
     "execution_count": 22,
     "metadata": {},
     "output_type": "execute_result"
    }
   ],
   "source": [
    "spam + 2 #expression"
   ]
  },
  {
   "cell_type": "markdown",
   "id": "65d07cd9",
   "metadata": {},
   "source": [
    "#### Q6. After running the following code, what does the variable bacon contain?\n",
    "\n",
    "bacon = 22\n",
    "bacon + 1\n"
   ]
  },
  {
   "cell_type": "code",
   "execution_count": 9,
   "id": "399abe6f",
   "metadata": {},
   "outputs": [
    {
     "data": {
      "text/plain": [
       "22"
      ]
     },
     "execution_count": 9,
     "metadata": {},
     "output_type": "execute_result"
    }
   ],
   "source": [
    "bacon"
   ]
  },
  {
   "cell_type": "markdown",
   "id": "419c9cf5",
   "metadata": {},
   "source": [
    "#### Q7. What should the values of the following two terms be?\n",
    "\n",
    "'spam' + 'spamspam'"
   ]
  },
  {
   "cell_type": "code",
   "execution_count": 4,
   "id": "938589fe",
   "metadata": {},
   "outputs": [
    {
     "data": {
      "text/plain": [
       "'spamspamspam'"
      ]
     },
     "execution_count": 4,
     "metadata": {},
     "output_type": "execute_result"
    }
   ],
   "source": [
    "'spam' * 3"
   ]
  },
  {
   "cell_type": "markdown",
   "id": "676619ae",
   "metadata": {},
   "source": [
    "#### Q8. Why is eggs a valid variable name while 100 is invalid?\n",
    "\n",
    "eggs = 250\n",
    "#### 100 is a literal or fixed value so we can not assign any value to it."
   ]
  },
  {
   "cell_type": "code",
   "execution_count": 8,
   "id": "98363606",
   "metadata": {},
   "outputs": [
    {
     "data": {
      "text/plain": [
       "250"
      ]
     },
     "execution_count": 8,
     "metadata": {},
     "output_type": "execute_result"
    }
   ],
   "source": [
    "eggs"
   ]
  },
  {
   "cell_type": "code",
   "execution_count": 9,
   "id": "2d44f012",
   "metadata": {},
   "outputs": [
    {
     "ename": "SyntaxError",
     "evalue": "cannot assign to literal (2926514641.py, line 1)",
     "output_type": "error",
     "traceback": [
      "\u001b[1;36m  Input \u001b[1;32mIn [9]\u001b[1;36m\u001b[0m\n\u001b[1;33m    100 = \"prince\"\u001b[0m\n\u001b[1;37m    ^\u001b[0m\n\u001b[1;31mSyntaxError\u001b[0m\u001b[1;31m:\u001b[0m cannot assign to literal\n"
     ]
    }
   ],
   "source": [
    "100 = \"prince\""
   ]
  },
  {
   "cell_type": "markdown",
   "id": "c60ef1f3",
   "metadata": {},
   "source": [
    "#### Q9. What three functions can be used to get the integer, floating-point number, or string version of a value?"
   ]
  },
  {
   "cell_type": "code",
   "execution_count": 13,
   "id": "ad251eac",
   "metadata": {},
   "outputs": [
    {
     "data": {
      "text/plain": [
       "120"
      ]
     },
     "execution_count": 13,
     "metadata": {},
     "output_type": "execute_result"
    }
   ],
   "source": [
    "a = 120.00\n",
    "int(a)"
   ]
  },
  {
   "cell_type": "code",
   "execution_count": 11,
   "id": "c9e01a46",
   "metadata": {},
   "outputs": [
    {
     "data": {
      "text/plain": [
       "120.0"
      ]
     },
     "execution_count": 11,
     "metadata": {},
     "output_type": "execute_result"
    }
   ],
   "source": [
    "float(a)"
   ]
  },
  {
   "cell_type": "code",
   "execution_count": 12,
   "id": "41def2a6",
   "metadata": {},
   "outputs": [
    {
     "data": {
      "text/plain": [
       "'120.0'"
      ]
     },
     "execution_count": 12,
     "metadata": {},
     "output_type": "execute_result"
    }
   ],
   "source": [
    "str(a)"
   ]
  },
  {
   "cell_type": "markdown",
   "id": "d3a5f5df",
   "metadata": {},
   "source": [
    "#### Q10. Why does this expression cause an error? How can you fix it?\n",
    "\n",
    "'I have eaten ' + 99 + ' burritos.'"
   ]
  },
  {
   "cell_type": "code",
   "execution_count": 14,
   "id": "00341244",
   "metadata": {},
   "outputs": [
    {
     "ename": "TypeError",
     "evalue": "can only concatenate str (not \"int\") to str",
     "output_type": "error",
     "traceback": [
      "\u001b[1;31m---------------------------------------------------------------------------\u001b[0m",
      "\u001b[1;31mTypeError\u001b[0m                                 Traceback (most recent call last)",
      "Input \u001b[1;32mIn [14]\u001b[0m, in \u001b[0;36m<cell line: 1>\u001b[1;34m()\u001b[0m\n\u001b[1;32m----> 1\u001b[0m \u001b[38;5;124;43m'\u001b[39;49m\u001b[38;5;124;43mI have eaten \u001b[39;49m\u001b[38;5;124;43m'\u001b[39;49m\u001b[43m \u001b[49m\u001b[38;5;241;43m+\u001b[39;49m\u001b[43m \u001b[49m\u001b[38;5;241;43m99\u001b[39;49m \u001b[38;5;241m+\u001b[39m \u001b[38;5;124m'\u001b[39m\u001b[38;5;124m burritos.\u001b[39m\u001b[38;5;124m'\u001b[39m\n",
      "\u001b[1;31mTypeError\u001b[0m: can only concatenate str (not \"int\") to str"
     ]
    }
   ],
   "source": [
    "'I have eaten ' + 99 + ' burritos.'"
   ]
  },
  {
   "cell_type": "code",
   "execution_count": 6,
   "id": "b19b7851",
   "metadata": {},
   "outputs": [
    {
     "data": {
      "text/plain": [
       "'I have eaten 99 burritos.'"
      ]
     },
     "execution_count": 6,
     "metadata": {},
     "output_type": "execute_result"
    }
   ],
   "source": [
    "'I have eaten ' + '99' + ' burritos.'"
   ]
  }
 ],
 "metadata": {
  "kernelspec": {
   "display_name": "Python 3 (ipykernel)",
   "language": "python",
   "name": "python3"
  },
  "language_info": {
   "codemirror_mode": {
    "name": "ipython",
    "version": 3
   },
   "file_extension": ".py",
   "mimetype": "text/x-python",
   "name": "python",
   "nbconvert_exporter": "python",
   "pygments_lexer": "ipython3",
   "version": "3.9.12"
  }
 },
 "nbformat": 4,
 "nbformat_minor": 5
}

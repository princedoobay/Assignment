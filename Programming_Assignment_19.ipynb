{
 "cells": [
  {
   "cell_type": "markdown",
   "id": "c13b8854-8579-4053-bebe-dbfde2bf0198",
   "metadata": {},
   "source": [
    "# Programming Assignment - 19"
   ]
  },
  {
   "cell_type": "markdown",
   "id": "35842297-eb15-49d0-90e6-bd08d63a2608",
   "metadata": {},
   "source": [
    "### 1. Create a function that takes a string and returns a string in which each character is repeated once.\n",
    "Examples\n",
    "\n",
    "double_char(&quot;String&quot;) ➞ &quot;SSttrriinngg&quot;\n",
    "\n",
    "double_char(&quot;Hello World!&quot;) ➞ &quot;HHeelllloo WWoorrlldd!!&quot;\n",
    "\n",
    "double_char(&quot;1234!_ &quot;) ➞ &quot;11223344!!__ &quot;"
   ]
  },
  {
   "cell_type": "code",
   "execution_count": 1,
   "id": "da31b549-be33-429d-9681-b29b27f85593",
   "metadata": {},
   "outputs": [],
   "source": [
    "def double_char(txt):\n",
    "    \"\"\"\n",
    "    Given a string, returns a new string in which each character is repeated once.\n",
    "    \"\"\"\n",
    "    return ''.join(c*2 for c in txt)\n"
   ]
  },
  {
   "cell_type": "code",
   "execution_count": 2,
   "id": "d2cdd274-1973-4b06-9b0f-1aed2b18b2a5",
   "metadata": {},
   "outputs": [
    {
     "name": "stdout",
     "output_type": "stream",
     "text": [
      "SSttrriinngg\n",
      "HHeelllloo  WWoorrlldd!!\n",
      "11223344!!__  \n"
     ]
    }
   ],
   "source": [
    "print(double_char(\"String\"))      # Output: \"SSttrriinngg\"\n",
    "print(double_char(\"Hello World!\")) # Output: \"HHeelllloo  WWoorrlldd!!\"\n",
    "print(double_char(\"1234!_ \"))     # Output: \"11223344!!__  \""
   ]
  },
  {
   "cell_type": "markdown",
   "id": "0ab53c4c-6d63-4ac7-af67-7af80a6f3850",
   "metadata": {},
   "source": [
    "### 2. Create a function that reverses a boolean value and returns the string &quot;boolean expected&quot; if another variable type is given.\n",
    "Examples\n",
    "\n",
    "reverse(True) ➞ False\n",
    "\n",
    "reverse(False) ➞ True\n",
    "\n",
    "reverse(0) ➞ &quot;boolean expected&quot;\n",
    "\n",
    "reverse(None) ➞ &quot;boolean expected&quot;"
   ]
  },
  {
   "cell_type": "code",
   "execution_count": 3,
   "id": "0722a05d-b30c-4173-af41-34e916730b69",
   "metadata": {},
   "outputs": [],
   "source": [
    "def reverse(arg):\n",
    "    \"\"\"\n",
    "    Given a boolean value, returns its opposite. Otherwise, returns the string \"boolean expected\".\n",
    "    \"\"\"\n",
    "    if isinstance(arg, bool):\n",
    "        return not arg\n",
    "    else:\n",
    "        return \"boolean expected\""
   ]
  },
  {
   "cell_type": "code",
   "execution_count": 4,
   "id": "984ab048-134f-47a4-b4ad-2d630a9d508b",
   "metadata": {},
   "outputs": [
    {
     "name": "stdout",
     "output_type": "stream",
     "text": [
      "False\n",
      "True\n",
      "boolean expected\n",
      "boolean expected\n"
     ]
    }
   ],
   "source": [
    "print(reverse(True))      # Output: False\n",
    "print(reverse(False))     # Output: True\n",
    "print(reverse(0))         # Output: \"boolean expected\"\n",
    "print(reverse(None))      # Output: \"boolean expected\""
   ]
  },
  {
   "cell_type": "markdown",
   "id": "6180fae6-80c5-4944-ba63-c6e9ff4041f2",
   "metadata": {},
   "source": [
    "### 3. Create a function that returns the thickness (in meters) of a piece of paper after folding it n number of times. The paper starts off with a thickness of 0.5mm.\n",
    "Examples\n",
    "\n",
    "num_layers(1) ➞ &quot;0.001m&quot;\n",
    "#### Paper folded once is 1mm (equal to 0.001m)\n",
    "num_layers(4) ➞ &quot;0.008m&quot;\n",
    "#### Paper folded 4 times is 8mm (equal to 0.008m)\n",
    "num_layers(21) ➞ &quot;1048.576m&quot;\n",
    "#### Paper folded 21 times is 1048576mm (equal to 1048.576m)"
   ]
  },
  {
   "cell_type": "code",
   "execution_count": 5,
   "id": "36f734a9-17de-4be4-a96e-e47b76177386",
   "metadata": {},
   "outputs": [],
   "source": [
    "def num_layers(n):\n",
    "    \"\"\"\n",
    "    Given the number of times a paper is folded, returns the thickness of the paper in meters.\n",
    "    \"\"\"\n",
    "    thickness_mm = 0.5 * (2 ** n)\n",
    "    thickness_m = thickness_mm / 1000\n",
    "    return f\"{thickness_m:.3f}m\""
   ]
  },
  {
   "cell_type": "code",
   "execution_count": 6,
   "id": "22533aee-6cf9-4f4f-aa95-9ff4943e04d8",
   "metadata": {},
   "outputs": [
    {
     "name": "stdout",
     "output_type": "stream",
     "text": [
      "0.001m\n",
      "0.008m\n",
      "1048.576m\n"
     ]
    }
   ],
   "source": [
    "print(num_layers(1))      # Output: \"0.001m\"\n",
    "print(num_layers(4))      # Output: \"0.008m\"\n",
    "print(num_layers(21))     # Output: \"1048.576m\""
   ]
  },
  {
   "cell_type": "markdown",
   "id": "2a51a48d-c234-4ec9-9da9-97cbf27c69a3",
   "metadata": {},
   "source": [
    "### 4. Create a function that takes a single string as argument and returns an ordered list containing the indices of all capital letters in the string.\n",
    "Examples\n",
    "\n",
    "index_of_caps(&quot;eDaBiT&quot;) ➞ [1, 3, 5]\n",
    "\n",
    "index_of_caps(&quot;eQuINoX&quot;) ➞ [1, 3, 4, 6]\n",
    "\n",
    "index_of_caps(&quot;determine&quot;) ➞ []\n",
    "\n",
    "index_of_caps(&quot;STRIKE&quot;) ➞ [0, 1, 2, 3, 4, 5]\n",
    "\n",
    "index_of_caps(&quot;sUn&quot;) ➞ [1]"
   ]
  },
  {
   "cell_type": "code",
   "execution_count": 7,
   "id": "e6fda634-d973-4353-b223-5ddc6e430052",
   "metadata": {},
   "outputs": [],
   "source": [
    "def index_of_caps(word):\n",
    "    \"\"\"\n",
    "    Given a string, returns a list of indices where capital letters occur.\n",
    "    \"\"\"\n",
    "    return [i for i, c in enumerate(word) if c.isupper()]"
   ]
  },
  {
   "cell_type": "code",
   "execution_count": 8,
   "id": "d26ad664-494d-4c10-ae86-c6ea932528ca",
   "metadata": {},
   "outputs": [
    {
     "name": "stdout",
     "output_type": "stream",
     "text": [
      "[1, 3, 5]\n",
      "[1, 3, 4, 6]\n",
      "[]\n",
      "[0, 1, 2, 3, 4, 5]\n",
      "[1]\n"
     ]
    }
   ],
   "source": [
    "print(index_of_caps(\"eDaBiT\"))     # Output: [1, 3, 5]\n",
    "print(index_of_caps(\"eQuINoX\"))    # Output: [1, 3, 4, 6]\n",
    "print(index_of_caps(\"determine\"))  # Output: []\n",
    "print(index_of_caps(\"STRIKE\"))     # Output: [0, 1, 2, 3, 4, 5]\n",
    "print(index_of_caps(\"sUn\"))        # Output: [1]"
   ]
  },
  {
   "cell_type": "markdown",
   "id": "286e6892-039d-4e8e-afaa-a38456e65593",
   "metadata": {},
   "source": [
    "### 5. Using list comprehensions, create a function that finds all even numbers from 1 to the given number.\n",
    "Examples\n",
    "\n",
    "find_even_nums(8) ➞ [2, 4, 6, 8]\n",
    "\n",
    "find_even_nums(4) ➞ [2, 4]\n",
    "\n",
    "find_even_nums(2) ➞ [2]"
   ]
  },
  {
   "cell_type": "code",
   "execution_count": 10,
   "id": "314a9d39-2779-468c-a687-8df58041a328",
   "metadata": {},
   "outputs": [],
   "source": [
    "def find_even_nums(n):\n",
    "    \"\"\"\n",
    "    Given an integer n, returns a list of all even numbers from 1 to n (inclusive).\n",
    "    \"\"\"\n",
    "    return [i for i in range(1, n+1) if i % 2 == 0]\n"
   ]
  },
  {
   "cell_type": "code",
   "execution_count": 11,
   "id": "bf40d1ec-a078-4808-953d-8c454d669276",
   "metadata": {},
   "outputs": [
    {
     "name": "stdout",
     "output_type": "stream",
     "text": [
      "[2, 4, 6, 8]\n",
      "[2, 4]\n",
      "[2]\n"
     ]
    }
   ],
   "source": [
    "print(find_even_nums(8))   # Output: [2, 4, 6, 8]\n",
    "print(find_even_nums(4))   # Output: [2, 4]\n",
    "print(find_even_nums(2))   # Output: [2]"
   ]
  }
 ],
 "metadata": {
  "kernelspec": {
   "display_name": "Python 3 (ipykernel)",
   "language": "python",
   "name": "python3"
  },
  "language_info": {
   "codemirror_mode": {
    "name": "ipython",
    "version": 3
   },
   "file_extension": ".py",
   "mimetype": "text/x-python",
   "name": "python",
   "nbconvert_exporter": "python",
   "pygments_lexer": "ipython3",
   "version": "3.10.6"
  }
 },
 "nbformat": 4,
 "nbformat_minor": 5
}

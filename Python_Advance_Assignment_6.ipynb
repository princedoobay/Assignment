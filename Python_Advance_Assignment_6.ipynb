{
  "nbformat": 4,
  "nbformat_minor": 0,
  "metadata": {
    "colab": {
      "provenance": []
    },
    "kernelspec": {
      "name": "python3",
      "display_name": "Python 3"
    },
    "language_info": {
      "name": "python"
    }
  },
  "cells": [
    {
      "cell_type": "markdown",
      "source": [
        "# Python_Advance_Assignment-6"
      ],
      "metadata": {
        "id": "Zv5kUcMB2_FL"
      }
    },
    {
      "cell_type": "markdown",
      "source": [
        "Q1. Describe three applications for exception processing.\n",
        "\n",
        "- Error Handling: Exception processing is primarily used for error handling in programming. When an unexpected or exceptional situation occurs during the execution of a program, instead of terminating abruptly, the program can raise an exception. This allows the program to gracefully handle errors, display helpful error messages, and take appropriate actions to recover from the error or terminate gracefully.\n",
        "\n",
        "- Input Validation: When accepting input from users or external sources, exception processing can be used to validate the input. For example, if a program expects an integer as input but receives a string, it can raise a ValueError or a custom exception to indicate that the input is invalid. This helps ensure that the program operates on valid data and avoids potential issues caused by incorrect input.\n",
        "\n",
        "- Resource Management: Exception processing is also essential for managing resources like files, database connections, or network connections. If an error occurs while accessing or using a resource, the program can raise an exception and perform necessary cleanup operations (e.g., closing files or releasing network connections) using exception handling mechanisms to prevent resource leaks and ensure proper resource management."
      ],
      "metadata": {
        "id": "M8Fr4HIA3CyK"
      }
    },
    {
      "cell_type": "markdown",
      "source": [
        "Q2. What happens if you don't do something extra to treat an exception?\n",
        "\n",
        "If you don't do something extra to treat an exception, it will propagate up the call stack until it is either caught and handled by an exception handler or until it reaches the top level of the program, where it may cause the program to terminate abruptly. When an unhandled exception reaches the top level of the program, the interpreter will display an error message, known as a traceback, showing the sequence of calls that led to the unhandled exception and the type of the exception.\n",
        "\n",
        "In other words, if an exception is not explicitly caught and handled within the code, the default behavior is to terminate the program and print the traceback, which helps developers identify the cause of the exception."
      ],
      "metadata": {
        "id": "563SNhxp3RGb"
      }
    },
    {
      "cell_type": "markdown",
      "source": [
        "Q3. What are your options for recovering from an exception in your script?\n",
        "\n",
        "When an exception is raised in a script, you have several options for recovering from it:\n",
        "\n",
        "- Try-Except Block: Use a try-except block to catch and handle the exception. By wrapping the code that may raise an exception inside a try block, you can specify the actions to be taken in the corresponding except block when that particular exception occurs. This way, the program can gracefully recover from the exception and continue executing the rest of the code.\n",
        "\n",
        "- Try-Except-Else Block: You can add an optional else block after the except block. Code inside the else block will be executed only if no exceptions are raised in the try block. This can be useful for defining actions that should be performed when no exceptions occur.\n",
        "\n",
        "- Try-Finally Block: Besides using try-except, you can also use try-finally blocks. Code inside the finally block is executed regardless of whether an exception occurred or not. It's typically used for cleanup operations, like releasing resources, that should always be performed.\n",
        "\n",
        "- Raising Custom Exceptions: In addition to catching built-in exceptions, you can raise custom exceptions using the raise statement. This allows you to signal specific exceptional situations in your script and handle them accordingly."
      ],
      "metadata": {
        "id": "5C7fSaIa3WPq"
      }
    },
    {
      "cell_type": "markdown",
      "source": [
        "Q4. Describe two methods for triggering exceptions in your script.\n",
        "\n",
        "- Using the raise Statement: You can trigger an exception explicitly by using the raise statement followed by the desired exception class or an instance of an exception. For example:"
      ],
      "metadata": {
        "id": "a0fTw_wa3hP9"
      }
    },
    {
      "cell_type": "code",
      "source": [
        "# Triggering a built-in exception\n",
        "raise ValueError(\"This is a custom ValueError message\")\n",
        "\n",
        "# Triggering a custom exception\n",
        "class CustomException(Exception):\n",
        "    pass\n",
        "\n",
        "raise CustomException(\"This is a custom exception\")\n"
      ],
      "metadata": {
        "id": "LJ3_H6BV3j7V"
      },
      "execution_count": null,
      "outputs": []
    },
    {
      "cell_type": "markdown",
      "source": [
        "- Calling Built-in Functions That Raise Exceptions: Some built-in functions raise exceptions under certain conditions. For example, the int() function raises a ValueError if the provided argument cannot be converted to an integer:"
      ],
      "metadata": {
        "id": "8B8iTHi33va3"
      }
    },
    {
      "cell_type": "code",
      "source": [
        "value = \"not_an_integer\"\n",
        "try:\n",
        "    number = int(value)\n",
        "except ValueError as e:\n",
        "    print(\"Error:\", e)\n"
      ],
      "metadata": {
        "colab": {
          "base_uri": "https://localhost:8080/"
        },
        "id": "m0arN2NA31DJ",
        "outputId": "9478b876-5e81-4d94-f4fd-d408ed1da801"
      },
      "execution_count": 2,
      "outputs": [
        {
          "output_type": "stream",
          "name": "stdout",
          "text": [
            "Error: invalid literal for int() with base 10: 'not_an_integer'\n"
          ]
        }
      ]
    },
    {
      "cell_type": "markdown",
      "source": [
        "In this example, when int(value) is called, it raises a ValueError because the string \"not_an_integer\" cannot be converted to an integer."
      ],
      "metadata": {
        "id": "UF9ISCpA4Bmq"
      }
    },
    {
      "cell_type": "markdown",
      "source": [
        "Q5. Identify two methods for specifying actions to be executed at termination time, regardless of whether or not an exception exists.\n",
        "\n",
        "- Using a finally Block: The finally block is used in conjunction with try-except or try-finally blocks. Code inside the finally block will be executed no matter what, whether an exception was raised or not. It is typically used for cleanup tasks that should be performed regardless of whether an exception occurred or not. For example:"
      ],
      "metadata": {
        "id": "N_aj37MO4FGz"
      }
    },
    {
      "cell_type": "code",
      "source": [
        "try:\n",
        "    # Code that may raise an exception\n",
        "    result = perform_operation()\n",
        "except SomeException:\n",
        "    # Exception handling\n",
        "    handle_exception()\n",
        "finally:\n",
        "    # Cleanup tasks, executed regardless of exception\n",
        "    cleanup()\n"
      ],
      "metadata": {
        "id": "klGDZMLi4J9q"
      },
      "execution_count": null,
      "outputs": []
    },
    {
      "cell_type": "markdown",
      "source": [
        "- The atexit Module: The atexit module in Python allows you to register functions that will be called when the program exits, either normally or due to an unhandled exception. The functions registered with atexit are guaranteed to run before the program terminates. This is particularly useful for clean-up operations or finalizing tasks. Here's an example:"
      ],
      "metadata": {
        "id": "HaiCjfr24M3S"
      }
    },
    {
      "cell_type": "code",
      "source": [
        "import atexit\n",
        "\n",
        "def clean_up():\n",
        "    print(\"Cleaning up before exit...\")\n",
        "\n",
        "atexit.register(clean_up)\n",
        "\n",
        "# Rest of the script\n"
      ],
      "metadata": {
        "colab": {
          "base_uri": "https://localhost:8080/"
        },
        "id": "s1FLpnjm4QPl",
        "outputId": "c940ff87-5118-444b-9e9d-72368bc6fcdd"
      },
      "execution_count": 4,
      "outputs": [
        {
          "output_type": "execute_result",
          "data": {
            "text/plain": [
              "<function __main__.clean_up()>"
            ]
          },
          "metadata": {},
          "execution_count": 4
        }
      ]
    },
    {
      "cell_type": "markdown",
      "source": [
        "In this example, the clean_up() function will be executed when the program exits, regardless of whether any exceptions occurred during its execution.\n",
        "\n",
        "\n",
        "\n",
        "\n"
      ],
      "metadata": {
        "id": "d6bQ6ZU84aCL"
      }
    }
  ]
}
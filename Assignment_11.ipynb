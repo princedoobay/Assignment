{
 "cells": [
  {
   "cell_type": "markdown",
   "id": "373b582f",
   "metadata": {},
   "source": [
    "# Assignment-11"
   ]
  },
  {
   "cell_type": "markdown",
   "id": "043aac7b",
   "metadata": {},
   "source": [
    "## 1. Create an assert statement that throws an AssertionError if the variable spam is a negative integer."
   ]
  },
  {
   "cell_type": "code",
   "execution_count": 1,
   "id": "04fae175",
   "metadata": {},
   "outputs": [
    {
     "ename": "AssertionError",
     "evalue": "spam can not be a negative integer",
     "output_type": "error",
     "traceback": [
      "\u001b[1;31m---------------------------------------------------------------------------\u001b[0m",
      "\u001b[1;31mAssertionError\u001b[0m                            Traceback (most recent call last)",
      "Input \u001b[1;32mIn [1]\u001b[0m, in \u001b[0;36m<cell line: 2>\u001b[1;34m()\u001b[0m\n\u001b[0;32m      1\u001b[0m spam \u001b[38;5;241m=\u001b[39m \u001b[38;5;241m-\u001b[39m\u001b[38;5;241m4\u001b[39m\n\u001b[1;32m----> 2\u001b[0m \u001b[38;5;28;01massert\u001b[39;00m spam \u001b[38;5;241m>\u001b[39m\u001b[38;5;241m=\u001b[39m \u001b[38;5;241m0\u001b[39m, \u001b[38;5;124m'\u001b[39m\u001b[38;5;124mspam can not be a negative integer\u001b[39m\u001b[38;5;124m'\u001b[39m\n",
      "\u001b[1;31mAssertionError\u001b[0m: spam can not be a negative integer"
     ]
    }
   ],
   "source": [
    "spam = -4\n",
    "assert spam >= 0, 'spam can not be a negative integer'  "
   ]
  },
  {
   "cell_type": "markdown",
   "id": "553a0fb7",
   "metadata": {},
   "source": [
    "## 2. Write an assert statement that triggers an AssertionError if the variables eggs and bacon contain strings that are the same as each other, even if their cases are different (that is, 'hello' and 'hello' are considered the same, and 'goodbye' and 'GOODbye' are also considered the same).\n",
    "\n",
    "Answer: assert(eggs.lower() != bacon.lower(), 'The eggs and bacon variables are the same!') "
   ]
  },
  {
   "cell_type": "markdown",
   "id": "fa11f8c0",
   "metadata": {},
   "source": [
    "## 3. Create an assert statement that throws an AssertionError every time."
   ]
  },
  {
   "cell_type": "code",
   "execution_count": 12,
   "id": "361415c7",
   "metadata": {},
   "outputs": [
    {
     "name": "stderr",
     "output_type": "stream",
     "text": [
      "<>:3: SyntaxWarning: assertion is always true, perhaps remove parentheses?\n",
      "<>:3: SyntaxWarning: assertion is always true, perhaps remove parentheses?\n",
      "C:\\Users\\Lenovo\\AppData\\Local\\Temp\\ipykernel_15064\\1607946963.py:3: SyntaxWarning: assertion is always true, perhaps remove parentheses?\n",
      "  assert (False, spam != 2 , 'This assertion always triggers.')\n"
     ]
    }
   ],
   "source": [
    "#Answer:\n",
    "spam = 2\n",
    "assert (False, spam != 2 , 'This assertion always triggers.')"
   ]
  },
  {
   "cell_type": "markdown",
   "id": "c3efe4a7",
   "metadata": {},
   "source": [
    "## 4. What are the two lines that must be present in your software in order to call logging.debug()?"
   ]
  },
  {
   "cell_type": "code",
   "execution_count": 13,
   "id": "2d05e311",
   "metadata": {},
   "outputs": [],
   "source": [
    "#Answer:\n",
    "import logging\n",
    "logging.basicConfig(\n",
    "    filename='progLog.txt',\n",
    "    level=logging.DEBUG,\n",
    "    format='%(asctime)s - %(levelname)s - %(message)s'\n",
    ")"
   ]
  },
  {
   "cell_type": "markdown",
   "id": "105678a6",
   "metadata": {},
   "source": [
    "## 5. What are the two lines that your program must have in order to have logging.debug() send a logging message to a file named programLog.txt?"
   ]
  },
  {
   "cell_type": "code",
   "execution_count": 14,
   "id": "05f53147",
   "metadata": {},
   "outputs": [],
   "source": [
    "#Answer:\n",
    "'''To be able to send logging messages to a file named programLog.txt with logging.debug(), \n",
    "you must have these two lines at the start of your program:'''\n",
    "\n",
    "import logging\n",
    "\n",
    "logging.basicConfig(\n",
    "    filename='programLog.txt', \n",
    "    level=logging.DEBUG,\n",
    "    format=' %(asctime)s - %(levelname)s - %(message)s'\n",
    ")"
   ]
  },
  {
   "cell_type": "markdown",
   "id": "5676889d",
   "metadata": {},
   "source": [
    "## 6. What are the five levels of logging?\n",
    "\n",
    "Ans: DEBUG, INFO, WARNING, ERROR, and CRITICAL"
   ]
  },
  {
   "cell_type": "markdown",
   "id": "e7110347",
   "metadata": {},
   "source": [
    "## 7. What line of code would you add to your software to disable all logging messages?\n",
    "\n",
    "Answer: logging.disable(logging.CRITICAL)"
   ]
  },
  {
   "cell_type": "markdown",
   "id": "7927f58c",
   "metadata": {},
   "source": [
    "## 8. Why is using logging messages better than using print() to display the same message?\n",
    "\n",
    "Answer: Logging messages has some advantages over print(). You can disable logging messages without removing the logging \n",
    "    function calls. You can selectively disable lower-level logging messages. You can create logging messages. Logging \n",
    "    messages provides a timestamp."
   ]
  },
  {
   "cell_type": "markdown",
   "id": "be459309",
   "metadata": {},
   "source": [
    "## 9. What are the differences between the Step Over, Step In, and Step Out buttons in the debugger?\n",
    "\n",
    "Answer: The Step button will move the debugger into a function call. The Over button will quickly execute the function call without stepping into it. The Out button will quickly execute the rest of the code until it steps out of the function it currently is in."
   ]
  },
  {
   "cell_type": "markdown",
   "id": "77d070e8",
   "metadata": {},
   "source": [
    "## 10. After you click Continue, when will the debugger stop ?\n",
    "\n",
    "Answer: Continue execution, only stop when a breakpoint is encountered."
   ]
  },
  {
   "cell_type": "markdown",
   "id": "2853612b",
   "metadata": {},
   "source": [
    "## 11. What is the concept of a breakpoint?\n",
    "\n",
    "Answer: breakpoint is a setting on a line of code that causes the debugger to pause when the program execution reaches the line."
   ]
  }
 ],
 "metadata": {
  "kernelspec": {
   "display_name": "Python 3 (ipykernel)",
   "language": "python",
   "name": "python3"
  },
  "language_info": {
   "codemirror_mode": {
    "name": "ipython",
    "version": 3
   },
   "file_extension": ".py",
   "mimetype": "text/x-python",
   "name": "python",
   "nbconvert_exporter": "python",
   "pygments_lexer": "ipython3",
   "version": "3.9.12"
  }
 },
 "nbformat": 4,
 "nbformat_minor": 5
}

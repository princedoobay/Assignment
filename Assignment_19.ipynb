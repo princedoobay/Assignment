{
 "cells": [
  {
   "cell_type": "markdown",
   "id": "ee109cce-11da-45b3-8508-9c1e9fb33127",
   "metadata": {},
   "source": [
    "# Assignment - 19"
   ]
  },
  {
   "cell_type": "markdown",
   "id": "181bc7db-25e4-4650-b5f4-265c7a419240",
   "metadata": {},
   "source": [
    "### 1. Make a class called Thing with no contents and print it. Then, create an object called example from this class and also print it. Are the printed values the same or different?\n"
   ]
  },
  {
   "cell_type": "code",
   "execution_count": 1,
   "id": "d8bdb43a-472b-4a38-b5fd-0d29ee5461dd",
   "metadata": {},
   "outputs": [
    {
     "name": "stdout",
     "output_type": "stream",
     "text": [
      "<__main__.Thing object at 0x7f473572fb80>\n",
      "<__main__.Thing object at 0x7f473572fe50>\n"
     ]
    }
   ],
   "source": [
    "class Thing:\n",
    "    pass\n",
    "\n",
    "print(Thing())\n",
    "example = Thing()\n",
    "print(example)"
   ]
  },
  {
   "cell_type": "markdown",
   "id": "2e923824-b326-4e17-89dc-ef3ed6214aa7",
   "metadata": {},
   "source": [
    "The two printed values are different because the first one is the representation of the Thing class object itself, while the second one is the representation of an instance of the Thing class that was created with the example variable.\n",
    "\n",
    "The hex numbers after \"object at\" are memory addresses where the objects are stored in the computer's memory."
   ]
  },
  {
   "cell_type": "markdown",
   "id": "1c828a3e-9053-4da4-9792-38e901b74f3e",
   "metadata": {},
   "source": [
    "### 2. Create a new class called Thing2 and add the value &#39;abc&#39; to the letters class attribute. Letters should be printed.\n"
   ]
  },
  {
   "cell_type": "code",
   "execution_count": 3,
   "id": "a026c24e-414f-4613-9c80-5e57f1f14e95",
   "metadata": {},
   "outputs": [
    {
     "name": "stdout",
     "output_type": "stream",
     "text": [
      "abc\n"
     ]
    }
   ],
   "source": [
    "class Thing2:\n",
    "    letters = 'abc'\n",
    "    \n",
    "print(Thing2.letters)"
   ]
  },
  {
   "cell_type": "markdown",
   "id": "bf3029e8-3ec5-4753-9149-7d6c63dcd3ab",
   "metadata": {},
   "source": [
    "### 3. Make yet another class called, of course, Thing3. This time, assign the value &#39;xyz&#39; to an instance (object) attribute called letters. Print letters. Do you need to make an object from the class to do this?\n"
   ]
  },
  {
   "cell_type": "code",
   "execution_count": 4,
   "id": "80374895-6e23-4405-9281-e993f5d61c59",
   "metadata": {},
   "outputs": [
    {
     "name": "stdout",
     "output_type": "stream",
     "text": [
      "xyz\n"
     ]
    }
   ],
   "source": [
    "class Thing3:\n",
    "    def __init__(self):\n",
    "        self.letters = 'xyz'\n",
    "\n",
    "example = Thing3()\n",
    "print(example.letters)"
   ]
  },
  {
   "cell_type": "markdown",
   "id": "9e2e0d33-9ad9-451d-8dde-6fd3c8693c87",
   "metadata": {},
   "source": [
    "### 4. Create an Element class with the instance attributes name, symbol, and number. Create a class object with the values &#39;Hydrogen,&#39; &#39;H,&#39; and 1.\n"
   ]
  },
  {
   "cell_type": "code",
   "execution_count": 5,
   "id": "5dca1a7d-620b-44d7-b3f2-e3eea1709d6f",
   "metadata": {},
   "outputs": [],
   "source": [
    "class Element:\n",
    "    def __init__(self, name, symbol, number):\n",
    "        self.name = name\n",
    "        self.symbol = symbol\n",
    "        self.number = number\n",
    "\n",
    "hydrogen = Element('Hydrogen','H',1)"
   ]
  },
  {
   "cell_type": "markdown",
   "id": "2ea53ec6-4f4d-4179-99a5-52601f59cd0a",
   "metadata": {},
   "source": [
    "### 5. Make a dictionary with these keys and values: &#39;name&#39;: &#39;Hydrogen&#39;, &#39;symbol&#39;: &#39;H&#39;, &#39;number&#39;: 1. Then, create an object called hydrogen from class Element using this dictionary.\n"
   ]
  },
  {
   "cell_type": "code",
   "execution_count": 6,
   "id": "819aaef7-66c2-4133-a958-8baa7cd66455",
   "metadata": {},
   "outputs": [],
   "source": [
    "element_dict = {'name': 'Hydrogen', 'symbol': 'H', 'number': 1}\n",
    "hydrogen = Element(**element_dict)"
   ]
  },
  {
   "cell_type": "markdown",
   "id": "1ecd4065-308b-46da-a7a2-389a71bfac63",
   "metadata": {},
   "source": [
    "we have used the double-asterisk syntax (**) to pass this dictionary as keyword arguments to the Element constructor. The ** syntax unpacks the dictionary into separate arguments, so that the constructor is called with name='Hydrogen', symbol='H', and number=1."
   ]
  },
  {
   "cell_type": "markdown",
   "id": "ea5689ac-289b-4a81-8d92-db594b734489",
   "metadata": {},
   "source": [
    "### 6. For the Element class, define a method called dump() that prints the values of the object’s attributes (name, symbol, and number). Create the hydrogen object from this new definition and use dump() to print its attributes.\n"
   ]
  },
  {
   "cell_type": "code",
   "execution_count": 11,
   "id": "9201e1c5-f263-4a4c-afa9-1e6707cb03bf",
   "metadata": {},
   "outputs": [],
   "source": [
    "class Element:\n",
    "    def __init__(self, name, symbol, number):\n",
    "        self.name = name\n",
    "        self.symbol = symbol\n",
    "        self.number = number\n",
    "    \n",
    "    def dump(self):\n",
    "        print('Name:', self.name)\n",
    "        print('Symbol:', self.symbol)\n",
    "        print('Number:', self.number)\n",
    "        "
   ]
  },
  {
   "cell_type": "code",
   "execution_count": 12,
   "id": "638768c2-138d-4a65-a70a-b5fa00eb323d",
   "metadata": {},
   "outputs": [
    {
     "name": "stdout",
     "output_type": "stream",
     "text": [
      "Name: Hydrogen\n",
      "Symbol: H\n",
      "Number: 1\n"
     ]
    }
   ],
   "source": [
    "hydrogen = Element('Hydrogen', 'H', 1)\n",
    "hydrogen.dump()"
   ]
  },
  {
   "cell_type": "markdown",
   "id": "f64cfb45-8f67-4183-ae44-ebd0ec969a52",
   "metadata": {},
   "source": [
    "### 7. Call print(hydrogen). In the definition of Element, change the name of method dump to __str__, create a new hydrogen object, and call print(hydrogen) again.\n"
   ]
  },
  {
   "cell_type": "code",
   "execution_count": 14,
   "id": "a448b893-4fef-4eb1-91ed-e3c9a603a152",
   "metadata": {},
   "outputs": [],
   "source": [
    "class Element:\n",
    "    def __init__(self, name, symbol, number):\n",
    "        self.name = name\n",
    "        self.symbol = symbol\n",
    "        self.number = number\n",
    "    \n",
    "    def __str__ (self):\n",
    "        return f\"Name: {self.name}, Symbol: {self.symbol}, Number: {self.number}\"\n",
    "        "
   ]
  },
  {
   "cell_type": "code",
   "execution_count": 15,
   "id": "88865a5c-86e5-4960-90f7-4c12e0daee74",
   "metadata": {},
   "outputs": [
    {
     "name": "stdout",
     "output_type": "stream",
     "text": [
      "Name: Hydrogen, Symbol: H, Number: 1\n"
     ]
    }
   ],
   "source": [
    "hydrogen = Element('Hydrogen', 'H', 1)\n",
    "\n",
    "print(hydrogen)"
   ]
  },
  {
   "cell_type": "markdown",
   "id": "0e3ff956-80fb-4ea6-af35-2953208e9f81",
   "metadata": {},
   "source": [
    "### 8. Modify Element to make the attributes name, symbol, and number private. Define a getter property for each to return its value.\n"
   ]
  },
  {
   "cell_type": "code",
   "execution_count": 16,
   "id": "e3dbaa5a-0853-4752-81c2-6fb8c86911ba",
   "metadata": {},
   "outputs": [],
   "source": [
    "class Element:\n",
    "    def __init__(self, name, symbol, number):\n",
    "        self._name = name\n",
    "        self._symbol = symbol\n",
    "        self._number = number\n",
    "    \n",
    "    @property\n",
    "    def name(self):\n",
    "        return self._name\n",
    "    \n",
    "    @property\n",
    "    def symbol(self):\n",
    "        return self._symbol\n",
    "    \n",
    "    @property\n",
    "    def number(self):\n",
    "        return self._number"
   ]
  },
  {
   "cell_type": "code",
   "execution_count": 17,
   "id": "49585c6e-af4c-4960-b2f2-5a93dfdbafca",
   "metadata": {},
   "outputs": [
    {
     "name": "stdout",
     "output_type": "stream",
     "text": [
      "Hydrogen\n",
      "H\n",
      "1\n"
     ]
    }
   ],
   "source": [
    "hydrogen = Element('Hydrogen', 'H', 1)\n",
    "\n",
    "print(hydrogen.name)    \n",
    "print(hydrogen.symbol)  \n",
    "print(hydrogen.number)  "
   ]
  },
  {
   "cell_type": "markdown",
   "id": "12b8f6d9-4666-4eca-a3ec-180eac2348fc",
   "metadata": {},
   "source": [
    "### 9. Define three classes: Bear, Rabbit, and Octothorpe. For each, define only one method: eats(). This should return &#39;berries&#39; (Bear), &#39;clover&#39; (Rabbit), or &#39;campers&#39; (Octothorpe). Create one object from each and print what it eats.\n"
   ]
  },
  {
   "cell_type": "code",
   "execution_count": 18,
   "id": "afecb5f0-451e-43ed-a4c5-76f66609a923",
   "metadata": {},
   "outputs": [],
   "source": [
    "class Bear:\n",
    "    def eats(self):\n",
    "        return 'berries'\n",
    "\n",
    "class Rabbit:\n",
    "    def eats(self):\n",
    "        return 'clover'\n",
    "\n",
    "class Octothorpe:\n",
    "    def eats(self):\n",
    "        return 'campers'\n"
   ]
  },
  {
   "cell_type": "code",
   "execution_count": 19,
   "id": "06e0844c-2a08-487a-847b-5c644b8c3859",
   "metadata": {},
   "outputs": [
    {
     "name": "stdout",
     "output_type": "stream",
     "text": [
      "berries\n",
      "clover\n",
      "campers\n"
     ]
    }
   ],
   "source": [
    "bear = Bear()\n",
    "print(bear.eats())     \n",
    "\n",
    "rabbit = Rabbit()\n",
    "print(rabbit.eats())    \n",
    "\n",
    "octothorpe = Octothorpe()\n",
    "print(octothorpe.eats())  \n"
   ]
  },
  {
   "cell_type": "markdown",
   "id": "b91b5fd0-165d-4f30-9258-f13f237fed12",
   "metadata": {},
   "source": [
    "### 10. Define these classes: Laser, Claw, and SmartPhone. Each has only one method: does(). This returns &#39;disintegrate&#39; (Laser), &#39;crush&#39; (Claw), or &#39;ring&#39; (SmartPhone). Then, define the class Robot that has one instance (object) of each of these. Define a does() method for the Robot that prints what its component objects do."
   ]
  },
  {
   "cell_type": "code",
   "execution_count": 20,
   "id": "12a4cfae-2231-42f2-a7d0-89e5a4ca3eb5",
   "metadata": {},
   "outputs": [],
   "source": [
    "class Laser:\n",
    "    def does(self):\n",
    "        return 'disintegrate'\n",
    "\n",
    "class Claw:\n",
    "    def does(self):\n",
    "        return 'crush'\n",
    "\n",
    "class SmartPhone:\n",
    "    def does(self):\n",
    "        return 'ring'\n",
    "\n",
    "class Robot:\n",
    "    def __init__(self):\n",
    "        self.laser = Laser()\n",
    "        self.claw = Claw()\n",
    "        self.smartphone = SmartPhone()\n",
    "    \n",
    "    def does(self):\n",
    "        print(f\"Laser: {self.laser.does()}\")\n",
    "        print(f\"Claw: {self.claw.does()}\")\n",
    "        print(f\"SmartPhone: {self.smartphone.does()}\")\n"
   ]
  },
  {
   "cell_type": "code",
   "execution_count": 21,
   "id": "de2f0285-ed58-4e48-b2f7-ab876ae5474d",
   "metadata": {},
   "outputs": [
    {
     "name": "stdout",
     "output_type": "stream",
     "text": [
      "Laser: disintegrate\n",
      "Claw: crush\n",
      "SmartPhone: ring\n"
     ]
    }
   ],
   "source": [
    "robot = Robot()\n",
    "robot.does()\n"
   ]
  }
 ],
 "metadata": {
  "kernelspec": {
   "display_name": "Python 3 (ipykernel)",
   "language": "python",
   "name": "python3"
  },
  "language_info": {
   "codemirror_mode": {
    "name": "ipython",
    "version": 3
   },
   "file_extension": ".py",
   "mimetype": "text/x-python",
   "name": "python",
   "nbconvert_exporter": "python",
   "pygments_lexer": "ipython3",
   "version": "3.10.6"
  }
 },
 "nbformat": 4,
 "nbformat_minor": 5
}

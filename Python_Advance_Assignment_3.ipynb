{
  "nbformat": 4,
  "nbformat_minor": 0,
  "metadata": {
    "colab": {
      "provenance": []
    },
    "kernelspec": {
      "name": "python3",
      "display_name": "Python 3"
    },
    "language_info": {
      "name": "python"
    }
  },
  "cells": [
    {
      "cell_type": "markdown",
      "source": [
        "# Python_Advance_Assignment-3"
      ],
      "metadata": {
        "id": "q2CNizxmsE0T"
      }
    },
    {
      "cell_type": "markdown",
      "source": [
        "1. What is the concept of an abstract superclass?\n",
        "\n",
        "An abstract superclass is a class that is designed to be subclassed but not instantiated directly. It serves as a blueprint or template for its subclasses, providing common attributes and methods that the subclasses can inherit and override. Abstract superclasses cannot be instantiated on their own because they often lack some functionality that their subclasses need to provide.\n",
        "In Python, abstract superclasses are typically created using the ABC (Abstract Base Class) module from the abc package. Abstract classes define abstract methods, which are declared but have no implementation in the abstract class. Subclasses of the abstract class must implement these abstract methods, ensuring that all necessary functionality is provided by the concrete subclasses.\n",
        "\n",
        "Example:"
      ],
      "metadata": {
        "id": "6qS4HgMPsOMb"
      }
    },
    {
      "cell_type": "code",
      "source": [
        "from abc import ABC, abstractmethod\n",
        "\n",
        "class Shape(ABC):\n",
        "    @abstractmethod\n",
        "    def area(self):\n",
        "        pass\n",
        "\n",
        "class Rectangle(Shape):\n",
        "    def __init__(self, width, height):\n",
        "        self.width = width\n",
        "        self.height = height\n",
        "\n",
        "    def area(self):\n",
        "        return self.width * self.height\n",
        "\n",
        "# Cannot instantiate Shape directly\n",
        "# shape = Shape()  # Raises TypeError\n",
        "\n",
        "# But can create instances of its subclasses\n",
        "rectangle = Rectangle(4, 5)\n",
        "print(rectangle.area())  # Output: 20\n"
      ],
      "metadata": {
        "colab": {
          "base_uri": "https://localhost:8080/"
        },
        "id": "18FdIW0ssUjj",
        "outputId": "6a16f700-f44e-4d49-9d23-5a4b007eb155"
      },
      "execution_count": 1,
      "outputs": [
        {
          "output_type": "stream",
          "name": "stdout",
          "text": [
            "20\n"
          ]
        }
      ]
    },
    {
      "cell_type": "markdown",
      "source": [
        "2. What happens when a class statement&#39;s top level contains a basic assignment statement?\n",
        "\n",
        "When a class statement's top level contains a basic assignment statement, it creates a class attribute. Class attributes are shared among all instances of the class and are accessible both via the class itself and its instances.\n",
        "Here's an example to illustrate this:"
      ],
      "metadata": {
        "id": "svW7Znw3t0As"
      }
    },
    {
      "cell_type": "code",
      "source": [
        "class MyClass:\n",
        "    class_attribute = \"I am a class attribute\"\n",
        "\n",
        "    def __init__(self, instance_attribute):\n",
        "        self.instance_attribute = instance_attribute\n",
        "\n",
        "# Accessing the class attribute\n",
        "print(MyClass.class_attribute)  # Output: \"I am a class attribute\"\n",
        "\n",
        "# Creating an instance of MyClass\n",
        "instance = MyClass(\"example_value\")\n",
        "\n",
        "# Accessing the instance attribute\n",
        "print(instance.instance_attribute)  # Output: \"example_value\"\n"
      ],
      "metadata": {
        "colab": {
          "base_uri": "https://localhost:8080/"
        },
        "id": "Pl_r7AgBsZJ0",
        "outputId": "41e2f89f-5008-4ff2-85fc-4c58025953ba"
      },
      "execution_count": 2,
      "outputs": [
        {
          "output_type": "stream",
          "name": "stdout",
          "text": [
            "I am a class attribute\n",
            "example_value\n"
          ]
        }
      ]
    },
    {
      "cell_type": "markdown",
      "source": [
        "In this example, class_attribute is a class attribute, and instance_attribute is an instance attribute specific to each instance of the class.\n",
        "\n"
      ],
      "metadata": {
        "id": "fh-55mt4t_sm"
      }
    },
    {
      "cell_type": "markdown",
      "source": [
        "3. Why does a class need to manually call a superclass&#39;s __init__ method?\n",
        "\n",
        "When a class is derived from a superclass (base class), it inherits the attributes and methods of the superclass. However, if the subclass has its own __init__ method, it will override the superclass's __init__ method unless it explicitly calls the superclass's __init__ method within its own __init__ method.\n",
        "By manually calling the superclass's __init__ method from the subclass, the subclass can initialize the inherited attributes and set up the state defined in the superclass. This ensures that the subclass is properly initialized and can leverage the functionality provided by the superclass.\n",
        "\n",
        "Example:"
      ],
      "metadata": {
        "id": "0gbsKh_2uBiM"
      }
    },
    {
      "cell_type": "code",
      "source": [
        "class Animal:\n",
        "    def __init__(self, species):\n",
        "        self.species = species\n",
        "\n",
        "class Dog(Animal):\n",
        "    def __init__(self, species, breed):\n",
        "        # Call the superclass's __init__ method to initialize the 'species' attribute\n",
        "        super().__init__(species)\n",
        "        self.breed = breed\n",
        "\n",
        "# Creating an instance of Dog\n",
        "dog = Dog(\"Canine\", \"Labrador\")\n",
        "print(dog.species)  # Output: \"Canine\"\n",
        "print(dog.breed)    # Output: \"Labrador\"\n"
      ],
      "metadata": {
        "colab": {
          "base_uri": "https://localhost:8080/"
        },
        "id": "OP4S9mkmt8M8",
        "outputId": "1c89f756-71a3-4537-8cf7-ccf9e56a374a"
      },
      "execution_count": 3,
      "outputs": [
        {
          "output_type": "stream",
          "name": "stdout",
          "text": [
            "Canine\n",
            "Labrador\n"
          ]
        }
      ]
    },
    {
      "cell_type": "markdown",
      "source": [
        "4. How can you augment, instead of completely replacing, an inherited method?\n",
        "\n",
        "To augment (extend) an inherited method without completely replacing it, you can use method overriding in Python. Method overriding allows a subclass to provide its own implementation for a method inherited from the superclass while still invoking the superclass's method to retain its original behavior.\n",
        "To do this, define a method with the same name in the subclass, and inside that method, use the super() function to call the superclass's method. After calling the superclass's method, you can add additional behavior specific to the subclass.\n",
        "\n",
        "Example:"
      ],
      "metadata": {
        "id": "KcUFqvOCuYUU"
      }
    },
    {
      "cell_type": "code",
      "source": [
        "class Vehicle:\n",
        "    def start(self):\n",
        "        print(\"Vehicle is starting.\")\n",
        "\n",
        "class Car(Vehicle):\n",
        "    def start(self):\n",
        "        super().start()  # Call the start() method of the superclass\n",
        "        print(\"Car is starting.\")\n",
        "\n",
        "# Creating an instance of Car\n",
        "car = Car()\n",
        "car.start()\n"
      ],
      "metadata": {
        "colab": {
          "base_uri": "https://localhost:8080/"
        },
        "id": "PpRxBqlQuTgr",
        "outputId": "96ee380a-fe64-4f79-e009-70e2bdea89d4"
      },
      "execution_count": 4,
      "outputs": [
        {
          "output_type": "stream",
          "name": "stdout",
          "text": [
            "Vehicle is starting.\n",
            "Car is starting.\n"
          ]
        }
      ]
    },
    {
      "cell_type": "markdown",
      "source": [
        "In this example, the Car class overrides the start() method of the Vehicle class. The super().start() call inside the Car class allows the Vehicle class's start() method to be executed first before the additional behavior of the Car class is added.\n",
        "\n"
      ],
      "metadata": {
        "id": "TvuuoaHFuhGU"
      }
    },
    {
      "cell_type": "markdown",
      "source": [
        "5. How is the local scope of a class different from that of a function?\n",
        "\n",
        "The local scope of a class and the local scope of a function are different in terms of how they are accessed and used within the code.\n",
        "Local Scope of a Class:\n",
        "The local scope of a class refers to the namespace inside the class block.\n",
        "Class attributes and methods are defined within this local scope.\n",
        "Class attributes are shared among all instances of the class, while instance attributes are specific to each instance.\n",
        "Within the class, you can access class attributes and methods using the self keyword.\n",
        "Class attributes and methods can be accessed using the class name outside the class.\n",
        "Example:"
      ],
      "metadata": {
        "id": "cWtacl4vujJM"
      }
    },
    {
      "cell_type": "code",
      "source": [
        "class MyClass:\n",
        "    class_attribute = \"I am a class attribute\"\n",
        "\n",
        "    def __init__(self, instance_attribute):\n",
        "        self.instance_attribute = instance_attribute\n",
        "\n",
        "    def class_method(self):\n",
        "        print(\"This is a class method.\")\n",
        "\n",
        "# Accessing class attribute outside the class\n",
        "print(MyClass.class_attribute)  # Output: \"I am a class attribute\"\n"
      ],
      "metadata": {
        "colab": {
          "base_uri": "https://localhost:8080/"
        },
        "id": "x2TzHzbSueHz",
        "outputId": "3d60600d-ded4-4e07-ce1c-fd10a4d16de8"
      },
      "execution_count": 5,
      "outputs": [
        {
          "output_type": "stream",
          "name": "stdout",
          "text": [
            "I am a class attribute\n"
          ]
        }
      ]
    },
    {
      "cell_type": "markdown",
      "source": [
        "Local Scope of a Function:\n",
        "- The local scope of a function refers to the namespace inside the function block.\n",
        "- Variables defined within the function are local to that function and can only be accessed within the function.\n",
        "- Local variables in a function are created when the function is called and destroyed when the function completes execution.\n",
        "- Variables outside the function are not directly accessible inside the function, but you can pass them as arguments to the function to work with them.\n",
        "\n",
        "Example:"
      ],
      "metadata": {
        "id": "p1IHJZqjuw00"
      }
    },
    {
      "cell_type": "code",
      "source": [
        "def my_function():\n",
        "    local_variable = \"I am a local variable.\"\n",
        "    print(local_variable)\n",
        "\n",
        "my_function()  # Output: \"I am a local variable.\"\n",
        "\n",
        "# The following line will raise a NameError because 'local_variable' is not accessible outside the function.\n",
        "# print(local_variable)\n"
      ],
      "metadata": {
        "colab": {
          "base_uri": "https://localhost:8080/"
        },
        "id": "8B8CfvhIuroU",
        "outputId": "67342593-73a6-4c88-dace-a49ef928d803"
      },
      "execution_count": 6,
      "outputs": [
        {
          "output_type": "stream",
          "name": "stdout",
          "text": [
            "I am a local variable.\n"
          ]
        }
      ]
    },
    {
      "cell_type": "markdown",
      "source": [
        "In summary, the local scope of a class deals with class attributes and methods and is defined by the class block, while the local scope of a function deals with local variables and is defined by the function block. They have different purposes and lifetimes within the code.\n",
        "\n",
        "\n",
        "\n",
        "\n"
      ],
      "metadata": {
        "id": "1NIeWSBtu8gk"
      }
    }
  ]
}
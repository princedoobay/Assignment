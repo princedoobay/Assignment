{
  "nbformat": 4,
  "nbformat_minor": 0,
  "metadata": {
    "colab": {
      "provenance": []
    },
    "kernelspec": {
      "name": "python3",
      "display_name": "Python 3"
    },
    "language_info": {
      "name": "python"
    }
  },
  "cells": [
    {
      "cell_type": "markdown",
      "source": [
        "# Python_Advance_Assignment-11"
      ],
      "metadata": {
        "id": "uXl1zowi8eQ-"
      }
    },
    {
      "cell_type": "markdown",
      "source": [
        "Q1. What is the concept of a metaclass?\n",
        "\n",
        "A metaclass in Python is a class that defines the behavior of other classes, which are its instances. In other words, if a class is an instance of a metaclass, that metaclass determines how the class behaves, how its attributes are handled, and how its methods are inherited. Metaclasses provide a way to customize the creation and behavior of classes, somewhat similar to how classes customize the behavior of instances."
      ],
      "metadata": {
        "id": "tQlcvcjr8ggm"
      }
    },
    {
      "cell_type": "markdown",
      "source": [
        "Q2. What is the best way to declare a class's metaclass?\n",
        "\n",
        "The default metaclass in Python is the type metaclass. However, if you want to define a custom metaclass for a class, you can do so by specifying the metaclass argument in the class definition. Here's an example:"
      ],
      "metadata": {
        "id": "VaU3qTC28sdk"
      }
    },
    {
      "cell_type": "code",
      "source": [
        "class MyMeta(type):\n",
        "    pass\n",
        "\n",
        "class MyClass(metaclass=MyMeta):\n",
        "    pass\n"
      ],
      "metadata": {
        "id": "R-Wm29-p8fYk"
      },
      "execution_count": 1,
      "outputs": []
    },
    {
      "cell_type": "markdown",
      "source": [
        "In this example, 'MyMeta' is a custom metaclass that 'MyClass' will be an instance of. You can override methods in 'MyMeta' to control the behavior of classes created using it.\n",
        "\n"
      ],
      "metadata": {
        "id": "mSroQP8-81rl"
      }
    },
    {
      "cell_type": "markdown",
      "source": [
        "Q3. How do class decorators overlap with metaclasses for handling classes?\n",
        "\n",
        "Both class decorators and metaclasses allow you to customize the behavior of classes during their creation. Class decorators are functions that are applied to a class after it's defined but before it's created. They can modify attributes, add methods, and generally customize the class's behavior.\n",
        "\n",
        "Metaclasses, on the other hand, provide a more powerful way to customize class creation. You can define methods and behavior in the metaclass that will apply to all instances of the class. Metaclasses give you finer control over the entire class hierarchy."
      ],
      "metadata": {
        "id": "-ubXyNwy9AbN"
      }
    },
    {
      "cell_type": "markdown",
      "source": [
        "Q4. How do class decorators overlap with metaclasses for handling instances?\n",
        "\n",
        "Class decorators and metaclasses primarily handle class creation, rather than instance handling. They influence how a class is defined, its attributes, methods, and inheritance.\n",
        "\n",
        "For instance handling, you would typically use regular instance methods, properties, or other special methods like \\__init__, \\__str__, etc. These methods define the behavior of individual instances of a class and are not directly related to class decorators or metaclasses. The distinction between class-level behavior and instance-level behavior is important to keep in mind when working with decorators and metaclasses."
      ],
      "metadata": {
        "id": "mVkEs08D9FTk"
      }
    }
  ]
}
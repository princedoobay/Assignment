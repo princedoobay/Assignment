{
 "cells": [
  {
   "cell_type": "markdown",
   "id": "e23a485b-62b6-4b02-9f9c-06289be52dbb",
   "metadata": {},
   "source": [
    "# Programming Assignment - 9"
   ]
  },
  {
   "cell_type": "markdown",
   "id": "2477f79b-374c-47a5-8f3d-f52ea7847cf2",
   "metadata": {},
   "source": [
    "### 1. Write a Python program to check if the given number is a Disarium Number?"
   ]
  },
  {
   "cell_type": "markdown",
   "id": "c3d0c7df-59fe-4434-9078-b41e9dd42dbd",
   "metadata": {},
   "source": [
    " Disarium number is a number where the sum of its digits raised to their respective positions is equal to the original number itself. For example, 135 is a Disarium number because 1^1 + 3^2 + 5^3 = 135."
   ]
  },
  {
   "cell_type": "code",
   "execution_count": 1,
   "id": "7eefcd0c-dc93-4258-baae-1120eb19cdd2",
   "metadata": {},
   "outputs": [
    {
     "name": "stdout",
     "output_type": "stream",
     "text": [
      "135 is a Disarium number\n"
     ]
    }
   ],
   "source": [
    "def is_disarium(num):\n",
    "    # Convert the number to a string and find its length\n",
    "    n = len(str(num))\n",
    "    # Calculate the sum of each digit raised to its respective position\n",
    "    sum = 0\n",
    "    for i in range(n):\n",
    "        digit = int(str(num)[i])\n",
    "        sum += digit**(i+1)\n",
    "    # Check if the sum is equal to the original number\n",
    "    if sum == num:\n",
    "        return True\n",
    "    else:\n",
    "        return False\n",
    "\n",
    "# Test the function\n",
    "num = 135\n",
    "if is_disarium(num):\n",
    "    print(num, \"is a Disarium number\")\n",
    "else:\n",
    "    print(num, \"is not a Disarium number\")\n"
   ]
  },
  {
   "cell_type": "markdown",
   "id": "67ba08f0-940f-42c4-85f1-d7bbeacfb82a",
   "metadata": {},
   "source": [
    "### 2. Write a Python program to print all disarium numbers between 1 to 100?"
   ]
  },
  {
   "cell_type": "code",
   "execution_count": 2,
   "id": "17521fc6-58bd-4db0-86de-183515e025da",
   "metadata": {},
   "outputs": [
    {
     "name": "stdout",
     "output_type": "stream",
     "text": [
      "1\n",
      "2\n",
      "3\n",
      "4\n",
      "5\n",
      "6\n",
      "7\n",
      "8\n",
      "9\n",
      "89\n"
     ]
    }
   ],
   "source": [
    "def is_disarium(num):\n",
    "    # Convert the number to a string and find its length\n",
    "    n = len(str(num))\n",
    "    # Calculate the sum of each digit raised to its respective position\n",
    "    sum = 0\n",
    "    for i in range(n):\n",
    "        digit = int(str(num)[i])\n",
    "        sum += digit**(i+1)\n",
    "    # Check if the sum is equal to the original number\n",
    "    if sum == num:\n",
    "        return True\n",
    "    else:\n",
    "        return False\n",
    "\n",
    "# Iterate through all numbers between 1 to 100\n",
    "for i in range(1, 101):\n",
    "    if is_disarium(i):\n",
    "        print(i)"
   ]
  },
  {
   "cell_type": "markdown",
   "id": "3a8b5495-6c87-4bef-a926-ca357c9093fb",
   "metadata": {},
   "source": [
    "### 3. Write a Python program to check if the given number is Happy Number?"
   ]
  },
  {
   "cell_type": "markdown",
   "id": "2bc414dd-2fa4-4028-a551-bb8a289db152",
   "metadata": {},
   "source": [
    "A happy number is a number which yields 1 when it is replaced by the sum of the squares of its digits, and this process is repeated until the sum of the squares of its digits is 1. If the process results in a cycle of non-1 numbers, then the number is not a happy number."
   ]
  },
  {
   "cell_type": "code",
   "execution_count": 3,
   "id": "0f616064-c74e-4be5-848f-164ff900d3c8",
   "metadata": {},
   "outputs": [
    {
     "name": "stdout",
     "output_type": "stream",
     "text": [
      "19 is a happy number\n"
     ]
    }
   ],
   "source": [
    "def is_happy(num):\n",
    "    # Create a set to store intermediate sums\n",
    "    seen = set()\n",
    "    while True:\n",
    "        # Convert the number to a string and find the sum of squares of its digits\n",
    "        sum_squares = sum(int(digit)**2 for digit in str(num))\n",
    "        # If the sum of squares is 1, return True\n",
    "        if sum_squares == 1:\n",
    "            return True\n",
    "        # If the sum of squares is already in the set, there is a cycle, return False\n",
    "        if sum_squares in seen:\n",
    "            return False\n",
    "        # Add the sum of squares to the set and continue the loop\n",
    "        seen.add(sum_squares)\n",
    "        num = sum_squares\n",
    "\n",
    "# Test the function\n",
    "num = 19\n",
    "if is_happy(num):\n",
    "    print(num, \"is a happy number\")\n",
    "else:\n",
    "    print(num, \"is not a happy number\")\n"
   ]
  },
  {
   "cell_type": "markdown",
   "id": "d5b11310-00c2-4542-b09c-12795942f3eb",
   "metadata": {},
   "source": [
    "### 4. Write a Python program to print all happy numbers between 1 and 100?"
   ]
  },
  {
   "cell_type": "code",
   "execution_count": 4,
   "id": "99ee74f5-f9e3-4372-a521-c0220d5efa79",
   "metadata": {},
   "outputs": [
    {
     "name": "stdout",
     "output_type": "stream",
     "text": [
      "1\n",
      "7\n",
      "10\n",
      "13\n",
      "19\n",
      "23\n",
      "28\n",
      "31\n",
      "32\n",
      "44\n",
      "49\n",
      "68\n",
      "70\n",
      "79\n",
      "82\n",
      "86\n",
      "91\n",
      "94\n",
      "97\n",
      "100\n"
     ]
    }
   ],
   "source": [
    "def is_happy(num):\n",
    "    # Create a set to store intermediate sums\n",
    "    seen = set()\n",
    "    while True:\n",
    "        # Convert the number to a string and find the sum of squares of its digits\n",
    "        sum_squares = sum(int(digit)**2 for digit in str(num))\n",
    "        # If the sum of squares is 1, return True\n",
    "        if sum_squares == 1:\n",
    "            return True\n",
    "        # If the sum of squares is already in the set, there is a cycle, return False\n",
    "        if sum_squares in seen:\n",
    "            return False\n",
    "        # Add the sum of squares to the set and continue the loop\n",
    "        seen.add(sum_squares)\n",
    "        num = sum_squares\n",
    "\n",
    "# Iterate through all numbers between 1 to 100\n",
    "for i in range(1, 101):\n",
    "    if is_happy(i):\n",
    "        print(i)\n"
   ]
  },
  {
   "cell_type": "markdown",
   "id": "6ff237e4-b58c-4e2e-b042-017c658c93d3",
   "metadata": {},
   "source": [
    "### 5. Write a Python program to determine whether the given number is a Harshad Number?"
   ]
  },
  {
   "cell_type": "markdown",
   "id": "73afaaa9-cf51-4aaa-b438-c2cdffcb1c41",
   "metadata": {},
   "source": [
    "A Harshad number is an integer that is divisible by the sum of its digits."
   ]
  },
  {
   "cell_type": "code",
   "execution_count": 5,
   "id": "83dcec06-e3c1-4ba9-88a5-25911a30bdab",
   "metadata": {},
   "outputs": [
    {
     "name": "stdout",
     "output_type": "stream",
     "text": [
      "18 is a Harshad number\n"
     ]
    }
   ],
   "source": [
    "def is_harshad(num):\n",
    "    # Calculate the sum of digits\n",
    "    sum_digits = sum(int(digit) for digit in str(num))\n",
    "    # Check if the number is divisible by the sum of its digits\n",
    "    if num % sum_digits == 0:\n",
    "        return True\n",
    "    else:\n",
    "        return False\n",
    "\n",
    "# Test the function\n",
    "num = 18\n",
    "if is_harshad(num):\n",
    "    print(num, \"is a Harshad number\")\n",
    "else:\n",
    "    print(num, \"is not a Harshad number\")\n"
   ]
  },
  {
   "cell_type": "markdown",
   "id": "2dbad394-2ff5-4ff9-bebc-e10f019b9db8",
   "metadata": {},
   "source": [
    "### 6. Write a Python program to print all pronic numbers between 1 and 100?"
   ]
  },
  {
   "cell_type": "markdown",
   "id": "fcf5d381-f39b-42da-891e-2db1f8dada75",
   "metadata": {},
   "source": [
    "A pronic number is a number that is the product of two consecutive integers. In other words, a pronic number is the result of the formula n(n+1), where n is an integer."
   ]
  },
  {
   "cell_type": "code",
   "execution_count": 10,
   "id": "8d74a68e-53c4-479b-82ae-5846c58070b0",
   "metadata": {},
   "outputs": [
    {
     "name": "stdout",
     "output_type": "stream",
     "text": [
      "2\n",
      "6\n",
      "12\n",
      "20\n",
      "30\n",
      "42\n",
      "56\n",
      "72\n",
      "90\n"
     ]
    }
   ],
   "source": [
    "# Iterate through all numbers between 1 and 100\n",
    "for i in range(1, 101):\n",
    "    # Check if the number is a pronic number\n",
    "    for j in range(1, i):\n",
    "        if i == j * (j+1):\n",
    "            print(i)\n"
   ]
  }
 ],
 "metadata": {
  "kernelspec": {
   "display_name": "Python 3 (ipykernel)",
   "language": "python",
   "name": "python3"
  },
  "language_info": {
   "codemirror_mode": {
    "name": "ipython",
    "version": 3
   },
   "file_extension": ".py",
   "mimetype": "text/x-python",
   "name": "python",
   "nbconvert_exporter": "python",
   "pygments_lexer": "ipython3",
   "version": "3.10.6"
  }
 },
 "nbformat": 4,
 "nbformat_minor": 5
}

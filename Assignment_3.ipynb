{
 "cells": [
  {
   "cell_type": "markdown",
   "id": "ad652b2a",
   "metadata": {},
   "source": [
    "# Assignment-3"
   ]
  },
  {
   "cell_type": "markdown",
   "id": "7e51908f",
   "metadata": {},
   "source": [
    "#### Q1. Why are functions advantageous to have in your programs?\n",
    "\n",
    "Functions can reduce the duplication of code. we do not need to write code every time instead of this we can only call the particular function to get the output.\n",
    "Its reusability can help us to make our code more readable, clear and easy."
   ]
  },
  {
   "cell_type": "markdown",
   "id": "d5e454b5",
   "metadata": {},
   "source": [
    "#### Q2. When does the code in a function run: when it's specified or when it's called?\n",
    "\n",
    "A function is a set of code that perform specific task only when its called. Without calling a function\n",
    "we can not use that function. If the function lies in a specific module which is not avilabe in our \n",
    "current library then firstly we have to call the module then after that we can call the particular function that we need. "
   ]
  },
  {
   "cell_type": "markdown",
   "id": "2a42f227",
   "metadata": {},
   "source": [
    "#### Q3. What statement creates a function?\n",
    "\n",
    "In python, for creating a function we use following statement.\n",
    "\n",
    "def (argument):\n",
    "    return expression"
   ]
  },
  {
   "cell_type": "code",
   "execution_count": null,
   "id": "096a594b",
   "metadata": {},
   "outputs": [],
   "source": [
    "def sum_of_number(a,b):\n",
    "    return a + b"
   ]
  },
  {
   "cell_type": "code",
   "execution_count": 3,
   "id": "08ddd752",
   "metadata": {},
   "outputs": [
    {
     "data": {
      "text/plain": [
       "1132"
      ]
     },
     "execution_count": 3,
     "metadata": {},
     "output_type": "execute_result"
    }
   ],
   "source": [
    "sum_of_number(454,678)"
   ]
  },
  {
   "cell_type": "markdown",
   "id": "36440ae2",
   "metadata": {},
   "source": [
    "#### Q4. What is the difference between a function and a function call?\n",
    "\n",
    "A function is something which take parameters and do some calculations and operations and returns value.\n",
    "Here parameters are not mandatory.\n",
    "\n",
    "In a function call the control will pass to the function to perform the specific task for which the function is called.\n"
   ]
  },
  {
   "cell_type": "markdown",
   "id": "cb24a026",
   "metadata": {},
   "source": [
    "#### Q5. How many global scopes are there in a Python program? How many local scopes?\n",
    "Ans: The scope of a variable in python is that part of the code where it is visible.\n",
    "Four types of scopes in python: \n",
    "\n",
    "a>Local scope- variables declared inside function can only be utilized inside the function.\n",
    "\n",
    "b>Global scope-variables declared outside any other python variable scope and hence can be utilized anywhere in the program.\n",
    "\n",
    "c>Enclosed scope –variables which are not global or local, e.g,\n",
    "\n",
    "d>Built in scope- The built-in scope has all the names that are loaded into python variable scope when we start the interpreter.\n",
    "\n",
    "e.g,print(),id()\n",
    "\n",
    "There are 1 global scope and 4 local scopes in python program."
   ]
  },
  {
   "cell_type": "code",
   "execution_count": 21,
   "id": "9b3da76f",
   "metadata": {},
   "outputs": [
    {
     "name": "stdout",
     "output_type": "stream",
     "text": [
      "1\n",
      "2\n",
      "1\n"
     ]
    }
   ],
   "source": [
    "# Enclosed scope\n",
    "def red():\n",
    "    a=1\n",
    "    def blue():\n",
    "        b=2\n",
    "        print(a)\n",
    "        print(b)\n",
    "    blue()\n",
    "    print(a)\n",
    "red()\n",
    "\n",
    "#In this code, ‘b’ has local scope in function ‘blue’, and ‘a’ has nonlocal scope in‘blue’.\n"
   ]
  },
  {
   "cell_type": "markdown",
   "id": "3f3d7123",
   "metadata": {},
   "source": [
    "#### Q6. What happens to variables in a local scope when the function call returns?\n",
    "\n",
    "A local scope is created particularly for the function but when function call returns the local\n",
    "varibale becomes undefined. Its beacause after return call the local variable memory is unallocated or get reset.\n",
    "Here the program will give an error as value is not assigned for work outside the function."
   ]
  },
  {
   "cell_type": "markdown",
   "id": "58a208d5",
   "metadata": {},
   "source": [
    "#### Q7. What is the concept of a return value? Is it possible to have a return value in an expression?\n",
    "\n",
    "Return value is a value that function returns to caller when the function completes its task.\n",
    "A return value can cause the execution to leave the current execution and goes to the return address and\n",
    "return the specified argument or output.\n",
    "\n",
    "Yes it is possible to have a retun value in an expression."
   ]
  },
  {
   "cell_type": "code",
   "execution_count": 18,
   "id": "1ec6fe4e",
   "metadata": {},
   "outputs": [
    {
     "name": "stdout",
     "output_type": "stream",
     "text": [
      "False\n"
     ]
    }
   ],
   "source": [
    "def greater_than_1(n):\n",
    "    return n > 1\n",
    "\n",
    "print(greater_than_1(1))"
   ]
  },
  {
   "cell_type": "code",
   "execution_count": 19,
   "id": "8da0a012",
   "metadata": {},
   "outputs": [
    {
     "name": "stdout",
     "output_type": "stream",
     "text": [
      "True\n"
     ]
    }
   ],
   "source": [
    "print(greater_than_1(2))"
   ]
  },
  {
   "cell_type": "markdown",
   "id": "4449fb9c",
   "metadata": {},
   "source": [
    "#### Q8. If a function does not have a return statement, what is the return value of a call to that function?\n",
    "\n",
    "This function will return \"None\" as the output of the function."
   ]
  },
  {
   "cell_type": "markdown",
   "id": "70b9b817",
   "metadata": {},
   "source": [
    "##### Q9. How do you make a function variable refer to the global variable?\n",
    "\n",
    "We can use global keyword to declare global variable inside a function. Here We can also alter the global\n",
    "variable value. In the below example we can see that the global variable can be used inside a function\n",
    "and will be altered too.\n"
   ]
  },
  {
   "cell_type": "code",
   "execution_count": 11,
   "id": "351fc15d",
   "metadata": {},
   "outputs": [
    {
     "name": "stdout",
     "output_type": "stream",
     "text": [
      "1\n",
      "1\n"
     ]
    }
   ],
   "source": [
    " a = 0\n",
    "def function():\n",
    "    global a\n",
    "    a +=1\n",
    "    print(a)\n",
    "    \n",
    "function()\n",
    "\n",
    "print(a)"
   ]
  },
  {
   "cell_type": "markdown",
   "id": "cb86862d",
   "metadata": {},
   "source": [
    "#### Q10. What is the data type of None?\n",
    "\n",
    "None is a data type of its own. it is a null value or it has no value."
   ]
  },
  {
   "cell_type": "code",
   "execution_count": 13,
   "id": "3b07a242",
   "metadata": {},
   "outputs": [
    {
     "data": {
      "text/plain": [
       "NoneType"
      ]
     },
     "execution_count": 13,
     "metadata": {},
     "output_type": "execute_result"
    }
   ],
   "source": [
    "type(None)"
   ]
  },
  {
   "cell_type": "markdown",
   "id": "6b2dee18",
   "metadata": {},
   "source": [
    "#### Q11. What does the sentence import areallyourpetsnamederic do?\n",
    "\n",
    "It will import the module named areallyourpetsnamederic."
   ]
  },
  {
   "cell_type": "markdown",
   "id": "cc0070f4",
   "metadata": {},
   "source": [
    "#### Q12. If you had a bacon() feature in a spam module, what would you call it after importing spam?\n",
    "\n",
    "I can use spam.bacon()"
   ]
  },
  {
   "cell_type": "markdown",
   "id": "4b297d42",
   "metadata": {},
   "source": [
    "#### Q13. What can you do to save a programme from crashing if it encounters an error?\n",
    "\n",
    "I can use error handling to notify the user that whythe error occurred and exit the process which has caused the error.\n"
   ]
  },
  {
   "cell_type": "markdown",
   "id": "900ec7db",
   "metadata": {},
   "source": [
    "#### Q14. What is the purpose of the try clause? What is the purpose of the except clause?\n",
    "\n",
    "The try block lets you test a block of code for errors. The code inside the try block will execute when there \n",
    "is no error in the program.\n",
    "\n",
    "The code inside the except block will execute this block when the program encounters some error.\n",
    "\n",
    "Both try and except will come togther."
   ]
  }
 ],
 "metadata": {
  "kernelspec": {
   "display_name": "Python 3 (ipykernel)",
   "language": "python",
   "name": "python3"
  },
  "language_info": {
   "codemirror_mode": {
    "name": "ipython",
    "version": 3
   },
   "file_extension": ".py",
   "mimetype": "text/x-python",
   "name": "python",
   "nbconvert_exporter": "python",
   "pygments_lexer": "ipython3",
   "version": "3.9.12"
  }
 },
 "nbformat": 4,
 "nbformat_minor": 5
}

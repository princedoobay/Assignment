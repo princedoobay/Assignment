{
 "cells": [
  {
   "cell_type": "markdown",
   "id": "c5c790e9",
   "metadata": {},
   "source": [
    "# Assigment-8"
   ]
  },
  {
   "cell_type": "markdown",
   "id": "b20c3cc9",
   "metadata": {},
   "source": [
    "## 1. Is the Python Standard Library included with PyInputPlus?\n",
    "\n",
    "Ans. No, We have to install PyInputPlus using pip."
   ]
  },
  {
   "cell_type": "markdown",
   "id": "625a4273",
   "metadata": {},
   "source": [
    "## 2. Why is PyInputPlus commonly imported with import pyinputplus as pypi?\n",
    "\n",
    "Ans. We can import the module with import pyinputplus as pyip so that we can enter a shorter name when calling \n",
    "the module’s functions."
   ]
  },
  {
   "cell_type": "markdown",
   "id": "791832f5",
   "metadata": {},
   "source": [
    "## 3. How do you distinguish between inputInt() and inputFloat()?\n",
    "\n",
    "Ans. The data-type inputInt() program expects an integer value as input but in the inputFloat() it expects a float value i.e \n",
    "number containing a decimal."
   ]
  },
  {
   "cell_type": "markdown",
   "id": "e3393b6c",
   "metadata": {},
   "source": [
    "## 4. Using PyInputPlus, how do you ensure that the user enters a whole number between 0 and 99?\n",
    "\n",
    "Ans. pyip.inputint(min=0, max=99)"
   ]
  },
  {
   "cell_type": "markdown",
   "id": "d281d62b",
   "metadata": {},
   "source": [
    "## 5. What is transferred to the keyword arguments allowRegexes and blockRegexes?\n",
    "\n",
    "Ans.A list of regex strings that are either explicitly allowed or denied"
   ]
  },
  {
   "cell_type": "markdown",
   "id": "53b530bf",
   "metadata": {},
   "source": [
    "## 6. If a blank input is entered three times, what does inputStr(limit=3) do?\n",
    "\n",
    "Ans. The function will raise RetryLimitException"
   ]
  },
  {
   "cell_type": "markdown",
   "id": "14c24949",
   "metadata": {},
   "source": [
    "## 7. If blank input is entered three times, what does inputStr(limit=3, default='hello') do?\n",
    "\n",
    "Ans. The function returns the value 'hello'"
   ]
  }
 ],
 "metadata": {
  "kernelspec": {
   "display_name": "Python 3 (ipykernel)",
   "language": "python",
   "name": "python3"
  },
  "language_info": {
   "codemirror_mode": {
    "name": "ipython",
    "version": 3
   },
   "file_extension": ".py",
   "mimetype": "text/x-python",
   "name": "python",
   "nbconvert_exporter": "python",
   "pygments_lexer": "ipython3",
   "version": "3.9.12"
  }
 },
 "nbformat": 4,
 "nbformat_minor": 5
}

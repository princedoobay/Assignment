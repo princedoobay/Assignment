{
 "cells": [
  {
   "cell_type": "markdown",
   "id": "d522ea0b-c8e2-4108-a9bf-b05e4c68a308",
   "metadata": {},
   "source": [
    "# Programming Assignment - 11"
   ]
  },
  {
   "cell_type": "markdown",
   "id": "4a211d75-1b14-4aba-a11c-0f3060644905",
   "metadata": {},
   "source": [
    "### 1. Write a Python program to find words which are greater than given length k?"
   ]
  },
  {
   "cell_type": "code",
   "execution_count": 1,
   "id": "6d448a51-957c-4dcf-9f98-a300eed7e64e",
   "metadata": {},
   "outputs": [
    {
     "name": "stdout",
     "output_type": "stream",
     "text": [
      "Words greater than length 4 are: ['quick', 'brown', 'jumps']\n"
     ]
    }
   ],
   "source": [
    "# Define a string\n",
    "my_string = \"The quick brown fox jumps over the lazy dog\"\n",
    "\n",
    "# Define the length k\n",
    "k = 4\n",
    "\n",
    "# Split the string into words\n",
    "words = my_string.split()\n",
    "\n",
    "# Find words greater than length k\n",
    "long_words = [word for word in words if len(word) > k]\n",
    "\n",
    "# Print the long words\n",
    "print(\"Words greater than length\", k, \"are:\", long_words)\n"
   ]
  },
  {
   "cell_type": "markdown",
   "id": "42a41c92-1333-4e8b-8b74-bec448cee46f",
   "metadata": {},
   "source": [
    "### 2. Write a Python program for removing i-th character from a string?"
   ]
  },
  {
   "cell_type": "code",
   "execution_count": 2,
   "id": "0f242365-af5c-443c-9656-b2de1e8d02fe",
   "metadata": {},
   "outputs": [
    {
     "name": "stdout",
     "output_type": "stream",
     "text": [
      "Original string: Hello, World!\n",
      "New string: Hello, orld!\n"
     ]
    }
   ],
   "source": [
    "# Define a string\n",
    "my_string = \"Hello, World!\"\n",
    "\n",
    "# Define the index i of the character to remove\n",
    "i = 7\n",
    "\n",
    "# Remove the i-th character using string slicing\n",
    "new_string = my_string[:i] + my_string[i+1:]\n",
    "\n",
    "# Print the original string and the new string\n",
    "print(\"Original string:\", my_string)\n",
    "print(\"New string:\", new_string)\n"
   ]
  },
  {
   "cell_type": "markdown",
   "id": "45a64e9a-9e23-4be8-9844-cb3e6df62b02",
   "metadata": {},
   "source": [
    "### 3. Write a Python program to split and join a string?"
   ]
  },
  {
   "cell_type": "code",
   "execution_count": 3,
   "id": "a78b98dc-4f62-42a9-8249-11606130be82",
   "metadata": {},
   "outputs": [
    {
     "name": "stdout",
     "output_type": "stream",
     "text": [
      "Original string: Hello, World!\n",
      "New string: Hello, World!\n"
     ]
    }
   ],
   "source": [
    "# Define a string\n",
    "my_string = \"Hello, World!\"\n",
    "\n",
    "# Split the string into a list of words using the split() method\n",
    "words = my_string.split()\n",
    "\n",
    "# Join the words back into a string using the join() method\n",
    "new_string = \" \".join(words)\n",
    "\n",
    "# Print the original string and the new string\n",
    "print(\"Original string:\", my_string)\n",
    "print(\"New string:\", new_string)\n"
   ]
  },
  {
   "cell_type": "markdown",
   "id": "909ce3bb-b47a-4b63-8540-c57424fdb2aa",
   "metadata": {},
   "source": [
    "### 4. Write a Python to check if a given string is binary string or not?"
   ]
  },
  {
   "cell_type": "code",
   "execution_count": 4,
   "id": "a7291078-71c6-4038-99e9-b9667b2c60f3",
   "metadata": {},
   "outputs": [
    {
     "name": "stdout",
     "output_type": "stream",
     "text": [
      "The string is a binary string\n"
     ]
    }
   ],
   "source": [
    "# Define a string\n",
    "my_string = \"110101\"\n",
    "\n",
    "# Check if the string is a binary string\n",
    "if set(my_string) == {\"0\", \"1\"} or set(my_string) == {\"0\"} or set(my_string) == {\"1\"}:\n",
    "    print(\"The string is a binary string\")\n",
    "else:\n",
    "    print(\"The string is not a binary string\")\n"
   ]
  },
  {
   "cell_type": "markdown",
   "id": "99903259-96cf-4234-92ff-dd27e61e28ef",
   "metadata": {},
   "source": [
    "### 5. Write a Python program to find uncommon words from two Strings?"
   ]
  },
  {
   "cell_type": "code",
   "execution_count": 5,
   "id": "5032a83c-6145-4ca6-acdf-6f5bb9c81b38",
   "metadata": {},
   "outputs": [
    {
     "name": "stdout",
     "output_type": "stream",
     "text": [
      "Uncommon words: ['Hello', 'Goodbye']\n"
     ]
    }
   ],
   "source": [
    "# Define two strings\n",
    "string1 = \"Hello World\"\n",
    "string2 = \"Goodbye World\"\n",
    "\n",
    "# Split the strings into lists of words\n",
    "list1 = string1.split()\n",
    "list2 = string2.split()\n",
    "\n",
    "# Find the uncommon words\n",
    "uncommon = []\n",
    "for word in list1:\n",
    "    if word not in list2:\n",
    "        uncommon.append(word)\n",
    "for word in list2:\n",
    "    if word not in list1:\n",
    "        uncommon.append(word)\n",
    "\n",
    "# Print the uncommon words\n",
    "print(\"Uncommon words:\", uncommon)\n"
   ]
  },
  {
   "cell_type": "markdown",
   "id": "0a5846c6-1e3f-48fd-9ec4-f2b897dac01f",
   "metadata": {},
   "source": [
    "### 6. Write a Python to find all duplicate characters in string?"
   ]
  },
  {
   "cell_type": "code",
   "execution_count": 6,
   "id": "382ff20f-9002-44c7-b342-af7a818f6015",
   "metadata": {},
   "outputs": [
    {
     "name": "stdout",
     "output_type": "stream",
     "text": [
      "Duplicate characters: ['l', 'o']\n"
     ]
    }
   ],
   "source": [
    "# Define a string\n",
    "my_string = \"hello world\"\n",
    "\n",
    "# Define an empty list to store the duplicate characters\n",
    "duplicates = []\n",
    "\n",
    "# Find the duplicate characters\n",
    "for char in my_string:\n",
    "    if my_string.count(char) > 1 and char not in duplicates:\n",
    "        duplicates.append(char)\n",
    "\n",
    "# Print the duplicate characters\n",
    "print(\"Duplicate characters:\", duplicates)\n"
   ]
  },
  {
   "cell_type": "markdown",
   "id": "6423c0a5-60ee-4a89-bd59-9567884c32bf",
   "metadata": {},
   "source": [
    "### 7. Write a Python Program to check if a string contains any special character?"
   ]
  },
  {
   "cell_type": "code",
   "execution_count": 7,
   "id": "90059f34-651d-4ac5-b40a-e39a3a0487a2",
   "metadata": {},
   "outputs": [
    {
     "name": "stdout",
     "output_type": "stream",
     "text": [
      "String contains special character\n"
     ]
    }
   ],
   "source": [
    "# Define a string\n",
    "my_string = \"Hello, World!\"\n",
    "\n",
    "# Define a list of special characters\n",
    "special_chars = ['!', '@', '#', '$', '%', '^', '&', '*', '(', ')', '-', '_', '+', '=', '{', '}', '[', ']', ';', ':', ',', '.', '<', '>', '/', '?', '|', '\\\\']\n",
    "\n",
    "# Check if the string contains any special character\n",
    "for char in my_string:\n",
    "    if char in special_chars:\n",
    "        print(\"String contains special character\")\n",
    "        break\n",
    "else:\n",
    "    print(\"String does not contain special character\")\n"
   ]
  }
 ],
 "metadata": {
  "kernelspec": {
   "display_name": "Python 3 (ipykernel)",
   "language": "python",
   "name": "python3"
  },
  "language_info": {
   "codemirror_mode": {
    "name": "ipython",
    "version": 3
   },
   "file_extension": ".py",
   "mimetype": "text/x-python",
   "name": "python",
   "nbconvert_exporter": "python",
   "pygments_lexer": "ipython3",
   "version": "3.10.6"
  }
 },
 "nbformat": 4,
 "nbformat_minor": 5
}

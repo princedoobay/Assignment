{
  "nbformat": 4,
  "nbformat_minor": 0,
  "metadata": {
    "colab": {
      "provenance": []
    },
    "kernelspec": {
      "name": "python3",
      "display_name": "Python 3"
    },
    "language_info": {
      "name": "python"
    }
  },
  "cells": [
    {
      "cell_type": "markdown",
      "source": [
        "# Python_Advance_Assignment-5"
      ],
      "metadata": {
        "id": "zQAUQV9x1n0L"
      }
    },
    {
      "cell_type": "markdown",
      "source": [
        "Q1. What is the meaning of multiple inheritance?\n",
        "\n",
        "Multiple inheritance is a feature found in some object-oriented programming languages, including Python. It allows a class to inherit attributes and behaviors from multiple parent classes. In other words, a class can have more than one immediate superclass. When a class inherits from multiple classes, it inherits all the methods and attributes defined in each of the parent classes.\n",
        "\n",
        "For example, if Class A and Class B are parent classes, and Class C inherits from both A and B, then Class C has access to the attributes and methods of both A and B.\n",
        "\n",
        "However, multiple inheritance can lead to complexities in the method resolution order (MRO) and can cause ambiguity when the same method or attribute is present in multiple parent classes. To address this, some programming languages, including Python, use a method resolution order algorithm (C3 linearization) to determine the order in which the parent classes' methods are called."
      ],
      "metadata": {
        "id": "XZauQZIe1wmC"
      }
    },
    {
      "cell_type": "markdown",
      "source": [
        "Q2. What is the concept of delegation?\n",
        "\n",
        "Delegation is a design pattern in object-oriented programming where an object forwards specific behavior or method calls to another object. Instead of inheriting the behavior directly, the delegating object holds a reference to another object (the delegate) and invokes methods on the delegate to perform certain operations. This allows for code reuse and composition, as the delegating object can use the functionality of the delegate without inheriting its entire implementation.\n",
        "\n",
        "Delegation promotes a more flexible and modular approach to building classes, as it allows objects to collaborate with other objects to achieve specific functionalities. It also avoids the issues related to multiple inheritance, as delegation allows the reuse of functionality without creating complex inheritance hierarchies."
      ],
      "metadata": {
        "id": "Psgbjjl41z-C"
      }
    },
    {
      "cell_type": "markdown",
      "source": [
        "Q3. What is the concept of composition?\n",
        "\n",
        "Composition is a design principle in object-oriented programming where a class is composed of one or more objects of other classes rather than inheriting from them. In composition, the class that contains the objects is responsible for managing their behavior and interactions. It allows for creating complex objects by combining simpler, more focused classes.\n",
        "\n",
        "For example, if you have a class called Car that needs to have an Engine, Wheels, and Chassis, you can use composition to include instances of these classes within the Car class, rather than creating a separate inheritance hierarchy for each part.\n",
        "\n",
        "Composition provides better code organization and reduces coupling between classes. It also supports the \"has-a\" relationship, where a class \"has\" other objects as its components, promoting code reuse and easier maintenance."
      ],
      "metadata": {
        "id": "5hw5XOaZ15mL"
      }
    },
    {
      "cell_type": "markdown",
      "source": [
        "Q4. What are bound methods and how do we use them?\n",
        "\n",
        "In Python, a bound method is a method that is associated with an instance of a class. When you access a method from an instance, it automatically becomes bound to that instance, and when called, the instance is passed as the first argument (usually named self) to the method.\n",
        "\n",
        "Here's an example of using bound methods:"
      ],
      "metadata": {
        "id": "z0gPHFjI1-bC"
      }
    },
    {
      "cell_type": "code",
      "source": [
        "class MyClass:\n",
        "    def __init__(self, value):\n",
        "        self.value = value\n",
        "\n",
        "    def display(self):\n",
        "        print(self.value)\n",
        "\n",
        "# Creating an instance of the class\n",
        "obj = MyClass(42)\n",
        "\n",
        "# Calling the bound method on the instance\n",
        "obj.display()  # Output: 42\n"
      ],
      "metadata": {
        "colab": {
          "base_uri": "https://localhost:8080/"
        },
        "id": "QC5ns_Nk1xi0",
        "outputId": "c403d1c3-b16c-4b98-b2fa-d3ee0b5c1b40"
      },
      "execution_count": 1,
      "outputs": [
        {
          "output_type": "stream",
          "name": "stdout",
          "text": [
            "42\n"
          ]
        }
      ]
    },
    {
      "cell_type": "markdown",
      "source": [
        "In the example above, display() is a bound method. When we call obj.display(), the self parameter is automatically passed to the display() method, allowing it to access the instance's value attribute.\n",
        "\n",
        "Bound methods are used extensively in Python classes to manipulate the instance's state and behavior."
      ],
      "metadata": {
        "id": "tRArJ5_g2Hbi"
      }
    },
    {
      "cell_type": "markdown",
      "source": [
        "Q5. What is the purpose of pseudoprivate attributes?\n",
        "\n",
        "In Python, pseudoprivate attributes are a convention used to make attributes \"private\" to a class, even though Python doesn't support true encapsulation or access control like some other programming languages. By adding a double underscore (__) prefix to an attribute name, you signal to other developers that the attribute is intended for internal use within the class and should not be accessed or modified from outside the class.\n",
        "\n",
        "For example:"
      ],
      "metadata": {
        "id": "fLeCogfi2MLi"
      }
    },
    {
      "cell_type": "code",
      "source": [
        "class MyClass:\n",
        "    def __init__(self):\n",
        "        self.__private_var = 42\n",
        "\n",
        "    def get_private_var(self):\n",
        "        return self.__private_var\n",
        "\n",
        "    def set_private_var(self, value):\n",
        "        self.__private_var = value\n",
        "\n",
        "obj = MyClass()\n",
        "print(obj.get_private_var())  # Output: 42\n"
      ],
      "metadata": {
        "colab": {
          "base_uri": "https://localhost:8080/"
        },
        "id": "JO5mW0mk2IDK",
        "outputId": "a82ed4a4-3ef6-4293-da0b-0e90abe9b371"
      },
      "execution_count": 2,
      "outputs": [
        {
          "output_type": "stream",
          "name": "stdout",
          "text": [
            "42\n"
          ]
        }
      ]
    },
    {
      "cell_type": "markdown",
      "source": [
        "By using the __ prefix, Python performs name mangling, which slightly modifies the attribute name to make it more difficult to access from outside the class. For example, __private_var becomes _MyClass__private_var. This is a form of \"name mangling,\" which helps avoid accidental attribute name conflicts in subclasses.\n",
        "\n",
        "However, it's important to note that pseudoprivate attributes can still be accessed from outside the class, although it is discouraged as it goes against the convention of treating them as private. In Python, there is no true enforcement of private access control, and developers are expected to use conventions and good coding practices to respect the privacy of class attributes."
      ],
      "metadata": {
        "id": "wl6rOCgP2TQa"
      }
    }
  ]
}
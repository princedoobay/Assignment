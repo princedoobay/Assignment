{
 "cells": [
  {
   "cell_type": "markdown",
   "id": "07f101bc-a42f-4d6e-b8d5-c631a75ff9d9",
   "metadata": {},
   "source": [
    "# Programming Assignment -10"
   ]
  },
  {
   "cell_type": "markdown",
   "id": "18dd5a82-b7fd-4cfa-b0af-0cc96a23bedb",
   "metadata": {},
   "source": [
    "### 1. Write a Python program to find sum of elements in list?"
   ]
  },
  {
   "cell_type": "code",
   "execution_count": 1,
   "id": "9ee543f4-3b2f-4141-98f8-64f3ab1f18a5",
   "metadata": {},
   "outputs": [
    {
     "name": "stdout",
     "output_type": "stream",
     "text": [
      "The sum of elements in the list is: 15\n"
     ]
    }
   ],
   "source": [
    "# Define a list of integers\n",
    "my_list = [1, 2, 3, 4, 5]\n",
    "\n",
    "# Calculate the sum of all elements in the list\n",
    "sum_list = sum(my_list)\n",
    "\n",
    "# Print the sum\n",
    "print(\"The sum of elements in the list is:\", sum_list)\n"
   ]
  },
  {
   "cell_type": "markdown",
   "id": "6fa30841-253e-471f-920c-dd62f0481965",
   "metadata": {},
   "source": [
    "### 2. Write a Python program to Multiply all numbers in the list?"
   ]
  },
  {
   "cell_type": "code",
   "execution_count": 2,
   "id": "a2418d39-f786-44e4-bccb-04e17079050c",
   "metadata": {},
   "outputs": [
    {
     "name": "stdout",
     "output_type": "stream",
     "text": [
      "The product of all numbers in the list is: 120\n"
     ]
    }
   ],
   "source": [
    "# Define a list of numbers\n",
    "my_list = [1, 2, 3, 4, 5]\n",
    "\n",
    "# Initialize a variable to store the product\n",
    "product = 1\n",
    "\n",
    "# Multiply all numbers in the list\n",
    "for num in my_list:\n",
    "    product *= num\n",
    "\n",
    "# Print the product\n",
    "print(\"The product of all numbers in the list is:\", product)"
   ]
  },
  {
   "cell_type": "markdown",
   "id": "d9747a89-7302-488c-8451-54691320c935",
   "metadata": {},
   "source": [
    "### 3. Write a Python program to find smallest number in a list?"
   ]
  },
  {
   "cell_type": "code",
   "execution_count": 3,
   "id": "28cf30e6-e0da-4291-babb-70ce1e9d7790",
   "metadata": {},
   "outputs": [
    {
     "name": "stdout",
     "output_type": "stream",
     "text": [
      "The smallest number in the list is: 1\n"
     ]
    }
   ],
   "source": [
    "# Define a list of numbers\n",
    "my_list = [5, 3, 8, 1, 9]\n",
    "\n",
    "# Initialize the smallest number to the first element in the list\n",
    "smallest_num = my_list[0]\n",
    "\n",
    "# Iterate through the list to find the smallest number\n",
    "for num in my_list:\n",
    "    if num < smallest_num:\n",
    "        smallest_num = num\n",
    "\n",
    "# Print the smallest number\n",
    "print(\"The smallest number in the list is:\", smallest_num)\n"
   ]
  },
  {
   "cell_type": "markdown",
   "id": "e4f4c2bf-b987-4a79-9db4-3218645c2568",
   "metadata": {},
   "source": [
    "### 4. Write a Python program to find largest number in a list?"
   ]
  },
  {
   "cell_type": "code",
   "execution_count": 5,
   "id": "d020047e-8e32-4fa5-a606-c4ed2e2de5b2",
   "metadata": {},
   "outputs": [
    {
     "name": "stdout",
     "output_type": "stream",
     "text": [
      "The smallest number in the list is: 9\n"
     ]
    }
   ],
   "source": [
    "# Define a list of numbers\n",
    "my_list = [5, 3, 8, 1, 9]\n",
    "\n",
    "# Initialize the largest number to the first element in the list\n",
    "largest_num = my_list[0]\n",
    "\n",
    "# Iterate through the list to find the largest number\n",
    "for num in my_list:\n",
    "    if num > largest_num:\n",
    "        largest_num = num\n",
    "\n",
    "# Print the largest number\n",
    "print(\"The smallest number in the list is:\", largest_num)\n"
   ]
  },
  {
   "cell_type": "markdown",
   "id": "0792f288-d44e-4b07-af6a-8c2d8bb21fcf",
   "metadata": {},
   "source": [
    "### 5. Write a Python program to find second largest number in a list?"
   ]
  },
  {
   "cell_type": "code",
   "execution_count": 6,
   "id": "b71ec323-2bc7-4325-807f-3f27bc2707d3",
   "metadata": {},
   "outputs": [
    {
     "name": "stdout",
     "output_type": "stream",
     "text": [
      "The second largest number in the list is: 8\n"
     ]
    }
   ],
   "source": [
    "# Define a list of numbers\n",
    "my_list = [5, 3, 8, 1, 9]\n",
    "\n",
    "# Initialize the largest and second largest numbers\n",
    "largest_num = my_list[0]\n",
    "second_largest_num = None\n",
    "\n",
    "# Iterate through the list to find the largest and second largest numbers\n",
    "for num in my_list:\n",
    "    if num > largest_num:\n",
    "        second_largest_num = largest_num\n",
    "        largest_num = num\n",
    "    elif second_largest_num is None or num > second_largest_num:\n",
    "        second_largest_num = num\n",
    "\n",
    "# Print the second largest number\n",
    "print(\"The second largest number in the list is:\", second_largest_num)\n"
   ]
  },
  {
   "cell_type": "markdown",
   "id": "d70a4f1d-ecf6-46bf-8f77-36590f351260",
   "metadata": {},
   "source": [
    "### 6. Write a Python program to find N largest elements from a list?"
   ]
  },
  {
   "cell_type": "code",
   "execution_count": 7,
   "id": "0534aafe-ee28-411d-8df4-020ba66d5cae",
   "metadata": {},
   "outputs": [
    {
     "name": "stdout",
     "output_type": "stream",
     "text": [
      "The 3 largest elements in the list are: [9, 8, 7]\n"
     ]
    }
   ],
   "source": [
    "# Define a list of numbers\n",
    "my_list = [5, 3, 8, 1, 9, 7, 2]\n",
    "\n",
    "# Define the value of N\n",
    "N = 3\n",
    "\n",
    "# Sort the list in descending order\n",
    "my_list.sort(reverse=True)\n",
    "\n",
    "# Get the N largest elements from the sorted list\n",
    "N_largest_elements = my_list[:N]\n",
    "\n",
    "# Print the N largest elements\n",
    "print(\"The\", N, \"largest elements in the list are:\", N_largest_elements)"
   ]
  },
  {
   "cell_type": "markdown",
   "id": "b3de0bd8-10fe-4e2f-8755-0a01d03a0986",
   "metadata": {},
   "source": [
    "### 7. Write a Python program to print even numbers in a list?"
   ]
  },
  {
   "cell_type": "code",
   "execution_count": 8,
   "id": "9a81df37-4847-430e-838c-185680661716",
   "metadata": {},
   "outputs": [
    {
     "name": "stdout",
     "output_type": "stream",
     "text": [
      "Even numbers in the list are:\n",
      "8\n",
      "2\n"
     ]
    }
   ],
   "source": [
    "# Define a list of numbers\n",
    "my_list = [5, 3, 8, 1, 9, 7, 2]\n",
    "\n",
    "# Iterate through the list and print the even numbers\n",
    "print(\"Even numbers in the list are:\")\n",
    "for num in my_list:\n",
    "    if num % 2 == 0:\n",
    "        print(num)\n"
   ]
  },
  {
   "cell_type": "markdown",
   "id": "766c1a16-c3e9-4695-b671-9348150d20d8",
   "metadata": {},
   "source": [
    "### 8. Write a Python program to print odd numbers in a List?"
   ]
  },
  {
   "cell_type": "code",
   "execution_count": 9,
   "id": "fc78b753-8d98-4bed-a83c-17f223ba946d",
   "metadata": {},
   "outputs": [
    {
     "name": "stdout",
     "output_type": "stream",
     "text": [
      "Odd numbers in the list are:\n",
      "5\n",
      "3\n",
      "1\n",
      "9\n",
      "7\n"
     ]
    }
   ],
   "source": [
    "# Define a list of numbers\n",
    "my_list = [5, 3, 8, 1, 9, 7, 2]\n",
    "\n",
    "# Iterate through the list and print the odd numbers\n",
    "print(\"Odd numbers in the list are:\")\n",
    "for num in my_list:\n",
    "    if num % 2 != 0:\n",
    "        print(num)\n"
   ]
  },
  {
   "cell_type": "markdown",
   "id": "303f1aee-fc3c-4480-b34a-75952f8bd1b5",
   "metadata": {},
   "source": [
    "### 9. Write a Python program to Remove empty List from List?"
   ]
  },
  {
   "cell_type": "code",
   "execution_count": 10,
   "id": "3b6d710f-133f-4d37-b0c0-25b0b87e7fbb",
   "metadata": {},
   "outputs": [
    {
     "name": "stdout",
     "output_type": "stream",
     "text": [
      "List after removing empty lists: [[1, 2], [3, 4, 5], [6]]\n"
     ]
    }
   ],
   "source": [
    "# Define a list of lists\n",
    "my_list = [[], [1, 2], [], [], [3, 4, 5], [], [6]]\n",
    "\n",
    "# Use a list comprehension to filter out empty lists\n",
    "my_list = [lst for lst in my_list if lst]\n",
    "\n",
    "# Print the updated list\n",
    "print(\"List after removing empty lists:\", my_list)\n"
   ]
  },
  {
   "cell_type": "markdown",
   "id": "13f14c0e-85df-4c1f-95e5-f2ed19f93e70",
   "metadata": {},
   "source": [
    "### 10. Write a Python program to Cloning or Copying a list?"
   ]
  },
  {
   "cell_type": "code",
   "execution_count": 11,
   "id": "cd176a31-9d9b-400d-a2f0-3283113554f2",
   "metadata": {},
   "outputs": [
    {
     "name": "stdout",
     "output_type": "stream",
     "text": [
      "Original list: [1, 2, 3, 4, 5]\n",
      "Copy of the list: [1, 2, 3, 4, 5]\n"
     ]
    }
   ],
   "source": [
    "# Define a list\n",
    "my_list = [1, 2, 3, 4, 5]\n",
    "\n",
    "# Create a copy of the list using the slicing operator\n",
    "my_list_copy = my_list[:]\n",
    "\n",
    "# Print the original list and the copy\n",
    "print(\"Original list:\", my_list)\n",
    "print(\"Copy of the list:\", my_list_copy)\n"
   ]
  },
  {
   "cell_type": "markdown",
   "id": "904f0a2c-86d1-4086-a93f-2559953a2516",
   "metadata": {},
   "source": [
    "### 11. Write a Python program to Count occurrences of an element in a list?"
   ]
  },
  {
   "cell_type": "code",
   "execution_count": 12,
   "id": "4e7a35c6-c0b9-4992-9030-a98e11c8d40c",
   "metadata": {},
   "outputs": [
    {
     "name": "stdout",
     "output_type": "stream",
     "text": [
      "The element 3 appears 3 times in the list.\n"
     ]
    }
   ],
   "source": [
    "# Define a list\n",
    "my_list = [1, 2, 3, 4, 5, 3, 4, 3]\n",
    "\n",
    "# Define the element to count\n",
    "element = 3\n",
    "\n",
    "# Count the occurrences of the element in the list\n",
    "count = my_list.count(element)\n",
    "\n",
    "# Print the count of occurrences\n",
    "print(\"The element\", element, \"appears\", count, \"times in the list.\")\n"
   ]
  }
 ],
 "metadata": {
  "kernelspec": {
   "display_name": "Python 3 (ipykernel)",
   "language": "python",
   "name": "python3"
  },
  "language_info": {
   "codemirror_mode": {
    "name": "ipython",
    "version": 3
   },
   "file_extension": ".py",
   "mimetype": "text/x-python",
   "name": "python",
   "nbconvert_exporter": "python",
   "pygments_lexer": "ipython3",
   "version": "3.10.6"
  }
 },
 "nbformat": 4,
 "nbformat_minor": 5
}

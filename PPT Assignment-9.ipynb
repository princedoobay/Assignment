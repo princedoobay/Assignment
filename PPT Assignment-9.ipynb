{
 "cells": [
  {
   "cell_type": "markdown",
   "id": "65cd303c",
   "metadata": {},
   "source": [
    "# PPT Assignment-9"
   ]
  },
  {
   "cell_type": "markdown",
   "id": "204a5b83",
   "metadata": {},
   "source": [
    "**Question 1**\n",
    "\n",
    "Given an integer `n`, return *`true` if it is a power of two. Otherwise, return `false`*.\n",
    "\n",
    "An integer `n` is a power of two, if there exists an integer `x` such that `n == 2x`.\n",
    "\n",
    "**Example 1:**\n",
    "Input: n = 1 \n",
    "\n",
    "Output: true\n",
    "\n",
    "**Example 2:**\n",
    "Input: n = 16 \n",
    "\n",
    "Output: true\n",
    "\n",
    "**Example 3:**\n",
    "Input: n = 3 \n",
    "\n",
    "Output: false"
   ]
  },
  {
   "cell_type": "code",
   "execution_count": 2,
   "id": "24e53f07",
   "metadata": {},
   "outputs": [],
   "source": [
    "def isPowerOfTwo(n):\n",
    "    if n <= 0:\n",
    "        return False\n",
    "\n",
    "    while n % 2 == 0:\n",
    "        n /= 2\n",
    "\n",
    "    return n == 1"
   ]
  },
  {
   "cell_type": "code",
   "execution_count": 3,
   "id": "f83d4051",
   "metadata": {},
   "outputs": [
    {
     "name": "stdout",
     "output_type": "stream",
     "text": [
      "True\n",
      "True\n",
      "False\n"
     ]
    }
   ],
   "source": [
    "print(isPowerOfTwo(1))  # Output: True\n",
    "print(isPowerOfTwo(16))  # Output: True\n",
    "print(isPowerOfTwo(3))  # Output: False"
   ]
  },
  {
   "cell_type": "markdown",
   "id": "9d4b2ed6",
   "metadata": {},
   "source": [
    "**Question 2**\n",
    "\n",
    "Given a number n, find the sum of the first natural numbers.\n",
    "\n",
    "**Example 1:**\n",
    "\n",
    "Input: n = 3 \n",
    "\n",
    "Output: 6\n",
    "\n",
    "**Example 2:**\n",
    "\n",
    "Input  : 5 \n",
    "\n",
    "Output : 15"
   ]
  },
  {
   "cell_type": "code",
   "execution_count": 4,
   "id": "f3e84dd5",
   "metadata": {},
   "outputs": [],
   "source": [
    "def sumOfFirstNNumbers(n):\n",
    "    return (n * (n + 1)) // 2"
   ]
  },
  {
   "cell_type": "code",
   "execution_count": 5,
   "id": "99edc87b",
   "metadata": {},
   "outputs": [
    {
     "name": "stdout",
     "output_type": "stream",
     "text": [
      "6\n",
      "15\n"
     ]
    }
   ],
   "source": [
    "print(sumOfFirstNNumbers(3))  # Output: 6\n",
    "print(sumOfFirstNNumbers(5))  # Output: 15"
   ]
  },
  {
   "cell_type": "markdown",
   "id": "f41812aa",
   "metadata": {},
   "source": [
    "**Question 3**\n",
    "\n",
    "****Given a positive integer, N. Find the factorial of N. \n",
    "\n",
    "**Example 1:**\n",
    "\n",
    "Input: N = 5 \n",
    "\n",
    "Output: 120\n",
    "\n",
    "**Example 2:**\n",
    "\n",
    "Input: N = 4\n",
    "\n",
    "Output: 24"
   ]
  },
  {
   "cell_type": "code",
   "execution_count": 6,
   "id": "143ceb18",
   "metadata": {},
   "outputs": [],
   "source": [
    "def factorial(N):\n",
    "    factorial = 1\n",
    "    for i in range(1, N + 1):\n",
    "        factorial *= i\n",
    "    return factorial"
   ]
  },
  {
   "cell_type": "code",
   "execution_count": 7,
   "id": "63996e2e",
   "metadata": {},
   "outputs": [
    {
     "name": "stdout",
     "output_type": "stream",
     "text": [
      "120\n",
      "24\n"
     ]
    }
   ],
   "source": [
    "print(factorial(5))  # Output: 120\n",
    "print(factorial(4))  # Output: 24"
   ]
  },
  {
   "cell_type": "markdown",
   "id": "5cdcab5c",
   "metadata": {},
   "source": [
    "**Question 4**\n",
    "\n",
    "Given a number N and a power P, the task is to find the exponent of this number raised to the given power, i.e. N^P.\n",
    "\n",
    "**Example 1 :** \n",
    "\n",
    "Input: N = 5, P = 2\n",
    "\n",
    "Output: 25\n",
    "\n",
    "**Example 2 :**\n",
    "Input: N = 2, P = 5\n",
    "\n",
    "Output: 32"
   ]
  },
  {
   "cell_type": "code",
   "execution_count": 8,
   "id": "93d690e5",
   "metadata": {},
   "outputs": [],
   "source": [
    "def power(N, P):\n",
    "    result = 1\n",
    "    for _ in range(P):\n",
    "        result *= N\n",
    "    return result"
   ]
  },
  {
   "cell_type": "code",
   "execution_count": 9,
   "id": "b0d2271e",
   "metadata": {},
   "outputs": [
    {
     "name": "stdout",
     "output_type": "stream",
     "text": [
      "25\n",
      "32\n"
     ]
    }
   ],
   "source": [
    "print(power(5, 2))  # Output: 25\n",
    "print(power(2, 5))  # Output: 32"
   ]
  },
  {
   "cell_type": "markdown",
   "id": "da184494",
   "metadata": {},
   "source": [
    "**Question 5**\n",
    "\n",
    "Given an array of integers **arr**, the task is to find maximum element of that array using recursion.\n",
    "\n",
    "**Example 1:**\n",
    "\n",
    "Input: arr = {1, 4, 3, -5, -4, 8, 6};\n",
    "Output: 8\n",
    "\n",
    "**Example 2:**\n",
    "\n",
    "Input: arr = {1, 4, 45, 6, 10, -8};\n",
    "Output: 45"
   ]
  },
  {
   "cell_type": "code",
   "execution_count": 10,
   "id": "4c954ca7",
   "metadata": {},
   "outputs": [],
   "source": [
    "def findMax(arr):\n",
    "    length = len(arr)\n",
    "\n",
    "    # Base cases\n",
    "    if length == 1:\n",
    "        return arr[0]\n",
    "    elif length == 2:\n",
    "        return max(arr[0], arr[1])\n",
    "\n",
    "    # Divide the array into two halves\n",
    "    mid = length // 2\n",
    "    left_max = findMax(arr[:mid])\n",
    "    right_max = findMax(arr[mid:])\n",
    "\n",
    "    # Compare and return the maximum of the two halves\n",
    "    return max(left_max, right_max)"
   ]
  },
  {
   "cell_type": "code",
   "execution_count": 11,
   "id": "96344b6b",
   "metadata": {},
   "outputs": [
    {
     "name": "stdout",
     "output_type": "stream",
     "text": [
      "8\n",
      "45\n"
     ]
    }
   ],
   "source": [
    "arr1 = [1, 4, 3, -5, -4, 8, 6]\n",
    "print(findMax(arr1))  # Output: 8\n",
    "\n",
    "arr2 = [1, 4, 45, 6, 10, -8]\n",
    "print(findMax(arr2))  # Output: 45"
   ]
  },
  {
   "cell_type": "markdown",
   "id": "bb386bf6",
   "metadata": {},
   "source": [
    "**Question 6**\n",
    "\n",
    "Given first term (a), common difference (d) and a integer N of the Arithmetic Progression series, the task is to find Nth term of the series.\n",
    "\n",
    "**Example 1:**\n",
    "\n",
    "Input : a = 2 d = 1 N = 5\n",
    "Output : 6\n",
    "The 5th term of the series is : 6\n",
    "\n",
    "**Example 2:**\n",
    "\n",
    "Input : a = 5 d = 2 N = 10\n",
    "Output : 23\n",
    "The 10th term of the series is : 23"
   ]
  },
  {
   "cell_type": "code",
   "execution_count": 12,
   "id": "1445f88c",
   "metadata": {},
   "outputs": [],
   "source": [
    "def findNthTerm(a, d, n):\n",
    "    nth_term = a + (n - 1) * d\n",
    "    return nth_term"
   ]
  },
  {
   "cell_type": "code",
   "execution_count": 13,
   "id": "cba2be7b",
   "metadata": {},
   "outputs": [
    {
     "name": "stdout",
     "output_type": "stream",
     "text": [
      "6\n",
      "23\n"
     ]
    }
   ],
   "source": [
    "print(findNthTerm(2, 1, 5))  # Output: 6\n",
    "print(findNthTerm(5, 2, 10))  # Output: 23"
   ]
  },
  {
   "cell_type": "markdown",
   "id": "af0bec6d",
   "metadata": {},
   "source": [
    "**Question 7**\n",
    "\n",
    "Given a string S, the task is to write a program to print all permutations of a given string.\n",
    "\n",
    "**Example 1:**\n",
    "\n",
    "***Input:***\n",
    "\n",
    "*S = “ABC”*\n",
    "\n",
    "***Output:***\n",
    "\n",
    "*“ABC”, “ACB”, “BAC”, “BCA”, “CBA”, “CAB”*\n",
    "\n",
    "**Example 2:**\n",
    "\n",
    "***Input:***\n",
    "\n",
    "*S = “XY”*\n",
    "\n",
    "***Output:***\n",
    "\n",
    "*“XY”, “YX”*"
   ]
  },
  {
   "cell_type": "code",
   "execution_count": 14,
   "id": "65816b65",
   "metadata": {},
   "outputs": [],
   "source": [
    "def generatePermutations(s):\n",
    "    # Base case: If the string has length 1, return a list containing the string\n",
    "    if len(s) == 1:\n",
    "        return [s]\n",
    "\n",
    "    # List to store the permutations\n",
    "    permutations = []\n",
    "\n",
    "    # Generate permutations for each character in the string\n",
    "    for i in range(len(s)):\n",
    "        # Remove the current character\n",
    "        char = s[i]\n",
    "        remaining_chars = s[:i] + s[i+1:]\n",
    "\n",
    "        # Recursively generate permutations of the remaining characters\n",
    "        sub_permutations = generatePermutations(remaining_chars)\n",
    "\n",
    "        # Insert the removed character at different positions in each permutation\n",
    "        for perm in sub_permutations:\n",
    "            permutations.append(char + perm)\n",
    "\n",
    "    return permutations"
   ]
  },
  {
   "cell_type": "code",
   "execution_count": 15,
   "id": "6eb318d2",
   "metadata": {},
   "outputs": [
    {
     "name": "stdout",
     "output_type": "stream",
     "text": [
      "['ABC', 'ACB', 'BAC', 'BCA', 'CAB', 'CBA']\n",
      "['XY', 'YX']\n"
     ]
    }
   ],
   "source": [
    "s1 = \"ABC\"\n",
    "permutations1 = generatePermutations(s1)\n",
    "print(permutations1)  # Output: ['ABC', 'ACB', 'BAC', 'BCA', 'CBA', 'CAB']\n",
    "\n",
    "s2 = \"XY\"\n",
    "permutations2 = generatePermutations(s2)\n",
    "print(permutations2)  # Output: ['XY', 'YX']"
   ]
  },
  {
   "cell_type": "markdown",
   "id": "1512cfc2",
   "metadata": {},
   "source": [
    "**Question 8**\n",
    "\n",
    "Given an array, find a product of all array elements.\n",
    "\n",
    "**Example 1:**\n",
    "\n",
    "Input  : arr[] = {1, 2, 3, 4, 5}\n",
    "Output : 120\n",
    "\n",
    "**Example 2:**\n",
    "\n",
    "Input  : arr[] = {1, 6, 3}\n",
    "Output : 18"
   ]
  },
  {
   "cell_type": "code",
   "execution_count": 16,
   "id": "14e60a0c",
   "metadata": {},
   "outputs": [],
   "source": [
    "def product_of_array(arr):\n",
    "    product = 1\n",
    "    for num in arr:\n",
    "        product *= num\n",
    "    return product"
   ]
  },
  {
   "cell_type": "code",
   "execution_count": 17,
   "id": "f35abf72",
   "metadata": {},
   "outputs": [
    {
     "name": "stdout",
     "output_type": "stream",
     "text": [
      "120\n"
     ]
    }
   ],
   "source": [
    "arr1 = [1, 2, 3, 4, 5]\n",
    "print(product_of_array(arr1))"
   ]
  },
  {
   "cell_type": "code",
   "execution_count": 18,
   "id": "7e88d44f",
   "metadata": {},
   "outputs": [
    {
     "name": "stdout",
     "output_type": "stream",
     "text": [
      "18\n"
     ]
    }
   ],
   "source": [
    "arr2 = {1, 6, 3} \n",
    "print(product_of_array(arr2))"
   ]
  }
 ],
 "metadata": {
  "kernelspec": {
   "display_name": "Python 3 (ipykernel)",
   "language": "python",
   "name": "python3"
  },
  "language_info": {
   "codemirror_mode": {
    "name": "ipython",
    "version": 3
   },
   "file_extension": ".py",
   "mimetype": "text/x-python",
   "name": "python",
   "nbconvert_exporter": "python",
   "pygments_lexer": "ipython3",
   "version": "3.9.12"
  }
 },
 "nbformat": 4,
 "nbformat_minor": 5
}

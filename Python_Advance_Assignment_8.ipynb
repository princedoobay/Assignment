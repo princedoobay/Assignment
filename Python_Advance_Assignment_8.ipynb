{
  "nbformat": 4,
  "nbformat_minor": 0,
  "metadata": {
    "colab": {
      "provenance": []
    },
    "kernelspec": {
      "name": "python3",
      "display_name": "Python 3"
    },
    "language_info": {
      "name": "python"
    }
  },
  "cells": [
    {
      "cell_type": "markdown",
      "source": [
        "# Python_Advance_Assignment-8"
      ],
      "metadata": {
        "id": "IDhlB5Om8AGi"
      }
    },
    {
      "cell_type": "markdown",
      "source": [
        "Q1. What are the two latest user-defined exception constraints in Python 3.X?\n",
        "\n",
        "As of Python 3.3, the two latest user-defined exception constraints are:\n",
        "\n",
        "Exception Chaining: Python 3.3 introduced the __cause__ attribute and the from keyword to enable exception chaining. With exception chaining, you can raise a new exception while referencing another exception as the cause of the current exception. This allows for better error reporting and helps preserve the original context of the exception."
      ],
      "metadata": {
        "id": "4v_Bn-UQ8bZC"
      }
    },
    {
      "cell_type": "code",
      "source": [
        "try:\n",
        "    # Some code that may raise an exception\n",
        "    ...\n",
        "except SomeException as ex:\n",
        "    # Raising a new exception with the original exception as the cause\n",
        "    raise AnotherException(\"An error occurred\") from ex\n"
      ],
      "metadata": {
        "id": "5ofograe8BZi"
      },
      "execution_count": null,
      "outputs": []
    },
    {
      "cell_type": "markdown",
      "source": [
        "Suppression of Exceptions in Finalizers: Python 3.3 also introduced a way to suppress exceptions that occur during the execution of the __exit__() method when using the with statement and context managers. By returning True from the __exit__() method, the exception will be suppressed, and it won't be propagated further."
      ],
      "metadata": {
        "id": "jWIl_bT_8epS"
      }
    },
    {
      "cell_type": "code",
      "source": [
        "class MyContext:\n",
        "    def __enter__(self):\n",
        "        return self\n",
        "\n",
        "    def __exit__(self, exc_type, exc_value, traceback):\n",
        "        # Suppress the exception from propagating further\n",
        "        return True\n"
      ],
      "metadata": {
        "id": "128x330-8kFK"
      },
      "execution_count": 1,
      "outputs": []
    },
    {
      "cell_type": "markdown",
      "source": [
        "Q2. How are class-based exceptions that have been raised matched to handlers?\n",
        "\n",
        "When a class-based exception is raised, Python matches the raised exception to handlers in a process known as \"exception handling.\" The exception handling mechanism checks each except block in the current try-except scope to find a match for the raised exception type.\n",
        "\n",
        "The matching process considers the class hierarchy of the exception being raised. If an exception class does not have a direct match in an except block, Python looks for a parent class match. If it finds a handler with a parent class match, the exception will be caught and handled by that block.\n",
        "\n",
        "Here's an example to illustrate this:"
      ],
      "metadata": {
        "id": "67FfaNt_8qyY"
      }
    },
    {
      "cell_type": "code",
      "source": [
        "class CustomException(Exception):\n",
        "    pass\n",
        "\n",
        "try:\n",
        "    # Some code that may raise an exception\n",
        "    raise CustomException(\"Custom exception raised\")\n",
        "except CustomException:\n",
        "    print(\"Custom exception handled\")\n",
        "except Exception:\n",
        "    print(\"Parent class exception handled\")\n"
      ],
      "metadata": {
        "colab": {
          "base_uri": "https://localhost:8080/"
        },
        "id": "8s1lO7Vo8m9q",
        "outputId": "b3a9ecc2-6c5e-4a03-8541-f7d87c32980b"
      },
      "execution_count": 2,
      "outputs": [
        {
          "output_type": "stream",
          "name": "stdout",
          "text": [
            "Custom exception handled\n"
          ]
        }
      ]
    },
    {
      "cell_type": "markdown",
      "source": [
        "In this example, the custom exception CustomException is raised, and it is matched with the except CustomException block, so \"Custom exception handled\" will be printed.\n",
        "\n"
      ],
      "metadata": {
        "id": "9UniQpUM8wQQ"
      }
    },
    {
      "cell_type": "markdown",
      "source": [
        "Q3. Describe two methods for attaching context information to exception artifacts.\n",
        "\n",
        "Using Exception Arguments: When raising an exception, you can include additional context information by passing arguments to the exception constructor. This allows you to provide details about the cause of the exception or any relevant data that might help in understanding the exception's context."
      ],
      "metadata": {
        "id": "w4GjOzEE80Oh"
      }
    },
    {
      "cell_type": "code",
      "source": [
        "class MyException(Exception):\n",
        "    def __init__(self, message, context_data):\n",
        "        super().__init__(message)\n",
        "        self.context_data = context_data\n",
        "\n",
        "# Raising the exception with context information\n",
        "raise MyException(\"An error occurred\", {\"key\": \"value\"})\n"
      ],
      "metadata": {
        "id": "PTp_ytr987Sa"
      },
      "execution_count": null,
      "outputs": []
    },
    {
      "cell_type": "markdown",
      "source": [
        "Using Exception Attributes: You can define custom attributes in your exception class to store context information. By setting these attributes when raising the exception, you can provide additional details to be accessed later when handling the exception."
      ],
      "metadata": {
        "id": "pPzhyUHR9FDS"
      }
    },
    {
      "cell_type": "code",
      "source": [
        "class MyException(Exception):\n",
        "    pass\n",
        "\n",
        "# Raising the exception and attaching context information\n",
        "ex = MyException(\"An error occurred\")\n",
        "ex.context_data = {\"key\": \"value\"}\n",
        "raise ex\n"
      ],
      "metadata": {
        "id": "PT-bj5S39JiR"
      },
      "execution_count": null,
      "outputs": []
    },
    {
      "cell_type": "markdown",
      "source": [
        "Q4. Describe two methods for specifying the text of an exception object's error message.\n",
        "\n",
        "Using Exception Arguments: When defining a custom exception class, you can include arguments in the constructor to pass the error message."
      ],
      "metadata": {
        "id": "QImDavKq9NAZ"
      }
    },
    {
      "cell_type": "code",
      "source": [
        "class MyException(Exception):\n",
        "    def __init__(self, message):\n",
        "        super().__init__(message)\n",
        "\n",
        "# Raising the exception with a specific error message\n",
        "raise MyException(\"This is a custom error message\")\n"
      ],
      "metadata": {
        "id": "GRf479ZQ9P8R"
      },
      "execution_count": null,
      "outputs": []
    },
    {
      "cell_type": "markdown",
      "source": [
        "Using __str__() or __repr__() Methods: You can override the __str__() or __repr__() method in your custom exception class to specify the text of the error message."
      ],
      "metadata": {
        "id": "guvQ2Rdy9ShR"
      }
    },
    {
      "cell_type": "code",
      "source": [
        "class MyException(Exception):\n",
        "    def __str__(self):\n",
        "        return \"This is a custom error message\"\n",
        "\n",
        "# Raising the exception with the error message from __str__ method\n",
        "raise MyException()\n"
      ],
      "metadata": {
        "id": "gXmJF7Li9UzB"
      },
      "execution_count": null,
      "outputs": []
    },
    {
      "cell_type": "markdown",
      "source": [
        "Q5. Why do you no longer use string-based exceptions?\n",
        "\n",
        "String-based exceptions (i.e., raising exceptions using strings) were used in older versions of Python (Python 2.x) but are no longer recommended or used in Python 3.x. In Python 3.x, exceptions are required to be class-based, and using strings as exceptions is considered deprecated and discouraged.\n",
        "\n",
        "The main reasons for not using string-based exceptions are:\n",
        "\n",
        "- Lack of Clarity: Using strings for exceptions lacks clarity and makes code harder to read and understand. Exceptions are an essential part of error handling, and using classes for exceptions allows for better organization and distinction between different types of exceptions.\n",
        "\n",
        "- Consistency and Type Safety: Class-based exceptions provide better consistency and type safety. By using classes, you can define a clear hierarchy of exception types, making it easier to catch specific exceptions and handle them appropriately.\n",
        "\n",
        "- Stack Traces: When an exception is raised, Python generates a stack trace that shows the sequence of function calls leading up to the exception. Class-based exceptions provide more information in the stack trace, including the exception type, message, and other context details, which can be helpful for debugging and understanding the cause of the exception.\n",
        "\n",
        "- Best Practices: Class-based exceptions are in line with best practices and coding conventions in Python. The use of class-based exceptions is recommended by the Python community and helps maintain a consistent and readable codebase."
      ],
      "metadata": {
        "id": "Nhf7xMlB9W-D"
      }
    }
  ]
}
{
 "cells": [
  {
   "cell_type": "markdown",
   "id": "04eb6e1e",
   "metadata": {},
   "source": [
    "# PPT Assignment - 1"
   ]
  },
  {
   "cell_type": "markdown",
   "id": "21b6adca",
   "metadata": {},
   "source": [
    "Q1. Given an array of integers nums and an integer target, return indices of the two numbers such that they add up to target.\n",
    "\n",
    "You may assume that each input would have exactly one solution, and you may not use the same element twice.\n",
    "\n",
    "You can return the answer in any order.\n",
    "\n",
    "**Example:**\n",
    "Input: nums = [2,7,11,15], target = 9\n",
    "Output0 [0,1]\n",
    "\n",
    "**Explanation:** Because nums[0] + nums[1] == 9, we return [0, 1]\n",
    "\n",
    "</aside>"
   ]
  },
  {
   "cell_type": "code",
   "execution_count": 1,
   "id": "af8a39ce",
   "metadata": {},
   "outputs": [
    {
     "name": "stdout",
     "output_type": "stream",
     "text": [
      "[0, 1]\n"
     ]
    }
   ],
   "source": [
    "def twoSum(nums, target):\n",
    "    # Create a hashmap to store the values and indices\n",
    "    hashmap = {}\n",
    "    \n",
    "    # Iterate through the array\n",
    "    for i, num in enumerate(nums):\n",
    "        # Calculate the complement\n",
    "        complement = target - num\n",
    "        \n",
    "        # Check if the complement is in the hashmap\n",
    "        if complement in hashmap:\n",
    "            # Return the indices\n",
    "            return [hashmap[complement], i]\n",
    "        \n",
    "        # Add the current value and index to the hashmap\n",
    "        hashmap[num] = i\n",
    "    \n",
    "    # If no solution is found, return an empty list or raise an exception\n",
    "    return []\n",
    "\n",
    "# Example usage\n",
    "nums = [2, 7, 11, 15]\n",
    "target = 9\n",
    "result = twoSum(nums, target)\n",
    "print(result)  # Output: [0, 1]"
   ]
  },
  {
   "cell_type": "code",
   "execution_count": 2,
   "id": "9cb7935b",
   "metadata": {},
   "outputs": [
    {
     "data": {
      "text/plain": [
       "[1, 2]"
      ]
     },
     "execution_count": 2,
     "metadata": {},
     "output_type": "execute_result"
    }
   ],
   "source": [
    "nums = [3,5,4,2]\n",
    "target = 9\n",
    "result = twoSum(nums, target)\n",
    "result"
   ]
  },
  {
   "cell_type": "code",
   "execution_count": 3,
   "id": "3cd5d970",
   "metadata": {},
   "outputs": [
    {
     "data": {
      "text/plain": [
       "[]"
      ]
     },
     "execution_count": 3,
     "metadata": {},
     "output_type": "execute_result"
    }
   ],
   "source": [
    "nums = [3,5,4,2]\n",
    "target = 11\n",
    "result = twoSum(nums, target)\n",
    "result"
   ]
  },
  {
   "cell_type": "markdown",
   "id": "7afc1017",
   "metadata": {},
   "source": [
    "Q2. Given an integer array nums and an integer val, remove all occurrences of val in nums in-place. The order of the elements may be changed. Then return the number of elements in nums which are not equal to val.\n",
    "\n",
    "Consider the number of elements in nums which are not equal to val be k, to get accepted, you need to do the following things:\n",
    "\n",
    "- Change the array nums such that the first k elements of nums contain the elements which are not equal to val. The remaining elements of nums are not important as well as the size of nums.\n",
    "- Return k.\n",
    "\n",
    "**Example :**\n",
    "Input: nums = [3,2,2,3], val = 3\n",
    "\n",
    "Output: 2, nums = [2,2,_*,_*]\n",
    "\n",
    "_* denotes blank"
   ]
  },
  {
   "cell_type": "code",
   "execution_count": 9,
   "id": "bf5fd3fa",
   "metadata": {},
   "outputs": [],
   "source": [
    "def removeElement(nums, val):\n",
    "    i = 0\n",
    "    j = 0\n",
    "    while i < len(nums):\n",
    "        if nums[i] != val:\n",
    "            nums[j] = nums[i]\n",
    "            j += 1\n",
    "        i += 1\n",
    "    \n",
    "    # Update remaining elements to a placeholder value\n",
    "    while j < len(nums):\n",
    "        nums[j] = '_*'\n",
    "        j += 1\n",
    "    \n",
    "    return j\n"
   ]
  },
  {
   "cell_type": "code",
   "execution_count": 10,
   "id": "ed38dc9a",
   "metadata": {},
   "outputs": [
    {
     "name": "stdout",
     "output_type": "stream",
     "text": [
      "Output: 4 nums = [2, 2, '_*', '_*']\n"
     ]
    }
   ],
   "source": [
    "nums = [3, 2, 2, 3]\n",
    "val = 3\n",
    "result = removeElement(nums, val)\n",
    "print(\"Output:\", result, \"nums =\", nums)"
   ]
  },
  {
   "cell_type": "code",
   "execution_count": 11,
   "id": "b509c987",
   "metadata": {},
   "outputs": [
    {
     "name": "stdout",
     "output_type": "stream",
     "text": [
      "Output: 5 nums = [2, 3, '_*', '_*', '_*']\n"
     ]
    }
   ],
   "source": [
    "nums = [5, 2, 5, 3,5]\n",
    "val = 5\n",
    "result = removeElement(nums, val)\n",
    "print(\"Output:\", result, \"nums =\", nums)"
   ]
  },
  {
   "cell_type": "markdown",
   "id": "7e8ae6d6",
   "metadata": {},
   "source": [
    "Q3. Given a sorted array of distinct integers and a target value, return the index if the target is found. If not, return the index where it would be if it were inserted in order.\n",
    "\n",
    "You must write an algorithm with O(log n) runtime complexity.\n",
    "\n",
    "**Example 1:**\n",
    "Input: nums = [1,3,5,6], target = 5\n",
    "\n",
    "Output: 2"
   ]
  },
  {
   "cell_type": "code",
   "execution_count": 12,
   "id": "e64fe8f6",
   "metadata": {},
   "outputs": [],
   "source": [
    "def searchInsert(nums, target):\n",
    "    left = 0\n",
    "    right = len(nums) - 1\n",
    "\n",
    "    while left <= right:\n",
    "        mid = (left + right) // 2\n",
    "\n",
    "        if nums[mid] == target:\n",
    "            return mid\n",
    "        elif nums[mid] < target:\n",
    "            left = mid + 1\n",
    "        else:\n",
    "            right = mid - 1\n",
    "    \n",
    "    return left"
   ]
  },
  {
   "cell_type": "code",
   "execution_count": 13,
   "id": "74a04eb7",
   "metadata": {},
   "outputs": [
    {
     "name": "stdout",
     "output_type": "stream",
     "text": [
      "Output: 2\n"
     ]
    }
   ],
   "source": [
    "nums = [1, 3, 5, 6]\n",
    "target = 5\n",
    "result = searchInsert(nums, target)\n",
    "print(\"Output:\", result)\n"
   ]
  },
  {
   "cell_type": "code",
   "execution_count": 16,
   "id": "9a87b334",
   "metadata": {},
   "outputs": [
    {
     "name": "stdout",
     "output_type": "stream",
     "text": [
      "Output: 4\n"
     ]
    }
   ],
   "source": [
    "nums = [1, 3, 4, 6, 8]\n",
    "target = 7\n",
    "result = searchInsert(nums, target)\n",
    "print(\"Output:\", result)\n"
   ]
  },
  {
   "cell_type": "markdown",
   "id": "fa18d147",
   "metadata": {},
   "source": [
    "Q4. You are given a large integer represented as an integer array digits, where each digits[i] is the ith digit of the integer. The digits are ordered from most significant to least significant in left-to-right order. The large integer does not contain any leading 0's.\n",
    "\n",
    "Increment the large integer by one and return the resulting array of digits.\n",
    "\n",
    "**Example 1:**\n",
    "Input: digits = [1,2,3]\n",
    "Output: [1,2,4]\n",
    "\n",
    "**Explanation:** The array represents the integer 123.\n",
    "\n",
    "Incrementing by one gives 123 + 1 = 124.\n",
    "Thus, the result should be [1,2,4].\n",
    "\n",
    "</aside>"
   ]
  },
  {
   "cell_type": "code",
   "execution_count": 17,
   "id": "bb16958f",
   "metadata": {},
   "outputs": [],
   "source": [
    "def plusOne(digits):\n",
    "    carry = 1\n",
    "    for i in range(len(digits) - 1, -1, -1):\n",
    "        digits[i] += carry\n",
    "        if digits[i] == 10:\n",
    "            digits[i] = 0\n",
    "            carry = 1\n",
    "        else:\n",
    "            carry = 0\n",
    "            break\n",
    "\n",
    "    if carry == 1:\n",
    "        digits.insert(0, 1)\n",
    "\n",
    "    return digits"
   ]
  },
  {
   "cell_type": "code",
   "execution_count": 18,
   "id": "df7aec3b",
   "metadata": {},
   "outputs": [
    {
     "name": "stdout",
     "output_type": "stream",
     "text": [
      "Output: [1, 2, 4]\n"
     ]
    }
   ],
   "source": [
    "digits = [1, 2, 3]\n",
    "result = plusOne(digits)\n",
    "print(\"Output:\", result)"
   ]
  },
  {
   "cell_type": "code",
   "execution_count": 19,
   "id": "600d6a78",
   "metadata": {},
   "outputs": [
    {
     "name": "stdout",
     "output_type": "stream",
     "text": [
      "Output: [1, 6, 4]\n"
     ]
    }
   ],
   "source": [
    "digits = [1, 6, 3]\n",
    "result = plusOne(digits)\n",
    "print(\"Output:\", result)"
   ]
  },
  {
   "cell_type": "markdown",
   "id": "68edb113",
   "metadata": {},
   "source": [
    "Q5. You are given two integer arrays nums1 and nums2, sorted in non-decreasing order, and two integers m and n, representing the number of elements in nums1 and nums2 respectively.\n",
    "\n",
    "Merge nums1 and nums2 into a single array sorted in non-decreasing order.\n",
    "\n",
    "The final sorted array should not be returned by the function, but instead be stored inside the array nums1. To accommodate this, nums1 has a length of m + n, where the first m elements denote the elements that should be merged, and the last n elements are set to 0 and should be ignored. nums2 has a length of n.\n",
    "\n",
    "**Example 1:**\n",
    "Input: nums1 = [1,2,3,0,0,0], m = 3, nums2 = [2,5,6], n = 3\n",
    "Output: [1,2,2,3,5,6]\n",
    "\n",
    "**Explanation:** The arrays we are merging are [1,2,3] and [2,5,6].\n",
    "The result of the merge is [1,2,2,3,5,6] with the underlined elements coming from nums1.\n",
    "\n",
    "</aside>"
   ]
  },
  {
   "cell_type": "code",
   "execution_count": 20,
   "id": "9cab12dd",
   "metadata": {},
   "outputs": [],
   "source": [
    "def merge(nums1, m, nums2, n):\n",
    "    p1 = m - 1\n",
    "    p2 = n - 1\n",
    "    p = m + n - 1\n",
    "\n",
    "    while p1 >= 0 and p2 >= 0:\n",
    "        if nums1[p1] > nums2[p2]:\n",
    "            nums1[p] = nums1[p1]\n",
    "            p1 -= 1\n",
    "        else:\n",
    "            nums1[p] = nums2[p2]\n",
    "            p2 -= 1\n",
    "        p -= 1\n",
    "\n",
    "    while p2 >= 0:\n",
    "        nums1[p] = nums2[p2]\n",
    "        p2 -= 1\n",
    "        p -= 1\n",
    "\n",
    "    return nums1"
   ]
  },
  {
   "cell_type": "code",
   "execution_count": 21,
   "id": "ec25e443",
   "metadata": {},
   "outputs": [
    {
     "name": "stdout",
     "output_type": "stream",
     "text": [
      "Output: [1, 2, 2, 3, 5, 6]\n"
     ]
    }
   ],
   "source": [
    "nums1 = [1, 2, 3, 0, 0, 0]\n",
    "m = 3\n",
    "nums2 = [2, 5, 6]\n",
    "n = 3\n",
    "result = merge(nums1, m, nums2, n)\n",
    "print(\"Output:\", result)"
   ]
  },
  {
   "cell_type": "markdown",
   "id": "39977bf2",
   "metadata": {},
   "source": [
    "Q6. Given an integer array nums, return true if any value appears at least twice in the array, and return false if every element is distinct.\n",
    "\n",
    "**Example 1:**\n",
    "Input: nums = [1,2,3,1]\n",
    "\n",
    "Output: true"
   ]
  },
  {
   "cell_type": "code",
   "execution_count": 23,
   "id": "218daeaf",
   "metadata": {},
   "outputs": [],
   "source": [
    "def containsDuplicate(nums):\n",
    "    numSet = set()\n",
    "\n",
    "    for num in nums:\n",
    "        if num in numSet:\n",
    "            return True\n",
    "        numSet.add(num)\n",
    "\n",
    "    return False"
   ]
  },
  {
   "cell_type": "code",
   "execution_count": 24,
   "id": "dd65bc7c",
   "metadata": {},
   "outputs": [
    {
     "name": "stdout",
     "output_type": "stream",
     "text": [
      "Output: True\n"
     ]
    }
   ],
   "source": [
    "nums = [1, 2, 3, 1]\n",
    "result = containsDuplicate(nums)\n",
    "print(\"Output:\", result)"
   ]
  },
  {
   "cell_type": "markdown",
   "id": "983f728e",
   "metadata": {},
   "source": [
    "**Q7.** Given an integer array nums, move all 0's to the end of it while maintaining the relative order of the nonzero elements.\n",
    "\n",
    "Note that you must do this in-place without making a copy of the array.\n",
    "\n",
    "**Example 1:**\n",
    "Input: nums = [0,1,0,3,12]\n",
    "Output: [1,3,12,0,0]\n"
   ]
  },
  {
   "cell_type": "code",
   "execution_count": 25,
   "id": "e3ac5f09",
   "metadata": {},
   "outputs": [],
   "source": [
    "def moveZeroes(nums):\n",
    "    i = 0\n",
    "    j = 0\n",
    "\n",
    "    while i < len(nums):\n",
    "        if nums[i] != 0:\n",
    "            nums[i], nums[j] = nums[j], nums[i]\n",
    "            j += 1\n",
    "        i += 1\n",
    "    \n",
    "    nums[j:] = [0] * (len(nums) - j)\n",
    "\n",
    "    return nums\n"
   ]
  },
  {
   "cell_type": "code",
   "execution_count": 26,
   "id": "38c5c2bc",
   "metadata": {},
   "outputs": [
    {
     "name": "stdout",
     "output_type": "stream",
     "text": [
      "Output: [1, 3, 12, 0, 0]\n"
     ]
    }
   ],
   "source": [
    "nums = [0, 1, 0, 3, 12]\n",
    "result = moveZeroes(nums)\n",
    "print(\"Output:\", result)"
   ]
  },
  {
   "cell_type": "markdown",
   "id": "c1e0c4c1",
   "metadata": {},
   "source": [
    "**Q8.** You have a set of integers s, which originally contains all the numbers from 1 to n. Unfortunately, due to some error, one of the numbers in s got duplicated to another number in the set, which results in repetition of one number and loss of another number.\n",
    "\n",
    "You are given an integer array nums representing the data status of this set after the error.\n",
    "\n",
    "Find the number that occurs twice and the number that is missing and return them in the form of an array.\n",
    "\n",
    "**Example 1:**\n",
    "Input: nums = [1,2,2,4]\n",
    "Output: [2,3]"
   ]
  },
  {
   "cell_type": "code",
   "execution_count": 27,
   "id": "17a83178",
   "metadata": {},
   "outputs": [],
   "source": [
    "def findErrorNums(nums):\n",
    "    xor_result = 0\n",
    "    mask = 0\n",
    "\n",
    "    for i, num in enumerate(nums):\n",
    "        xor_result ^= num\n",
    "        mask ^= (i + 1) ^ num\n",
    "\n",
    "    diff_bit = xor_result & -xor_result\n",
    "\n",
    "    num1 = 0\n",
    "    num2 = 0\n",
    "\n",
    "    for num in nums:\n",
    "        if num & diff_bit:\n",
    "            num1 ^= num\n",
    "        else:\n",
    "            num2 ^= num\n",
    "\n",
    "    for i in range(1, len(nums) + 1):\n",
    "        if i & diff_bit:\n",
    "            num1 ^= i\n",
    "        else:\n",
    "            num2 ^= i\n",
    "\n",
    "    for num in nums:\n",
    "        if num == num1:\n",
    "            return [num1, num2]\n",
    "        if num == num2:\n",
    "            return [num2, num1]\n"
   ]
  },
  {
   "cell_type": "code",
   "execution_count": 28,
   "id": "2cd868c1",
   "metadata": {},
   "outputs": [
    {
     "name": "stdout",
     "output_type": "stream",
     "text": [
      "Output: [2, 3]\n"
     ]
    }
   ],
   "source": [
    "nums = [1, 2, 2, 4]\n",
    "result = findErrorNums(nums)\n",
    "print(\"Output:\", result)"
   ]
  }
 ],
 "metadata": {
  "kernelspec": {
   "display_name": "Python 3 (ipykernel)",
   "language": "python",
   "name": "python3"
  },
  "language_info": {
   "codemirror_mode": {
    "name": "ipython",
    "version": 3
   },
   "file_extension": ".py",
   "mimetype": "text/x-python",
   "name": "python",
   "nbconvert_exporter": "python",
   "pygments_lexer": "ipython3",
   "version": "3.9.12"
  }
 },
 "nbformat": 4,
 "nbformat_minor": 5
}

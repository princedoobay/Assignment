{
 "cells": [
  {
   "cell_type": "markdown",
   "id": "d090bdbf-c207-4560-b2ea-053b66dfb462",
   "metadata": {},
   "source": [
    "# Programming Assignment - 23"
   ]
  },
  {
   "cell_type": "markdown",
   "id": "1cbac5a9-a62d-489c-922b-e328b35151eb",
   "metadata": {},
   "source": [
    "### 1. Create a function that takes a number as an argument and returns True or False depending on whether the number is symmetrical or not. A number is symmetrical when it is the same as its reverse.\n",
    "Examples\n",
    "\n",
    "is_symmetrical(7227) ➞ True\n",
    "\n",
    "is_symmetrical(12567) ➞ False\n",
    "\n",
    "is_symmetrical(44444444) ➞ True\n",
    "\n",
    "is_symmetrical(9939) ➞ False\n",
    "\n",
    "is_symmetrical(1112111) ➞ True"
   ]
  },
  {
   "cell_type": "code",
   "execution_count": 2,
   "id": "a6db0714-4c8c-4a4b-afef-f21191e89fb9",
   "metadata": {},
   "outputs": [],
   "source": [
    "def is_symmetrical(num):\n",
    "    return str(num) == str(num)[::-1]"
   ]
  },
  {
   "cell_type": "code",
   "execution_count": 3,
   "id": "07782285-b5f6-42e1-b9a5-6e16ffe404fc",
   "metadata": {},
   "outputs": [
    {
     "name": "stdout",
     "output_type": "stream",
     "text": [
      "True\n",
      "False\n",
      "True\n",
      "False\n",
      "True\n"
     ]
    }
   ],
   "source": [
    "print(is_symmetrical(7227))  # Output: True\n",
    "print(is_symmetrical(12567))  # Output: False\n",
    "print(is_symmetrical(44444444))  # Output: True\n",
    "print(is_symmetrical(9939))  # Output: False\n",
    "print(is_symmetrical(1112111))  # Output: True"
   ]
  },
  {
   "cell_type": "markdown",
   "id": "1eb63dfe-89c2-44aa-8e99-aef60ea60643",
   "metadata": {},
   "source": [
    "### 2. Given a string of numbers separated by a comma and space, return the product of the numbers.\n",
    "Examples\n",
    "\n",
    "multiply_nums(&quot;2, 3&quot;) ➞ 6\n",
    "\n",
    "multiply_nums(&quot;1, 2, 3, 4&quot;) ➞ 24\n",
    "\n",
    "multiply_nums(&quot;54, 75, 453, 0&quot;) ➞ 0\n",
    "\n",
    "multiply_nums(&quot;10, -2&quot;) ➞ -20"
   ]
  },
  {
   "cell_type": "code",
   "execution_count": 4,
   "id": "47f6146f-a620-4314-b79d-78606d9574e0",
   "metadata": {},
   "outputs": [],
   "source": [
    "def multiply_nums(nums):\n",
    "    nums_list = [int(x) for x in nums.split(\", \")]\n",
    "    product = 1\n",
    "    for num in nums_list:\n",
    "        product *= num\n",
    "    return product"
   ]
  },
  {
   "cell_type": "code",
   "execution_count": 5,
   "id": "b894a45b-0bc4-4964-8fcb-9da8fed2e898",
   "metadata": {},
   "outputs": [
    {
     "data": {
      "text/plain": [
       "6"
      ]
     },
     "execution_count": 5,
     "metadata": {},
     "output_type": "execute_result"
    }
   ],
   "source": [
    "multiply_nums(\"2, 3\")"
   ]
  },
  {
   "cell_type": "code",
   "execution_count": 7,
   "id": "4fbac7f3-a753-40e8-a938-38f5d6caa475",
   "metadata": {},
   "outputs": [
    {
     "data": {
      "text/plain": [
       "24"
      ]
     },
     "execution_count": 7,
     "metadata": {},
     "output_type": "execute_result"
    }
   ],
   "source": [
    "multiply_nums(\"1, 2, 3, 4\")"
   ]
  },
  {
   "cell_type": "code",
   "execution_count": 8,
   "id": "fe5aea01-38e9-4abb-a4ab-738001a1587b",
   "metadata": {},
   "outputs": [
    {
     "data": {
      "text/plain": [
       "0"
      ]
     },
     "execution_count": 8,
     "metadata": {},
     "output_type": "execute_result"
    }
   ],
   "source": [
    "multiply_nums(\"54, 75, 453, 0\")"
   ]
  },
  {
   "cell_type": "code",
   "execution_count": 9,
   "id": "b27cb02c-bc57-4832-9d1f-e034add02f53",
   "metadata": {},
   "outputs": [
    {
     "data": {
      "text/plain": [
       "-20"
      ]
     },
     "execution_count": 9,
     "metadata": {},
     "output_type": "execute_result"
    }
   ],
   "source": [
    "multiply_nums(\"10, -2\")"
   ]
  },
  {
   "cell_type": "markdown",
   "id": "1595e4a4-e757-4d24-900e-560f17834a00",
   "metadata": {},
   "source": [
    "### 3. Create a function that squares every digit of a number.\n",
    "Examples\n",
    "\n",
    "square_digits(9119) ➞ 811181\n",
    "\n",
    "square_digits(2483) ➞ 416649\n",
    "\n",
    "square_digits(3212) ➞ 9414\n",
    "\n",
    "Notes\n",
    "\n",
    "The function receives an integer and must return an integer."
   ]
  },
  {
   "cell_type": "code",
   "execution_count": 10,
   "id": "847b7601-5399-4ef5-8f64-c0977dd1142f",
   "metadata": {},
   "outputs": [],
   "source": [
    "def square_digits(num):\n",
    "    squared_digits = ''\n",
    "    for digit in str(num):\n",
    "        squared_digits += str(int(digit)**2)\n",
    "    return int(squared_digits)"
   ]
  },
  {
   "cell_type": "code",
   "execution_count": 11,
   "id": "03cbb23a-ce92-494a-af8a-91442e33c836",
   "metadata": {},
   "outputs": [
    {
     "name": "stdout",
     "output_type": "stream",
     "text": [
      "811181\n",
      "416649\n",
      "9414\n"
     ]
    }
   ],
   "source": [
    "print(square_digits(9119))  # Output: 811181\n",
    "print(square_digits(2483))  # Output: 416649\n",
    "print(square_digits(3212))  # Output: 9414"
   ]
  },
  {
   "cell_type": "markdown",
   "id": "1527e20a-06d5-49da-9d09-8d1a95680be2",
   "metadata": {},
   "source": [
    "### 4. Create a function that sorts a list and removes all duplicate items from it.\n",
    "Examples\n",
    "\n",
    "setify([1, 3, 3, 5, 5]) ➞ [1, 3, 5]\n",
    "\n",
    "setify([4, 4, 4, 4]) ➞ [4]\n",
    "\n",
    "setify([5, 7, 8, 9, 10, 15]) ➞ [5, 7, 8, 9, 10, 15]\n",
    "\n",
    "setify([3, 3, 3, 2, 1]) ➞ [1, 2, 3]"
   ]
  },
  {
   "cell_type": "code",
   "execution_count": 12,
   "id": "0dbeeb04-9b88-42e6-909f-ec0cef7bd8a0",
   "metadata": {},
   "outputs": [],
   "source": [
    "def setify(lst):\n",
    "    return sorted(list(set(lst)))"
   ]
  },
  {
   "cell_type": "code",
   "execution_count": 13,
   "id": "1946cf70-195d-440d-9540-53c6dd8dcbc5",
   "metadata": {},
   "outputs": [
    {
     "name": "stdout",
     "output_type": "stream",
     "text": [
      "[1, 3, 5]\n",
      "[4]\n",
      "[5, 7, 8, 9, 10, 15]\n",
      "[1, 2, 3]\n"
     ]
    }
   ],
   "source": [
    "print(setify([1, 3, 3, 5, 5]))    # Output: [1, 3, 5]\n",
    "print(setify([4, 4, 4, 4]))       # Output: [4]\n",
    "print(setify([5, 7, 8, 9, 10, 15]))# Output: [5, 7, 8, 9, 10, 15]\n",
    "print(setify([3, 3, 3, 2, 1]))    # Output: [1, 2, 3]"
   ]
  },
  {
   "cell_type": "markdown",
   "id": "51d8b0ee-5514-4929-a4e5-5b52348a8c65",
   "metadata": {},
   "source": [
    "### 5. Create a function that returns the mean of all digits.\n",
    "Examples\n",
    "\n",
    "mean(42) ➞ 3\n",
    "\n",
    "mean(12345) ➞ 3\n",
    "\n",
    "mean(666) ➞ 6\n",
    "\n",
    "Notes\n",
    "\n",
    " The mean of all digits is the sum of digits / how many digits there are (e.g. mean of digits in 512 is (5+1+2)/3(number of digits) = 8/3=2).\n",
    "\n",
    " The mean will always be an integer."
   ]
  },
  {
   "cell_type": "code",
   "execution_count": 14,
   "id": "f5d66148-8a2b-4081-a520-65b3bdcec004",
   "metadata": {},
   "outputs": [],
   "source": [
    "def mean(num):\n",
    "    num_str = str(num)\n",
    "    num_sum = 0\n",
    "    for digit in num_str:\n",
    "        num_sum += int(digit)\n",
    "    return num_sum // len(num_str)"
   ]
  },
  {
   "cell_type": "code",
   "execution_count": 15,
   "id": "7977221a-ff21-458d-820a-e23aad18c14c",
   "metadata": {},
   "outputs": [
    {
     "name": "stdout",
     "output_type": "stream",
     "text": [
      "3\n",
      "3\n",
      "6\n"
     ]
    }
   ],
   "source": [
    "print(mean(42))   # Output: 3\n",
    "print(mean(12345))   # Output: 3\n",
    "print(mean(666))   # Output: 6"
   ]
  }
 ],
 "metadata": {
  "kernelspec": {
   "display_name": "Python 3 (ipykernel)",
   "language": "python",
   "name": "python3"
  },
  "language_info": {
   "codemirror_mode": {
    "name": "ipython",
    "version": 3
   },
   "file_extension": ".py",
   "mimetype": "text/x-python",
   "name": "python",
   "nbconvert_exporter": "python",
   "pygments_lexer": "ipython3",
   "version": "3.10.6"
  }
 },
 "nbformat": 4,
 "nbformat_minor": 5
}

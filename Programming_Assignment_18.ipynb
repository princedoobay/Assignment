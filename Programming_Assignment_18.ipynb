{
 "cells": [
  {
   "cell_type": "markdown",
   "id": "a551e3ff-a000-4ced-9cef-d4f9ef546971",
   "metadata": {},
   "source": [
    "# Programming Assignment - 18"
   ]
  },
  {
   "cell_type": "markdown",
   "id": "4b60e603-26b2-4e01-968f-e3d7a37fd86e",
   "metadata": {},
   "source": [
    "### 1. Create a function that takes a list of non-negative integers and strings and return a new list without the strings.\n",
    "Examples\n",
    "\n",
    "filter_list([1, 2, &quot;a&quot;, &quot;b&quot;]) ➞ [1, 2]\n",
    "\n",
    "filter_list([1, &quot;a&quot;, &quot;b&quot;, 0, 15]) ➞ [1, 0, 15]\n",
    "\n",
    "filter_list([1, 2, &quot;aasf&quot;, &quot;1&quot;, &quot;123&quot;, 123]) ➞ [1, 2, 123]"
   ]
  },
  {
   "cell_type": "code",
   "execution_count": 1,
   "id": "4a2eaefc-6488-40c9-af21-e4b2f129aa6d",
   "metadata": {},
   "outputs": [],
   "source": [
    "def filter_list(lst):\n",
    "    # create an empty list to store the non-string elements\n",
    "    new_lst = []\n",
    "    # loop through the elements of the input list\n",
    "    for elem in lst:\n",
    "        # check if the element is an integer\n",
    "        if type(elem) == int:\n",
    "            # if it is, add it to the new list\n",
    "            new_lst.append(elem)\n",
    "    return new_lst"
   ]
  },
  {
   "cell_type": "code",
   "execution_count": 2,
   "id": "15f8f7b2-1352-489d-9a25-1ffa13dbc931",
   "metadata": {},
   "outputs": [
    {
     "name": "stdout",
     "output_type": "stream",
     "text": [
      "[1, 2]\n",
      "[1, 0, 15]\n",
      "[1, 2, 123]\n"
     ]
    }
   ],
   "source": [
    "print(filter_list([1, 2, \"a\", \"b\"])) # [1, 2]\n",
    "print(filter_list([1, \"a\", \"b\", 0, 15])) # [1, 0, 15]\n",
    "print(filter_list([1, 2, \"aasf\", \"1\", \"123\", 123])) # [1, 2, 123]"
   ]
  },
  {
   "cell_type": "markdown",
   "id": "a3150fab-1ccf-4461-8586-0fbfb7012d21",
   "metadata": {},
   "source": [
    "### 2. The &quot;Reverser&quot; takes a string as input and returns that string in reverse order, with the opposite case.\n",
    "Examples\n",
    "\n",
    "\n",
    "reverse(&quot;Hello World&quot;) ➞ &quot;DLROw OLLEh&quot;\n",
    "\n",
    "reverse(&quot;ReVeRsE&quot;) ➞ &quot;eSrEvEr&quot;\n",
    "\n",
    "reverse(&quot;Radar&quot;) ➞ &quot;RADAr&quot;"
   ]
  },
  {
   "cell_type": "code",
   "execution_count": 3,
   "id": "2cb01c0b-f807-470e-9472-38c2e3274f68",
   "metadata": {},
   "outputs": [],
   "source": [
    "def reverse(string):\n",
    "    # create an empty string to store the reversed and opposite case string\n",
    "    new_string = \"\"\n",
    "    # loop through the characters of the input string in reverse order\n",
    "    for char in string[::-1]:\n",
    "        # check if the character is uppercase using the isupper() method\n",
    "        if char.isupper():\n",
    "            # if it is, convert it to lowercase and add it to the new string\n",
    "            new_string += char.lower()\n",
    "        # check if the character is lowercase using the islower() method\n",
    "        elif char.islower():\n",
    "            # if it is, convert it to uppercase and add it to the new string\n",
    "            new_string += char.upper()\n",
    "        else:\n",
    "            # if it is not a letter, add it to the new string as is\n",
    "            new_string += char\n",
    "    return new_string"
   ]
  },
  {
   "cell_type": "code",
   "execution_count": 4,
   "id": "22c8c3eb-3c0a-412a-8ea7-9f80436692cd",
   "metadata": {},
   "outputs": [
    {
     "name": "stdout",
     "output_type": "stream",
     "text": [
      "DLROw OLLEh\n",
      "eSrEvEr\n",
      "RADAr\n"
     ]
    }
   ],
   "source": [
    "print(reverse(\"Hello World\")) # \"DLROw OLLEh\"\n",
    "print(reverse(\"ReVeRsE\")) # \"eSrEvEr\"\n",
    "print(reverse(\"Radar\")) # \"RADAr\""
   ]
  },
  {
   "cell_type": "markdown",
   "id": "7adee19c-36e1-4d6f-b6a6-239a18b48ee6",
   "metadata": {},
   "source": [
    "### 3. You can assign variables from lists like this:\n",
    "lst = [1, 2, 3, 4, 5, 6]\n",
    "\n",
    "first = lst[0]\n",
    "\n",
    "middle = lst[1:-1]\n",
    "\n",
    "last = lst[-1]\n",
    "\n",
    "print(first) ➞ outputs 1\n",
    "\n",
    "print(middle) ➞ outputs [2, 3, 4, 5]\n",
    "\n",
    "print(last) ➞ outputs 6\n",
    "\n",
    "With Python 3, you can assign variables from lists in a much more succinct way. Create variables first, middle and last from the given list using destructuring assignment (check the Resources tab for some examples), where:\n",
    "\n",
    "first ➞ 1\n",
    "\n",
    "middle ➞ [2, 3, 4, 5]\n",
    "\n",
    "last ➞ 6\n",
    "\n",
    "Your task is to unpack the list write your code here into three variables, being first, middle, and last, with middle being everything in between the first and last element. Then print all three variables."
   ]
  },
  {
   "cell_type": "code",
   "execution_count": 1,
   "id": "8f9f1d23-e48e-486f-bc7a-e7caad7b493f",
   "metadata": {},
   "outputs": [
    {
     "name": "stdout",
     "output_type": "stream",
     "text": [
      "1\n",
      "[2, 3, 4, 5]\n",
      "6\n"
     ]
    }
   ],
   "source": [
    "lst = [1, 2, 3, 4, 5, 6]\n",
    "first, *middle, last = lst\n",
    "print(first) # 1\n",
    "print(middle) # [2, 3, 4, 5]\n",
    "print(last) # 6\n"
   ]
  },
  {
   "cell_type": "markdown",
   "id": "f102553a-48e3-40d3-8014-93dfe3e68255",
   "metadata": {},
   "source": [
    "### 4. Write a function that calculates the factorial of a number recursively.\n",
    "Examples\n",
    "\n",
    "factorial(5) ➞ 120\n",
    "\n",
    "factorial(3) ➞ 6\n",
    "\n",
    "factorial(1) ➞ 1\n",
    "\n",
    "factorial(0) ➞ 1"
   ]
  },
  {
   "cell_type": "code",
   "execution_count": 2,
   "id": "a4bf6f0c-91da-4301-abaa-47f26c6e6613",
   "metadata": {},
   "outputs": [],
   "source": [
    "def factorial(n):\n",
    "    if n == 0:\n",
    "        return 1\n",
    "    else:\n",
    "        return n * factorial(n-1)"
   ]
  },
  {
   "cell_type": "code",
   "execution_count": 3,
   "id": "20a945f4-6ce0-4c0e-b7fc-531b1777b240",
   "metadata": {},
   "outputs": [
    {
     "name": "stdout",
     "output_type": "stream",
     "text": [
      "120\n",
      "6\n",
      "1\n",
      "1\n"
     ]
    }
   ],
   "source": [
    "print(factorial(5))\n",
    "print(factorial(3))\n",
    "print(factorial(1))\n",
    "print(factorial(0))"
   ]
  },
  {
   "cell_type": "markdown",
   "id": "6faf3683-370c-4292-bd15-2e94f395f8c9",
   "metadata": {},
   "source": [
    "### 5. Write a function that moves all elements of one type to the end of the list.\n",
    "Examples\n",
    "move_to_end([1, 3, 2, 4, 4, 1], 1) ➞ [3, 2, 4, 4, 1, 1]\n",
    "#### Move all the 1s to the end of the array.\n",
    "move_to_end([7, 8, 9, 1, 2, 3, 4], 9) ➞ [7, 8, 1, 2, 3, 4, 9]\n",
    "move_to_end([&quot;a&quot;, &quot;a&quot;, &quot;a&quot;, &quot;b&quot;], &quot;a&quot;) ➞ [&quot;b&quot;, &quot;a&quot;, &quot;a&quot;, &quot;a&quot;]"
   ]
  },
  {
   "cell_type": "code",
   "execution_count": 5,
   "id": "b32c3906-e300-43d9-85e4-e0f9d8af8ef3",
   "metadata": {},
   "outputs": [],
   "source": [
    "def move_to_end(lst, elem):\n",
    "    return [x for x in lst if x != elem] + [x for x in lst if x == elem]\n"
   ]
  },
  {
   "cell_type": "code",
   "execution_count": 7,
   "id": "5ccdceda-0720-4494-8a5a-feb93893e28e",
   "metadata": {},
   "outputs": [
    {
     "data": {
      "text/plain": [
       "[3, 2, 4, 4, 1, 1]"
      ]
     },
     "execution_count": 7,
     "metadata": {},
     "output_type": "execute_result"
    }
   ],
   "source": [
    "move_to_end([1, 3, 2, 4, 4, 1], 1)\n"
   ]
  },
  {
   "cell_type": "code",
   "execution_count": 9,
   "id": "5937dfe1-a02b-4fea-8c6b-27a94dcbc192",
   "metadata": {},
   "outputs": [
    {
     "data": {
      "text/plain": [
       "[7, 8, 1, 2, 3, 4, 9]"
      ]
     },
     "execution_count": 9,
     "metadata": {},
     "output_type": "execute_result"
    }
   ],
   "source": [
    "move_to_end([7, 8, 9, 1, 2, 3, 4], 9)"
   ]
  },
  {
   "cell_type": "code",
   "execution_count": 11,
   "id": "b739be24-6744-41bf-a977-17643a199f7a",
   "metadata": {},
   "outputs": [
    {
     "data": {
      "text/plain": [
       "['b', 'a', 'a', 'a']"
      ]
     },
     "execution_count": 11,
     "metadata": {},
     "output_type": "execute_result"
    }
   ],
   "source": [
    "move_to_end([\"a\", \"a\", \"a\", \"b\"], \"a\")"
   ]
  }
 ],
 "metadata": {
  "kernelspec": {
   "display_name": "Python 3 (ipykernel)",
   "language": "python",
   "name": "python3"
  },
  "language_info": {
   "codemirror_mode": {
    "name": "ipython",
    "version": 3
   },
   "file_extension": ".py",
   "mimetype": "text/x-python",
   "name": "python",
   "nbconvert_exporter": "python",
   "pygments_lexer": "ipython3",
   "version": "3.10.6"
  }
 },
 "nbformat": 4,
 "nbformat_minor": 5
}

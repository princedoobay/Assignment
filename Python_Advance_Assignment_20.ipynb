{
  "nbformat": 4,
  "nbformat_minor": 0,
  "metadata": {
    "colab": {
      "provenance": []
    },
    "kernelspec": {
      "name": "python3",
      "display_name": "Python 3"
    },
    "language_info": {
      "name": "python"
    }
  },
  "cells": [
    {
      "cell_type": "markdown",
      "source": [
        "# Python_Advance_Assignment-20"
      ],
      "metadata": {
        "id": "euzUHVTJTVDt"
      }
    },
    {
      "cell_type": "markdown",
      "source": [
        "1. Compare and contrast the float and Decimal classes&#39; benefits and drawbacks.\n",
        "\n",
        "Comparing float and Decimal classes:\n",
        "\n",
        "Benefits of float:\n",
        "- Efficient for general-purpose floating-point arithmetic.\n",
        "- IEEE 754 standard widely supported in hardware and software.\n",
        "- Generally faster for numerical calculations.\n",
        "\n",
        "Drawbacks of float:\n",
        "- Limited precision, leading to rounding errors.\n",
        "- Inexact representation of some decimal values.\n",
        "- Less control over rounding behavior.\n",
        "\n",
        "Benefits of Decimal:\n",
        "- Arbitrary precision for accurate decimal representation.\n",
        "- Control over rounding and precision settings.\n",
        "- Minimized cumulative rounding errors.\n",
        "\n",
        "Drawbacks of Decimal:\n",
        "- Slower performance compared to float.\n",
        "- Not as widely supported."
      ],
      "metadata": {
        "id": "Lv3HjYGFTZhd"
      }
    },
    {
      "cell_type": "markdown",
      "source": [
        "2. Decimal(&#39;1.200&#39;) and Decimal(&#39;1.2&#39;) are two objects to consider. In what sense are these the same object? Are these just two ways of representing the exact same value, or do they correspond to different internal states?\n",
        "\n",
        "Decimal('1.200') and Decimal('1.2') are two different objects representing the same value. They correspond to different internal states due to the way the decimal values are stored. However, when compared for equality, they are considered the same since the Decimal class evaluates their numeric values, not their internal representations.\n",
        "\n"
      ],
      "metadata": {
        "id": "peoASUURTxBO"
      }
    },
    {
      "cell_type": "markdown",
      "source": [
        "3. What happens if the equality of Decimal(&#39;1.200&#39;) and Decimal(&#39;1.2&#39;) is checked?\n",
        "\n",
        "If the equality of Decimal('1.200') and Decimal('1.2') is checked using the equality (==) operator, the result will be True. The Decimal class considers their numeric values, and since they represent the same value, they are considered equal.\n",
        "\n"
      ],
      "metadata": {
        "id": "gSzQZyfPT0UN"
      }
    },
    {
      "cell_type": "markdown",
      "source": [
        "4. Why is it preferable to start a Decimal object with a string rather than a floating-point value?\n",
        "\n",
        "Starting a Decimal object with a string is preferable because it provides an exact representation of the desired value. This avoids potential rounding errors and precision loss that can occur when initializing a Decimal object from a floating-point value. Strings ensure that the value is represented accurately."
      ],
      "metadata": {
        "id": "n2Jue4qiT2T9"
      }
    },
    {
      "cell_type": "markdown",
      "source": [
        "5. In an arithmetic phrase, how simple is it to combine Decimal objects with integers?\n",
        "\n",
        "Combining Decimal objects with integers in arithmetic is quite simple. Python's dynamic typing allows Decimal and integer objects to work together seamlessly in arithmetic operations. You can directly add, subtract, multiply, or divide Decimal objects with integers, and the result will be a Decimal object with the correct precision. For example, Decimal('2.5') + 3 would yield a Decimal object representing 5.5."
      ],
      "metadata": {
        "id": "TFLTdeSDT381"
      }
    },
    {
      "cell_type": "markdown",
      "source": [
        "6. Can Decimal objects and floating-point values be combined easily?\n",
        "\n",
        "Yes, Decimal objects and floating-point values can be combined easily. However, when combining them in arithmetic operations, keep in mind that the result will be a Decimal object, and the floating-point value will be converted to a Decimal with its inherent precision limitations."
      ],
      "metadata": {
        "id": "Uu-Q71t4U9EP"
      }
    },
    {
      "cell_type": "markdown",
      "source": [
        "7. Using the Fraction class but not the Decimal class, give an example of a quantity that can be expressed with absolute precision.\n",
        "\n",
        "Using the Fraction class, an example of a quantity that can be expressed with absolute precision is Fraction(1, 3). This fraction has a repeating decimal representation (0.333...) that can be represented exactly as a fraction with the Fraction class.\n",
        "\n"
      ],
      "metadata": {
        "id": "9r5sAbsRU-52"
      }
    },
    {
      "cell_type": "markdown",
      "source": [
        "8. Describe a quantity that can be accurately expressed by the Decimal or Fraction classes but not by a floating-point value.\n",
        "\n",
        "A quantity that can be accurately expressed by the Decimal or Fraction classes but not by a floating-point value is 0.1. In binary floating-point representation, 0.1 is a repeating fraction (0.0001100110011...) and cannot be represented exactly, leading to rounding errors. However, Decimal and Fraction classes can accurately represent this value."
      ],
      "metadata": {
        "id": "2B6NOeSkVBJt"
      }
    },
    {
      "cell_type": "markdown",
      "source": [
        "9. Consider the following two fraction objects: Fraction(1, 2) and Fraction(1, 2). (5, 10). Is the internal state of these two objects the same? Why do you think that is?\n",
        "\n",
        "The internal state of Fraction(1, 2) and Fraction(1, 2) is the same. The Fraction class normalizes fractions, so equivalent fractions like these will have the same internal representation. This normalization ensures consistent arithmetic behavior."
      ],
      "metadata": {
        "id": "T8N1U22UVC-v"
      }
    },
    {
      "cell_type": "markdown",
      "source": [
        " 10. How do the Fraction class and the integer type (int) relate to each other? Containment or inheritance?\n",
        "\n",
        "The Fraction class and the int type (integer) do not have a containment or inheritance relationship. They are distinct data types in Python. However, the Fraction class can be used with int objects to create fractions with integer values. For example, Fraction(3, 4) and Fraction(6, 8) represent the same fraction, and the int type can be used directly in the numerator or denominator of a Fraction object.\n",
        "\n",
        "\n",
        "\n",
        "\n"
      ],
      "metadata": {
        "id": "UmBvW3ofVEpn"
      }
    }
  ]
}
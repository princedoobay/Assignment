{
  "nbformat": 4,
  "nbformat_minor": 0,
  "metadata": {
    "colab": {
      "provenance": []
    },
    "kernelspec": {
      "name": "python3",
      "display_name": "Python 3"
    },
    "language_info": {
      "name": "python"
    }
  },
  "cells": [
    {
      "cell_type": "markdown",
      "source": [
        "# Python_Advance_Assignment-13"
      ],
      "metadata": {
        "id": "cp9cCVp2Bnf0"
      }
    },
    {
      "cell_type": "markdown",
      "source": [
        "Q1. Can you create a programme or function that employs both positive and negative indexing? Is there any repercussion if you do so?\n",
        "\n",
        "Yes, you can create a program or function that employs both positive and negative indexing. For example:"
      ],
      "metadata": {
        "id": "cz-obL9VBpmM"
      }
    },
    {
      "cell_type": "code",
      "source": [
        "def index_example(data):\n",
        "    positive_index = data[2]  # Positive indexing\n",
        "    negative_index = data[-3]  # Negative indexing\n",
        "\n",
        "    return positive_index, negative_index\n",
        "\n",
        "my_list = [10, 20, 30, 40, 50]\n",
        "result = index_example(my_list)\n",
        "print(result)  # Output: (30, 30)\n"
      ],
      "metadata": {
        "colab": {
          "base_uri": "https://localhost:8080/"
        },
        "id": "gbGqzjTQBorj",
        "outputId": "7226fd4b-bc72-4ba5-e043-a624fddc81d8"
      },
      "execution_count": 1,
      "outputs": [
        {
          "output_type": "stream",
          "name": "stdout",
          "text": [
            "(30, 30)\n"
          ]
        }
      ]
    },
    {
      "cell_type": "markdown",
      "source": [
        "In this example, `positive_index` and `negative_index` both retrieve the same element from the list. However, using both positive and negative indexing to access the same element doesn't have any immediate repercussions. The positive and negative indices refer to the same underlying element.\n",
        "\n"
      ],
      "metadata": {
        "id": "FWDrstnWBuqL"
      }
    },
    {
      "cell_type": "markdown",
      "source": [
        "Q2. What is the most effective way of starting with 1,000 elements in a Python list? Assume that all elements should be set to the same value.\n",
        "\n",
        "The most effective way to create a Python list with 1,000 elements, all set to the same value, is to use the multiplication operator (*) with a single-element list. This approach is memory-efficient and ensures that all elements in the list have the same value. Here's how you can do it:"
      ],
      "metadata": {
        "id": "JpoSOc1TBzmd"
      }
    },
    {
      "cell_type": "code",
      "source": [
        "value = 42  # Replace with the desired value\n",
        "my_list = [value] * 1000"
      ],
      "metadata": {
        "id": "FzcLPf4oBshM"
      },
      "execution_count": 3,
      "outputs": []
    },
    {
      "cell_type": "markdown",
      "source": [
        "In this example, the list [value] contains only one element (the desired value), and then the multiplication operator duplicates this single-element list 1,000 times to create a list with 1,000 elements, all set to the same value (42 in this case). This approach creates the list quickly and is memory-efficient since it doesn't involve creating 1,000 separate elements in memory.\n",
        "\n",
        "\n",
        "\n",
        "\n"
      ],
      "metadata": {
        "id": "Lstp_EUlCW3s"
      }
    },
    {
      "cell_type": "markdown",
      "source": [
        "Q3. How do you slice a list to get any other part while missing the rest?\n",
        "\n",
        "If you want to create a new list containing elements at specific indices (e.g., first, third, fifth, etc.) while skipping the rest, you can achieve this using slicing with a step value. The step value controls the increment between indices in the slice. Here's how you can do it:"
      ],
      "metadata": {
        "id": "H7yreKwOCYSf"
      }
    },
    {
      "cell_type": "code",
      "source": [
        "original_list = [0, 1, 2, 3, 4, 5, 6, 7, 8, 9]\n",
        "\n",
        "new_list = original_list[::2]  # Start at 0, step by 2\n",
        "print(new_list)  # Output: [0, 2, 4, 6, 8]"
      ],
      "metadata": {
        "colab": {
          "base_uri": "https://localhost:8080/"
        },
        "id": "IMa_ZCRhB531",
        "outputId": "42961011-dc51-46b4-c666-7b987cd0186f"
      },
      "execution_count": 4,
      "outputs": [
        {
          "output_type": "stream",
          "name": "stdout",
          "text": [
            "[0, 2, 4, 6, 8]\n"
          ]
        }
      ]
    },
    {
      "cell_type": "markdown",
      "source": [
        "In this example, `original_list[::2]` creates a new list by starting from index 0 and stepping by 2, effectively selecting the elements at even indices.\n",
        "\n"
      ],
      "metadata": {
        "id": "YHmP6fsXCk7E"
      }
    },
    {
      "cell_type": "markdown",
      "source": [
        "Q4. Explain the distinctions between indexing and slicing.\n",
        "\n",
        "Indexing and slicing are related concepts, but they serve different purposes:\n",
        "\n",
        "- `Indexing`: Indexing refers to accessing a single element from a sequence (like a list or string) using a specific position, either positive or negative. Indexing is done using square brackets `[]` and the index value. For example, `my_list[0]` accesses the first element of the list.\n",
        "\n",
        "- `Slicing`: Slicing involves extracting a portion of a sequence by specifying a range of indices. A slice is created using square brackets and a range of indices separated by a colon. For example, `my_list[1:4]` would create a new list containing elements at indices 1, 2, and 3.\n",
        "\n",
        "In summary, indexing retrieves a single element, while slicing extracts a portion of the sequence. Slicing can be used to create a new sequence, while indexing accesses an existing element at a specific position."
      ],
      "metadata": {
        "id": "-0GCUm1YCqw9"
      }
    },
    {
      "cell_type": "markdown",
      "source": [
        "Q5. What happens if one of the slicing expression's indexes is out of range?\n",
        "\n",
        "If one of the slicing expression's indexes is out of range, Python will not raise an error. Instead, it will adjust the index to fit within the valid range of indices for the sequence (list, string, etc.). For example:"
      ],
      "metadata": {
        "id": "qOA-WnsmDIZs"
      }
    },
    {
      "cell_type": "code",
      "source": [
        "my_list = [0, 1, 2, 3, 4]\n",
        "result = my_list[10:15]\n",
        "print(result)  # Output: []\n"
      ],
      "metadata": {
        "colab": {
          "base_uri": "https://localhost:8080/"
        },
        "id": "XI1aJSuCCih7",
        "outputId": "47893f6e-e2fa-4364-b4fb-b247076835b5"
      },
      "execution_count": 5,
      "outputs": [
        {
          "output_type": "stream",
          "name": "stdout",
          "text": [
            "[]\n"
          ]
        }
      ]
    },
    {
      "cell_type": "markdown",
      "source": [
        "In this example, the index `10` is out of range for the `my_list` sequence, so Python adjusts it to the nearest valid index (`4`) and returns an empty list. No IndexError is raised.\n",
        "\n"
      ],
      "metadata": {
        "id": "IK3KFbomDLNs"
      }
    },
    {
      "cell_type": "markdown",
      "source": [
        "Q6. If you pass a list to a function, and if you want the function to be able to change the values of the list—so that the list is different after the function returns—what action should you avoid?\n",
        "\n",
        "If you want a function to be able to modify the values of a list that you pass to it, you should avoid reassigning the input parameter to a new list object within the function. Doing so would disconnect the parameter from the original list, preventing changes from affecting the original list.\n",
        "\n",
        "For example, avoid actions like this within the function:"
      ],
      "metadata": {
        "id": "LCV-k34fDjGM"
      }
    },
    {
      "cell_type": "code",
      "source": [
        "def modify_list(some_list):\n",
        "    some_list = [1, 2, 3]  # Avoid reassignment\n",
        "\n",
        "my_list = [10, 20, 30]\n",
        "modify_list(my_list)\n",
        "print(my_list)  # Output: [10, 20, 30]\n"
      ],
      "metadata": {
        "colab": {
          "base_uri": "https://localhost:8080/"
        },
        "id": "usocdjTRDk0L",
        "outputId": "e20b6bbd-cf36-4f84-f0e5-bab78a05d6fd"
      },
      "execution_count": 6,
      "outputs": [
        {
          "output_type": "stream",
          "name": "stdout",
          "text": [
            "[10, 20, 30]\n"
          ]
        }
      ]
    },
    {
      "cell_type": "markdown",
      "source": [
        "To modify the original list, you should manipulate the list's elements using indexing or methods:\n",
        "\n"
      ],
      "metadata": {
        "id": "wjobGg00Doj8"
      }
    },
    {
      "cell_type": "code",
      "source": [
        "def modify_list(some_list):\n",
        "    some_list[0] = 100\n",
        "    some_list.append(40)\n",
        "\n",
        "my_list = [10, 20, 30]\n",
        "modify_list(my_list)\n",
        "print(my_list)  # Output: [100, 20, 30, 40]\n"
      ],
      "metadata": {
        "colab": {
          "base_uri": "https://localhost:8080/"
        },
        "id": "yxmhDDP5Dmt0",
        "outputId": "5f6698cc-ce6a-4f20-b13c-c44181b64999"
      },
      "execution_count": 7,
      "outputs": [
        {
          "output_type": "stream",
          "name": "stdout",
          "text": [
            "[100, 20, 30, 40]\n"
          ]
        }
      ]
    },
    {
      "cell_type": "markdown",
      "source": [
        "Q7. What is the concept of an unbalanced matrix?\n",
        "\n",
        "An unbalanced matrix refers to a matrix (a two-dimensional array) where the rows have different lengths. In other words, the number of columns in each row varies, resulting in an irregular shape for the matrix. Unbalanced matrices are not true mathematical matrices and can make certain matrix operations or calculations more complex or impossible."
      ],
      "metadata": {
        "id": "DsOrQ5zrDthq"
      }
    },
    {
      "cell_type": "markdown",
      "source": [
        "Q8. Why is it necessary to use either list comprehension or a loop to create arbitrarily large matrices?\n",
        "\n",
        "List comprehension or loops are necessary to create arbitrarily large matrices because you need a way to generate the elements of the matrix systematically. Without list comprehension or loops, you would need to manually write each element, which is impractical for large matrices.\n",
        "\n",
        "List comprehension and loops allow you to generate matrix elements based on a pattern or calculation, and they can be scaled easily to create matrices of any desired size. This is especially important for memory and code efficiency when working with large datasets or numerical computations involving matrices."
      ],
      "metadata": {
        "id": "SUlX6uvHDwad"
      }
    }
  ]
}
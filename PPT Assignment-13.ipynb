{
 "cells": [
  {
   "cell_type": "markdown",
   "id": "72dcc499",
   "metadata": {},
   "source": [
    "# PPT Assignment-13"
   ]
  },
  {
   "cell_type": "markdown",
   "id": "b787793a",
   "metadata": {},
   "source": [
    "**Question 1**\n",
    "\n",
    "Given two linked list of the same size, the task is to create a new linked list using those linked lists. The condition is that the greater node among both linked list will be added to the new linked list.\n",
    "\n",
    "**Examples:**\n",
    "Input: list1 = 5->2->3->8 , list2 = 1->7->4->5\n",
    "\n",
    "Output: New list = 5->7->4->8\n",
    "\n",
    "Input:list1 = 2->8->9->3 , list2 = 5->3->6->4\n",
    "\n",
    "Output: New list = 5->8->9->4"
   ]
  },
  {
   "cell_type": "code",
   "execution_count": 1,
   "id": "e1b46725",
   "metadata": {
    "scrolled": true
   },
   "outputs": [],
   "source": [
    "class ListNode:\n",
    "    def __init__(self, val=0, next=None):\n",
    "        self.val = val\n",
    "        self.next = next\n",
    "\n",
    "\n",
    "def createLinkedList(values):\n",
    "    head = ListNode(values[0])\n",
    "    curr = head\n",
    "    for i in range(1, len(values)):\n",
    "        curr.next = ListNode(values[i])\n",
    "        curr = curr.next\n",
    "    return head\n",
    "\n",
    "\n",
    "def printLinkedList(head):\n",
    "    curr = head\n",
    "    while curr:\n",
    "        print(curr.val, end=\" \")\n",
    "        curr = curr.next\n",
    "    print()\n",
    "\n",
    "\n",
    "def createNewList(list1, list2):\n",
    "    if not list1 or not list2:\n",
    "        return None\n",
    "\n",
    "    p1 = list1\n",
    "    p2 = list2\n",
    "    head = ListNode(max(p1.val, p2.val))\n",
    "    curr = head\n",
    "    p1 = p1.next\n",
    "    p2 = p2.next\n",
    "\n",
    "    while p1 and p2:\n",
    "        curr.next = ListNode(max(p1.val, p2.val))\n",
    "        curr = curr.next\n",
    "        p1 = p1.next\n",
    "        p2 = p2.next\n",
    "\n",
    "    return head"
   ]
  },
  {
   "cell_type": "code",
   "execution_count": 2,
   "id": "7e50747f",
   "metadata": {},
   "outputs": [
    {
     "name": "stdout",
     "output_type": "stream",
     "text": [
      "Input: list1 = 5 2 3 8 \n",
      "       list2 = 1 7 4 5 \n",
      "Output: New list = 5 7 4 8 \n"
     ]
    }
   ],
   "source": [
    "list1_values = [5, 2, 3, 8]\n",
    "list2_values = [1, 7, 4, 5]\n",
    "\n",
    "list1 = createLinkedList(list1_values)\n",
    "list2 = createLinkedList(list2_values)\n",
    "\n",
    "new_list = createNewList(list1, list2)\n",
    "\n",
    "print(\"Input: list1 =\", end=\" \")\n",
    "printLinkedList(list1)\n",
    "print(\"       list2 =\", end=\" \")\n",
    "printLinkedList(list2)\n",
    "\n",
    "print(\"Output: New list =\", end=\" \")\n",
    "printLinkedList(new_list)  "
   ]
  },
  {
   "cell_type": "code",
   "execution_count": 3,
   "id": "e77f54bb",
   "metadata": {
    "scrolled": true
   },
   "outputs": [
    {
     "name": "stdout",
     "output_type": "stream",
     "text": [
      "Input: list1 = 2 8 9 3 \n",
      "       list2 = 5 3 6 4 \n",
      "Output: New list = 5 8 9 4 \n"
     ]
    }
   ],
   "source": [
    "\n",
    "# Example\n",
    "list1_values = [2, 8, 9, 3]\n",
    "list2_values = [5, 3, 6, 4]\n",
    "\n",
    "list1 = createLinkedList(list1_values)\n",
    "list2 = createLinkedList(list2_values)\n",
    "\n",
    "new_list = createNewList(list1, list2)\n",
    "\n",
    "print(\"Input: list1 =\", end=\" \")\n",
    "printLinkedList(list1)\n",
    "print(\"       list2 =\", end=\" \")\n",
    "printLinkedList(list2)\n",
    "\n",
    "print(\"Output: New list =\", end=\" \")\n",
    "printLinkedList(new_list)  "
   ]
  },
  {
   "cell_type": "markdown",
   "id": "f6aad40b",
   "metadata": {},
   "source": [
    "**Question 2**\n",
    "\n",
    "Write a function that takes a list sorted in non-decreasing order and deletes any duplicate nodes from the list. The list should only be traversed once.\n",
    "\n",
    "For example if the linked list is 11->11->11->21->43->43->60 then removeDuplicates() should convert the list to 11->21->43->60.\n",
    "\n",
    "**Example 1:**\n",
    "Input:\n",
    "\n",
    "LinkedList: \n",
    "11->11->11->21->43->43->60\n",
    "\n",
    "Output:\n",
    "11->21->43->60\n",
    "\n",
    "**Example 2:**\n",
    "Input:\n",
    "\n",
    "LinkedList: \n",
    "10->12->12->25->25->25->34\n",
    "\n",
    "Output:\n",
    "10->12->25->34"
   ]
  },
  {
   "cell_type": "code",
   "execution_count": 4,
   "id": "6d99f2da",
   "metadata": {},
   "outputs": [],
   "source": [
    "class ListNode:\n",
    "    def __init__(self, val=0, next=None):\n",
    "        self.val = val\n",
    "        self.next = next\n",
    "\n",
    "def removeDuplicates(head):\n",
    "    if not head:\n",
    "        return head\n",
    "\n",
    "    curr = head\n",
    "\n",
    "    while curr.next:\n",
    "        if curr.val == curr.next.val:\n",
    "            curr.next = curr.next.next\n",
    "        else:\n",
    "            curr = curr.next\n",
    "\n",
    "    return head"
   ]
  },
  {
   "cell_type": "code",
   "execution_count": 5,
   "id": "194f658b",
   "metadata": {},
   "outputs": [],
   "source": [
    "# Helper function to create a linked list from a list of values\n",
    "def createLinkedList(values):\n",
    "    dummy = ListNode(0)\n",
    "    curr = dummy\n",
    "\n",
    "    for val in values:\n",
    "        curr.next = ListNode(val)\n",
    "        curr = curr.next\n",
    "\n",
    "    return dummy.next\n",
    "\n",
    "# Helper function to print the values of a linked list\n",
    "def printLinkedList(head):\n",
    "    curr = head\n",
    "    while curr:\n",
    "        print(curr.val, end=\" \")\n",
    "        curr = curr.next\n",
    "    print()"
   ]
  },
  {
   "cell_type": "code",
   "execution_count": 6,
   "id": "97196c77",
   "metadata": {},
   "outputs": [
    {
     "name": "stdout",
     "output_type": "stream",
     "text": [
      "11 21 43 60 \n"
     ]
    }
   ],
   "source": [
    "list1 = createLinkedList([11, 11, 11, 21, 43, 43, 60])\n",
    "\n",
    "list1 = removeDuplicates(list1)\n",
    "printLinkedList(list1)  "
   ]
  },
  {
   "cell_type": "code",
   "execution_count": 7,
   "id": "a31d7063",
   "metadata": {},
   "outputs": [
    {
     "name": "stdout",
     "output_type": "stream",
     "text": [
      "10 12 25 34 \n"
     ]
    }
   ],
   "source": [
    "list2 = createLinkedList([10, 12, 12, 25, 25, 25, 34])\n",
    "\n",
    "list2 = removeDuplicates(list2)\n",
    "printLinkedList(list2)"
   ]
  },
  {
   "cell_type": "markdown",
   "id": "3be2c06f",
   "metadata": {},
   "source": [
    "**Question 3**\n",
    "\n",
    "Given a linked list of size **N**. The task is to reverse every **k** nodes (where k is an input to the function) in the linked list. If the number of nodes is not a multiple of *k* then left-out nodes, in the end, should be considered as a group and must be reversed (See Example 2 for clarification).\n",
    "\n",
    "**Example 1:**\n",
    "Input: LinkedList: 1->2->2->4->5->6->7->8 , K = 4\n",
    "\n",
    "Output:4 2 2 1 8 7 6 5\n",
    "\n",
    "Explanation: The first 4 elements 1,2,2,4 are reversed first and then the next 4 elements 5,6,7,8. Hence, the resultant linked list is 4->2->2->1->8->7->6->5.\n",
    "\n",
    "**Example 2:**\n",
    "Input: LinkedList: 1->2->3->4->5 , K = 3\n",
    "\n",
    "Output:3 2 1 5 4\n",
    "\n",
    "Explanation: The first 3 elements are 1,2,3 are reversed first and then elements 4,5 are reversed. Hence, the resultant linked list is 3->2->1->5->4."
   ]
  },
  {
   "cell_type": "code",
   "execution_count": 8,
   "id": "11adb712",
   "metadata": {},
   "outputs": [],
   "source": [
    "class ListNode:\n",
    "    def __init__(self, val=0, next=None):\n",
    "        self.val = val\n",
    "        self.next = next\n",
    "\n",
    "def reverseKNodes(head, k):\n",
    "    if not head or not head.next or k == 1:\n",
    "        return head\n",
    "\n",
    "    dummy = ListNode(0)\n",
    "    dummy.next = head\n",
    "\n",
    "    prev = dummy\n",
    "    current = head\n",
    "    count = 0\n",
    "\n",
    "    while current:\n",
    "        count += 1\n",
    "\n",
    "        if count % k == 0:\n",
    "            prev = reverseGroup(prev, current.next)\n",
    "            current = prev.next\n",
    "        else:\n",
    "            current = current.next\n",
    "\n",
    "    return dummy.next\n",
    "\n",
    "def reverseGroup(prev, next_node):\n",
    "    last = prev.next\n",
    "    current = last.next\n",
    "\n",
    "    while current != next_node:\n",
    "        last.next = current.next\n",
    "        current.next = prev.next\n",
    "        prev.next = current\n",
    "        current = last.next\n",
    "\n",
    "    return last"
   ]
  },
  {
   "cell_type": "code",
   "execution_count": 9,
   "id": "e6222147",
   "metadata": {},
   "outputs": [],
   "source": [
    "# Helper function to create a linked list from a list of values\n",
    "def createLinkedList(values):\n",
    "    dummy = ListNode(0)\n",
    "    curr = dummy\n",
    "\n",
    "    for val in values:\n",
    "        curr.next = ListNode(val)\n",
    "        curr = curr.next\n",
    "\n",
    "    return dummy.next\n",
    "\n",
    "# Helper function to print the values of a linked list\n",
    "def printLinkedList(head):\n",
    "    curr = head\n",
    "    while curr:\n",
    "        print(curr.val, end=\" \")\n",
    "        curr = curr.next\n",
    "    print()"
   ]
  },
  {
   "cell_type": "code",
   "execution_count": 10,
   "id": "eae795c2",
   "metadata": {},
   "outputs": [
    {
     "name": "stdout",
     "output_type": "stream",
     "text": [
      "4 2 2 1 8 7 6 5 \n"
     ]
    }
   ],
   "source": [
    "# Example 1\n",
    "list1 = createLinkedList([1, 2, 2, 4, 5, 6, 7, 8])\n",
    "\n",
    "list1 = reverseKNodes(list1, 4)\n",
    "printLinkedList(list1)  "
   ]
  },
  {
   "cell_type": "code",
   "execution_count": 11,
   "id": "d21c6194",
   "metadata": {},
   "outputs": [
    {
     "name": "stdout",
     "output_type": "stream",
     "text": [
      "3 2 1 4 5 \n"
     ]
    }
   ],
   "source": [
    "# Example 2\n",
    "list2 = createLinkedList([1, 2, 3, 4, 5])\n",
    "\n",
    "list2 = reverseKNodes(list2, 3)\n",
    "printLinkedList(list2)  \n"
   ]
  },
  {
   "cell_type": "markdown",
   "id": "5ed7ab0e",
   "metadata": {},
   "source": [
    "**Question 4**\n",
    "\n",
    "Given a linked list, write a function to reverse every alternate k nodes (where k is an input to the function) in an efficient way. Give the complexity of your algorithm.\n",
    "\n",
    "**Example:**\n",
    "Inputs:   1->2->3->4->5->6->7->8->9->NULL and k = 3\n",
    "\n",
    "Output:   3->2->1->4->5->6->9->8->7->NULL."
   ]
  },
  {
   "cell_type": "markdown",
   "id": "3badb1f9",
   "metadata": {},
   "source": [
    "**Question 5**\n",
    "\n",
    "Given a linked list and a key to be deleted. Delete last occurrence of key from linked. The list may have duplicates.\n",
    "\n",
    "**Examples**:\n",
    "Input:   1->2->3->5->2->10, key = 2\n",
    "\n",
    "Output:  1->2->3->5->10"
   ]
  },
  {
   "cell_type": "code",
   "execution_count": 12,
   "id": "ada30d81",
   "metadata": {},
   "outputs": [],
   "source": [
    "class ListNode:\n",
    "    def __init__(self, val=0, next=None):\n",
    "        self.val = val\n",
    "        self.next = next\n",
    "\n",
    "def deleteLastOccurrence(head, key):\n",
    "    if not head:\n",
    "        return head\n",
    "\n",
    "    prev = None\n",
    "    curr = head\n",
    "    last_occurrence = None\n",
    "\n",
    "    while curr:\n",
    "        if curr.val == key:\n",
    "            last_occurrence = prev\n",
    "\n",
    "        prev = curr\n",
    "        curr = curr.next\n",
    "\n",
    "    if not last_occurrence:\n",
    "        head = head.next\n",
    "    else:\n",
    "        last_occurrence.next = last_occurrence.next.next\n",
    "\n",
    "    return head"
   ]
  },
  {
   "cell_type": "code",
   "execution_count": 13,
   "id": "a9bc7971",
   "metadata": {},
   "outputs": [
    {
     "name": "stdout",
     "output_type": "stream",
     "text": [
      "1 2 3 5 10 \n"
     ]
    }
   ],
   "source": [
    "# Helper function to create a linked list from a list of values\n",
    "def createLinkedList(values):\n",
    "    dummy = ListNode()\n",
    "    curr = dummy\n",
    "\n",
    "    for val in values:\n",
    "        curr.next = ListNode(val)\n",
    "        curr = curr.next\n",
    "\n",
    "    return dummy.next\n",
    "\n",
    "# Helper function to print the values of a linked list\n",
    "def printLinkedList(head):\n",
    "    curr = head\n",
    "    while curr:\n",
    "        print(curr.val, end=\" \")\n",
    "        curr = curr.next\n",
    "    print()\n",
    "\n",
    "# Example\n",
    "list1 = createLinkedList([1, 2, 3, 5, 2, 10])\n",
    "key = 2\n",
    "\n",
    "list1 = deleteLastOccurrence(list1, key)\n",
    "printLinkedList(list1)  # Output: 1 2 3 5 10\n"
   ]
  },
  {
   "cell_type": "code",
   "execution_count": 14,
   "id": "7d313bd7",
   "metadata": {},
   "outputs": [
    {
     "name": "stdout",
     "output_type": "stream",
     "text": [
      "1 2 3 5 10 \n"
     ]
    }
   ],
   "source": [
    "# Example\n",
    "list1 = createLinkedList([1, 2, 3, 5, 2, 10])\n",
    "key = 2\n",
    "\n",
    "list1 = deleteLastOccurrence(list1, key)\n",
    "printLinkedList(list1)  \n"
   ]
  },
  {
   "cell_type": "markdown",
   "id": "d9533a09",
   "metadata": {},
   "source": [
    "**Question 6**\n",
    "\n",
    "Given two sorted linked lists consisting of **N** and **M** nodes respectively. The task is to merge both of the lists (in place) and return the head of the merged list.\n",
    "\n",
    "**Examples:**\n",
    "Input: a: 5->10->15, b: 2->3->20\n",
    "\n",
    "Output: 2->3->5->10->15->20\n",
    "\n",
    "Input: a: 1->1, b: 2->4\n",
    "\n",
    "Output: 1->1->2->4"
   ]
  },
  {
   "cell_type": "code",
   "execution_count": 15,
   "id": "3b7f30f2",
   "metadata": {},
   "outputs": [],
   "source": [
    "class ListNode:\n",
    "    def __init__(self, val=0, next=None):\n",
    "        self.val = val\n",
    "        self.next = next\n",
    "\n",
    "def mergeTwoLists(a, b):\n",
    "    dummy = ListNode()\n",
    "    current = dummy\n",
    "\n",
    "    while a and b:\n",
    "        if a.val <= b.val:\n",
    "            current.next = a\n",
    "            a = a.next\n",
    "        else:\n",
    "            current.next = b\n",
    "            b = b.next\n",
    "        current = current.next\n",
    "\n",
    "    if a:\n",
    "        current.next = a\n",
    "    elif b:\n",
    "        current.next = b\n",
    "\n",
    "    return dummy.next"
   ]
  },
  {
   "cell_type": "code",
   "execution_count": 16,
   "id": "4ff6d451",
   "metadata": {},
   "outputs": [],
   "source": [
    "# Helper function to create a linked list from a list of values\n",
    "def createLinkedList(values):\n",
    "    dummy = ListNode()\n",
    "    curr = dummy\n",
    "\n",
    "    for val in values:\n",
    "        curr.next = ListNode(val)\n",
    "        curr = curr.next\n",
    "\n",
    "    return dummy.next\n",
    "\n",
    "# Helper function to print the values of a linked list\n",
    "def printLinkedList(head):\n",
    "    curr = head\n",
    "    while curr:\n",
    "        print(curr.val, end=\" \")\n",
    "        curr = curr.next\n",
    "    print()\n",
    "\n",
    "\n"
   ]
  },
  {
   "cell_type": "code",
   "execution_count": 17,
   "id": "6675ac5f",
   "metadata": {},
   "outputs": [
    {
     "name": "stdout",
     "output_type": "stream",
     "text": [
      "2 3 5 10 15 20 \n"
     ]
    }
   ],
   "source": [
    "# Example 1\n",
    "list1 = createLinkedList([5, 10, 15])\n",
    "list2 = createLinkedList([2, 3, 20])\n",
    "\n",
    "merged_list = mergeTwoLists(list1, list2)\n",
    "printLinkedList(merged_list)  "
   ]
  },
  {
   "cell_type": "code",
   "execution_count": 18,
   "id": "12b25ae5",
   "metadata": {},
   "outputs": [
    {
     "name": "stdout",
     "output_type": "stream",
     "text": [
      "1 1 2 4 \n"
     ]
    }
   ],
   "source": [
    "\n",
    "# Example 2\n",
    "list3 = createLinkedList([1, 1])\n",
    "list4 = createLinkedList([2, 4])\n",
    "\n",
    "merged_list = mergeTwoLists(list3, list4)\n",
    "printLinkedList(merged_list)  "
   ]
  },
  {
   "cell_type": "markdown",
   "id": "fbffae1e",
   "metadata": {},
   "source": [
    "**Question 7**\n",
    "\n",
    "Given a **Doubly Linked List**, the task is to reverse the given Doubly Linked List.\n",
    "\n",
    "**Example:**\n",
    "Original Linked list 10 8 4 2\n",
    "\n",
    "Reversed Linked list 2 4 8 10"
   ]
  },
  {
   "cell_type": "code",
   "execution_count": 19,
   "id": "4991f2dd",
   "metadata": {},
   "outputs": [],
   "source": [
    "class ListNode:\n",
    "    def __init__(self, val=0, prev=None, next=None):\n",
    "        self.val = val\n",
    "        self.prev = prev\n",
    "        self.next = next\n",
    "\n",
    "def reverseLinkedList(head):\n",
    "    if not head or not head.next:\n",
    "        return head\n",
    "\n",
    "    current = head\n",
    "    prev = None\n",
    "\n",
    "    while current:\n",
    "        next_node = current.next\n",
    "        current.next = prev\n",
    "        current.prev = next_node\n",
    "        prev = current\n",
    "        current = next_node\n",
    "\n",
    "    head = prev\n",
    "    return head"
   ]
  },
  {
   "cell_type": "code",
   "execution_count": 20,
   "id": "650b2a05",
   "metadata": {},
   "outputs": [],
   "source": [
    "# Helper function to create a doubly linked list from a list of values\n",
    "def createDoublyLinkedList(values):\n",
    "    dummy = ListNode(0)\n",
    "    curr = dummy\n",
    "\n",
    "    for val in values:\n",
    "        curr.next = ListNode(val)\n",
    "        curr.next.prev = curr\n",
    "        curr = curr.next\n",
    "\n",
    "    return dummy.next\n",
    "\n",
    "# Helper function to print the values of a doubly linked list\n",
    "def printDoublyLinkedList(head):\n",
    "    curr = head\n",
    "    while curr:\n",
    "        print(curr.val, end=\" \")\n",
    "        curr = curr.next\n",
    "    print()\n"
   ]
  },
  {
   "cell_type": "code",
   "execution_count": 21,
   "id": "8d2a0a82",
   "metadata": {},
   "outputs": [
    {
     "name": "stdout",
     "output_type": "stream",
     "text": [
      "2 4 8 10 \n"
     ]
    }
   ],
   "source": [
    "\n",
    "# Example\n",
    "list1 = createDoublyLinkedList([10, 8, 4, 2])\n",
    "\n",
    "list1 = reverseLinkedList(list1)\n",
    "printDoublyLinkedList(list1)  \n"
   ]
  },
  {
   "cell_type": "markdown",
   "id": "387d19cc",
   "metadata": {},
   "source": [
    "**Question 8**\n",
    "\n",
    "Given a doubly linked list and a position. The task is to delete a node from given position in a doubly linked list.\n",
    "\n",
    "**Example 1:**\n",
    "Input:\n",
    "LinkedList = 1 <--> 3 <--> 4   , x = 3\n",
    "\n",
    "Output:1 3\n",
    "Explanation:After deleting the node at position 3 (position starts from 1), the linked list will be now as 1->3.\n",
    "\n",
    "**Example 2:**\n",
    "Input:\n",
    "LinkedList = 1 <--> 5 <--> 2 <--> 9  , x = 1\n",
    "\n",
    "Output:5 2 9"
   ]
  },
  {
   "cell_type": "code",
   "execution_count": 22,
   "id": "e87b1835",
   "metadata": {},
   "outputs": [],
   "source": [
    "class ListNode:\n",
    "    def __init__(self, val=0, prev=None, next=None):\n",
    "        self.val = val\n",
    "        self.prev = prev\n",
    "        self.next = next\n",
    "\n",
    "def deleteNode(head, position):\n",
    "    if not head:\n",
    "        return head\n",
    "\n",
    "    if position == 1:\n",
    "        if head.next:\n",
    "            head.next.prev = None\n",
    "        return head.next\n",
    "\n",
    "    current = head\n",
    "    count = 1\n",
    "\n",
    "    while current and count < position:\n",
    "        current = current.next\n",
    "        count += 1\n",
    "\n",
    "    if not current:\n",
    "        return head\n",
    "\n",
    "    current.prev.next = current.next\n",
    "\n",
    "    if current.next:\n",
    "        current.next.prev = current.prev\n",
    "\n",
    "    return head"
   ]
  },
  {
   "cell_type": "code",
   "execution_count": 23,
   "id": "b1bf73cf",
   "metadata": {},
   "outputs": [],
   "source": [
    "# Helper function to create a doubly linked list from a list of values\n",
    "def createDoublyLinkedList(values):\n",
    "    dummy = ListNode(0)\n",
    "    curr = dummy\n",
    "\n",
    "    for val in values:\n",
    "        curr.next = ListNode(val)\n",
    "        curr.next.prev = curr\n",
    "        curr = curr.next\n",
    "\n",
    "    return dummy.next\n",
    "\n",
    "# Helper function to print the values of a doubly linked list\n",
    "def printDoublyLinkedList(head):\n",
    "    curr = head\n",
    "    while curr:\n",
    "        print(curr.val, end=\" \")\n",
    "        curr = curr.next\n",
    "    print()"
   ]
  },
  {
   "cell_type": "code",
   "execution_count": 24,
   "id": "be38a606",
   "metadata": {},
   "outputs": [
    {
     "name": "stdout",
     "output_type": "stream",
     "text": [
      "1 3 \n"
     ]
    }
   ],
   "source": [
    "# Example 1\n",
    "list1 = createDoublyLinkedList([1, 3, 4])\n",
    "\n",
    "list1 = deleteNode(list1, 3)\n",
    "printDoublyLinkedList(list1)  "
   ]
  },
  {
   "cell_type": "code",
   "execution_count": 25,
   "id": "d8292f11",
   "metadata": {},
   "outputs": [
    {
     "name": "stdout",
     "output_type": "stream",
     "text": [
      "5 2 9 \n"
     ]
    }
   ],
   "source": [
    "# Example 2\n",
    "list2 = createDoublyLinkedList([1, 5, 2, 9])\n",
    "\n",
    "list2 = deleteNode(list2, 1)\n",
    "printDoublyLinkedList(list2)  "
   ]
  }
 ],
 "metadata": {
  "kernelspec": {
   "display_name": "Python 3 (ipykernel)",
   "language": "python",
   "name": "python3"
  },
  "language_info": {
   "codemirror_mode": {
    "name": "ipython",
    "version": 3
   },
   "file_extension": ".py",
   "mimetype": "text/x-python",
   "name": "python",
   "nbconvert_exporter": "python",
   "pygments_lexer": "ipython3",
   "version": "3.9.12"
  }
 },
 "nbformat": 4,
 "nbformat_minor": 5
}

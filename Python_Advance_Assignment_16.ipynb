{
  "nbformat": 4,
  "nbformat_minor": 0,
  "metadata": {
    "colab": {
      "provenance": []
    },
    "kernelspec": {
      "name": "python3",
      "display_name": "Python 3"
    },
    "language_info": {
      "name": "python"
    }
  },
  "cells": [
    {
      "cell_type": "markdown",
      "source": [
        "# Python_Advance_Assignment - 16"
      ],
      "metadata": {
        "id": "o81r1kogR5A-"
      }
    },
    {
      "cell_type": "markdown",
      "source": [
        "Q1. What is the benefit of regular expressions?\n",
        "\n",
        "The benefit of regular expressions is that they provide a powerful and flexible way to search, match, and manipulate text patterns in strings. Regular expressions allow you to perform tasks such as:\n",
        "\n",
        "- Search for specific patterns in text.\n",
        "- Validate and extract data from strings (e.g., email addresses, phone numbers).\n",
        "- Replace or modify parts of strings based on patterns.\n",
        "- Split strings into meaningful components.\n",
        "- Perform complex text processing tasks efficiently.\n",
        "\n",
        "Regular expressions are particularly useful when dealing with large amounts of textual data or when the patterns you need to match or manipulate are complex and varied."
      ],
      "metadata": {
        "id": "--YLrD_cSFkm"
      }
    },
    {
      "cell_type": "markdown",
      "source": [
        "Q2. Describe the difference between the effects of &quot;(ab)c+&quot; and &quot;a(bc)+.&quot; Which of these, if any, is the\n",
        "unqualified pattern &quot;abc+&quot;?\n",
        "\n",
        "The regular expression patterns \"(ab)c+\" and \"a(bc)+\" have different effects:\n",
        "\n",
        "\"(ab)c+\": This pattern matches strings that start with \"ab\" followed by one or more occurrences of the character \"c\". For example, it would match \"abc\", \"abcc\", \"abccc\", and so on.\n",
        "\n",
        "\"a(bc)+\": This pattern matches strings that start with \"a\" followed by one or more occurrences of the sequence \"bc\". For example, it would match \"abc\", \"abcbc\", \"abcbcbc\", and so on.\n",
        "\n",
        "The unqualified pattern \"abc+\" would match strings that start with \"ab\" followed by one or more occurrences of the character \"c\". It's similar to the effect of the pattern \"(ab)c+\"."
      ],
      "metadata": {
        "id": "1J6-79hySVnn"
      }
    },
    {
      "cell_type": "markdown",
      "source": [
        "Q3. How much do you need to use the following sentence while using regular expressions?\n",
        "\n",
        "`import re`\n",
        "\n",
        "The following sentence is used to import the re module, which is the built-in Python module for working with regular expressions. You need to use this sentence at the beginning of your script or program if you want to use the functionality provided by the re module. This module provides functions and classes for working with regular expressions, such as `re.search()`, `re.match()`, `re.findall()`, and others."
      ],
      "metadata": {
        "id": "yF6T0ioPSv1l"
      }
    },
    {
      "cell_type": "code",
      "source": [
        "import re\n"
      ],
      "metadata": {
        "id": "Jhb_dcDVSQ0U"
      },
      "execution_count": 1,
      "outputs": []
    },
    {
      "cell_type": "markdown",
      "source": [
        "Q4. Which characters have special significance in square brackets when expressing a range, and under what circumstances?\n",
        "\n",
        "In square brackets, certain characters have special significance when expressing a range in a regular expression:\n",
        "\n",
        "- Hyphen (-): The hyphen is used to specify a character range. For example, `[a-z]` matches any lowercase letter from 'a' to 'z', and `[0-9]` matches any digit from 0 to 9.\n",
        "\n",
        "- Caret (^): When the caret appears as the first character within square brackets, it indicates negation or exclusion. For example, `[^a-z]` matches any character that is not a lowercase letter.\n",
        "\n",
        "- Backslash (): In some cases, you may need to escape certain characters using a backslash within square brackets to match them literally. For example, `[\\+]` matches the plus symbol.\n",
        "\n",
        "- Other characters: Most other characters, such as digits, letters, and special characters, have their literal meaning within square brackets. For example, [\\d] matches any digit.\n",
        "\n",
        "It's important to note that some characters, like the closing square bracket `(']')` and the caret `(^)` when not used as the first character, generally do not have special significance within square brackets and can be used as-is. However, it's a good practice to escape them if there is any potential for confusion."
      ],
      "metadata": {
        "id": "jObDN-N8S_oe"
      }
    },
    {
      "cell_type": "markdown",
      "source": [
        "Q5. How does compiling a regular-expression object benefit you?\n",
        "\n",
        "Compiling a regular-expression object in Python using the `re.compile()` function offers several benefits:\n",
        "\n",
        "- Performance: Compiling a regular expression into an object can improve performance, especially when you need to use the same pattern multiple times. Compiled regex objects are optimized for repeated matching operations, making them faster than repeatedly compiling the pattern.\n",
        "- Readability: By compiling a regex object, you can assign a descriptive variable name to the pattern, which enhances code readability and maintainability.\n",
        "- Reuse and Modularity: Compiled regex objects can be reused across different parts of your code, promoting modularity and code organization.\n",
        "- Flags: You can include flags (such as case-insensitive matching) as arguments to the `re.compile()` function, making it easier to apply consistent settings to multiple regex operations.\n",
        "\n",
        "Example of compiling a regex object:"
      ],
      "metadata": {
        "id": "eaT3lXPITesT"
      }
    },
    {
      "cell_type": "code",
      "source": [
        "import re\n",
        "\n",
        "pattern = re.compile(r'\\d{3}-\\d{2}-\\d{4}')\n",
        "result = pattern.search('My SSN is 123-45-6789')"
      ],
      "metadata": {
        "id": "REzNtHw1S-rG"
      },
      "execution_count": 2,
      "outputs": []
    },
    {
      "cell_type": "markdown",
      "source": [
        "Q6. What are some examples of how to use the match object returned by `re.match` and `re.search`?\n",
        "\n",
        "The `re.match()` and `re.search()` functions return match objects that provide information about the match found in the input string. Here are examples of how to use the match object returned by each function:\n",
        "\n",
        "`re.match()`:"
      ],
      "metadata": {
        "id": "AiF1gYXKUEb1"
      }
    },
    {
      "cell_type": "code",
      "source": [
        "import re\n",
        "\n",
        "pattern = re.compile(r'\\d+')\n",
        "match = pattern.match('123abc')\n",
        "if match:\n",
        "    print(\"Match found:\", match.group())\n",
        "else:\n",
        "    print(\"No match\")"
      ],
      "metadata": {
        "colab": {
          "base_uri": "https://localhost:8080/"
        },
        "id": "23ycNH_TT-TF",
        "outputId": "c2ccc13e-6fe7-4139-e715-7e672a44a7c0"
      },
      "execution_count": 3,
      "outputs": [
        {
          "output_type": "stream",
          "name": "stdout",
          "text": [
            "Match found: 123\n"
          ]
        }
      ]
    },
    {
      "cell_type": "markdown",
      "source": [
        "`re.search()`:"
      ],
      "metadata": {
        "id": "W922EMyhUTI1"
      }
    },
    {
      "cell_type": "code",
      "source": [
        "import re\n",
        "\n",
        "pattern = re.compile(r'\\d+')\n",
        "match = pattern.search('abc123def')\n",
        "if match:\n",
        "    print(\"Match found:\", match.group())\n",
        "else:\n",
        "    print(\"No match\")"
      ],
      "metadata": {
        "colab": {
          "base_uri": "https://localhost:8080/"
        },
        "id": "rb8d-4WvUVSV",
        "outputId": "9b969121-87ac-4a94-a382-8bb704cde002"
      },
      "execution_count": 4,
      "outputs": [
        {
          "output_type": "stream",
          "name": "stdout",
          "text": [
            "Match found: 123\n"
          ]
        }
      ]
    },
    {
      "cell_type": "markdown",
      "source": [
        "Q7. What is the difference between using a vertical bar (`|`) as an alteration and using square brackets as a character set?\n",
        "\n",
        "The vertical bar `|` and square brackets `[]` serve different purposes in regular expressions:\n",
        "\n",
        "Vertical Bar (`|`): Used for alternation, allowing you to match one of several alternative patterns. For example, a|b matches either 'a' or 'b'.\n",
        "\n",
        "Square Brackets (`[]`): Used for defining a character set, allowing you to match any one character from the set. For example, `[aeiou]` matches any vowel.\n",
        "\n",
        "In essence, the vertical bar is used to specify alternative patterns, while square brackets define a set of characters that can match at a specific position."
      ],
      "metadata": {
        "id": "Z3XcHvPCUh_2"
      }
    },
    {
      "cell_type": "markdown",
      "source": [
        "Q8. In regular-expression search patterns, why is it necessary to use the raw-string indicator (`r`) in  replacement strings?\n",
        "\n",
        "In regular-expression replacement strings, it is necessary to use the raw-string indicator (`r`) to ensure that backslashes are treated as literal characters rather than escape characters. This is especially important when you want to include backreferences `(e.g., \\1, \\2)` in the replacement string. Using a raw string `(r'some text')` ensures that backslashes are not interpreted as escape characters, which can lead to unintended substitutions or errors in the replacement process.\n",
        "\n",
        "Example of using a raw string in a replacement:"
      ],
      "metadata": {
        "id": "ey4DQdpSU1ME"
      }
    },
    {
      "cell_type": "code",
      "source": [
        "import re\n",
        "\n",
        "pattern = re.compile(r'(\\w+) (\\w+)')\n",
        "text = 'John Smith, Alice Johnson'\n",
        "result = pattern.sub(r'\\2, \\1', text)\n",
        "print(result)  # Output: Smith, John, Johnson, Alice\n"
      ],
      "metadata": {
        "colab": {
          "base_uri": "https://localhost:8080/"
        },
        "id": "mclt3QQ_UW9l",
        "outputId": "0770af26-88e3-46f7-9116-d13e72d0dc57"
      },
      "execution_count": 5,
      "outputs": [
        {
          "output_type": "stream",
          "name": "stdout",
          "text": [
            "Smith, John, Johnson, Alice\n"
          ]
        }
      ]
    },
    {
      "cell_type": "markdown",
      "source": [
        "In the above example, the `\\2` and `\\1` are backreferences to the captured groups in the regex pattern. Using a raw string ensures that these backreferences are interpreted correctly as part of the replacement.\n",
        "\n",
        "\n",
        "\n",
        "\n"
      ],
      "metadata": {
        "id": "am3XiDkhVIN9"
      }
    }
  ]
}
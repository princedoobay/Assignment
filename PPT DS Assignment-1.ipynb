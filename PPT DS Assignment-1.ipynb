{
 "cells": [
  {
   "cell_type": "markdown",
   "id": "25562762",
   "metadata": {},
   "source": [
    "# PPT DS Assignment-1"
   ]
  },
  {
   "cell_type": "markdown",
   "id": "58d35332",
   "metadata": {},
   "source": [
    "### 1. Write a Python program to reverse a string without using any built-in string reversal functions."
   ]
  },
  {
   "cell_type": "code",
   "execution_count": 5,
   "id": "b09bfcad",
   "metadata": {},
   "outputs": [],
   "source": [
    "def reverse_string(input_str):\n",
    "    reversed_str = \"\"\n",
    "    for char in input_str:\n",
    "        reversed_str = char + reversed_str\n",
    "    return reversed_str"
   ]
  },
  {
   "cell_type": "code",
   "execution_count": 6,
   "id": "a794a8a6",
   "metadata": {},
   "outputs": [
    {
     "name": "stdout",
     "output_type": "stream",
     "text": [
      "Enter a string: prince\n",
      "Reversed string: ecnirp\n"
     ]
    }
   ],
   "source": [
    "input_string = input(\"Enter a string: \")\n",
    "reversed_string = reverse_string(input_string)\n",
    "print(\"Reversed string:\", reversed_string)"
   ]
  },
  {
   "cell_type": "markdown",
   "id": "7c2e91df",
   "metadata": {},
   "source": [
    "### 2. Implement a function to check if a given string is a palindrome."
   ]
  },
  {
   "cell_type": "code",
   "execution_count": 7,
   "id": "ed0e8b87",
   "metadata": {},
   "outputs": [],
   "source": [
    "def is_palindrome(input_str):\n",
    "    # Remove non-alphanumeric characters and convert to lowercase\n",
    "    cleaned_str = ''.join(char.lower() for char in input_str if char.isalnum())\n",
    "\n",
    "    # Compare the cleaned string with its reverse\n",
    "    return cleaned_str == cleaned_str[::-1]"
   ]
  },
  {
   "cell_type": "code",
   "execution_count": 8,
   "id": "2fd7f2ba",
   "metadata": {},
   "outputs": [
    {
     "name": "stdout",
     "output_type": "stream",
     "text": [
      "Enter a string: 16461\n",
      "The string is a palindrome.\n"
     ]
    }
   ],
   "source": [
    "input_string = input(\"Enter a string: \")\n",
    "if is_palindrome(input_string):\n",
    "    print(\"The string is a palindrome.\")\n",
    "else:\n",
    "    print(\"The string is not a palindrome.\")"
   ]
  },
  {
   "cell_type": "markdown",
   "id": "728e0c34",
   "metadata": {},
   "source": [
    "### 3. Write a program to find the largest element in a given list."
   ]
  },
  {
   "cell_type": "code",
   "execution_count": 9,
   "id": "9fdb23a1",
   "metadata": {},
   "outputs": [],
   "source": [
    "def find_largest_element(input_list):\n",
    "    if len(input_list) == 0:\n",
    "        return None\n",
    "\n",
    "    largest = input_list[0]\n",
    "    for i in input_list:\n",
    "        if i > largest:\n",
    "            largest = i\n",
    "\n",
    "    return largest"
   ]
  },
  {
   "cell_type": "code",
   "execution_count": 10,
   "id": "a6aaa58f",
   "metadata": {},
   "outputs": [
    {
     "name": "stdout",
     "output_type": "stream",
     "text": [
      "The largest number is: 9\n"
     ]
    }
   ],
   "source": [
    "numbers = [7, 2, 9, 1, 5]\n",
    "largest_number = find_largest_element(numbers)\n",
    "print(\"The largest number is:\", largest_number)"
   ]
  },
  {
   "cell_type": "markdown",
   "id": "04cabf24",
   "metadata": {},
   "source": [
    "### 4. Implement a function to count the occurrence of each element in a list."
   ]
  },
  {
   "cell_type": "code",
   "execution_count": 13,
   "id": "d9196105",
   "metadata": {},
   "outputs": [],
   "source": [
    "def count_occurrences(input_list):\n",
    "    occurrence_count = {}\n",
    "    for i in input_list:\n",
    "        if i in occurrence_count:\n",
    "            occurrence_count[i] += 1\n",
    "        else:\n",
    "            occurrence_count[i] = 1\n",
    "    return occurrence_count"
   ]
  },
  {
   "cell_type": "code",
   "execution_count": 14,
   "id": "ede81579",
   "metadata": {},
   "outputs": [
    {
     "name": "stdout",
     "output_type": "stream",
     "text": [
      "Occurrences: {1: 3, 2: 3, 3: 2, 4: 1, 5: 1}\n"
     ]
    }
   ],
   "source": [
    "numbers = [1, 2, 3, 2, 1, 3, 4, 2, 1, 5]\n",
    "occurrences = count_occurrences(numbers)\n",
    "print(\"Occurrences:\", occurrences)"
   ]
  },
  {
   "cell_type": "markdown",
   "id": "99772998",
   "metadata": {},
   "source": [
    "### 5. Write a Python program to find the second largest number in a list."
   ]
  },
  {
   "cell_type": "code",
   "execution_count": 15,
   "id": "fce1f8c9",
   "metadata": {},
   "outputs": [],
   "source": [
    "def find_second_largest(input_list):\n",
    "    if len(input_list) < 2:\n",
    "        return None\n",
    "\n",
    "    largest = max(input_list[0], input_list[1])\n",
    "    second_largest = min(input_list[0], input_list[1])\n",
    "\n",
    "    for num in input_list[2:]:\n",
    "        if num > largest:\n",
    "            second_largest = largest\n",
    "            largest = num\n",
    "        elif num > second_largest and num != largest:\n",
    "            second_largest = num\n",
    "\n",
    "    return second_largest"
   ]
  },
  {
   "cell_type": "code",
   "execution_count": 16,
   "id": "a9bb71ac",
   "metadata": {},
   "outputs": [
    {
     "name": "stdout",
     "output_type": "stream",
     "text": [
      "The second largest number is: 7\n"
     ]
    }
   ],
   "source": [
    "numbers = [7, 2, 9, 1, 5]\n",
    "second_largest_number = find_second_largest(numbers)\n",
    "print(\"The second largest number is:\", second_largest_number)"
   ]
  },
  {
   "cell_type": "markdown",
   "id": "1cb1761b",
   "metadata": {},
   "source": [
    "### 6. Implement a function to remove duplicate elements from a list."
   ]
  },
  {
   "cell_type": "code",
   "execution_count": 17,
   "id": "7923688d",
   "metadata": {},
   "outputs": [],
   "source": [
    "def remove_duplicates(input_list):\n",
    "    unique_list = []\n",
    "    for i in input_list:\n",
    "        if i not in unique_list:\n",
    "            unique_list.append(i)\n",
    "    return unique_list"
   ]
  },
  {
   "cell_type": "code",
   "execution_count": 18,
   "id": "384b34e8",
   "metadata": {},
   "outputs": [
    {
     "name": "stdout",
     "output_type": "stream",
     "text": [
      "Unique numbers: [1, 2, 3, 4, 5]\n"
     ]
    }
   ],
   "source": [
    "numbers = [1, 2, 3, 2, 1, 3, 4, 2, 1, 5]\n",
    "unique_numbers = remove_duplicates(numbers)\n",
    "print(\"Unique numbers:\", unique_numbers)"
   ]
  },
  {
   "cell_type": "markdown",
   "id": "7fded93b",
   "metadata": {},
   "source": [
    "### 7. Write a program to calculate the factorial of a given number."
   ]
  },
  {
   "cell_type": "code",
   "execution_count": 19,
   "id": "85e985c0",
   "metadata": {},
   "outputs": [],
   "source": [
    "def factorial(n):\n",
    "    if n < 0:\n",
    "        return None\n",
    "    elif n == 0 or n == 1:\n",
    "        return 1\n",
    "    else:\n",
    "        result = 1\n",
    "        for i in range(2, n+1):\n",
    "            result *= i\n",
    "        return result"
   ]
  },
  {
   "cell_type": "code",
   "execution_count": 20,
   "id": "7ac95dc2",
   "metadata": {},
   "outputs": [
    {
     "name": "stdout",
     "output_type": "stream",
     "text": [
      "Enter a number: 3\n",
      "Factorial of 3 is: 6\n"
     ]
    }
   ],
   "source": [
    "number = int(input(\"Enter a number: \"))\n",
    "factorial_result = factorial(number)\n",
    "if factorial_result is None:\n",
    "    print(\"Factorial is undefined for negative numbers.\")\n",
    "else:\n",
    "    print(\"Factorial of\", number, \"is:\", factorial_result)"
   ]
  },
  {
   "cell_type": "markdown",
   "id": "0c8a8291",
   "metadata": {},
   "source": [
    "### 8. Implement a function to check if a given number is prime."
   ]
  },
  {
   "cell_type": "code",
   "execution_count": 23,
   "id": "dc40aec4",
   "metadata": {},
   "outputs": [],
   "source": [
    "def is_prime(n):\n",
    "    cnt=0\n",
    "    for i in range(2, int(0.5*n)+1):\n",
    "        if n%i==0:\n",
    "            cnt+=1\n",
    "    if cnt == 0:\n",
    "        return True\n",
    "    return False"
   ]
  },
  {
   "cell_type": "code",
   "execution_count": 24,
   "id": "95af80d6",
   "metadata": {},
   "outputs": [
    {
     "data": {
      "text/plain": [
       "True"
      ]
     },
     "execution_count": 24,
     "metadata": {},
     "output_type": "execute_result"
    }
   ],
   "source": [
    "is_prime(2)"
   ]
  },
  {
   "cell_type": "code",
   "execution_count": 25,
   "id": "d53a779d",
   "metadata": {},
   "outputs": [
    {
     "data": {
      "text/plain": [
       "False"
      ]
     },
     "execution_count": 25,
     "metadata": {},
     "output_type": "execute_result"
    }
   ],
   "source": [
    "is_prime(4)"
   ]
  },
  {
   "cell_type": "code",
   "execution_count": 26,
   "id": "492e0961",
   "metadata": {},
   "outputs": [
    {
     "data": {
      "text/plain": [
       "True"
      ]
     },
     "execution_count": 26,
     "metadata": {},
     "output_type": "execute_result"
    }
   ],
   "source": [
    "is_prime(3)"
   ]
  },
  {
   "cell_type": "markdown",
   "id": "ddb6e231",
   "metadata": {},
   "source": [
    "### 9. Write a Python program to sort a list of integers in ascending order."
   ]
  },
  {
   "cell_type": "code",
   "execution_count": 27,
   "id": "58dcdd13",
   "metadata": {},
   "outputs": [],
   "source": [
    "def sorted_list_ascending(input_list):\n",
    "    sorted_list= sorted(input_list)\n",
    "    return sorted_list"
   ]
  },
  {
   "cell_type": "code",
   "execution_count": 28,
   "id": "e006f0db",
   "metadata": {},
   "outputs": [
    {
     "data": {
      "text/plain": [
       "[2, 3, 4, 5, 6, 9]"
      ]
     },
     "execution_count": 28,
     "metadata": {},
     "output_type": "execute_result"
    }
   ],
   "source": [
    "input_list = [2,5,4,9,6,3]\n",
    "sorted_list_ascending(input_list)"
   ]
  },
  {
   "cell_type": "markdown",
   "id": "20ba7e94",
   "metadata": {},
   "source": [
    "### 10. Implement a function to find the sum of all numbers in a list."
   ]
  },
  {
   "cell_type": "code",
   "execution_count": 33,
   "id": "bc677054",
   "metadata": {},
   "outputs": [],
   "source": [
    "def find_sum(input_list):\n",
    "    total_sum = 0\n",
    "    for num in input_list:\n",
    "        total_sum += num\n",
    "    return total_sum"
   ]
  },
  {
   "cell_type": "code",
   "execution_count": 34,
   "id": "72e123c4",
   "metadata": {},
   "outputs": [
    {
     "name": "stdout",
     "output_type": "stream",
     "text": [
      "Sum of numbers: 15\n"
     ]
    }
   ],
   "source": [
    "numbers = [1, 2, 3, 4, 5]\n",
    "sum_of_numbers = find_sum(numbers)\n",
    "print(\"Sum of numbers:\", sum_of_numbers)"
   ]
  },
  {
   "cell_type": "markdown",
   "id": "ecdaffec",
   "metadata": {},
   "source": [
    "### 11. Write a program to find the common elements between two lists."
   ]
  },
  {
   "cell_type": "code",
   "execution_count": 35,
   "id": "500e21ed",
   "metadata": {},
   "outputs": [],
   "source": [
    "def find_common_elements(list1, list2):\n",
    "    common_elements = []\n",
    "    for element in list1:\n",
    "        if element in list2:\n",
    "            common_elements.append(element)\n",
    "    return common_elements"
   ]
  },
  {
   "cell_type": "code",
   "execution_count": 36,
   "id": "425abaa7",
   "metadata": {},
   "outputs": [
    {
     "name": "stdout",
     "output_type": "stream",
     "text": [
      "Common elements: [4, 5]\n"
     ]
    }
   ],
   "source": [
    "list1 = [1, 2, 3, 4, 5]\n",
    "list2 = [4, 5, 6, 7, 8]\n",
    "common_elements = find_common_elements(list1, list2)\n",
    "print(\"Common elements:\", common_elements)"
   ]
  },
  {
   "cell_type": "markdown",
   "id": "00d9eb5a",
   "metadata": {},
   "source": [
    "### 12. Implement a function to check if a given string is an anagram of another string."
   ]
  },
  {
   "cell_type": "code",
   "execution_count": 37,
   "id": "44d6f541",
   "metadata": {},
   "outputs": [],
   "source": [
    "def is_anagram(str1, str2):\n",
    "    # Remove whitespace and convert to lowercase\n",
    "    str1 = str1.replace(\" \", \"\").lower()\n",
    "    str2 = str2.replace(\" \", \"\").lower()\n",
    "\n",
    "    # Check if the sorted strings are equal\n",
    "    return sorted(str1) == sorted(str2)"
   ]
  },
  {
   "cell_type": "code",
   "execution_count": 38,
   "id": "7dc5ed70",
   "metadata": {},
   "outputs": [
    {
     "name": "stdout",
     "output_type": "stream",
     "text": [
      "Enter the first string: listen\n",
      "Enter the second string: silent\n",
      "The strings are anagrams.\n"
     ]
    }
   ],
   "source": [
    "string1 = input(\"Enter the first string: \")\n",
    "string2 = input(\"Enter the second string: \")\n",
    "\n",
    "if is_anagram(string1, string2):\n",
    "    print(\"The strings are anagrams.\")\n",
    "else:\n",
    "    print(\"The strings are not anagrams.\")"
   ]
  },
  {
   "cell_type": "markdown",
   "id": "06bfa46b",
   "metadata": {},
   "source": [
    "### 13. Write a Python program to generate all permutations of a given string."
   ]
  },
  {
   "cell_type": "code",
   "execution_count": 39,
   "id": "d420ccc3",
   "metadata": {},
   "outputs": [],
   "source": [
    "def generate_permutations(input_str):\n",
    "    if len(input_str) <= 1:\n",
    "        return [input_str]\n",
    "\n",
    "    # Generate permutations for the substring excluding the first character\n",
    "    sub_permutations = generate_permutations(input_str[1:])\n",
    "\n",
    "    permutations = []\n",
    "    first_char = input_str[0]\n",
    "\n",
    "    # Insert the first character at every position in each permutation of the substring\n",
    "    for perm in sub_permutations:\n",
    "        for i in range(len(perm) + 1):\n",
    "            permutations.append(perm[:i] + first_char + perm[i:])\n",
    "\n",
    "    return permutations"
   ]
  },
  {
   "cell_type": "code",
   "execution_count": 40,
   "id": "0128cddd",
   "metadata": {},
   "outputs": [
    {
     "name": "stdout",
     "output_type": "stream",
     "text": [
      "Enter a string: abc\n",
      "Permutations:\n",
      "abc\n",
      "bac\n",
      "bca\n",
      "acb\n",
      "cab\n",
      "cba\n"
     ]
    }
   ],
   "source": [
    "string = input(\"Enter a string: \")\n",
    "permutations = generate_permutations(string)\n",
    "print(\"Permutations:\")\n",
    "for perm in permutations:\n",
    "    print(perm)"
   ]
  },
  {
   "cell_type": "markdown",
   "id": "870aa5a6",
   "metadata": {},
   "source": [
    "### 14. Implement a function to calculate the Fibonacci sequence up to a given number of terms."
   ]
  },
  {
   "cell_type": "code",
   "execution_count": 41,
   "id": "d7bfdf33",
   "metadata": {},
   "outputs": [],
   "source": [
    "def fibonacci_sequence(n):\n",
    "    sequence = []\n",
    "    if n <= 0:\n",
    "        return sequence\n",
    "\n",
    "    # Add the first and second terms to the sequence\n",
    "    sequence.append(0)\n",
    "    if n == 1:\n",
    "        return sequence\n",
    "    sequence.append(1)\n",
    "\n",
    "    # Calculate the remaining terms\n",
    "    for i in range(2, n):\n",
    "        next_term = sequence[i-1] + sequence[i-2]\n",
    "        sequence.append(next_term)\n",
    "\n",
    "    return sequence"
   ]
  },
  {
   "cell_type": "code",
   "execution_count": 42,
   "id": "cf3f0e7a",
   "metadata": {},
   "outputs": [
    {
     "name": "stdout",
     "output_type": "stream",
     "text": [
      "Enter the number of terms: 5\n",
      "Fibonacci sequence:\n",
      "0 1 1 2 3 "
     ]
    }
   ],
   "source": [
    "terms = int(input(\"Enter the number of terms: \"))\n",
    "fibonacci_terms = fibonacci_sequence(terms)\n",
    "print(\"Fibonacci sequence:\")\n",
    "for term in fibonacci_terms:\n",
    "    print(term, end=\" \")"
   ]
  },
  {
   "cell_type": "markdown",
   "id": "bef0fdd1",
   "metadata": {},
   "source": [
    "### 15. Write a program to find the median of a list of numbers."
   ]
  },
  {
   "cell_type": "code",
   "execution_count": 43,
   "id": "9702dd89",
   "metadata": {},
   "outputs": [],
   "source": [
    "def find_median(numbers):\n",
    "    numbers.sort()\n",
    "    length = len(numbers)\n",
    "\n",
    "    if length % 2 == 0:\n",
    "        mid1 = length // 2\n",
    "        mid2 = mid1 - 1\n",
    "        median = (numbers[mid1] + numbers[mid2]) / 2\n",
    "    else:\n",
    "        mid = length // 2\n",
    "        median = numbers[mid]\n",
    "\n",
    "    return median"
   ]
  },
  {
   "cell_type": "code",
   "execution_count": 44,
   "id": "9d9a11a0",
   "metadata": {},
   "outputs": [
    {
     "name": "stdout",
     "output_type": "stream",
     "text": [
      "Median: 5\n"
     ]
    }
   ],
   "source": [
    "numbers = [5, 2, 9, 1, 7]\n",
    "median = find_median(numbers)\n",
    "print(\"Median:\", median)"
   ]
  },
  {
   "cell_type": "markdown",
   "id": "47817e02",
   "metadata": {},
   "source": [
    "### 16. Implement a function to check if a given list is sorted in non-decreasing order."
   ]
  },
  {
   "cell_type": "code",
   "execution_count": 45,
   "id": "e8c4a251",
   "metadata": {},
   "outputs": [],
   "source": [
    "def is_sorted(lst):\n",
    "    for i in range(len(lst) - 1):\n",
    "        if lst[i] > lst[i + 1]:\n",
    "            return False\n",
    "    return True"
   ]
  },
  {
   "cell_type": "code",
   "execution_count": 46,
   "id": "c6d62d6a",
   "metadata": {},
   "outputs": [
    {
     "name": "stdout",
     "output_type": "stream",
     "text": [
      "The list is sorted in non-decreasing order.\n"
     ]
    }
   ],
   "source": [
    "numbers = [1, 2, 3, 4, 5]\n",
    "if is_sorted(numbers):\n",
    "    print(\"The list is sorted in non-decreasing order.\")\n",
    "else:\n",
    "    print(\"The list is not sorted in non-decreasing order.\")"
   ]
  },
  {
   "cell_type": "markdown",
   "id": "084bc863",
   "metadata": {},
   "source": [
    "### 17. Write a Python program to find the intersection of two lists."
   ]
  },
  {
   "cell_type": "code",
   "execution_count": 47,
   "id": "d7877e90",
   "metadata": {},
   "outputs": [],
   "source": [
    "def find_intersection(list1, list2):\n",
    "    intersection = []\n",
    "    for element in list1:\n",
    "        if element in list2:\n",
    "            intersection.append(element)\n",
    "    return intersection"
   ]
  },
  {
   "cell_type": "code",
   "execution_count": 48,
   "id": "75801337",
   "metadata": {},
   "outputs": [
    {
     "name": "stdout",
     "output_type": "stream",
     "text": [
      "Intersection: [4, 5]\n"
     ]
    }
   ],
   "source": [
    "list1 = [1, 2, 3, 4, 5]\n",
    "list2 = [4, 5, 6, 7, 8]\n",
    "intersection = find_intersection(list1, list2)\n",
    "print(\"Intersection:\", intersection)"
   ]
  },
  {
   "cell_type": "markdown",
   "id": "6c7fe0e5",
   "metadata": {},
   "source": [
    "### 18. Implement a function to find the maximum subarray sum in a given list."
   ]
  },
  {
   "cell_type": "code",
   "execution_count": 49,
   "id": "07b384e6",
   "metadata": {},
   "outputs": [],
   "source": [
    "def find_maximum_subarray_sum(nums):\n",
    "    max_sum = float('-inf')\n",
    "    current_sum = 0\n",
    "\n",
    "    for num in nums:\n",
    "        current_sum = max(num, current_sum + num)\n",
    "        max_sum = max(max_sum, current_sum)\n",
    "\n",
    "    return max_sum"
   ]
  },
  {
   "cell_type": "code",
   "execution_count": 50,
   "id": "c1e7bc62",
   "metadata": {},
   "outputs": [
    {
     "name": "stdout",
     "output_type": "stream",
     "text": [
      "Maximum subarray sum: 6\n"
     ]
    }
   ],
   "source": [
    "numbers = [-2, 1, -3, 4, -1, 2, 1, -5, 4]\n",
    "max_subarray_sum = find_maximum_subarray_sum(numbers)\n",
    "print(\"Maximum subarray sum:\", max_subarray_sum)"
   ]
  },
  {
   "cell_type": "markdown",
   "id": "b951c0ca",
   "metadata": {},
   "source": [
    "### 19. Write a program to remove all vowels from a given string."
   ]
  },
  {
   "cell_type": "code",
   "execution_count": 51,
   "id": "89d403b1",
   "metadata": {},
   "outputs": [],
   "source": [
    "def remove_vowels(input_str):\n",
    "    vowels = 'aeiouAEIOU'\n",
    "    without_vowels = ''.join(char for char in input_str if char not in vowels)\n",
    "    return without_vowels"
   ]
  },
  {
   "cell_type": "code",
   "execution_count": 52,
   "id": "80fd6ab0",
   "metadata": {},
   "outputs": [
    {
     "name": "stdout",
     "output_type": "stream",
     "text": [
      "Enter a string: prince\n",
      "String without vowels: prnc\n"
     ]
    }
   ],
   "source": [
    "string = input(\"Enter a string: \")\n",
    "string_without_vowels = remove_vowels(string)\n",
    "print(\"String without vowels:\", string_without_vowels)"
   ]
  },
  {
   "cell_type": "markdown",
   "id": "1aa429d4",
   "metadata": {},
   "source": [
    "### 20. Implement a function to reverse the order of words in a given sentence."
   ]
  },
  {
   "cell_type": "code",
   "execution_count": 53,
   "id": "2d190074",
   "metadata": {},
   "outputs": [],
   "source": [
    "def reverse_words(sentence):\n",
    "    words = sentence.split()\n",
    "    reversed_sentence = ' '.join(words[::-1])\n",
    "    return reversed_sentence"
   ]
  },
  {
   "cell_type": "code",
   "execution_count": 54,
   "id": "079d3838",
   "metadata": {},
   "outputs": [
    {
     "name": "stdout",
     "output_type": "stream",
     "text": [
      "Enter a sentence: Hello, how are you?\n",
      "Reversed sentence: you? are how Hello,\n"
     ]
    }
   ],
   "source": [
    "sentence = input(\"Enter a sentence: \")\n",
    "reversed_sentence = reverse_words(sentence)\n",
    "print(\"Reversed sentence:\", reversed_sentence)"
   ]
  },
  {
   "cell_type": "markdown",
   "id": "90492527",
   "metadata": {},
   "source": [
    "### 21. Write a Python program to check if two strings are anagrams of each other."
   ]
  },
  {
   "cell_type": "code",
   "execution_count": 55,
   "id": "97c89cc2",
   "metadata": {},
   "outputs": [],
   "source": [
    "def are_anagrams(str1, str2):\n",
    "    # Remove whitespace and convert to lowercase\n",
    "    str1 = str1.replace(\" \", \"\").lower()\n",
    "    str2 = str2.replace(\" \", \"\").lower()\n",
    "\n",
    "    # Check if the sorted strings are equal\n",
    "    return sorted(str1) == sorted(str2)"
   ]
  },
  {
   "cell_type": "code",
   "execution_count": 56,
   "id": "54dd5840",
   "metadata": {},
   "outputs": [
    {
     "name": "stdout",
     "output_type": "stream",
     "text": [
      "Enter the first string: silent\n",
      "Enter the second string: listen\n",
      "The strings are anagrams.\n"
     ]
    }
   ],
   "source": [
    "string1 = input(\"Enter the first string: \")\n",
    "string2 = input(\"Enter the second string: \")\n",
    "\n",
    "if are_anagrams(string1, string2):\n",
    "    print(\"The strings are anagrams.\")\n",
    "else:\n",
    "    print(\"The strings are not anagrams.\")"
   ]
  },
  {
   "cell_type": "markdown",
   "id": "5e488048",
   "metadata": {},
   "source": [
    "### 22. Implement a function to find the first non-repeating character in a string.\n"
   ]
  },
  {
   "cell_type": "code",
   "execution_count": 57,
   "id": "4615ff7d",
   "metadata": {},
   "outputs": [],
   "source": [
    "def find_first_non_repeating_character(input_str):\n",
    "    char_count = {}\n",
    "    for char in input_str:\n",
    "        char_count[char] = char_count.get(char, 0) + 1\n",
    "\n",
    "    for char in input_str:\n",
    "        if char_count[char] == 1:\n",
    "            return char\n",
    "\n",
    "    return None"
   ]
  },
  {
   "cell_type": "code",
   "execution_count": 58,
   "id": "7497a0f1",
   "metadata": {},
   "outputs": [
    {
     "name": "stdout",
     "output_type": "stream",
     "text": [
      "Enter a string: hello\n",
      "First non-repeating character: h\n"
     ]
    }
   ],
   "source": [
    "string = input(\"Enter a string: \")\n",
    "non_repeating_char = find_first_non_repeating_character(string)\n",
    "\n",
    "if non_repeating_char is not None:\n",
    "    print(\"First non-repeating character:\", non_repeating_char)\n",
    "else:\n",
    "    print(\"No non-repeating character found.\")"
   ]
  },
  {
   "cell_type": "markdown",
   "id": "89e40edb",
   "metadata": {},
   "source": [
    "### 23. Write a program to find the prime factors of a given number.\n"
   ]
  },
  {
   "cell_type": "code",
   "execution_count": 59,
   "id": "85ad3bc1",
   "metadata": {},
   "outputs": [],
   "source": [
    "def find_prime_factors(number):\n",
    "    prime_factors = []\n",
    "    divisor = 2\n",
    "\n",
    "    while divisor <= number:\n",
    "        if number % divisor == 0:\n",
    "            prime_factors.append(divisor)\n",
    "            number = number / divisor\n",
    "        else:\n",
    "            divisor += 1\n",
    "\n",
    "    return prime_factors"
   ]
  },
  {
   "cell_type": "code",
   "execution_count": 60,
   "id": "bd1cc235",
   "metadata": {},
   "outputs": [
    {
     "name": "stdout",
     "output_type": "stream",
     "text": [
      "Enter a number: 15\n",
      "Prime factors: [3, 5]\n"
     ]
    }
   ],
   "source": [
    "number = int(input(\"Enter a number: \"))\n",
    "prime_factors = find_prime_factors(number)\n",
    "print(\"Prime factors:\", prime_factors)\n"
   ]
  },
  {
   "cell_type": "code",
   "execution_count": 61,
   "id": "b32f2f86",
   "metadata": {},
   "outputs": [
    {
     "name": "stdout",
     "output_type": "stream",
     "text": [
      "Enter a number: 16\n",
      "Prime factors: [2, 2, 2, 2]\n"
     ]
    }
   ],
   "source": [
    "number = int(input(\"Enter a number: \"))\n",
    "prime_factors = find_prime_factors(number)\n",
    "print(\"Prime factors:\", prime_factors)"
   ]
  },
  {
   "cell_type": "markdown",
   "id": "944b5b59",
   "metadata": {},
   "source": [
    "### 24. Implement a function to check if a given number is a power of two.\n"
   ]
  },
  {
   "cell_type": "code",
   "execution_count": 62,
   "id": "2ddc8742",
   "metadata": {},
   "outputs": [],
   "source": [
    "def is_power_of_two(n):\n",
    "    if n <= 0:\n",
    "        return False\n",
    "\n",
    "    while n > 1:\n",
    "        if n % 2 != 0:\n",
    "            return False\n",
    "        n = n // 2\n",
    "\n",
    "    return True"
   ]
  },
  {
   "cell_type": "code",
   "execution_count": 63,
   "id": "aa93804c",
   "metadata": {},
   "outputs": [
    {
     "name": "stdout",
     "output_type": "stream",
     "text": [
      "Enter a number: 32\n",
      "The number is a power of two.\n"
     ]
    }
   ],
   "source": [
    "number = int(input(\"Enter a number: \"))\n",
    "if is_power_of_two(number):\n",
    "    print(\"The number is a power of two.\")\n",
    "else:\n",
    "    print(\"The number is not a power of two.\")"
   ]
  },
  {
   "cell_type": "code",
   "execution_count": 64,
   "id": "a000e9ad",
   "metadata": {},
   "outputs": [
    {
     "name": "stdout",
     "output_type": "stream",
     "text": [
      "Enter a number: 14\n",
      "The number is not a power of two.\n"
     ]
    }
   ],
   "source": [
    "number = int(input(\"Enter a number: \"))\n",
    "if is_power_of_two(number):\n",
    "    print(\"The number is a power of two.\")\n",
    "else:\n",
    "    print(\"The number is not a power of two.\")"
   ]
  },
  {
   "cell_type": "markdown",
   "id": "3b835827",
   "metadata": {},
   "source": [
    "### 25. Write a Python program to merge two sorted lists into a single sorted list.\n"
   ]
  },
  {
   "cell_type": "code",
   "execution_count": 65,
   "id": "65dbad4c",
   "metadata": {},
   "outputs": [],
   "source": [
    "def merge_sorted_lists(list1, list2):\n",
    "    merged_list = []\n",
    "    i = 0  # index for list1\n",
    "    j = 0  # index for list2\n",
    "\n",
    "    while i < len(list1) and j < len(list2):\n",
    "        if list1[i] <= list2[j]:\n",
    "            merged_list.append(list1[i])\n",
    "            i += 1\n",
    "        else:\n",
    "            merged_list.append(list2[j])\n",
    "            j += 1\n",
    "\n",
    "    # Add the remaining elements from list1, if any\n",
    "    while i < len(list1):\n",
    "        merged_list.append(list1[i])\n",
    "        i += 1\n",
    "\n",
    "    # Add the remaining elements from list2, if any\n",
    "    while j < len(list2):\n",
    "        merged_list.append(list2[j])\n",
    "        j += 1\n",
    "\n",
    "    return merged_list"
   ]
  },
  {
   "cell_type": "code",
   "execution_count": 66,
   "id": "dbc05062",
   "metadata": {},
   "outputs": [
    {
     "name": "stdout",
     "output_type": "stream",
     "text": [
      "Merged list: [1, 2, 3, 4, 5, 6, 7, 8, 9, 10]\n"
     ]
    }
   ],
   "source": [
    "list1 = [1, 3, 5, 7, 9]\n",
    "list2 = [2, 4, 6, 8, 10]\n",
    "merged_list = merge_sorted_lists(list1, list2)\n",
    "print(\"Merged list:\", merged_list)\n"
   ]
  },
  {
   "cell_type": "markdown",
   "id": "da04929a",
   "metadata": {},
   "source": [
    "### 26. Implement a function to find the mode of a list of numbers.\n"
   ]
  },
  {
   "cell_type": "code",
   "execution_count": 67,
   "id": "2ec6f9fd",
   "metadata": {},
   "outputs": [],
   "source": [
    "from collections import Counter\n",
    "\n",
    "def find_mode(numbers):\n",
    "    frequency = Counter(numbers)\n",
    "    mode = frequency.most_common(1)[0][0]\n",
    "    return mode"
   ]
  },
  {
   "cell_type": "code",
   "execution_count": 69,
   "id": "102d133f",
   "metadata": {},
   "outputs": [
    {
     "name": "stdout",
     "output_type": "stream",
     "text": [
      "Mode: 2\n"
     ]
    }
   ],
   "source": [
    "numbers = [1, 2, 3, 4, 2, 5, 2, 6, 2, 2]\n",
    "mode = find_mode(numbers)\n",
    "print(\"Mode:\", mode)"
   ]
  },
  {
   "cell_type": "markdown",
   "id": "1af056da",
   "metadata": {},
   "source": [
    "### 27. Write a program to find the greatest common divisor (GCD) of two numbers.\n"
   ]
  },
  {
   "cell_type": "code",
   "execution_count": 70,
   "id": "88c04d97",
   "metadata": {},
   "outputs": [],
   "source": [
    "def find_gcd(a, b):\n",
    "    while b != 0:\n",
    "        a, b = b, a % b\n",
    "    return a"
   ]
  },
  {
   "cell_type": "code",
   "execution_count": 71,
   "id": "b352a2ff",
   "metadata": {},
   "outputs": [
    {
     "name": "stdout",
     "output_type": "stream",
     "text": [
      "Enter the first number: 24\n",
      "Enter the second number: 36\n",
      "GCD: 12\n"
     ]
    }
   ],
   "source": [
    "num1 = int(input(\"Enter the first number: \"))\n",
    "num2 = int(input(\"Enter the second number: \"))\n",
    "\n",
    "gcd = find_gcd(num1, num2)\n",
    "print(\"GCD:\", gcd)"
   ]
  },
  {
   "cell_type": "markdown",
   "id": "3ac8145e",
   "metadata": {},
   "source": [
    "### 28. Implement a function to calculate the square root of a given number.\n"
   ]
  },
  {
   "cell_type": "code",
   "execution_count": 72,
   "id": "19c1b4b8",
   "metadata": {},
   "outputs": [],
   "source": [
    "def square_root(n):\n",
    "    if n < 0:\n",
    "        raise ValueError(\"Cannot calculate square root of a negative number.\")\n",
    "\n",
    "    if n == 0:\n",
    "        return 0\n",
    "\n",
    "    x = n\n",
    "    while True:\n",
    "        root = 0.5 * (x + n / x)\n",
    "        if abs(root - x) < 0.0001:\n",
    "            return root\n",
    "        x = root"
   ]
  },
  {
   "cell_type": "code",
   "execution_count": 73,
   "id": "6eeaa673",
   "metadata": {},
   "outputs": [
    {
     "name": "stdout",
     "output_type": "stream",
     "text": [
      "Enter a number: 3\n",
      "Square root: 1.7320508100147274\n"
     ]
    }
   ],
   "source": [
    "number = float(input(\"Enter a number: \"))\n",
    "sqrt = square_root(number)\n",
    "print(\"Square root:\", sqrt)"
   ]
  },
  {
   "cell_type": "markdown",
   "id": "e6ca4666",
   "metadata": {},
   "source": [
    "### 29. Write a Python program to check if a given string is a valid palindrome ignoring non-alphanumeric characters.\n"
   ]
  },
  {
   "cell_type": "code",
   "execution_count": 74,
   "id": "062ea6d1",
   "metadata": {},
   "outputs": [],
   "source": [
    "import re\n",
    "\n",
    "def is_valid_palindrome(s):\n",
    "    alphanumeric_string = re.sub(r'\\W+', '', s).lower()\n",
    "    return alphanumeric_string == alphanumeric_string[::-1]"
   ]
  },
  {
   "cell_type": "code",
   "execution_count": 75,
   "id": "9ade44d1",
   "metadata": {},
   "outputs": [
    {
     "name": "stdout",
     "output_type": "stream",
     "text": [
      "Enter a string: A man, a plan, a canal, Panama!\n",
      "The string is a valid palindrome.\n"
     ]
    }
   ],
   "source": [
    "string = input(\"Enter a string: \")\n",
    "if is_valid_palindrome(string):\n",
    "    print(\"The string is a valid palindrome.\")\n",
    "else:\n",
    "    print(\"The string is not a valid palindrome.\")"
   ]
  },
  {
   "cell_type": "markdown",
   "id": "11067f2f",
   "metadata": {},
   "source": [
    "### 30. Implement a function to find the minimum element in a rotated sorted list.\n"
   ]
  },
  {
   "cell_type": "code",
   "execution_count": 76,
   "id": "ca2e3f47",
   "metadata": {},
   "outputs": [],
   "source": [
    "def find_minimum(rotated_list):\n",
    "    left = 0\n",
    "    right = len(rotated_list) - 1\n",
    "\n",
    "    while left < right:\n",
    "        mid = left + (right - left) // 2\n",
    "\n",
    "        if rotated_list[mid] > rotated_list[right]:\n",
    "            # Minimum is in the right half\n",
    "            left = mid + 1\n",
    "        else:\n",
    "            # Minimum is in the left half or at mid\n",
    "            right = mid\n",
    "\n",
    "    return rotated_list[left]"
   ]
  },
  {
   "cell_type": "code",
   "execution_count": 77,
   "id": "e0a7021d",
   "metadata": {},
   "outputs": [
    {
     "name": "stdout",
     "output_type": "stream",
     "text": [
      "Minimum element: 0\n"
     ]
    }
   ],
   "source": [
    "numbers = [4, 5, 6, 7, 0, 1, 2]\n",
    "minimum = find_minimum(numbers)\n",
    "print(\"Minimum element:\", minimum)"
   ]
  },
  {
   "cell_type": "markdown",
   "id": "2dc3d656",
   "metadata": {},
   "source": [
    "### 31. Write a program to find the sum of all even numbers in a list.\n"
   ]
  },
  {
   "cell_type": "code",
   "execution_count": 78,
   "id": "cb838a64",
   "metadata": {},
   "outputs": [],
   "source": [
    "def sum_of_even_numbers(numbers):\n",
    "    sum_even = 0\n",
    "    for number in numbers:\n",
    "        if number % 2 == 0:\n",
    "            sum_even += number\n",
    "    return sum_even"
   ]
  },
  {
   "cell_type": "code",
   "execution_count": 79,
   "id": "a024318a",
   "metadata": {},
   "outputs": [
    {
     "name": "stdout",
     "output_type": "stream",
     "text": [
      "Sum of even numbers: 30\n"
     ]
    }
   ],
   "source": [
    "numbers = [1, 2, 3, 4, 5, 6, 7, 8, 9, 10]\n",
    "sum_even = sum_of_even_numbers(numbers)\n",
    "print(\"Sum of even numbers:\", sum_even)"
   ]
  },
  {
   "cell_type": "markdown",
   "id": "b6369206",
   "metadata": {},
   "source": [
    "### 32. Implement a function to calculate the power of a number using recursion.\n"
   ]
  },
  {
   "cell_type": "code",
   "execution_count": 80,
   "id": "fbbc5125",
   "metadata": {},
   "outputs": [],
   "source": [
    "def power(base, exponent):\n",
    "    if exponent == 0:\n",
    "        return 1\n",
    "    elif exponent < 0:\n",
    "        return 1 / power(base, -exponent)\n",
    "    else:\n",
    "        return base * power(base, exponent - 1)"
   ]
  },
  {
   "cell_type": "code",
   "execution_count": 81,
   "id": "8cebda79",
   "metadata": {},
   "outputs": [
    {
     "name": "stdout",
     "output_type": "stream",
     "text": [
      "Enter the base number: 2\n",
      "Enter the exponent: 2\n",
      "2.0 raised to the power of 2 is 4.0\n"
     ]
    }
   ],
   "source": [
    "base = float(input(\"Enter the base number: \"))\n",
    "exponent = int(input(\"Enter the exponent: \"))\n",
    "\n",
    "result = power(base, exponent)\n",
    "print(f\"{base} raised to the power of {exponent} is {result}\")"
   ]
  },
  {
   "cell_type": "markdown",
   "id": "62a30b7d",
   "metadata": {},
   "source": [
    "### 33. Write a Python program to remove duplicates from a list while preserving the order.\n"
   ]
  },
  {
   "cell_type": "code",
   "execution_count": 82,
   "id": "cd3328ef",
   "metadata": {},
   "outputs": [],
   "source": [
    "def remove_duplicates_preserve_order(lst):\n",
    "    seen = set()\n",
    "    new_list = []\n",
    "    for item in lst:\n",
    "        if item not in seen:\n",
    "            seen.add(item)\n",
    "            new_list.append(item)\n",
    "    return new_list"
   ]
  },
  {
   "cell_type": "code",
   "execution_count": 83,
   "id": "362b338c",
   "metadata": {},
   "outputs": [
    {
     "name": "stdout",
     "output_type": "stream",
     "text": [
      "List with duplicates removed: [1, 2, 3, 4, 5, 6]\n"
     ]
    }
   ],
   "source": [
    "numbers = [1, 2, 3, 2, 4, 3, 5, 6, 1, 2]\n",
    "unique_numbers = remove_duplicates_preserve_order(numbers)\n",
    "print(\"List with duplicates removed:\", unique_numbers)"
   ]
  },
  {
   "cell_type": "markdown",
   "id": "5b418889",
   "metadata": {},
   "source": [
    "### 34. Implement a function to find the longest common prefix among a list of strings.\n"
   ]
  },
  {
   "cell_type": "code",
   "execution_count": 84,
   "id": "fc23cdab",
   "metadata": {},
   "outputs": [],
   "source": [
    "def find_longest_common_prefix(strings):\n",
    "    if not strings:\n",
    "        return \"\"\n",
    "\n",
    "    min_length = min(len(string) for string in strings)\n",
    "    prefix = \"\"\n",
    "    for i in range(min_length):\n",
    "        char = strings[0][i]\n",
    "        if all(string[i] == char for string in strings):\n",
    "            prefix += char\n",
    "        else:\n",
    "            break\n",
    "    return prefix"
   ]
  },
  {
   "cell_type": "code",
   "execution_count": 85,
   "id": "aa7dfe3b",
   "metadata": {},
   "outputs": [
    {
     "name": "stdout",
     "output_type": "stream",
     "text": [
      "Longest common prefix: fl\n"
     ]
    }
   ],
   "source": [
    "string_list = [\"flower\", \"flow\", \"flight\"]\n",
    "longest_common_prefix = find_longest_common_prefix(string_list)\n",
    "print(\"Longest common prefix:\", longest_common_prefix)"
   ]
  },
  {
   "cell_type": "markdown",
   "id": "4e46ba0f",
   "metadata": {},
   "source": [
    "### 35. Write a program to check if a given number is a perfect square.\n"
   ]
  },
  {
   "cell_type": "code",
   "execution_count": 86,
   "id": "c0177a40",
   "metadata": {},
   "outputs": [],
   "source": [
    "def is_perfect_square(n):\n",
    "    if n < 0:\n",
    "        return False\n",
    "\n",
    "    sqrt = int(n ** 0.5)\n",
    "    return sqrt * sqrt == n"
   ]
  },
  {
   "cell_type": "code",
   "execution_count": 87,
   "id": "6e57eac8",
   "metadata": {},
   "outputs": [
    {
     "name": "stdout",
     "output_type": "stream",
     "text": [
      "Enter a number: 36\n",
      "The number is a perfect square.\n"
     ]
    }
   ],
   "source": [
    "number = int(input(\"Enter a number: \"))\n",
    "if is_perfect_square(number):\n",
    "    print(\"The number is a perfect square.\")\n",
    "else:\n",
    "    print(\"The number is not a perfect square.\")"
   ]
  },
  {
   "cell_type": "markdown",
   "id": "793a888f",
   "metadata": {},
   "source": [
    "### 36. Implement a function to calculate the product of all elements in a list.\n"
   ]
  },
  {
   "cell_type": "code",
   "execution_count": 88,
   "id": "bd622d24",
   "metadata": {},
   "outputs": [],
   "source": [
    "def calculate_product(numbers):\n",
    "    product = 1\n",
    "    for number in numbers:\n",
    "        product *= number\n",
    "    return product"
   ]
  },
  {
   "cell_type": "code",
   "execution_count": 89,
   "id": "ac8fedd5",
   "metadata": {},
   "outputs": [
    {
     "name": "stdout",
     "output_type": "stream",
     "text": [
      "Product: 120\n"
     ]
    }
   ],
   "source": [
    "numbers = [2, 3, 4, 5]\n",
    "product = calculate_product(numbers)\n",
    "print(\"Product:\", product)"
   ]
  },
  {
   "cell_type": "markdown",
   "id": "ed6f4c6a",
   "metadata": {},
   "source": [
    "### 37. Write a Python program to reverse the order of words in a sentence while preserving the word order.\n"
   ]
  },
  {
   "cell_type": "code",
   "execution_count": 90,
   "id": "18ee6de6",
   "metadata": {},
   "outputs": [],
   "source": [
    "def reverse_sentence(sentence):\n",
    "    words = sentence.split()\n",
    "    reversed_words = words[::-1]\n",
    "    reversed_sentence = \" \".join(reversed_words)\n",
    "    return reversed_sentence"
   ]
  },
  {
   "cell_type": "code",
   "execution_count": 91,
   "id": "9e536334",
   "metadata": {},
   "outputs": [
    {
     "name": "stdout",
     "output_type": "stream",
     "text": [
      "Enter a sentence: Hello, how are you today?\n",
      "Reversed sentence: today? you are how Hello,\n"
     ]
    }
   ],
   "source": [
    "sentence = input(\"Enter a sentence: \")\n",
    "reversed_sentence = reverse_sentence(sentence)\n",
    "print(\"Reversed sentence:\", reversed_sentence)"
   ]
  },
  {
   "cell_type": "markdown",
   "id": "470b4884",
   "metadata": {},
   "source": [
    "### 38. Implement a function to find the missing number in a given list of consecutive numbers.\n"
   ]
  },
  {
   "cell_type": "code",
   "execution_count": 92,
   "id": "c7cd1065",
   "metadata": {},
   "outputs": [],
   "source": [
    "def find_missing_number(numbers):\n",
    "    n = len(numbers) + 1\n",
    "    expected_sum = n * (n + 1) // 2\n",
    "    actual_sum = sum(numbers)\n",
    "    missing_number = expected_sum - actual_sum\n",
    "    return missing_number"
   ]
  },
  {
   "cell_type": "code",
   "execution_count": 93,
   "id": "60fd519c",
   "metadata": {},
   "outputs": [
    {
     "name": "stdout",
     "output_type": "stream",
     "text": [
      "Missing number: 4\n"
     ]
    }
   ],
   "source": [
    "sequence = [1, 2, 3, 5, 6, 7, 8]\n",
    "missing_number = find_missing_number(sequence)\n",
    "print(\"Missing number:\", missing_number)"
   ]
  },
  {
   "cell_type": "markdown",
   "id": "9817df76",
   "metadata": {},
   "source": [
    "### 39. Write a program to find the sum of digits of a given number.\n"
   ]
  },
  {
   "cell_type": "code",
   "execution_count": 94,
   "id": "c63ba7c3",
   "metadata": {},
   "outputs": [],
   "source": [
    "def sum_of_digits(number):\n",
    "    sum_digits = 0\n",
    "    for digit in str(number):\n",
    "        sum_digits += int(digit)\n",
    "    return sum_digits"
   ]
  },
  {
   "cell_type": "code",
   "execution_count": 95,
   "id": "728ace06",
   "metadata": {},
   "outputs": [
    {
     "name": "stdout",
     "output_type": "stream",
     "text": [
      "Enter a number: 34\n",
      "Sum of digits: 7\n"
     ]
    }
   ],
   "source": [
    "number = int(input(\"Enter a number: \"))\n",
    "sum_digits = sum_of_digits(number)\n",
    "print(\"Sum of digits:\", sum_digits)"
   ]
  },
  {
   "cell_type": "markdown",
   "id": "38c1cb85",
   "metadata": {},
   "source": [
    "### 40. Implement a function to check if a given string is a valid palindrome considering case sensitivity.\n"
   ]
  },
  {
   "cell_type": "code",
   "execution_count": 96,
   "id": "11848618",
   "metadata": {},
   "outputs": [],
   "source": [
    "def is_valid_palindrome(string):\n",
    "    # Remove non-alphanumeric characters and convert to lowercase\n",
    "    alphanumeric_string = ''.join(char.lower() for char in string if char.isalnum())\n",
    "    return alphanumeric_string == alphanumeric_string[::-1]"
   ]
  },
  {
   "cell_type": "code",
   "execution_count": 97,
   "id": "e249338b",
   "metadata": {},
   "outputs": [
    {
     "name": "stdout",
     "output_type": "stream",
     "text": [
      "Enter a string: Madam\n",
      "The string is a valid palindrome.\n"
     ]
    }
   ],
   "source": [
    "string = input(\"Enter a string: \")\n",
    "if is_valid_palindrome(string):\n",
    "    print(\"The string is a valid palindrome.\")\n",
    "else:\n",
    "    print(\"The string is not a valid palindrome.\")"
   ]
  },
  {
   "cell_type": "markdown",
   "id": "fcfe4e73",
   "metadata": {},
   "source": [
    "### 41. Write a Python program to find the smallest missing positive integer in a list.\n"
   ]
  },
  {
   "cell_type": "code",
   "execution_count": 98,
   "id": "b6954a90",
   "metadata": {},
   "outputs": [],
   "source": [
    "def find_smallest_missing_positive_integer(nums):\n",
    "    # Separate positive numbers from non-positive numbers\n",
    "    positive_nums = [num for num in nums if num > 0]\n",
    "\n",
    "    # If no positive numbers found, the smallest missing positive is 1\n",
    "    if not positive_nums:\n",
    "        return 1\n",
    "\n",
    "    # Use the indices of the positive numbers to mark their presence\n",
    "    n = len(positive_nums)\n",
    "    for i in range(n):\n",
    "        num = abs(positive_nums[i])\n",
    "        if num <= n:\n",
    "            positive_nums[num-1] = -abs(positive_nums[num-1])\n",
    "\n",
    "    # Find the first positive number that remains positive\n",
    "    for i in range(n):\n",
    "        if positive_nums[i] > 0:\n",
    "            return i + 1\n",
    "\n",
    "    # If all positive numbers from 1 to n are present, the smallest missing positive is n+1\n",
    "    return n + 1"
   ]
  },
  {
   "cell_type": "code",
   "execution_count": 99,
   "id": "679cf7b1",
   "metadata": {},
   "outputs": [
    {
     "name": "stdout",
     "output_type": "stream",
     "text": [
      "Smallest missing positive integer: 7\n"
     ]
    }
   ],
   "source": [
    "numbers = [3, 4, -1, 1, -2, 6, 2, 5]\n",
    "smallest_missing = find_smallest_missing_positive_integer(numbers)\n",
    "print(\"Smallest missing positive integer:\", smallest_missing)"
   ]
  },
  {
   "cell_type": "markdown",
   "id": "f5addfd1",
   "metadata": {},
   "source": [
    "### 42. Implement a function to find the longest palindrome substring in a given string.\n"
   ]
  },
  {
   "cell_type": "code",
   "execution_count": 100,
   "id": "44534792",
   "metadata": {},
   "outputs": [],
   "source": [
    "def find_longest_palindrome(string):\n",
    "    if len(string) < 2:\n",
    "        return string\n",
    "\n",
    "    start = 0\n",
    "    max_length = 1\n",
    "\n",
    "    for i in range(len(string)):\n",
    "        # Check for odd-length palindromes\n",
    "        left = i - 1\n",
    "        right = i + 1\n",
    "        while left >= 0 and right < len(string) and string[left] == string[right]:\n",
    "            left -= 1\n",
    "            right += 1\n",
    "\n",
    "        length = right - left - 1\n",
    "        if length > max_length:\n",
    "            max_length = length\n",
    "            start = left + 1\n",
    "\n",
    "        # Check for even-length palindromes\n",
    "        left = i\n",
    "        right = i + 1\n",
    "        while left >= 0 and right < len(string) and string[left] == string[right]:\n",
    "            left -= 1\n",
    "            right += 1\n",
    "\n",
    "        length = right - left - 1\n",
    "        if length > max_length:\n",
    "            max_length = length\n",
    "            start = left + 1\n",
    "\n",
    "    return string[start : start + max_length]"
   ]
  },
  {
   "cell_type": "code",
   "execution_count": 101,
   "id": "eb8d34d0",
   "metadata": {},
   "outputs": [
    {
     "name": "stdout",
     "output_type": "stream",
     "text": [
      "Longest palindrome substring: bab\n"
     ]
    }
   ],
   "source": [
    "input_string = \"babad\"\n",
    "longest_palindrome = find_longest_palindrome(input_string)\n",
    "print(\"Longest palindrome substring:\", longest_palindrome)"
   ]
  },
  {
   "cell_type": "markdown",
   "id": "ee6b30d0",
   "metadata": {},
   "source": [
    "### 43. Write a program to find the number of occurrences of a given element in a list.\n"
   ]
  },
  {
   "cell_type": "code",
   "execution_count": 102,
   "id": "52f3496a",
   "metadata": {},
   "outputs": [],
   "source": [
    "def count_occurrences(lst, element):\n",
    "    count = 0\n",
    "    for item in lst:\n",
    "        if item == element:\n",
    "            count += 1\n",
    "    return count"
   ]
  },
  {
   "cell_type": "code",
   "execution_count": 103,
   "id": "985208a1",
   "metadata": {},
   "outputs": [
    {
     "name": "stdout",
     "output_type": "stream",
     "text": [
      "Number of occurrences of 2: 3\n"
     ]
    }
   ],
   "source": [
    "numbers = [1, 2, 3, 4, 2, 5, 2]\n",
    "element = 2\n",
    "occurrences = count_occurrences(numbers, element)\n",
    "print(f\"Number of occurrences of {element}: {occurrences}\")"
   ]
  },
  {
   "cell_type": "markdown",
   "id": "107cdc2c",
   "metadata": {},
   "source": [
    "### 44. Implement a function to check if a given number is a perfect number.\n"
   ]
  },
  {
   "cell_type": "code",
   "execution_count": 104,
   "id": "1720b321",
   "metadata": {},
   "outputs": [],
   "source": [
    "def is_perfect_number(number):\n",
    "    if number <= 0:\n",
    "        return False\n",
    "\n",
    "    divisors = [1]\n",
    "    for i in range(2, int(number ** 0.5) + 1):\n",
    "        if number % i == 0:\n",
    "            divisors.append(i)\n",
    "            divisors.append(number // i)\n",
    "\n",
    "    return sum(divisors) == number"
   ]
  },
  {
   "cell_type": "code",
   "execution_count": 105,
   "id": "7937f558",
   "metadata": {},
   "outputs": [
    {
     "name": "stdout",
     "output_type": "stream",
     "text": [
      "Enter a number: 28\n",
      "The number is a perfect number.\n"
     ]
    }
   ],
   "source": [
    "num = int(input(\"Enter a number: \"))\n",
    "if is_perfect_number(num):\n",
    "    print(\"The number is a perfect number.\")\n",
    "else:\n",
    "    print(\"The number is not a perfect number.\")"
   ]
  },
  {
   "cell_type": "markdown",
   "id": "6ec77978",
   "metadata": {},
   "source": [
    "### 45. Write a Python program to remove all duplicates from a string.\n"
   ]
  },
  {
   "cell_type": "code",
   "execution_count": 106,
   "id": "33b9fad3",
   "metadata": {},
   "outputs": [],
   "source": [
    "def remove_duplicates(string):\n",
    "    unique_chars = []\n",
    "    for char in string:\n",
    "        if char not in unique_chars:\n",
    "            unique_chars.append(char)\n",
    "    return ''.join(unique_chars)"
   ]
  },
  {
   "cell_type": "code",
   "execution_count": 107,
   "id": "740c6c8b",
   "metadata": {},
   "outputs": [
    {
     "name": "stdout",
     "output_type": "stream",
     "text": [
      "Enter a string: hello\n",
      "String with duplicates removed: helo\n"
     ]
    }
   ],
   "source": [
    "input_string = input(\"Enter a string: \")\n",
    "result = remove_duplicates(input_string)\n",
    "print(\"String with duplicates removed:\", result)"
   ]
  },
  {
   "cell_type": "markdown",
   "id": "3ebbe353",
   "metadata": {},
   "source": [
    "### 46. Implement a function to find the first missing positive"
   ]
  },
  {
   "cell_type": "code",
   "execution_count": 108,
   "id": "e6912f89",
   "metadata": {},
   "outputs": [],
   "source": [
    "def find_first_missing_positive(nums):\n",
    "    n = len(nums)\n",
    "\n",
    "    # Move all positive integers to their correct positions\n",
    "    i = 0\n",
    "    while i < n:\n",
    "        if nums[i] > 0 and nums[i] <= n and nums[nums[i] - 1] != nums[i]:\n",
    "            nums[nums[i] - 1], nums[i] = nums[i], nums[nums[i] - 1]\n",
    "        else:\n",
    "            i += 1\n",
    "\n",
    "    # Find the first missing positive integer\n",
    "    for i in range(n):\n",
    "        if nums[i] != i + 1:\n",
    "            return i + 1\n",
    "\n",
    "    return n + 1"
   ]
  },
  {
   "cell_type": "code",
   "execution_count": 109,
   "id": "08d71d63",
   "metadata": {},
   "outputs": [
    {
     "name": "stdout",
     "output_type": "stream",
     "text": [
      "First missing positive integer: 7\n"
     ]
    }
   ],
   "source": [
    "numbers = [3, 4, -1, 1, -2, 6, 2, 5]\n",
    "first_missing = find_first_missing_positive(numbers)\n",
    "print(\"First missing positive integer:\", first_missing)\n"
   ]
  }
 ],
 "metadata": {
  "kernelspec": {
   "display_name": "Python 3 (ipykernel)",
   "language": "python",
   "name": "python3"
  },
  "language_info": {
   "codemirror_mode": {
    "name": "ipython",
    "version": 3
   },
   "file_extension": ".py",
   "mimetype": "text/x-python",
   "name": "python",
   "nbconvert_exporter": "python",
   "pygments_lexer": "ipython3",
   "version": "3.9.12"
  }
 },
 "nbformat": 4,
 "nbformat_minor": 5
}

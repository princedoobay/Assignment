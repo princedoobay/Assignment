{
 "cells": [
  {
   "cell_type": "markdown",
   "id": "bfd4794e",
   "metadata": {},
   "source": [
    "# Programming Assignment-2"
   ]
  },
  {
   "cell_type": "markdown",
   "id": "4b6b6fd1",
   "metadata": {},
   "source": [
    "#### Q1.\tWrite a Python program to convert kilometers to miles?"
   ]
  },
  {
   "cell_type": "code",
   "execution_count": 2,
   "id": "d172e772",
   "metadata": {},
   "outputs": [
    {
     "name": "stdout",
     "output_type": "stream",
     "text": [
      "Enter the value in kilometer: 2\n",
      "2.0 kilometer = 1.242742 miles\n"
     ]
    }
   ],
   "source": [
    "x = float(input(\"Enter the value in kilometer: \"))\n",
    "convr_fact = 0.621371\n",
    "y = x*convr_fact\n",
    "print(x,\"kilometer =\", y, \"miles\")"
   ]
  },
  {
   "cell_type": "markdown",
   "id": "1b1fa336",
   "metadata": {},
   "source": [
    "#### Q2.\tWrite a Python program to convert Celsius to Fahrenheit?\n"
   ]
  },
  {
   "cell_type": "code",
   "execution_count": 4,
   "id": "43ef33c9",
   "metadata": {},
   "outputs": [
    {
     "name": "stdout",
     "output_type": "stream",
     "text": [
      "Enter the temperature value in degree celcius: 34\n",
      "34.00 degree celcius is equal to 93.20 degree forenheit\n"
     ]
    }
   ],
   "source": [
    "celcius = float(input(\"Enter the temperature value in degree celcius: \"))\n",
    "convr_fact = 9/5\n",
    "forenheit = celcius*convr_fact+32\n",
    "print('%.2f degree celcius is equal to %.2f degree forenheit' %(celcius, forenheit))"
   ]
  },
  {
   "cell_type": "markdown",
   "id": "2a0efb2f",
   "metadata": {},
   "source": [
    "#### Q3.\tWrite a Python program to display calendar?\n"
   ]
  },
  {
   "cell_type": "code",
   "execution_count": 5,
   "id": "45f76cd5",
   "metadata": {},
   "outputs": [
    {
     "name": "stdout",
     "output_type": "stream",
     "text": [
      "Enter year:2022\n",
      "Enter month:06\n",
      "     June 2022\n",
      "Mo Tu We Th Fr Sa Su\n",
      "       1  2  3  4  5\n",
      " 6  7  8  9 10 11 12\n",
      "13 14 15 16 17 18 19\n",
      "20 21 22 23 24 25 26\n",
      "27 28 29 30\n",
      "\n"
     ]
    }
   ],
   "source": [
    "import calendar\n",
    "yy = int(input('Enter year:'))\n",
    "mm = int(input('Enter month:'))\n",
    "print(calendar.month(yy,mm))"
   ]
  },
  {
   "cell_type": "markdown",
   "id": "71c773d5",
   "metadata": {},
   "source": [
    "#### Q4.\tWrite a Python program to solve quadratic equation?\n"
   ]
  },
  {
   "cell_type": "code",
   "execution_count": 7,
   "id": "f501e0c1",
   "metadata": {},
   "outputs": [
    {
     "name": "stdout",
     "output_type": "stream",
     "text": [
      "Enter a:2\n",
      "Enter b:4\n",
      "Enter c:-2\n",
      " real and different roots \n",
      "0.41421356237309515\n",
      "-2.414213562373095\n"
     ]
    }
   ],
   "source": [
    "# Python program to find roots of quadratic equation\n",
    "import math\n",
    "\n",
    "# function for finding roots\n",
    "def equationroots(a, b, c):\n",
    "    dis = b * b - 4 * a * c\n",
    "    sqrt_val = (abs(dis))**0.5\n",
    "    \n",
    "\n",
    "# checking condition for discriminant\n",
    "    if dis > 0:\n",
    "        print(\" real and different roots \")\n",
    "        print((-b + sqrt_val)/(2 * a))\n",
    "        print((-b - sqrt_val)/(2 * a))\n",
    "\n",
    "    elif dis == 0:\n",
    "        print(\" real and same roots\")\n",
    "        print(-b / (2 * a))\n",
    "\n",
    "# when discriminant is less than 0\n",
    "    else:\n",
    "        print(\"Complex Roots\")\n",
    "        print(- b / (2 * a), \" + i\", sqrt_val)\n",
    "        print(- b / (2 * a), \" - i\", sqrt_val)\n",
    "\n",
    "# Driver Program\n",
    "a = int(input('Enter a:'))\n",
    "b = int(input('Enter b:'))\n",
    "c = int(input('Enter c:'))\n",
    "\n",
    "# If a is 0, then incorrect equation\n",
    "if a == 0:\n",
    "    print(\"Input correct quadratic equation\")\n",
    "\n",
    "else:\n",
    "    equationroots(a, b, c)"
   ]
  },
  {
   "cell_type": "markdown",
   "id": "33347bf0",
   "metadata": {},
   "source": [
    "#### Q5.\tWrite a Python program to swap two variables without temp variable?"
   ]
  },
  {
   "cell_type": "code",
   "execution_count": 6,
   "id": "57c52bfb",
   "metadata": {},
   "outputs": [
    {
     "name": "stdout",
     "output_type": "stream",
     "text": [
      "11\n",
      "7\n"
     ]
    }
   ],
   "source": [
    "x = 7\n",
    "y = 11\n",
    "x,y = y,x\n",
    "print(x)\n",
    "print(y)"
   ]
  }
 ],
 "metadata": {
  "kernelspec": {
   "display_name": "Python 3 (ipykernel)",
   "language": "python",
   "name": "python3"
  },
  "language_info": {
   "codemirror_mode": {
    "name": "ipython",
    "version": 3
   },
   "file_extension": ".py",
   "mimetype": "text/x-python",
   "name": "python",
   "nbconvert_exporter": "python",
   "pygments_lexer": "ipython3",
   "version": "3.9.12"
  }
 },
 "nbformat": 4,
 "nbformat_minor": 5
}

{
 "cells": [
  {
   "cell_type": "markdown",
   "id": "cef35135",
   "metadata": {},
   "source": [
    "# Assignment-2"
   ]
  },
  {
   "cell_type": "markdown",
   "id": "2c58ce7b",
   "metadata": {},
   "source": [
    "#### Q1. What are the two values of the Boolean data type? How do you write them?\n",
    "\n",
    "Ans. True and false are the two values of Boolean data type. In binary, it is represented by 1 and 0. \n",
    "Boolean data types are written with the help of Boolean operators."
   ]
  },
  {
   "cell_type": "markdown",
   "id": "cfa2d001",
   "metadata": {},
   "source": [
    "#### Q2. What are the three different types of Boolean operators?\n",
    "\n",
    "Ans. There are 3 types of Boolean operators i.e. OR, AND and NOT. \n",
    "\n",
    "OR - It broadens a search by telling the database that any of the words it connects are acceptable. \n",
    "\n",
    "AND – It search for two or more concepts that interested by combining descriptive keywords.\n",
    "\n",
    "NOT – It search by telling the database to eliminate all terms that follow it from your search results."
   ]
  },
  {
   "cell_type": "markdown",
   "id": "f75dafc2",
   "metadata": {},
   "source": [
    "#### Q3. Make a list of each Boolean operator's truth tables (i.e. every possible combination of Boolean values for the operator and what it evaluate). \n",
    "\n",
    "Ans. Here 1 indicates the true value and zero indicates false value.\n",
    "A OR B = C\n",
    "\n",
    "A\tB\tC\n",
    "\n",
    "0\t0\t0\n",
    "\n",
    "1\t0\t1\n",
    "\n",
    "0\t1\t1\n",
    "\n",
    "1\t1\t1\n",
    "\n",
    "A AND B = C\n",
    "\n",
    "A\tB\tC\n",
    "\n",
    "0\t0\t0\n",
    "\n",
    "1\t0\t0\n",
    "\n",
    "0\t1\t0\n",
    "\n",
    "1\t1\t1\n",
    "\n",
    "NOT A\n",
    "\n",
    "A\tB\tC\n",
    "\n",
    "0\t0\t1\n",
    "\n",
    "1\t0\t0\n",
    "\n",
    "0\t1\t0\n",
    "\n",
    "1\t1\t0"
   ]
  },
  {
   "cell_type": "markdown",
   "id": "843d0e58",
   "metadata": {},
   "source": [
    "#### Q4. What are the values of the following expressions?\n",
    "\n",
    "(5 > 4) and (3 == 5)   \n",
    "\n",
    "not (5 > 4)\n",
    "\n",
    "(5 > 4) or (3 == 5)\n",
    "\n",
    "not ((5 > 4) or (3 == 5))\n",
    "\n",
    "(True and True) and (True == False)\n",
    "\n",
    "(not False) or (not True)\n"
   ]
  },
  {
   "cell_type": "code",
   "execution_count": 4,
   "id": "95e0b3dc",
   "metadata": {},
   "outputs": [
    {
     "data": {
      "text/plain": [
       "False"
      ]
     },
     "execution_count": 4,
     "metadata": {},
     "output_type": "execute_result"
    }
   ],
   "source": [
    "(5 > 4) and (3 == 5)"
   ]
  },
  {
   "cell_type": "code",
   "execution_count": 5,
   "id": "b83c7a3f",
   "metadata": {},
   "outputs": [
    {
     "data": {
      "text/plain": [
       "False"
      ]
     },
     "execution_count": 5,
     "metadata": {},
     "output_type": "execute_result"
    }
   ],
   "source": [
    "not (5 > 4)"
   ]
  },
  {
   "cell_type": "code",
   "execution_count": 6,
   "id": "dedd8a4a",
   "metadata": {},
   "outputs": [
    {
     "data": {
      "text/plain": [
       "True"
      ]
     },
     "execution_count": 6,
     "metadata": {},
     "output_type": "execute_result"
    }
   ],
   "source": [
    "(5 > 4) or (3 == 5)"
   ]
  },
  {
   "cell_type": "code",
   "execution_count": 7,
   "id": "6d3f0023",
   "metadata": {},
   "outputs": [
    {
     "data": {
      "text/plain": [
       "False"
      ]
     },
     "execution_count": 7,
     "metadata": {},
     "output_type": "execute_result"
    }
   ],
   "source": [
    "not ((5 > 4) or (3 == 5))"
   ]
  },
  {
   "cell_type": "code",
   "execution_count": 8,
   "id": "b847a252",
   "metadata": {},
   "outputs": [
    {
     "data": {
      "text/plain": [
       "False"
      ]
     },
     "execution_count": 8,
     "metadata": {},
     "output_type": "execute_result"
    }
   ],
   "source": [
    "(True and True) and (True == False)"
   ]
  },
  {
   "cell_type": "code",
   "execution_count": 9,
   "id": "7287a2f8",
   "metadata": {},
   "outputs": [
    {
     "data": {
      "text/plain": [
       "True"
      ]
     },
     "execution_count": 9,
     "metadata": {},
     "output_type": "execute_result"
    }
   ],
   "source": [
    "(not False) or (not True)"
   ]
  },
  {
   "cell_type": "markdown",
   "id": "185a9fc3",
   "metadata": {},
   "source": [
    "#### Q5. What are the six comparison operators?\n",
    "\n",
    "1\tGreater than\t>\n",
    "\n",
    "2\tLess than\t<\n",
    "\n",
    "3\tEqual to \t==\n",
    "\n",
    "4\tNot equal to\t!=\n",
    "\n",
    "5\tGreater than equal to\t>=\n",
    "\n",
    "6\tLess than equal to\t<="
   ]
  },
  {
   "cell_type": "markdown",
   "id": "c4ab5e77",
   "metadata": {},
   "source": [
    "#### Q6. How do you tell the difference between the equal to and assignment operators? Describe a condition and when you would use one.\n",
    "\n",
    "Ans. In assignment operator we use ‘=” symbol but in equal to we use “==” this symbol.\n",
    "\n",
    "e.g. a = 5 is a assignment operator but a == b is a equal to operator."
   ]
  },
  {
   "cell_type": "markdown",
   "id": "b6bea88a",
   "metadata": {},
   "source": [
    "#### Q7. Identify the three blocks in this code:\n",
    " \n",
    "spam = 0\n",
    "\n",
    "if spam == 10:\n",
    "    \n",
    "    print('eggs')\n",
    "    \n",
    "if spam > 5:\n",
    "    \n",
    "    print('bacon')\n",
    "    \n",
    "else:\n",
    "    \n",
    "    print('ham')\n",
    "    \n",
    "    print('spam')\n",
    "    \n",
    "    print('spam')"
   ]
  },
  {
   "cell_type": "code",
   "execution_count": 2,
   "id": "56b893fe",
   "metadata": {},
   "outputs": [
    {
     "name": "stdout",
     "output_type": "stream",
     "text": [
      "ham\n",
      "spam\n",
      "spam\n"
     ]
    }
   ],
   "source": [
    "#Block 1\n",
    "spam = 0\n",
    "if spam == 10:\n",
    "    print('eggs')\n",
    "\n",
    "#Block 2\n",
    "if spam > 5:\n",
    "    print('bacon')\n",
    "\n",
    "#Block 3\n",
    "else:\n",
    "    print('ham')\n",
    "    print('spam')\n",
    "    print('spam')"
   ]
  },
  {
   "cell_type": "markdown",
   "id": "0a73a634",
   "metadata": {},
   "source": [
    "#### Q8. Write code that prints Hello if 1 is stored in spam, prints Howdy if 2 is stored in spam, and prints Greetings! if anything else is stored in spam.\n"
   ]
  },
  {
   "cell_type": "code",
   "execution_count": 1,
   "id": "21c1ceeb",
   "metadata": {},
   "outputs": [
    {
     "name": "stdout",
     "output_type": "stream",
     "text": [
      "enter a value: 1\n",
      "Hello\n",
      "Greetings!\n"
     ]
    }
   ],
   "source": [
    "spam = int(input(\"enter a value: \"))\n",
    "if spam == 1:\n",
    "    print(\"Hello\") \n",
    "if spam == 2:\n",
    "    print(\"Howdy\")\n",
    "else:\n",
    "    print(\"Greetings!\")"
   ]
  },
  {
   "cell_type": "code",
   "execution_count": 2,
   "id": "95dc49f1",
   "metadata": {},
   "outputs": [
    {
     "name": "stdout",
     "output_type": "stream",
     "text": [
      "enter a value: 2\n",
      "Howdy\n"
     ]
    }
   ],
   "source": [
    "spam = int(input(\"enter a value: \"))\n",
    "if spam == 1:\n",
    "    print(\"Hello\")\n",
    "if spam == 2:\n",
    "    print(\"Howdy\")\n",
    "else:\n",
    "    print(\"Greetings!\")"
   ]
  },
  {
   "cell_type": "code",
   "execution_count": 3,
   "id": "4ab4826a",
   "metadata": {},
   "outputs": [
    {
     "name": "stdout",
     "output_type": "stream",
     "text": [
      "enter a value: 4\n",
      "Greetings!\n"
     ]
    }
   ],
   "source": [
    "spam = int(input(\"enter a value: \"))\n",
    "if spam == 1:\n",
    "    print(\"Hello\") \n",
    "if spam == 2:\n",
    "    print(\"Howdy\")\n",
    "else:\n",
    "    print(\"Greetings!\")"
   ]
  }
 ],
 "metadata": {
  "kernelspec": {
   "display_name": "Python 3 (ipykernel)",
   "language": "python",
   "name": "python3"
  },
  "language_info": {
   "codemirror_mode": {
    "name": "ipython",
    "version": 3
   },
   "file_extension": ".py",
   "mimetype": "text/x-python",
   "name": "python",
   "nbconvert_exporter": "python",
   "pygments_lexer": "ipython3",
   "version": "3.9.12"
  }
 },
 "nbformat": 4,
 "nbformat_minor": 5
}

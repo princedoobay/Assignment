{
  "nbformat": 4,
  "nbformat_minor": 0,
  "metadata": {
    "colab": {
      "provenance": []
    },
    "kernelspec": {
      "name": "python3",
      "display_name": "Python 3"
    },
    "language_info": {
      "name": "python"
    }
  },
  "cells": [
    {
      "cell_type": "markdown",
      "source": [
        "# Python_Advance_Assignment-7"
      ],
      "metadata": {
        "id": "mNZzvfKi5Kwy"
      }
    },
    {
      "cell_type": "markdown",
      "source": [
        "Q1. What is the purpose of the try statement?\n",
        "\n",
        "The purpose of the try statement in Python is to enclose a block of code that may raise exceptions. The try statement allows you to handle exceptions gracefully, preventing the program from terminating abruptly when an exception occurs. By using a try-except block, you can catch exceptions, execute specific error-handling code, and continue the program's execution.\n",
        "\n",
        "The basic syntax of the try statement is as follows:"
      ],
      "metadata": {
        "id": "w5XuQPFa5Uxy"
      }
    },
    {
      "cell_type": "code",
      "source": [
        "try:\n",
        "    # Code that may raise exceptions\n",
        "    # ...\n",
        "except SomeException:\n",
        "    # Code to handle the exception\n",
        "    # ...\n"
      ],
      "metadata": {
        "id": "zVHnjKPL5vNy"
      },
      "execution_count": null,
      "outputs": []
    },
    {
      "cell_type": "markdown",
      "source": [
        "Q2. What are the two most popular try statement variations?\n",
        "\n",
        "The two most popular try statement variations are:\n",
        "\n",
        "try-except: This variation is used to catch and handle specific exceptions that may occur in the try block. You specify the exception type after the except keyword to indicate which type of exception should be caught and handled."
      ],
      "metadata": {
        "id": "9ggTkX975yLp"
      }
    },
    {
      "cell_type": "code",
      "source": [
        "try:\n",
        "    # Code that may raise exceptions\n",
        "    # ...\n",
        "except SomeException:\n",
        "    # Code to handle the SomeException\n",
        "    # ...\n"
      ],
      "metadata": {
        "id": "x3rvKlM851pB"
      },
      "execution_count": null,
      "outputs": []
    },
    {
      "cell_type": "markdown",
      "source": [
        "try-except-else: This variation allows you to specify a block of code to be executed when no exceptions are raised inside the try block. The code in the else block will be executed only if no exceptions occur."
      ],
      "metadata": {
        "id": "AF293KG-54aq"
      }
    },
    {
      "cell_type": "code",
      "source": [
        "try:\n",
        "    # Code that may raise exceptions\n",
        "    # ...\n",
        "except SomeException:\n",
        "    # Code to handle the SomeException\n",
        "    # ...\n",
        "else:\n",
        "    # Code to execute if no exceptions occurred\n",
        "    # ...\n"
      ],
      "metadata": {
        "id": "IW7JOM5Q57KB"
      },
      "execution_count": null,
      "outputs": []
    },
    {
      "cell_type": "markdown",
      "source": [
        "Q3. What is the purpose of the raise statement?\n",
        "\n",
        "The purpose of the raise statement in Python is to raise an exception explicitly. When you encounter a situation that warrants an exceptional condition, you can use the raise statement to create and raise an exception, indicating that something unexpected or exceptional has occurred in the program.\n",
        "\n",
        "The basic syntax of the raise statement is as follows:"
      ],
      "metadata": {
        "id": "G-pUQ1se59Mq"
      }
    },
    {
      "cell_type": "code",
      "source": [
        "raise SomeException(\"Optional error message\")\n"
      ],
      "metadata": {
        "id": "fVz4sve_5_w6"
      },
      "execution_count": null,
      "outputs": []
    },
    {
      "cell_type": "markdown",
      "source": [
        "Here, SomeException is the type of the exception to be raised, and the optional error message provides additional information about the exception."
      ],
      "metadata": {
        "id": "veSFetwz6CJK"
      }
    },
    {
      "cell_type": "markdown",
      "source": [
        "Q4. What does the assert statement do, and what other statement is it like?\n",
        "\n",
        "The assert statement in Python is used to test whether a given expression is true. It serves as a debugging aid and is typically used to check conditions that are assumed to be true during program execution. If the expression evaluates to False, the assert statement raises an AssertionError with an optional error message.\n",
        "\n",
        "The basic syntax of the assert statement is as follows:"
      ],
      "metadata": {
        "id": "pFb464Dz6FVi"
      }
    },
    {
      "cell_type": "code",
      "source": [
        "assert expression, \"Optional error message\"\n"
      ],
      "metadata": {
        "id": "egyaATMB6Et6"
      },
      "execution_count": null,
      "outputs": []
    },
    {
      "cell_type": "markdown",
      "source": [
        "When the assert statement is encountered, the expression is evaluated. If the expression is True, the program continues its execution. However, if the expression is False, an AssertionError is raised, and the program halts.\n",
        "\n",
        "The assert statement is similar to the if statement, but it is primarily used for debugging and sanity checks during development rather than for regular control flow."
      ],
      "metadata": {
        "id": "cyzTJIVi6Jyq"
      }
    },
    {
      "cell_type": "markdown",
      "source": [
        "Q5. What is the purpose of the with/as argument, and what other statement is it like?\n",
        "\n",
        "The purpose of the with/as statement is to simplify the management of resources, such as files or network connections, that need to be cleaned up after usage. It is used with objects that support the context management protocol by defining __enter__() and __exit__() methods.\n",
        "\n",
        "The basic syntax of the with/as statement is as follows:"
      ],
      "metadata": {
        "id": "KEvMzqtj6Piq"
      }
    },
    {
      "cell_type": "code",
      "source": [
        "with context_manager as variable:\n",
        "    # Code block using the variable\n"
      ],
      "metadata": {
        "id": "IqOlpUZ96QRh"
      },
      "execution_count": null,
      "outputs": []
    },
    {
      "cell_type": "markdown",
      "source": [
        "When the with statement is encountered, it calls the __enter__() method of the context manager, which sets up the resource. The resource is then assigned to the variable. After the code block inside the with statement completes execution (or if an exception occurs), the __exit__() method of the context manager is called, allowing for proper cleanup and resource release.\n",
        "\n",
        "The with/as statement is similar in function to the try-finally statement, but it provides a more concise and convenient way of managing resources and ensures that the cleanup code is executed correctly, even in the presence of exceptions."
      ],
      "metadata": {
        "id": "fqjpSuta6Tuy"
      }
    }
  ]
}
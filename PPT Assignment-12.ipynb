{
 "cells": [
  {
   "cell_type": "markdown",
   "id": "8ee3f0f6",
   "metadata": {},
   "source": [
    "# PPT Assignment-12"
   ]
  },
  {
   "cell_type": "markdown",
   "id": "e41bb9c6",
   "metadata": {},
   "source": [
    "**Question 1**\n",
    "\n",
    "Given a singly linked list, delete **middle** of the linked list. For example, if given linked list is 1->2->**3**->4->5 then linked list should be modified to 1->2->4->5.If there are **even** nodes, then there would be **two middle** nodes, we need to delete the second middle element. For example, if given linked list is 1->2->3->4->5->6 then it should be modified to 1->2->3->5->6.If the input linked list is NULL or has 1 node, then it should return NULL\n",
    "\n",
    "**Example 1:**\n",
    "Input:\n",
    "\n",
    "LinkedList: 1->2->3->4->5\n",
    "\n",
    "Output:1 2 4 5\n",
    "\n",
    "**Example 2:**\n",
    "Input:\n",
    "\n",
    "LinkedList: 2->4->6->7->5->1\n",
    "\n",
    "Output:2 4 6 5 1"
   ]
  },
  {
   "cell_type": "code",
   "execution_count": 2,
   "id": "b697f81c",
   "metadata": {},
   "outputs": [],
   "source": [
    "class ListNode:\n",
    "    def __init__(self, val=0, next=None):\n",
    "        self.val = val\n",
    "        self.next = next\n",
    "\n",
    "def deleteMiddleNode(head):\n",
    "    if head is None or head.next is None:\n",
    "        return None\n",
    "    \n",
    "    slow = fast = head\n",
    "    prev = None\n",
    "    \n",
    "    while fast and fast.next:\n",
    "        fast = fast.next.next\n",
    "        prev = slow\n",
    "        slow = slow.next\n",
    "    \n",
    "    prev.next = slow.next\n",
    "    \n",
    "    return head"
   ]
  },
  {
   "cell_type": "code",
   "execution_count": 3,
   "id": "94218815",
   "metadata": {},
   "outputs": [],
   "source": [
    "# Helper function to create a linked list from a list of values\n",
    "def createLinkedList(values):\n",
    "    dummy = ListNode(0)\n",
    "    curr = dummy\n",
    "    \n",
    "    for val in values:\n",
    "        curr.next = ListNode(val)\n",
    "        curr = curr.next\n",
    "    \n",
    "    return dummy.next\n",
    "\n",
    "# Helper function to print the values of a linked list\n",
    "def printLinkedList(head):\n",
    "    curr = head\n",
    "    while curr:\n",
    "        print(curr.val, end=\" \")\n",
    "        curr = curr.next\n",
    "    print()"
   ]
  },
  {
   "cell_type": "code",
   "execution_count": 4,
   "id": "c56b53dd",
   "metadata": {},
   "outputs": [
    {
     "name": "stdout",
     "output_type": "stream",
     "text": [
      "1 2 4 5 \n"
     ]
    }
   ],
   "source": [
    "head1 = createLinkedList([1, 2, 3, 4, 5])\n",
    "head1 = deleteMiddleNode(head1)\n",
    "printLinkedList(head1)\n"
   ]
  },
  {
   "cell_type": "code",
   "execution_count": 5,
   "id": "8606c721",
   "metadata": {},
   "outputs": [
    {
     "name": "stdout",
     "output_type": "stream",
     "text": [
      "2 4 6 5 1 \n"
     ]
    }
   ],
   "source": [
    "head2 = createLinkedList([2, 4, 6, 7, 5, 1])\n",
    "head2 = deleteMiddleNode(head2)\n",
    "printLinkedList(head2)"
   ]
  },
  {
   "cell_type": "markdown",
   "id": "d12db658",
   "metadata": {},
   "source": [
    "**Question 2**\n",
    "\n",
    "Given a linked list of **N** nodes. The task is to check if the linked list has a loop. Linked list can contain self loop.\n",
    "\n",
    "**Example 1:**\n",
    "Input: N = 3 , value[] = {1,3,4} , x(position at which tail is connected) = 2\n",
    "\n",
    "Output:True\n",
    "\n",
    "Explanation:In above test case N = 3. The linked list with nodes N = 3 is given. Then value of x=2 is given which means last node is connected with xth node of linked list. Therefore, there exists a loop.\n",
    "\n",
    "**Example 2:**\n",
    "Input: N = 4 , value[] = {1,8,3,4} , x = 0\n",
    "\n",
    "Output:False\n",
    "\n",
    "Explanation:For N = 4 ,x = 0 means then lastNode->next = NULL, then the Linked list does not contains any loop."
   ]
  },
  {
   "cell_type": "code",
   "execution_count": 6,
   "id": "15946ca9",
   "metadata": {},
   "outputs": [],
   "source": [
    "class ListNode:\n",
    "    def __init__(self, val=0, next=None):\n",
    "        self.val = val\n",
    "        self.next = next\n",
    "\n",
    "def hasCycle(head):\n",
    "    slow = fast = head\n",
    "    \n",
    "    while fast and fast.next:\n",
    "        slow = slow.next\n",
    "        fast = fast.next.next\n",
    "        \n",
    "        if slow == fast:\n",
    "            return True\n",
    "    \n",
    "    return False"
   ]
  },
  {
   "cell_type": "code",
   "execution_count": 7,
   "id": "1d87ead5",
   "metadata": {},
   "outputs": [],
   "source": [
    "# Helper function to create a linked list from a list of values\n",
    "def createLinkedList(values, cycle_pos):\n",
    "    dummy = ListNode(0)\n",
    "    curr = dummy\n",
    "    cycle_node = None\n",
    "    \n",
    "    for i, val in enumerate(values):\n",
    "        curr.next = ListNode(val)\n",
    "        curr = curr.next\n",
    "        \n",
    "        if i == cycle_pos:\n",
    "            cycle_node = curr\n",
    "    \n",
    "    if cycle_node:\n",
    "        curr.next = cycle_node\n",
    "    \n",
    "    return dummy.next"
   ]
  },
  {
   "cell_type": "code",
   "execution_count": 8,
   "id": "242f0ad7",
   "metadata": {},
   "outputs": [
    {
     "name": "stdout",
     "output_type": "stream",
     "text": [
      "True\n"
     ]
    }
   ],
   "source": [
    "head1 = createLinkedList([1, 3, 4], 1)\n",
    "print(hasCycle(head1))"
   ]
  },
  {
   "cell_type": "code",
   "execution_count": 9,
   "id": "0d2fdc1d",
   "metadata": {},
   "outputs": [
    {
     "name": "stdout",
     "output_type": "stream",
     "text": [
      "False\n"
     ]
    }
   ],
   "source": [
    "head2 = createLinkedList([1, 8, 3, 4], -1)\n",
    "print(hasCycle(head2))"
   ]
  },
  {
   "cell_type": "markdown",
   "id": "1a8a147d",
   "metadata": {},
   "source": [
    "**Question 3**\n",
    "\n",
    "Given a linked list consisting of **L** nodes and given a number **N**. The task is to find the **N**th node from the end of the linked list.\n",
    "\n",
    "**Example 1:**\n",
    "Input: N = 2 , LinkedList: 1->2->3->4->5->6->7->8->9\n",
    "\n",
    "Output:8\n",
    "\n",
    "Explanation:In the first example, there are 9 nodes in linked list and we need to find 2nd node from end. 2nd node from end is 8.\n",
    "\n",
    "**Example 2:**\n",
    "Input: N = 5 , LinkedList: 10->5->100->5 \n",
    "\n",
    "Output:-1\n",
    "\n",
    "Explanation:In the second example, there are 4 nodes in the linked list and we need to find 5th from the end. Since 'n' is more than the number of nodes in the linked list, the output is -1."
   ]
  },
  {
   "cell_type": "code",
   "execution_count": 10,
   "id": "053032d1",
   "metadata": {},
   "outputs": [],
   "source": [
    "class ListNode:\n",
    "    def __init__(self, val=0, next=None):\n",
    "        self.val = val\n",
    "        self.next = next\n",
    "\n",
    "def nthFromEnd(head, n):\n",
    "    slow = fast = head\n",
    "    \n",
    "    # Move the fast pointer N nodes ahead\n",
    "    for _ in range(n):\n",
    "        if fast is None:\n",
    "            return -1\n",
    "        fast = fast.next\n",
    "    \n",
    "    # Move both pointers until the fast pointer reaches the end\n",
    "    while fast:\n",
    "        slow = slow.next\n",
    "        fast = fast.next\n",
    "    \n",
    "    return slow.val"
   ]
  },
  {
   "cell_type": "code",
   "execution_count": 12,
   "id": "7912a67c",
   "metadata": {},
   "outputs": [],
   "source": [
    "# Helper function to create a linked list from a list of values\n",
    "def createLinkedList(values):\n",
    "    dummy = ListNode(0)\n",
    "    curr = dummy\n",
    "    \n",
    "    for val in values:\n",
    "        curr.next = ListNode(val)\n",
    "        curr = curr.next\n",
    "    \n",
    "    return dummy.next"
   ]
  },
  {
   "cell_type": "code",
   "execution_count": 13,
   "id": "bc110b48",
   "metadata": {},
   "outputs": [
    {
     "name": "stdout",
     "output_type": "stream",
     "text": [
      "8\n"
     ]
    }
   ],
   "source": [
    "head1 = createLinkedList([1, 2, 3, 4, 5, 6, 7, 8, 9])\n",
    "print(nthFromEnd(head1, 2))"
   ]
  },
  {
   "cell_type": "code",
   "execution_count": 14,
   "id": "e3e54621",
   "metadata": {},
   "outputs": [
    {
     "name": "stdout",
     "output_type": "stream",
     "text": [
      "-1\n"
     ]
    }
   ],
   "source": [
    "head2 = createLinkedList([10, 5, 100, 5])\n",
    "print(nthFromEnd(head2, 5))"
   ]
  },
  {
   "cell_type": "markdown",
   "id": "82d88dc2",
   "metadata": {},
   "source": [
    "**Question 4**\n",
    "\n",
    "Given a singly linked list of characters, write a function that returns true if the given list is a palindrome, else false.\n",
    "![Alt Text](https://pwskills.notion.site/image/https%3A%2F%2Fmedia.geeksforgeeks.org%2Fwp-content%2Fuploads%2F20220816144425%2FLLdrawio.png?id=e46487ad-3f04-4232-b8af-934a670fef6e&table=block&spaceId=6fae2e0f-dedc-48e9-bc59-af2654c78209&width=2000&userId=&cache=v2)\n",
    "\n",
    "**Examples:**\n",
    "> Input: R->A->D->A->R->NULL\n",
    "> \n",
    "> \n",
    "> **Output:** Yes\n",
    "> \n",
    "> **Input:** C->O->D->E->NULL\n",
    "> \n",
    "> **Output:** No\n",
    ">\n"
   ]
  },
  {
   "cell_type": "code",
   "execution_count": 15,
   "id": "3d6cec5e",
   "metadata": {},
   "outputs": [],
   "source": [
    "class ListNode:\n",
    "    def __init__(self, val=0, next=None):\n",
    "        self.val = val\n",
    "        self.next = next\n",
    "\n",
    "def isPalindrome(head):\n",
    "    # Store characters in a list\n",
    "    chars = []\n",
    "    curr = head\n",
    "    while curr:\n",
    "        chars.append(curr.val)\n",
    "        curr = curr.next\n",
    "    \n",
    "    # Reverse the list of characters\n",
    "    reversed_chars = chars[::-1]\n",
    "    \n",
    "    # Compare the original and reversed lists\n",
    "    return chars == reversed_chars\n"
   ]
  },
  {
   "cell_type": "code",
   "execution_count": 16,
   "id": "a01455a4",
   "metadata": {},
   "outputs": [],
   "source": [
    "# Helper function to create a linked list from a list of values\n",
    "def createLinkedList(values):\n",
    "    dummy = ListNode(0)\n",
    "    curr = dummy\n",
    "    \n",
    "    for val in values:\n",
    "        curr.next = ListNode(val)\n",
    "        curr = curr.next\n",
    "    \n",
    "    return dummy.next"
   ]
  },
  {
   "cell_type": "code",
   "execution_count": 17,
   "id": "0d7bfa7a",
   "metadata": {},
   "outputs": [
    {
     "name": "stdout",
     "output_type": "stream",
     "text": [
      "True\n"
     ]
    }
   ],
   "source": [
    "head1 = createLinkedList(['R', 'A', 'D', 'A', 'R'])\n",
    "print(isPalindrome(head1))"
   ]
  },
  {
   "cell_type": "code",
   "execution_count": 18,
   "id": "974fda19",
   "metadata": {},
   "outputs": [
    {
     "name": "stdout",
     "output_type": "stream",
     "text": [
      "False\n"
     ]
    }
   ],
   "source": [
    "head2 = createLinkedList(['C', 'O', 'D', 'E'])\n",
    "print(isPalindrome(head2))"
   ]
  },
  {
   "cell_type": "markdown",
   "id": "6936f641",
   "metadata": {},
   "source": [
    "**Question 5**\n",
    "\n",
    "Given a linked list of **N** nodes such that it may contain a loop. A loop here means that the last node of the link list is connected to the node at position X(1-based index). If the link list does not have any loop, X=0. Remove the loop from the linked list, if it is present, i.e. unlink the last node which is forming the loop.\n",
    "\n",
    "**Example 1:**\n",
    "Input: N = 3 , value[] = {1,3,4} , X = 2\n",
    "\n",
    "Output:1\n",
    "\n",
    "Explanation:The link list looks like\n",
    "\n",
    "1 -> 3 -> 4\n",
    "     ^    |\n",
    "     |____|\n",
    "\n",
    "A loop is present. If you remove it successfully, the answer will be 1.\n",
    "\n",
    "**Example 2:**\n",
    "Input: N = 4 , value[] = {1,8,3,4} , X = 0\n",
    "\n",
    "Output:1\n",
    "\n",
    "Explanation:The Linked list does not contains any loop.\n",
    "\n",
    "**Example 3:**\n",
    "Input: N = 4 , value[] = {1,2,3,4} , X = 1\n",
    "\n",
    "Output:1\n",
    "\n",
    "Explanation:The link list looks like\n",
    "\n",
    "1 -> 2 -> 3 -> 4\n",
    "^              |\n",
    "|______________|\n",
    "\n",
    "A loop is present. If you remove it successfully, the answer will be 1."
   ]
  },
  {
   "cell_type": "code",
   "execution_count": 19,
   "id": "722033c3",
   "metadata": {},
   "outputs": [],
   "source": [
    "class ListNode:\n",
    "    def __init__(self, val=0, next=None):\n",
    "        self.val = val\n",
    "        self.next = next\n",
    "\n",
    "def removeLoop(head):\n",
    "    slow = fast = head\n",
    "    \n",
    "    # Detect loop using Floyd's Tortoise and Hare Algorithm\n",
    "    while fast and fast.next:\n",
    "        slow = slow.next\n",
    "        fast = fast.next.next\n",
    "        \n",
    "        if slow == fast:\n",
    "            break\n",
    "    \n",
    "    # If no loop is present, return the head\n",
    "    if fast is None or fast.next is None:\n",
    "        return head\n",
    "    \n",
    "    # Move slow pointer to the head\n",
    "    slow = head\n",
    "    \n",
    "    # Move both pointers one step at a time until they meet at the node just before the loop\n",
    "    while slow.next != fast.next:\n",
    "        slow = slow.next\n",
    "        fast = fast.next\n",
    "    \n",
    "    # Set the next pointer of the node just before the loop to None to remove the loop\n",
    "    fast.next = None\n",
    "    \n",
    "    return head\n"
   ]
  },
  {
   "cell_type": "code",
   "execution_count": 20,
   "id": "6389b81b",
   "metadata": {},
   "outputs": [],
   "source": [
    "# Helper function to create a linked list from a list of values and a loop position\n",
    "def createLinkedList(values, loop_pos):\n",
    "    dummy = ListNode(0)\n",
    "    curr = dummy\n",
    "    loop_node = None\n",
    "    \n",
    "    for i, val in enumerate(values):\n",
    "        curr.next = ListNode(val)\n",
    "        curr = curr.next\n",
    "        \n",
    "        if i + 1 == loop_pos:\n",
    "            loop_node = curr\n",
    "    \n",
    "    if loop_node:\n",
    "        curr.next = loop_node\n",
    "    \n",
    "    return dummy.next"
   ]
  },
  {
   "cell_type": "code",
   "execution_count": 21,
   "id": "f69b973e",
   "metadata": {},
   "outputs": [
    {
     "name": "stdout",
     "output_type": "stream",
     "text": [
      "1\n"
     ]
    }
   ],
   "source": [
    "head1 = createLinkedList([1, 3, 4], 2)\n",
    "head1 = removeLoop(head1)\n",
    "print(head1.val)"
   ]
  },
  {
   "cell_type": "code",
   "execution_count": 22,
   "id": "b91c17a4",
   "metadata": {},
   "outputs": [
    {
     "name": "stdout",
     "output_type": "stream",
     "text": [
      "1\n"
     ]
    }
   ],
   "source": [
    "head2 = createLinkedList([1, 8, 3, 4], 0)\n",
    "head2 = removeLoop(head2)\n",
    "print(head2.val)"
   ]
  },
  {
   "cell_type": "code",
   "execution_count": 23,
   "id": "2118baf6",
   "metadata": {},
   "outputs": [
    {
     "name": "stdout",
     "output_type": "stream",
     "text": [
      "1\n"
     ]
    }
   ],
   "source": [
    "head3 = createLinkedList([1, 2, 3, 4], 1)\n",
    "head3 = removeLoop(head3)\n",
    "print(head3.val)"
   ]
  },
  {
   "cell_type": "markdown",
   "id": "38cd9ead",
   "metadata": {},
   "source": [
    "**Question 6**\n",
    "\n",
    "Given a linked list and two integers M and N. Traverse the linked list such that you retain M nodes then delete next N nodes, continue the same till end of the linked list.\n",
    "\n",
    "Difficulty Level: Rookie\n",
    "\n",
    "**Examples**:\n",
    "Input: M = 2, N = 2 , Linked List: 1->2->3->4->5->6->7->8\n",
    "\n",
    "Output: Linked List: 1->2->5->6\n",
    "\n",
    "Input: M = 3, N = 2 , Linked List: 1->2->3->4->5->6->7->8->9->10\n",
    "\n",
    "Output: Linked List: 1->2->3->6->7->8\n",
    "\n",
    "Input: M = 1, N = 1 , Linked List: 1->2->3->4->5->6->7->8->9->10\n",
    "\n",
    "Output: Linked List: 1->3->5->7->9"
   ]
  },
  {
   "cell_type": "code",
   "execution_count": 27,
   "id": "7c5a0735",
   "metadata": {},
   "outputs": [],
   "source": [
    "class ListNode:\n",
    "    def __init__(self, val=0, next=None):\n",
    "        self.val = val\n",
    "        self.next = next\n",
    "\n",
    "def retainAndDelete(head, M, N):\n",
    "    if M == 0:\n",
    "        return None\n",
    "    \n",
    "    curr = head\n",
    "    prev = None\n",
    "    \n",
    "    while curr:\n",
    "        # Traverse M nodes to retain\n",
    "        for _ in range(M):\n",
    "            if curr is None:\n",
    "                return head\n",
    "            prev = curr\n",
    "            curr = curr.next\n",
    "        \n",
    "        # Traverse N nodes to delete\n",
    "        for _ in range(N):\n",
    "            if curr is None:\n",
    "                break\n",
    "            curr = curr.next\n",
    "        \n",
    "        # Disconnect the last retained node from the subsequent nodes to be deleted\n",
    "        prev.next = curr\n",
    "    \n",
    "    return head\n"
   ]
  },
  {
   "cell_type": "code",
   "execution_count": 28,
   "id": "069bf640",
   "metadata": {},
   "outputs": [],
   "source": [
    "# Helper function to create a linked list from a list of values\n",
    "def createLinkedList(values):\n",
    "    dummy = ListNode(0)\n",
    "    curr = dummy\n",
    "    \n",
    "    for val in values:\n",
    "        curr.next = ListNode(val)\n",
    "        curr = curr.next\n",
    "    \n",
    "    return dummy.next\n",
    "\n",
    "# Helper function to print the values of a linked list\n",
    "def printLinkedList(head):\n",
    "    curr = head\n",
    "    while curr:\n",
    "        print(curr.val, end=\" \")\n",
    "        curr = curr.next\n",
    "    print()"
   ]
  },
  {
   "cell_type": "code",
   "execution_count": 29,
   "id": "b3c9b8d1",
   "metadata": {},
   "outputs": [
    {
     "name": "stdout",
     "output_type": "stream",
     "text": [
      "1 2 5 6 \n"
     ]
    }
   ],
   "source": [
    "head1 = createLinkedList([1, 2, 3, 4, 5, 6, 7, 8])\n",
    "head1 = retainAndDelete(head1, 2, 2)\n",
    "printLinkedList(head1)"
   ]
  },
  {
   "cell_type": "code",
   "execution_count": 30,
   "id": "fc29c4f4",
   "metadata": {},
   "outputs": [
    {
     "name": "stdout",
     "output_type": "stream",
     "text": [
      "1 2 3 6 7 8 \n"
     ]
    }
   ],
   "source": [
    "head2 = createLinkedList([1, 2, 3, 4, 5, 6, 7, 8, 9, 10])\n",
    "head2 = retainAndDelete(head2, 3, 2)\n",
    "printLinkedList(head2)"
   ]
  },
  {
   "cell_type": "code",
   "execution_count": 31,
   "id": "3dbc4d04",
   "metadata": {},
   "outputs": [
    {
     "name": "stdout",
     "output_type": "stream",
     "text": [
      "1 3 5 7 9 \n"
     ]
    }
   ],
   "source": [
    "head3 = createLinkedList([1, 2, 3, 4, 5, 6, 7, 8, 9, 10])\n",
    "head3 = retainAndDelete(head3, 1, 1)\n",
    "printLinkedList(head3)"
   ]
  },
  {
   "cell_type": "markdown",
   "id": "3a2f32a2",
   "metadata": {},
   "source": [
    "**Question 7**\n",
    "\n",
    "Given two linked lists, insert nodes of second list into first list at alternate positions of first list.\n",
    "\n",
    "For example, if first list is 5->7->17->13->11 and second is 12->10->2->4->6, the first list should become 5->12->7->10->17->2->13->4->11->6 and second list should become empty. The nodes of second list should only be inserted when there are positions available. For example, if the first list is 1->2->3 and second list is 4->5->6->7->8, then first list should become 1->4->2->5->3->6 and second list to 7->8.\n",
    "\n",
    "Use of extra space is not allowed (Not allowed to create additional nodes), i.e., insertion must be done in-place. Expected time complexity is O(n) where n is number of nodes in first list.\n"
   ]
  },
  {
   "cell_type": "code",
   "execution_count": 61,
   "id": "f7c88612",
   "metadata": {},
   "outputs": [],
   "source": [
    "class ListNode:\n",
    "    def __init__(self, val=0, next=None):\n",
    "        self.val = val\n",
    "        self.next = next\n",
    "\n",
    "def insertAtAlternatePositions(first, second):\n",
    "    if not second:\n",
    "        return first, second\n",
    "\n",
    "    first_curr = first\n",
    "    second_curr = second\n",
    "    first_prev = None\n",
    "\n",
    "    while first_curr and second_curr:\n",
    "        second_next = second_curr.next\n",
    "        second_curr.next = first_curr.next\n",
    "        first_curr.next = second_curr\n",
    "        first_prev = first_curr\n",
    "        first_curr = first_curr.next.next\n",
    "        second_curr = second_next\n",
    "\n",
    "    if second_curr:\n",
    "        first_prev.next = second_curr\n",
    "    else:\n",
    "        first_prev.next = None\n",
    "\n",
    "    return first, None\n"
   ]
  },
  {
   "cell_type": "code",
   "execution_count": 62,
   "id": "de1d2d84",
   "metadata": {},
   "outputs": [],
   "source": [
    "# Helper function to create a linked list from a list of values\n",
    "def createLinkedList(values):\n",
    "    dummy = ListNode(0)\n",
    "    curr = dummy\n",
    "\n",
    "    for val in values:\n",
    "        curr.next = ListNode(val)\n",
    "        curr = curr.next\n",
    "\n",
    "    return dummy.next\n",
    "\n",
    "# Helper function to print the values of a linked list\n",
    "def printLinkedList(head):\n",
    "    curr = head\n",
    "    while curr:\n",
    "        print(curr.val, end=\" \")\n",
    "        curr = curr.next\n",
    "    print()"
   ]
  },
  {
   "cell_type": "code",
   "execution_count": 63,
   "id": "0e9f31c4",
   "metadata": {},
   "outputs": [
    {
     "name": "stdout",
     "output_type": "stream",
     "text": [
      "5 12 7 10 17 2 13 4 11 \n",
      "\n"
     ]
    }
   ],
   "source": [
    "first_list = createLinkedList([5, 7, 17, 13, 11])\n",
    "second_list = createLinkedList([12, 10, 2, 4, 6])\n",
    "\n",
    "first_list, second_list = insertAtAlternatePositions(first_list, second_list)\n",
    "\n",
    "printLinkedList(first_list)  \n",
    "printLinkedList(second_list)"
   ]
  },
  {
   "cell_type": "markdown",
   "id": "d59e290b",
   "metadata": {},
   "source": [
    "**Question 8**\n",
    "\n",
    "Given a singly linked list, find if the linked list is [circular](https://www.geeksforgeeks.org/circular-linked-list/amp/) or not.\n",
    "\n",
    "> A linked list is called circular if it is not NULL-terminated and all nodes are connected in the form of a cycle. Below is an example of a circular linked list.\n",
    "> \n",
    "\n",
    "![Alt Text](https://pwskills.notion.site/image/https%3A%2F%2Fs3-us-west-2.amazonaws.com%2Fsecure.notion-static.com%2Fd30bbf79-b1eb-4ba4-b23e-6d3f27ccdfe5%2FUntitled.png?id=5ccbc796-7fb9-4c82-b385-f45ba589a896&table=block&spaceId=6fae2e0f-dedc-48e9-bc59-af2654c78209&width=2000&userId=&cache=v2)"
   ]
  },
  {
   "cell_type": "code",
   "execution_count": 65,
   "id": "8939a22f",
   "metadata": {},
   "outputs": [],
   "source": [
    "class ListNode:\n",
    "    def __init__(self, val=0, next=None):\n",
    "        self.val = val\n",
    "        self.next = next\n",
    "\n",
    "def isCircular(head):\n",
    "    if not head or not head.next:\n",
    "        return False\n",
    "\n",
    "    slow = head\n",
    "    fast = head.next\n",
    "\n",
    "    while fast and fast.next:\n",
    "        if slow == fast:\n",
    "            return True\n",
    "\n",
    "        slow = slow.next\n",
    "        fast = fast.next.next\n",
    "\n",
    "    return False"
   ]
  },
  {
   "cell_type": "code",
   "execution_count": 66,
   "id": "1ab973b5",
   "metadata": {},
   "outputs": [],
   "source": [
    "# Helper function to create a linked list from a list of values\n",
    "def createLinkedList(values):\n",
    "    dummy = ListNode(0)\n",
    "    curr = dummy\n",
    "\n",
    "    for val in values:\n",
    "        curr.next = ListNode(val)\n",
    "        curr = curr.next\n",
    "\n",
    "    return dummy.next"
   ]
  },
  {
   "cell_type": "code",
   "execution_count": 67,
   "id": "fd63b3d5",
   "metadata": {},
   "outputs": [
    {
     "name": "stdout",
     "output_type": "stream",
     "text": [
      "True\n"
     ]
    }
   ],
   "source": [
    "circular_list = createLinkedList([1, 2, 3, 4, 5])\n",
    "circular_list.next.next.next.next.next = circular_list\n",
    "\n",
    "print(isCircular(circular_list))"
   ]
  },
  {
   "cell_type": "code",
   "execution_count": 68,
   "id": "b500dd2c",
   "metadata": {},
   "outputs": [
    {
     "name": "stdout",
     "output_type": "stream",
     "text": [
      "False\n"
     ]
    }
   ],
   "source": [
    "non_circular_list = createLinkedList([1, 2, 3, 4, 5])\n",
    "\n",
    "print(isCircular(non_circular_list))"
   ]
  }
 ],
 "metadata": {
  "kernelspec": {
   "display_name": "Python 3 (ipykernel)",
   "language": "python",
   "name": "python3"
  },
  "language_info": {
   "codemirror_mode": {
    "name": "ipython",
    "version": 3
   },
   "file_extension": ".py",
   "mimetype": "text/x-python",
   "name": "python",
   "nbconvert_exporter": "python",
   "pygments_lexer": "ipython3",
   "version": "3.9.12"
  }
 },
 "nbformat": 4,
 "nbformat_minor": 5
}

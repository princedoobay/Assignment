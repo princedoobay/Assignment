{
 "cells": [
  {
   "cell_type": "markdown",
   "id": "73ab6f9f",
   "metadata": {},
   "source": [
    "# PPT Assignment-8"
   ]
  },
  {
   "cell_type": "markdown",
   "id": "57128b87",
   "metadata": {},
   "source": [
    "**Question 1**\n",
    "\n",
    "Given two strings s1 and s2, return *the lowest **ASCII** sum of deleted characters to make two strings equal*.\n",
    "\n",
    "**Example 1:**\n",
    "\n",
    "**Input:** s1 = \"sea\", s2 = \"eat\"\n",
    "\n",
    "**Output:** 231\n",
    "\n",
    "**Explanation:** Deleting \"s\" from \"sea\" adds the ASCII value of \"s\" (115) to the sum.\n",
    "\n",
    "Deleting \"t\" from \"eat\" adds 116 to the sum.\n",
    "\n",
    "At the end, both strings are equal, and 115 + 116 = 231 is the minimum sum possible to achieve this.\n"
   ]
  },
  {
   "cell_type": "code",
   "execution_count": 2,
   "id": "46c531b9",
   "metadata": {},
   "outputs": [],
   "source": [
    "def minimumDeleteSum(s1, s2):\n",
    "    m, n = len(s1), len(s2)\n",
    "    dp = [[0] * (n + 1) for _ in range(m + 1)]\n",
    "\n",
    "    for i in range(1, m + 1):\n",
    "        for j in range(1, n + 1):\n",
    "            if s1[i - 1] == s2[j - 1]:\n",
    "                dp[i][j] = dp[i - 1][j - 1] + ord(s1[i - 1])\n",
    "            else:\n",
    "                dp[i][j] = max(dp[i - 1][j], dp[i][j - 1])\n",
    "\n",
    "    sum_s1 = sum(ord(ch) for ch in s1)\n",
    "    sum_s2 = sum(ord(ch) for ch in s2)\n",
    "    lcs = dp[m][n]\n",
    "\n",
    "    return sum_s1 + sum_s2 - 2 * lcs"
   ]
  },
  {
   "cell_type": "code",
   "execution_count": 3,
   "id": "3360059c",
   "metadata": {},
   "outputs": [
    {
     "name": "stdout",
     "output_type": "stream",
     "text": [
      "231\n"
     ]
    }
   ],
   "source": [
    "s1 = \"sea\"\n",
    "s2 = \"eat\"\n",
    "print(minimumDeleteSum(s1, s2))  # Output: 231"
   ]
  },
  {
   "cell_type": "markdown",
   "id": "79731f3e",
   "metadata": {},
   "source": [
    "**Question 2**\n",
    "\n",
    "Given a string s containing only three types of characters: '(', ')' and '*', return true *if* s *is **valid***.\n",
    "\n",
    "The following rules define a **valid** string:\n",
    "\n",
    "    - Any left parenthesis '(' must have a corresponding right parenthesis ')'.\n",
    "    - Any right parenthesis ')' must have a corresponding left parenthesis '('.\n",
    "    - Left parenthesis '(' must go before the corresponding right parenthesis ')'.\n",
    "    - '*' could be treated as a single right parenthesis ')' or a single left parenthesis '(' or an empty string \"\".\n",
    "\n",
    "**Example 1:**\n",
    "\n",
    "**Input:** s = \"()\"\n",
    "\n",
    "**Output:**\n",
    "\n",
    "true\n"
   ]
  },
  {
   "cell_type": "code",
   "execution_count": 4,
   "id": "e4f0b987",
   "metadata": {},
   "outputs": [],
   "source": [
    "def checkValidString(s):\n",
    "    stack = []\n",
    "    asterisks = []\n",
    "\n",
    "    for ch in s:\n",
    "        if ch == '(':\n",
    "            stack.append(ch)\n",
    "        elif ch == '*':\n",
    "            asterisks.append(ch)\n",
    "        elif ch == ')':\n",
    "            if stack:\n",
    "                stack.pop()\n",
    "            elif asterisks:\n",
    "                asterisks.pop()\n",
    "            else:\n",
    "                return False\n",
    "\n",
    "    while stack and asterisks:\n",
    "        if stack[-1] < asterisks[-1]:\n",
    "            stack.pop()\n",
    "            asterisks.pop()\n",
    "        else:\n",
    "            break\n",
    "\n",
    "    return len(stack) == 0"
   ]
  },
  {
   "cell_type": "code",
   "execution_count": 5,
   "id": "3c0a4c06",
   "metadata": {},
   "outputs": [
    {
     "name": "stdout",
     "output_type": "stream",
     "text": [
      "True\n"
     ]
    }
   ],
   "source": [
    "s = \"()\"\n",
    "print(checkValidString(s))  # Output: True"
   ]
  },
  {
   "cell_type": "markdown",
   "id": "3783a0a6",
   "metadata": {},
   "source": [
    "**Question 3**\n",
    "\n",
    "Given two strings word1 and word2, return *the minimum number of **steps** required to make* word1 *and* word2 *the same*.\n",
    "\n",
    "In one **step**, you can delete exactly one character in either string.\n",
    "\n",
    "**Example 1:**\n",
    "\n",
    "**Input:** word1 = \"sea\", word2 = \"eat\"\n",
    "\n",
    "**Output:** 2\n",
    "\n",
    "**Explanation:** You need one step to make \"sea\" to \"ea\" and another step to make \"eat\" to \"ea\"."
   ]
  },
  {
   "cell_type": "code",
   "execution_count": 6,
   "id": "9add2221",
   "metadata": {},
   "outputs": [],
   "source": [
    "def minDistance(word1, word2):\n",
    "    m, n = len(word1), len(word2)\n",
    "    dp = [[0] * (n + 1) for _ in range(m + 1)]\n",
    "\n",
    "    for i in range(1, m + 1):\n",
    "        for j in range(1, n + 1):\n",
    "            if word1[i - 1] == word2[j - 1]:\n",
    "                dp[i][j] = dp[i - 1][j - 1] + 1\n",
    "            else:\n",
    "                dp[i][j] = max(dp[i - 1][j], dp[i][j - 1])\n",
    "\n",
    "    lcs = dp[m][n]\n",
    "\n",
    "    return m + n - 2 * lcs"
   ]
  },
  {
   "cell_type": "code",
   "execution_count": 7,
   "id": "53981fc5",
   "metadata": {},
   "outputs": [
    {
     "name": "stdout",
     "output_type": "stream",
     "text": [
      "2\n"
     ]
    }
   ],
   "source": [
    "word1 = \"sea\"\n",
    "word2 = \"eat\"\n",
    "print(minDistance(word1, word2))  # Output: 2"
   ]
  },
  {
   "cell_type": "markdown",
   "id": "94ee23f3",
   "metadata": {},
   "source": [
    "**Question 4**\n",
    "\n",
    "You need to construct a binary tree from a string consisting of parenthesis and integers.\n",
    "\n",
    "The whole input represents a binary tree. It contains an integer followed by zero, one or two pairs of parenthesis. The integer represents the root's value and a pair of parenthesis contains a child binary tree with the same structure.\n",
    "You always start to construct the **left** child node of the parent first if it exists.\n",
    "\n",
    "![Screenshot 2023-05-29 010548.png](https://s3-us-west-2.amazonaws.com/secure.notion-static.com/bdbea2d1-34a4-4c4b-a450-ea6db7410c43/Screenshot_2023-05-29_010548.png)\n",
    "\n",
    "**Input:** s = \"4(2(3)(1))(6(5))\"\n",
    "\n",
    "**Output:** [4,2,6,3,1,5]"
   ]
  },
  {
   "cell_type": "code",
   "execution_count": 10,
   "id": "1b9b1ed4",
   "metadata": {},
   "outputs": [],
   "source": [
    "class TreeNode:\n",
    "    def __init__(self, val=0, left=None, right=None):\n",
    "        self.val = val\n",
    "        self.left = left\n",
    "        self.right = right\n",
    "\n",
    "def str2tree(s):\n",
    "    if not s:\n",
    "        return None\n",
    "\n",
    "    stack = []\n",
    "    i = 0\n",
    "\n",
    "    while i < len(s):\n",
    "        if s[i].isdigit() or s[i] == '-':\n",
    "            j = i\n",
    "            while j < len(s) and (s[j].isdigit() or s[j] == '-'):\n",
    "                j += 1\n",
    "            num = int(s[i:j])\n",
    "            node = TreeNode(num)\n",
    "            stack.append(node)\n",
    "            i = j - 1\n",
    "        elif s[i] == ')':\n",
    "            parent = stack.pop()\n",
    "            if stack and stack[-1].left is None:\n",
    "                stack[-1].left = parent\n",
    "            else:\n",
    "                stack[-1].right = parent\n",
    "        i += 1\n",
    "\n",
    "    return stack[-1]\n"
   ]
  },
  {
   "cell_type": "code",
   "execution_count": 11,
   "id": "892098cd",
   "metadata": {},
   "outputs": [],
   "source": [
    "s = \"4(2(3)(1))(6(5))\"\n",
    "tree = str2tree(s)"
   ]
  },
  {
   "cell_type": "code",
   "execution_count": 13,
   "id": "fd7113e0",
   "metadata": {},
   "outputs": [
    {
     "name": "stdout",
     "output_type": "stream",
     "text": [
      "[4, 2, 3, 1, 6, 5]\n"
     ]
    }
   ],
   "source": [
    "def printTree(node):\n",
    "    if not node:\n",
    "        return []\n",
    "\n",
    "    result = [node.val]\n",
    "    left = printTree(node.left)\n",
    "    right = printTree(node.right)\n",
    "    \n",
    "    return result + left + right\n",
    "\n",
    "s = \"4(2(3)(1))(6(5))\"\n",
    "tree = str2tree(s)\n",
    "output = printTree(tree)\n",
    "print(output)\n"
   ]
  },
  {
   "cell_type": "markdown",
   "id": "47f9a384",
   "metadata": {},
   "source": [
    "**Question 5**\n",
    "\n",
    "Given an array of characters chars, compress it using the following algorithm:\n",
    "\n",
    "Begin with an empty string s. For each group of **consecutive repeating characters** in chars:\n",
    "\n",
    "- If the group's length is 1, append the character to s.\n",
    "- Otherwise, append the character followed by the group's length.\n",
    "\n",
    "The compressed string s **should not be returned separately**, but instead, be stored **in the input character array chars**. Note that group lengths that are 10 or longer will be split into multiple characters in chars.\n",
    "\n",
    "After you are done **modifying the input array,** return *the new length of the array*.\n",
    "\n",
    "You must write an algorithm that uses only constant extra space.\n",
    "\n",
    "**Example 1:**\n",
    "\n",
    "**Input:** chars = [\"a\",\"a\",\"b\",\"b\",\"c\",\"c\",\"c\"]\n",
    "\n",
    "**Output:** Return 6, and the first 6 characters of the input array should be: [\"a\",\"2\",\"b\",\"2\",\"c\",\"3\"]\n",
    "\n",
    "**Explanation:**\n",
    "\n",
    "The groups are \"aa\", \"bb\", and \"ccc\". This compresses to \"a2b2c3\".\n",
    "\n"
   ]
  },
  {
   "cell_type": "code",
   "execution_count": 16,
   "id": "88ce2691",
   "metadata": {},
   "outputs": [],
   "source": [
    "def compress(chars):\n",
    "    write = 0\n",
    "    read = 1\n",
    "    count = 1\n",
    "\n",
    "    while read < len(chars):\n",
    "        if chars[read] == chars[read - 1]:\n",
    "            count += 1\n",
    "        else:\n",
    "            chars[write] = chars[read - 1]\n",
    "            write += 1\n",
    "\n",
    "            if count > 1:\n",
    "                count_str = str(count)\n",
    "                for char in count_str:\n",
    "                    chars[write] = char\n",
    "                    write += 1\n",
    "            count = 1\n",
    "\n",
    "        read += 1\n",
    "\n",
    "    chars[write] = chars[read - 1]\n",
    "    write += 1\n",
    "    if count > 1:\n",
    "        count_str = str(count)\n",
    "        for char in count_str:\n",
    "            chars[write] = char\n",
    "            write += 1\n",
    "\n",
    "    return write\n"
   ]
  },
  {
   "cell_type": "code",
   "execution_count": 17,
   "id": "f2d82507",
   "metadata": {},
   "outputs": [
    {
     "name": "stdout",
     "output_type": "stream",
     "text": [
      "6\n",
      "['a', '2', 'b', '2', 'c', '3']\n"
     ]
    }
   ],
   "source": [
    "chars = [\"a\", \"a\", \"b\", \"b\", \"c\", \"c\", \"c\"]\n",
    "length = compress(chars)\n",
    "print(length)  # Output: 6\n",
    "print(chars[:length])  # Output: ['a', '2', 'b', '2', 'c', '3']\n"
   ]
  },
  {
   "cell_type": "markdown",
   "id": "ed113306",
   "metadata": {},
   "source": [
    "**Question 6**\n",
    "\n",
    "Given two strings s and p, return *an array of all the start indices of* p*'s anagrams in* s. You may return the answer in **any order**.\n",
    "\n",
    "An **Anagram** is a word or phrase formed by rearranging the letters of a different word or phrase, typically using all the original letters exactly once.\n",
    "\n",
    "**Example 1:**\n",
    "\n",
    "**Input:** s = \"cbaebabacd\", p = \"abc\"\n",
    "\n",
    "**Output:** [0,6]\n",
    "\n",
    "**Explanation:**\n",
    "\n",
    "The substring with start index = 0 is \"cba\", which is an anagram of \"abc\".\n",
    "\n",
    "The substring with start index = 6 is \"bac\", which is an anagram of \"abc\".\n",
    "\n"
   ]
  },
  {
   "cell_type": "code",
   "execution_count": 18,
   "id": "a30219e6",
   "metadata": {},
   "outputs": [],
   "source": [
    "from collections import Counter\n",
    "\n",
    "def findAnagrams(s, p):\n",
    "    freq_p = Counter(p)\n",
    "    freq_window = Counter(s[:len(p)])\n",
    "    left, right = 0, len(p)\n",
    "    result = []\n",
    "\n",
    "    while right < len(s):\n",
    "        if freq_p == freq_window:\n",
    "            result.append(left)\n",
    "\n",
    "        freq_window[s[left]] -= 1\n",
    "        if freq_window[s[left]] == 0:\n",
    "            del freq_window[s[left]]\n",
    "        left += 1\n",
    "\n",
    "        freq_window[s[right]] += 1\n",
    "        right += 1\n",
    "\n",
    "    if freq_p == freq_window:\n",
    "        result.append(left)\n",
    "\n",
    "    return result\n"
   ]
  },
  {
   "cell_type": "code",
   "execution_count": 19,
   "id": "52a8a88f",
   "metadata": {},
   "outputs": [
    {
     "name": "stdout",
     "output_type": "stream",
     "text": [
      "[0, 6]\n"
     ]
    }
   ],
   "source": [
    "s = \"cbaebabacd\"\n",
    "p = \"abc\"\n",
    "indices = findAnagrams(s, p)\n",
    "print(indices)  # Output: [0, 6]\n"
   ]
  },
  {
   "cell_type": "markdown",
   "id": "1d59e4b7",
   "metadata": {},
   "source": [
    "**Question 7**\n",
    "\n",
    "Given an encoded string, return its decoded string.\n",
    "\n",
    "The encoding rule is: k[encoded_string], where the encoded_string inside the square brackets is being repeated exactly k times. Note that k is guaranteed to be a positive integer.\n",
    "\n",
    "You may assume that the input string is always valid; there are no extra white spaces, square brackets are well-formed, etc. Furthermore, you may assume that the original data does not contain any digits and that digits are only for those repeat numbers, k. For example, there will not be input like 3a or 2[4].\n",
    "\n",
    "The test cases are generated so that the length of the output will never exceed 105.\n",
    "\n",
    "**Example 1:**\n",
    "\n",
    "**Input:** s = \"3[a]2[bc]\"\n",
    "\n",
    "**Output:** \"aaabcbc\"\n"
   ]
  },
  {
   "cell_type": "code",
   "execution_count": 22,
   "id": "8b3740ba",
   "metadata": {},
   "outputs": [],
   "source": [
    "def decodeString(s):\n",
    "    def decodeUtil(s, index):\n",
    "        decoded = \"\"\n",
    "        while index < len(s) and s[index] != ']':\n",
    "            if s[index].isdigit():\n",
    "                count = \"\"\n",
    "                while s[index].isdigit():\n",
    "                    count += s[index]\n",
    "                    index += 1\n",
    "                repeat = int(count)\n",
    "                substr, index = decodeUtil(s, index + 1)\n",
    "                decoded += substr * repeat\n",
    "            else:\n",
    "                decoded += s[index]\n",
    "                index += 1\n",
    "        return decoded, index + 1\n",
    "\n",
    "    decoded_string, _ = decodeUtil(s, 0)\n",
    "    return decoded_string\n"
   ]
  },
  {
   "cell_type": "code",
   "execution_count": 23,
   "id": "b3313239",
   "metadata": {},
   "outputs": [
    {
     "name": "stdout",
     "output_type": "stream",
     "text": [
      "aaabcbc\n"
     ]
    }
   ],
   "source": [
    "s = \"3[a]2[bc]\"\n",
    "decoded = decodeString(s)\n",
    "print(decoded)  # Output: \"aaabcbc\""
   ]
  },
  {
   "cell_type": "markdown",
   "id": "d9d1fef7",
   "metadata": {},
   "source": [
    "**Question 8**\n",
    "\n",
    "Given two strings s and goal, return true *if you can swap two letters in* s *so the result is equal to* goal*, otherwise, return* false*.*\n",
    "\n",
    "Swapping letters is defined as taking two indices i and j (0-indexed) such that i != j and swapping the characters at s[i] and s[j].\n",
    "\n",
    "- For example, swapping at indices 0 and 2 in \"abcd\" results in \"cbad\".\n",
    "\n",
    "**Example 1:**\n",
    "\n",
    "**Input:** s = \"ab\", goal = \"ba\"\n",
    "\n",
    "**Output:** true\n",
    "\n",
    "**Explanation:** You can swap s[0] = 'a' and s[1] = 'b' to get \"ba\", which is equal to goal.\n",
    "\n",
    "</aside>"
   ]
  },
  {
   "cell_type": "code",
   "execution_count": 24,
   "id": "255717b5",
   "metadata": {},
   "outputs": [],
   "source": [
    "def isSwapPossible(s, goal):\n",
    "    mismatched = []\n",
    "    for i in range(len(s)):\n",
    "        if s[i] != goal[i]:\n",
    "            mismatched.append(i)\n",
    "            if len(mismatched) > 2:\n",
    "                return False\n",
    "    if len(mismatched) == 0:\n",
    "        return True\n",
    "    if len(mismatched) != 2:\n",
    "        return False\n",
    "    return s[mismatched[0]] == goal[mismatched[1]] and s[mismatched[1]] == goal[mismatched[0]]"
   ]
  },
  {
   "cell_type": "code",
   "execution_count": 25,
   "id": "39ac5692",
   "metadata": {},
   "outputs": [
    {
     "name": "stdout",
     "output_type": "stream",
     "text": [
      "True\n"
     ]
    }
   ],
   "source": [
    "s = \"ab\"\n",
    "goal = \"ba\"\n",
    "is_possible = isSwapPossible(s, goal)\n",
    "print(is_possible)  # Output: True"
   ]
  }
 ],
 "metadata": {
  "kernelspec": {
   "display_name": "Python 3 (ipykernel)",
   "language": "python",
   "name": "python3"
  },
  "language_info": {
   "codemirror_mode": {
    "name": "ipython",
    "version": 3
   },
   "file_extension": ".py",
   "mimetype": "text/x-python",
   "name": "python",
   "nbconvert_exporter": "python",
   "pygments_lexer": "ipython3",
   "version": "3.9.12"
  }
 },
 "nbformat": 4,
 "nbformat_minor": 5
}

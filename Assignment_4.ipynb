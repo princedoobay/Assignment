{
 "cells": [
  {
   "cell_type": "markdown",
   "id": "791a2a99",
   "metadata": {},
   "source": [
    "# Assignment-4"
   ]
  },
  {
   "cell_type": "markdown",
   "id": "30f1cd79",
   "metadata": {},
   "source": [
    "#### Q1. What exactly is []?\n",
    "\n",
    "It is an empty list."
   ]
  },
  {
   "cell_type": "markdown",
   "id": "8c9c0cd2",
   "metadata": {},
   "source": [
    "#### Q2. In a list of values stored in a variable called spam, how would you assign the value 'hello' as the third value? \n",
    "\n",
    "(Assume [2, 4, 6, 8, 10] are in spam.)\n"
   ]
  },
  {
   "cell_type": "code",
   "execution_count": 2,
   "id": "65faabd1",
   "metadata": {},
   "outputs": [
    {
     "data": {
      "text/plain": [
       "[2, 4, 'hello', 8, 10]"
      ]
     },
     "execution_count": 2,
     "metadata": {},
     "output_type": "execute_result"
    }
   ],
   "source": [
    "spam = [2, 4, 6, 8, 10]\n",
    "\n",
    "spam[2] = 'hello'\n",
    "\n",
    "spam"
   ]
  },
  {
   "cell_type": "markdown",
   "id": "039ce9fe",
   "metadata": {},
   "source": [
    "Let's pretend the spam includes the list ['a', 'b', 'c', 'd'] for the next three queries.\n",
    "\n",
    "#### Q3. What is the value of spam[int(int('3' * 2) / 11)]?\n"
   ]
  },
  {
   "cell_type": "code",
   "execution_count": 4,
   "id": "e89b716e",
   "metadata": {},
   "outputs": [
    {
     "data": {
      "text/plain": [
       "'d'"
      ]
     },
     "execution_count": 4,
     "metadata": {},
     "output_type": "execute_result"
    }
   ],
   "source": [
    "spam =  ['a', 'b', 'c', 'd']\n",
    "spam[int(int('3' * 2) / 11)]\n",
    "#'3'*2==33\n",
    "#33/11==3\n",
    "#spam[3]=d"
   ]
  },
  {
   "cell_type": "markdown",
   "id": "af5ffedb",
   "metadata": {},
   "source": [
    "#### Q4. What is the value of spam[-1]?"
   ]
  },
  {
   "cell_type": "code",
   "execution_count": 5,
   "id": "5b06c66b",
   "metadata": {},
   "outputs": [
    {
     "data": {
      "text/plain": [
       "'d'"
      ]
     },
     "execution_count": 5,
     "metadata": {},
     "output_type": "execute_result"
    }
   ],
   "source": [
    "spam[-1]"
   ]
  },
  {
   "cell_type": "markdown",
   "id": "6456e7e9",
   "metadata": {},
   "source": [
    "#### Q5. What is the value of spam[:2]?"
   ]
  },
  {
   "cell_type": "code",
   "execution_count": 6,
   "id": "95155282",
   "metadata": {},
   "outputs": [
    {
     "data": {
      "text/plain": [
       "['a', 'b']"
      ]
     },
     "execution_count": 6,
     "metadata": {},
     "output_type": "execute_result"
    }
   ],
   "source": [
    "spam[:2]"
   ]
  },
  {
   "cell_type": "markdown",
   "id": "966cc370",
   "metadata": {},
   "source": [
    "Let's pretend bacon has the list [3.14, 'cat,' 11, 'cat,' True] for the next three questions.\n",
    "#### Q6. What is the value of bacon.index('cat')?"
   ]
  },
  {
   "cell_type": "code",
   "execution_count": 9,
   "id": "fc2fb8f6",
   "metadata": {},
   "outputs": [
    {
     "data": {
      "text/plain": [
       "1"
      ]
     },
     "execution_count": 9,
     "metadata": {},
     "output_type": "execute_result"
    }
   ],
   "source": [
    "bacon = [3.14, 'cat', 11, 'cat', True]\n",
    "\n",
    "bacon.index('cat')\n",
    "#gives value of first occurance."
   ]
  },
  {
   "cell_type": "markdown",
   "id": "2260c270",
   "metadata": {},
   "source": [
    "#### Q7. How does bacon.append(99) change the look of the list value in bacon?"
   ]
  },
  {
   "cell_type": "code",
   "execution_count": 10,
   "id": "c8866ea0",
   "metadata": {},
   "outputs": [
    {
     "data": {
      "text/plain": [
       "[3.14, 'cat', 11, 'cat', True, 99]"
      ]
     },
     "execution_count": 10,
     "metadata": {},
     "output_type": "execute_result"
    }
   ],
   "source": [
    "bacon.append(99)\n",
    "bacon\n",
    "#'99' appended at end of the list."
   ]
  },
  {
   "cell_type": "markdown",
   "id": "1c0213fd",
   "metadata": {},
   "source": [
    "#### Q8. How does bacon.remove('cat') change the look of the list in bacon?"
   ]
  },
  {
   "cell_type": "code",
   "execution_count": 11,
   "id": "cb6fbf8f",
   "metadata": {},
   "outputs": [
    {
     "data": {
      "text/plain": [
       "[3.14, 11, 'cat', True, 99]"
      ]
     },
     "execution_count": 11,
     "metadata": {},
     "output_type": "execute_result"
    }
   ],
   "source": [
    "bacon.remove('cat')\n",
    "bacon\n",
    "#remove value of first occurance."
   ]
  },
  {
   "cell_type": "markdown",
   "id": "e0a3e5ad",
   "metadata": {},
   "source": [
    "#### Q9. What are the list concatenation and list replication operators?\n",
    "\n",
    "List can be concatenate by using + operator. \n",
    "\n",
    "List replication can be done by using * operator."
   ]
  },
  {
   "cell_type": "markdown",
   "id": "876321bb",
   "metadata": {},
   "source": [
    "#### Q10. What is difference between the list methods append() and insert()?\n",
    "\n",
    "append() add items in the list at the end of the list. \n",
    "\n",
    "insert() add items anywhere inside the list where it is specified."
   ]
  },
  {
   "cell_type": "markdown",
   "id": "0918397a",
   "metadata": {},
   "source": [
    "#### Q11. What are the two methods for removing items from a list?\n",
    "\n",
    "del method and remove() method"
   ]
  },
  {
   "cell_type": "markdown",
   "id": "8967edeb",
   "metadata": {},
   "source": [
    "#### Q12. Describe how list values and string values are identical.\n",
    "\n",
    "Lists and strings both have indexes and slices, both can be used in loops, both can be used for concatenation \n",
    "and replication, can be pass through len()."
   ]
  },
  {
   "cell_type": "markdown",
   "id": "bcc8ce69",
   "metadata": {},
   "source": [
    "#### Q13. What's the difference between tuples and lists?\n",
    "\n",
    "Tuples uses () parenthesis and lists uses square [] brackets. lists are mutable, i.e,values can be added, removed and changed from or in lists. \n",
    "Tuples are immutable. "
   ]
  },
  {
   "cell_type": "markdown",
   "id": "68e03ef9",
   "metadata": {},
   "source": [
    "#### Q14. How do you type a tuple value that only contains the integer 42?"
   ]
  },
  {
   "cell_type": "code",
   "execution_count": 13,
   "id": "26b2a61c",
   "metadata": {},
   "outputs": [
    {
     "data": {
      "text/plain": [
       "tuple"
      ]
     },
     "execution_count": 13,
     "metadata": {},
     "output_type": "execute_result"
    }
   ],
   "source": [
    "a = (42,)\n",
    "type(a)"
   ]
  },
  {
   "cell_type": "markdown",
   "id": "cdd337e8",
   "metadata": {},
   "source": [
    "#### Q15. How do you get a list value's tuple form? How do you get a tuple value's list form?\n",
    "\n",
    "For tuple values we use tuple() and for list values we use list() functions."
   ]
  },
  {
   "cell_type": "markdown",
   "id": "b2d1ea2a",
   "metadata": {},
   "source": [
    "#### Q16. Variables that \"contain\" list values are not necessarily lists themselves. Instead, what do they contain?\n",
    "\n",
    "They contain references to list values."
   ]
  },
  {
   "cell_type": "markdown",
   "id": "c2a735d9",
   "metadata": {},
   "source": [
    "#### Q17. How do you distinguish between copy.copy() and copy.deepcopy()?\n",
    "\n",
    "The copy.copy() function will do a shallow copy of a list, while the copy.deepcopy() function will do a deep copy of a list. That is, only copy .deepcopy() \n",
    "will duplicate any lists inside the list"
   ]
  }
 ],
 "metadata": {
  "kernelspec": {
   "display_name": "Python 3 (ipykernel)",
   "language": "python",
   "name": "python3"
  },
  "language_info": {
   "codemirror_mode": {
    "name": "ipython",
    "version": 3
   },
   "file_extension": ".py",
   "mimetype": "text/x-python",
   "name": "python",
   "nbconvert_exporter": "python",
   "pygments_lexer": "ipython3",
   "version": "3.9.12"
  }
 },
 "nbformat": 4,
 "nbformat_minor": 5
}

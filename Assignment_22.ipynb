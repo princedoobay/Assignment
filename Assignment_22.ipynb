{
 "cells": [
  {
   "cell_type": "markdown",
   "id": "964aaf3a-0255-46ff-b4fb-80fe403f0fe8",
   "metadata": {},
   "source": [
    "# Assignment - 22"
   ]
  },
  {
   "cell_type": "markdown",
   "id": "f11ff633-3131-4887-998a-1e96e7998b67",
   "metadata": {},
   "source": [
    "### 1. What is the result of the code, and explain?\n",
    "\n",
    "&gt;&gt;&gt; X = &#39;iNeuron&#39;\n",
    "\n",
    "&gt;&gt;&gt; def func():\n",
    "\n",
    "print(X)\n",
    "\n",
    "&gt;&gt;&gt; func()\n",
    "\n"
   ]
  },
  {
   "cell_type": "code",
   "execution_count": 2,
   "id": "f4d3c398-09a9-4563-b4fe-267260ed3f18",
   "metadata": {},
   "outputs": [
    {
     "name": "stdout",
     "output_type": "stream",
     "text": [
      "iNeuron\n"
     ]
    }
   ],
   "source": [
    "X = 'iNeuron'\n",
    "def func():\n",
    "    print(X)\n",
    "    \n",
    "print(X)"
   ]
  },
  {
   "cell_type": "markdown",
   "id": "a162294e-8d57-440a-aafb-912829f6272f",
   "metadata": {},
   "source": [
    "The code will output the string 'iNeuron' because the function func() simply prints the value of the variable X.\n",
    "\n",
    "Before the function is defined, the variable X is assigned the string value of 'iNeuron'. Then the function func() is defined, which when called, prints the value of X.\n",
    "\n",
    "When the function is called with func(), it will print the value of X, which is 'iNeuron'. "
   ]
  },
  {
   "cell_type": "markdown",
   "id": "67b7a9ab-7eef-4108-9a76-7dd51a234602",
   "metadata": {},
   "source": [
    "### 2. What is the result of the code, and explain?\n",
    "\n",
    "&gt;&gt;&gt; X = &#39;iNeuron&#39;\n",
    "\n",
    "&gt;&gt;&gt; def func():\n",
    "\n",
    "X = &#39;NI!&#39;\n",
    "\n",
    "&gt;&gt;&gt; func()\n",
    "\n",
    "&gt;&gt;&gt; print(X)"
   ]
  },
  {
   "cell_type": "code",
   "execution_count": 3,
   "id": "32e2f9b6-f87a-4e95-bb1d-7fd220a3f342",
   "metadata": {},
   "outputs": [
    {
     "name": "stdout",
     "output_type": "stream",
     "text": [
      "iNeuron\n"
     ]
    }
   ],
   "source": [
    "X = 'iNeuron'\n",
    "def func():\n",
    "    X = 'NI!'\n",
    "func()\n",
    "print(X)"
   ]
  },
  {
   "cell_type": "markdown",
   "id": "df5a9031-60b6-4803-8499-c62a95b1abb9",
   "metadata": {},
   "source": [
    "In this code, a variable named X is defined and assigned the string value of 'iNeuron'. Then a function named func() is defined which creates a new variable named X with a string value of 'NI!'.\n",
    "\n",
    "When the function func() is called with func(), it creates a new local variable X inside the function scope and assigns it the string value of 'NI!'. This is known as variable shadowing, which means the local variable X inside the function shadows the global variable X defined outside the function.\n",
    "\n",
    "However, since the X variable created inside the func() function is a local variable, it does not affect the global variable X defined outside the function.\n",
    "\n",
    "Finally, after the function call, the value of the global variable X is printed using the print() function. Since the global variable X has not been modified by the function call, it still holds the string value of 'iNeuron'."
   ]
  },
  {
   "cell_type": "markdown",
   "id": "cf6aaf79-45db-48d2-ae81-15a8693ab5ae",
   "metadata": {},
   "source": [
    "### 3. What does this code print, and why?\n",
    "\n",
    "&gt;&gt;&gt; X = &#39;iNeuron&#39;\n",
    "\n",
    "&gt;&gt;&gt; def func():\n",
    "\n",
    "X = &#39;NI&#39;\n",
    "\n",
    "print(X)\n",
    "\n",
    "&gt;&gt;&gt; func()\n",
    "\n",
    "&gt;&gt;&gt; print(X)"
   ]
  },
  {
   "cell_type": "code",
   "execution_count": 4,
   "id": "cc803daa-7ede-4412-bfd3-ea87f1f16096",
   "metadata": {},
   "outputs": [
    {
     "name": "stdout",
     "output_type": "stream",
     "text": [
      "NI!\n",
      "iNeuron\n"
     ]
    }
   ],
   "source": [
    "X = 'iNeuron'\n",
    "def func():\n",
    "    X = 'NI!'\n",
    "    print(X)\n",
    "func()\n",
    "print(X)"
   ]
  },
  {
   "cell_type": "markdown",
   "id": "080c6dcf-ca2b-4a43-b065-1d90c21086c4",
   "metadata": {},
   "source": [
    "This code will print 'NI' and 'iNeuron' on separate lines.\n",
    "\n",
    "Initially, the variable X is assigned the string value of 'iNeuron'. Then a function named func() is defined, which creates a new variable X inside the function scope with a string value of 'NI'.\n",
    "\n",
    "When the function func() is called with func(), it creates a new local variable X inside the function scope and assigns it the string value of 'NI'. Then, it prints the value of X, which is 'NI'.\n",
    "\n",
    "After the function call, the value of the global variable X remains unchanged, i.e., it still holds the string value of 'iNeuron'. Therefore, when print(X) is called outside the function, it will print the value of the global variable X, which is 'iNeuron'."
   ]
  },
  {
   "cell_type": "markdown",
   "id": "ef75f58c-5a7d-4cef-8398-aa31099bae12",
   "metadata": {},
   "source": [
    "### 4. What output does this code produce? Why?\n",
    "\n",
    "&gt;&gt;&gt; X = &#39;iNeuron&#39;\n",
    "\n",
    "&gt;&gt;&gt; def func():\n",
    "\n",
    "global X\n",
    "\n",
    "X = &#39;NI&#39;\n",
    "\n",
    "&gt;&gt;&gt; func()\n",
    "\n",
    "&gt;&gt;&gt; print(X)"
   ]
  },
  {
   "cell_type": "code",
   "execution_count": 5,
   "id": "19774f34-e54e-4241-8cd5-b146a9d7a12a",
   "metadata": {},
   "outputs": [
    {
     "name": "stdout",
     "output_type": "stream",
     "text": [
      "NI\n"
     ]
    }
   ],
   "source": [
    "X = 'iNeuron'\n",
    "\n",
    "def func():\n",
    "    global X\n",
    "    X = 'NI'\n",
    "func()\n",
    "print(X)"
   ]
  },
  {
   "cell_type": "markdown",
   "id": "ab746b37-fc5f-4d54-b9f0-84b14b1dddc7",
   "metadata": {},
   "source": [
    "The output of this code will be 'NI' because the function func() changes the value of the global variable X to 'NI' using the global keyword.\n",
    "\n",
    "At the beginning of the code, the variable X is assigned the string value of 'iNeuron'. Then the function func() is defined, which uses the global keyword to indicate that the variable X inside the function refers to the global variable X defined outside the function.\n",
    "\n",
    "When the function func() is called with func(), it modifies the value of the global variable X to 'NI'. Since X is now a global variable, its new value will be retained outside the function scope as well.\n",
    "\n",
    "Finally, when print(X) is called outside the function, it will print the value of the modified global variable X, which is 'NI'."
   ]
  },
  {
   "cell_type": "markdown",
   "id": "37a6e0ae-d864-4499-a945-5541a2d12a5d",
   "metadata": {},
   "source": [
    "### 5. What about this code—what’s the output, and why?\n",
    "\n",
    "&gt;&gt;&gt; X = &#39;iNeuron&#39;\n",
    "\n",
    "&gt;&gt;&gt; def func():\n",
    "\n",
    "X = &#39;NI&#39;\n",
    "\n",
    "def nested():\n",
    "\n",
    "print(X)\n",
    "\n",
    "nested()\n",
    "\n",
    "&gt;&gt;&gt; func()\n",
    "\n",
    "&gt;&gt;&gt; X"
   ]
  },
  {
   "cell_type": "code",
   "execution_count": 16,
   "id": "dd41a7f1-80c0-40cd-b4e8-f2a40656d0b9",
   "metadata": {},
   "outputs": [
    {
     "name": "stdout",
     "output_type": "stream",
     "text": [
      "iNeuron\n"
     ]
    },
    {
     "data": {
      "text/plain": [
       "'iNeuron'"
      ]
     },
     "execution_count": 16,
     "metadata": {},
     "output_type": "execute_result"
    }
   ],
   "source": [
    "X = 'iNeuron'\n",
    "\n",
    "def func():\n",
    "    X = 'NI'\n",
    "\n",
    "def nested():\n",
    "    print(X)\n",
    "\n",
    "nested()\n",
    "\n",
    "func()\n",
    "X"
   ]
  },
  {
   "cell_type": "markdown",
   "id": "4edd0b7f-e46d-4311-b1dc-ad713d213a32",
   "metadata": {},
   "source": [
    "The output of this code will be 'iNeuron' because the value of the global variable X remains unchanged.\n",
    "\n",
    "At the beginning of the code, the variable X is assigned the string value of 'iNeuron'. Then a function named func() is defined, which creates a new variable X inside the function scope with a string value of 'NI'.\n",
    "\n",
    "Inside the func() function, a new nested function nested() is defined. This function does not create its own variable named X, so it looks for a variable named X in the enclosing scope. It finds the variable X with a value of 'NI' in the enclosing scope of func(), so it prints the value of that variable when it is called with nested().\n",
    "\n",
    "When the function func() is called with func(), it defines the nested function nested() and calls it with nested(), which prints the value of the variable X in the enclosing scope of func(). Since this variable has been assigned the string value of 'NI', the output of the nested function will be 'NI'.\n",
    "\n",
    "After the function call to func(), the value of the global variable X remains unchanged, i.e., it still holds the string value of 'iNeuron'. Therefore, when print(X) is called outside the function, it will print the value of the global variable X, which is 'iNeuron'."
   ]
  },
  {
   "cell_type": "markdown",
   "id": "b6215be6-8e6b-414a-a0a0-89576ca49689",
   "metadata": {},
   "source": [
    "### 6. How about this code: what is its output in Python 3, and explain?\n",
    "\n",
    "&gt;&gt;&gt; def func():\n",
    "\n",
    "X = &#39;NI&#39;\n",
    "\n",
    "def nested():\n",
    "\n",
    "nonlocal X\n",
    "\n",
    "X = &#39;Spam&#39;\n",
    "\n",
    "nested()\n",
    "\n",
    "print(X)\n",
    "\n",
    "&gt;&gt;&gt; func()"
   ]
  },
  {
   "cell_type": "code",
   "execution_count": 22,
   "id": "6d28415a-0336-4398-8e17-d62b337cee06",
   "metadata": {},
   "outputs": [
    {
     "name": "stdout",
     "output_type": "stream",
     "text": [
      "iNeuron\n",
      "iNeuron\n"
     ]
    }
   ],
   "source": [
    "def func():\n",
    "    X = 'NI'\n",
    "    \n",
    "    def nested():\n",
    "        nonlocal X\n",
    "        X = 'Spam'\n",
    "\n",
    "nested()\n",
    "print(X)\n",
    "\n",
    "func()"
   ]
  },
  {
   "cell_type": "markdown",
   "id": "27277dcc-3021-46bb-a9bc-fcc04872174d",
   "metadata": {},
   "source": [
    "In this code, a variable X is defined with the string value 'iNeuron' in the global scope. The function func() is defined and called, which does not take any arguments or return any value. Inside the func() function, the variable X is not defined or modified, so when the function nested() is called, it prints the value of the global variable X, which is 'iNeuron'.\n",
    "\n",
    "After the call to nested(), the print(X) statement outside of the func() function scope is executed, which also prints the value of the global variable X, which is still 'iNeuron'.\n",
    "\n",
    "Therefore, the output of the code is iNeuron iNeuron."
   ]
  }
 ],
 "metadata": {
  "kernelspec": {
   "display_name": "Python 3 (ipykernel)",
   "language": "python",
   "name": "python3"
  },
  "language_info": {
   "codemirror_mode": {
    "name": "ipython",
    "version": 3
   },
   "file_extension": ".py",
   "mimetype": "text/x-python",
   "name": "python",
   "nbconvert_exporter": "python",
   "pygments_lexer": "ipython3",
   "version": "3.10.6"
  }
 },
 "nbformat": 4,
 "nbformat_minor": 5
}

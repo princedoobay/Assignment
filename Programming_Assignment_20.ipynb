{
 "cells": [
  {
   "cell_type": "markdown",
   "id": "d9068f66-af4f-439c-9b6c-a402fd84d2a6",
   "metadata": {},
   "source": [
    "# Programming Assignment - 20"
   ]
  },
  {
   "cell_type": "markdown",
   "id": "d3b895a3-19d7-4c34-b900-a8433f09340e",
   "metadata": {},
   "source": [
    "### 1. Create a function that takes a list of strings and integers, and filters out the list so that it returns a list of integers only.\n",
    "Examples\n",
    "\n",
    "filter_list([1, 2, 3, &quot;a&quot;, &quot;b&quot;, 4]) ➞ [1, 2, 3, 4]\n",
    "\n",
    "filter_list([&quot;A&quot;, 0, &quot;Edabit&quot;, 1729, &quot;Python&quot;, &quot;1729&quot;]) ➞ [0, 1729]\n",
    "\n",
    "filter_list([&quot;Nothing&quot;, &quot;here&quot;]) ➞ []"
   ]
  },
  {
   "cell_type": "code",
   "execution_count": 1,
   "id": "261f2517-a4dd-4edf-9952-582e4b07e864",
   "metadata": {},
   "outputs": [],
   "source": [
    "def filter_list(lst):\n",
    "    \"\"\"\n",
    "    Given a list of strings and integers, filters out the list and returns a list of integers only.\n",
    "    \"\"\"\n",
    "    return [x for x in lst if isinstance(x, int)]"
   ]
  },
  {
   "cell_type": "code",
   "execution_count": 2,
   "id": "e06cc057-64c0-4b3b-9bee-5979d29a1fd9",
   "metadata": {},
   "outputs": [
    {
     "name": "stdout",
     "output_type": "stream",
     "text": [
      "[1, 2, 3, 4]\n",
      "[0, 1729]\n",
      "[]\n"
     ]
    }
   ],
   "source": [
    "print(filter_list([1, 2, 3, \"a\", \"b\", 4]))   # Output: [1, 2, 3, 4]\n",
    "print(filter_list([\"A\", 0, \"Edabit\", 1729, \"Python\", \"1729\"]))   # Output: [0, 1729]\n",
    "print(filter_list([\"Nothing\", \"here\"]))   # Output: []"
   ]
  },
  {
   "cell_type": "markdown",
   "id": "ee439ecb-607b-4754-a365-8fb6f25f0464",
   "metadata": {},
   "source": [
    "### 2. Given a list of numbers, create a function which returns the list but with each element&#39;s index in the list added to itself. This means you add 0 to the number at index 0, add 1 to the number at index 1, etc...\n",
    "Examples\n",
    "\n",
    "add_indexes([0, 0, 0, 0, 0]) ➞ [0, 1, 2, 3, 4]\n",
    "\n",
    "add_indexes([1, 2, 3, 4, 5]) ➞ [1, 3, 5, 7, 9]\n",
    "\n",
    "add_indexes([5, 4, 3, 2, 1]) ➞ [5, 5, 5, 5, 5]"
   ]
  },
  {
   "cell_type": "code",
   "execution_count": 3,
   "id": "d29ea0a2-b661-4094-a84e-a599860b60a0",
   "metadata": {},
   "outputs": [],
   "source": [
    "def add_indexes(lst):\n",
    "    \"\"\"\n",
    "    Given a list of numbers, returns the list but with each element's index in the list added to itself.\n",
    "    \"\"\"\n",
    "    return [i+lst[i] for i in range(len(lst))]"
   ]
  },
  {
   "cell_type": "code",
   "execution_count": 4,
   "id": "5695ac83-a1e5-4bc5-aed0-71ce41f4f4f9",
   "metadata": {},
   "outputs": [
    {
     "name": "stdout",
     "output_type": "stream",
     "text": [
      "[0, 1, 2, 3, 4]\n",
      "[1, 3, 5, 7, 9]\n",
      "[5, 5, 5, 5, 5]\n"
     ]
    }
   ],
   "source": [
    "print(add_indexes([0, 0, 0, 0, 0]))   # Output: [0, 1, 2, 3, 4]\n",
    "print(add_indexes([1, 2, 3, 4, 5]))   # Output: [1, 3, 5, 7, 9]\n",
    "print(add_indexes([5, 4, 3, 2, 1]))   # Output: [5, 5, 5, 5, 5]"
   ]
  },
  {
   "cell_type": "markdown",
   "id": "c65cbb66-7b62-4340-8976-73de28579b02",
   "metadata": {},
   "source": [
    "### 3. Create a function that takes the height and radius of a cone as arguments and returns the volume of the cone rounded to the nearest hundredth. See the resources tab for the formula.\n",
    "Examples\n",
    "\n",
    "cone_volume(3, 2) ➞ 12.57\n",
    "\n",
    "cone_volume(15, 6) ➞ 565.49\n",
    "\n",
    "cone_volume(18, 0) ➞ 0"
   ]
  },
  {
   "cell_type": "code",
   "execution_count": 5,
   "id": "b9ba1a67-b742-4bbb-a5c2-ecca26b13904",
   "metadata": {},
   "outputs": [],
   "source": [
    "import math\n",
    "\n",
    "def cone_volume(height, radius):\n",
    "    \"\"\"\n",
    "    Given the height and radius of a cone, returns its volume rounded to the nearest hundredth.\n",
    "    \"\"\"\n",
    "    volume = math.pi * radius ** 2 * height / 3\n",
    "    return round(volume, 2)"
   ]
  },
  {
   "cell_type": "code",
   "execution_count": 6,
   "id": "2c5bd275-7110-4b2c-9b3b-8235b10db81e",
   "metadata": {},
   "outputs": [
    {
     "name": "stdout",
     "output_type": "stream",
     "text": [
      "12.57\n",
      "565.49\n",
      "0.0\n"
     ]
    }
   ],
   "source": [
    "print(cone_volume(3, 2))    # Output: 12.57\n",
    "print(cone_volume(15, 6))   # Output: 565.49\n",
    "print(cone_volume(18, 0))   # Output: 0.0"
   ]
  },
  {
   "cell_type": "markdown",
   "id": "aa88ff72-f32f-4853-a872-28a507070d71",
   "metadata": {},
   "source": [
    "### 4. This Triangular Number Sequence is generated from a pattern of dots that form a triangle.\n",
    "The first 5 numbers of the sequence, or dots, are:\n",
    "1, 3, 6, 10, 15\n",
    "\n",
    "This means that the first triangle has just one dot, the second one has three dots, the third one has 6 dots and so on.\n",
    "\n",
    "#### Write a function that gives the number of dots with its corresponding triangle number of the sequence.\n",
    "Examples\n",
    "\n",
    "triangle(1) ➞ 1\n",
    "\n",
    "triangle(6) ➞ 21\n",
    "\n",
    "triangle(215) ➞ 23220"
   ]
  },
  {
   "cell_type": "code",
   "execution_count": 9,
   "id": "b1dd4cf7-7c9b-433c-95c0-a7b6ef23a63e",
   "metadata": {},
   "outputs": [],
   "source": [
    "def triangle(n):\n",
    "    return (n * (n + 1)) // 2"
   ]
  },
  {
   "cell_type": "code",
   "execution_count": 10,
   "id": "1333d2a9-821e-4c40-afd3-cf7996b7c6ce",
   "metadata": {},
   "outputs": [
    {
     "name": "stdout",
     "output_type": "stream",
     "text": [
      "1\n",
      "21\n",
      "23220\n"
     ]
    }
   ],
   "source": [
    "print(triangle(1)) # Output: 1\n",
    "print(triangle(6)) # Output: 21\n",
    "print(triangle(215)) # Output: 23220"
   ]
  },
  {
   "cell_type": "markdown",
   "id": "d92e3bbe-c766-4eb2-ba69-f9c49fb969ae",
   "metadata": {},
   "source": [
    "### 5. Create a function that takes a list of numbers between 1 and 10 (excluding one number) and returns the missing number.\n",
    "Examples\n",
    "\n",
    "missing_num([1, 2, 3, 4, 6, 7, 8, 9, 10]) ➞ 5\n",
    "\n",
    "missing_num([7, 2, 3, 6, 5, 9, 1, 4, 8]) ➞ 10\n",
    "\n",
    "missing_num([10, 5, 1, 2, 4, 6, 8, 3, 9]) ➞ 7"
   ]
  },
  {
   "cell_type": "code",
   "execution_count": 11,
   "id": "898a4dc4-5b2f-474a-8ac5-ef9be85fb69e",
   "metadata": {},
   "outputs": [],
   "source": [
    "def missing_num(lst):\n",
    "    full_set = set(range(1, 11))\n",
    "    given_set = set(lst)\n",
    "    return list(full_set - given_set)[0]"
   ]
  },
  {
   "cell_type": "code",
   "execution_count": 12,
   "id": "b41a0b88-8539-461a-9cb2-a275b6e93513",
   "metadata": {},
   "outputs": [
    {
     "data": {
      "text/plain": [
       "5"
      ]
     },
     "execution_count": 12,
     "metadata": {},
     "output_type": "execute_result"
    }
   ],
   "source": [
    "missing_num([1, 2, 3, 4, 6, 7, 8, 9, 10])"
   ]
  },
  {
   "cell_type": "code",
   "execution_count": 13,
   "id": "f62f7ab1-15fe-4292-9766-aa3a71fe098f",
   "metadata": {},
   "outputs": [
    {
     "data": {
      "text/plain": [
       "10"
      ]
     },
     "execution_count": 13,
     "metadata": {},
     "output_type": "execute_result"
    }
   ],
   "source": [
    "missing_num([7, 2, 3, 6, 5, 9, 1, 4, 8])"
   ]
  },
  {
   "cell_type": "code",
   "execution_count": 14,
   "id": "d670ad5e-a026-4780-a624-80b98c39cac9",
   "metadata": {},
   "outputs": [
    {
     "data": {
      "text/plain": [
       "7"
      ]
     },
     "execution_count": 14,
     "metadata": {},
     "output_type": "execute_result"
    }
   ],
   "source": [
    "missing_num([10, 5, 1, 2, 4, 6, 8, 3, 9])"
   ]
  }
 ],
 "metadata": {
  "kernelspec": {
   "display_name": "Python 3 (ipykernel)",
   "language": "python",
   "name": "python3"
  },
  "language_info": {
   "codemirror_mode": {
    "name": "ipython",
    "version": 3
   },
   "file_extension": ".py",
   "mimetype": "text/x-python",
   "name": "python",
   "nbconvert_exporter": "python",
   "pygments_lexer": "ipython3",
   "version": "3.10.6"
  }
 },
 "nbformat": 4,
 "nbformat_minor": 5
}

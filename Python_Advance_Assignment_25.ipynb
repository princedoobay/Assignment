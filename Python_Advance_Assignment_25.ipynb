{
  "nbformat": 4,
  "nbformat_minor": 0,
  "metadata": {
    "colab": {
      "provenance": []
    },
    "kernelspec": {
      "name": "python3",
      "display_name": "Python 3"
    },
    "language_info": {
      "name": "python"
    }
  },
  "cells": [
    {
      "cell_type": "markdown",
      "source": [
        "# Python_Advance_Assignment-25"
      ],
      "metadata": {
        "id": "wYTEXZGKeMD-"
      }
    },
    {
      "cell_type": "markdown",
      "source": [
        "Q1. What is the distinction between a numpy array and a pandas data frame? Is there a way to convert between the two if there is?\n",
        "\n",
        "The distinction between a NumPy array and a Pandas DataFrame lies in their functionality and purpose.\n",
        "\n",
        "- NumPy Array: A NumPy array is a multidimensional, homogeneous array that provides efficient numerical operations. It is designed for numerical and mathematical computations and is suitable for handling large datasets.\n",
        "\n",
        "- Pandas DataFrame: A Pandas DataFrame is a two-dimensional, labeled data structure that can hold data of different types. It is more versatile and designed for data analysis tasks. It allows for labeled indexing, flexible data handling, and powerful data manipulation capabilities.\n",
        "\n",
        "You can convert a Pandas DataFrame to a NumPy array using the `.values` attribute. For example, if `df` is a DataFrame, you can convert it to a NumPy array using array = `df.values`. However, note that this conversion might lose some of the DataFrame's functionalities.\n",
        "\n"
      ],
      "metadata": {
        "id": "7E3C0NNGeaM8"
      }
    },
    {
      "cell_type": "markdown",
      "source": [
        "Q2. What can go wrong when an user enters in a stock-ticker symbol, and how do you handle it?\n",
        "\n",
        "When a user enters a stock ticker symbol, several things can go wrong:\n",
        "\n",
        "- The symbol may not exist.\n",
        "- The provided symbol may be in the wrong format.\n",
        "- The data for the symbol may not be available in the data source.\n",
        "\n",
        "To handle such cases, you can implement error handling mechanisms like try-except blocks to catch exceptions that arise from invalid inputs. You can also validate the input against a list of valid symbols or use APIs that provide real-time data to verify the symbol's existence."
      ],
      "metadata": {
        "id": "vztK7ul3eg7M"
      }
    },
    {
      "cell_type": "markdown",
      "source": [
        "Q3. Identify some of the plotting techniques that are used to produce a stock-market chart.\n",
        "Some plotting techniques used to produce stock market charts include:\n",
        "\n",
        "- Line charts: Display stock prices over time using lines connecting data points.\n",
        "- Candlestick charts: Represent open, close, high, and low prices for each time period as candlesticks.\n",
        "- Moving averages: Plot moving averages of stock prices to identify trends.\n",
        "- Bollinger Bands: Display volatility and potential reversal points."
      ],
      "metadata": {
        "id": "-q5FNZYdeiiF"
      }
    },
    {
      "cell_type": "markdown",
      "source": [
        "Q4. Why is it essential to print a legend on a stock market chart?\n",
        "\n",
        "Printing a legend on a stock market chart is essential because it provides a key to interpreting the chart. It labels the different elements of the chart, such as lines, candlesticks, or indicators, making it easier for viewers to understand the data being presented."
      ],
      "metadata": {
        "id": "MLVJhbbzekLN"
      }
    },
    {
      "cell_type": "markdown",
      "source": [
        "Q5. What is the best way to limit the length of a pandas data frame to less than a year?\n",
        "\n",
        "The best way to limit the length of a Pandas DataFrame to less than a year is by filtering the data based on a date range. You can use boolean indexing to select rows that fall within the desired time frame, and then create a new DataFrame with the filtered data."
      ],
      "metadata": {
        "id": "69h8ZdYFelX_"
      }
    },
    {
      "cell_type": "markdown",
      "source": [
        "Q6. What is the definition of a 180-day moving average?\n",
        "\n",
        "A 180-day moving average is the average of a stock's prices over the past 180 days. It is a trend-following indicator used in technical analysis to smooth out short-term fluctuations and identify longer-term trends in stock prices."
      ],
      "metadata": {
        "id": "KUtn-XV2emhu"
      }
    },
    {
      "cell_type": "markdown",
      "source": [
        "Q7. Did the chapter&#39;s final example use &quot;indirect&quot; importing? If so, how exactly do you do it?\n",
        "\n",
        "The chapter's final example didn't use \"indirect\" importing. Indirect importing refers to importing only specific functions or classes from a module instead of importing the entire module. This can be done using the `from module import item` syntax. The example used in the chapter did not demonstrate this concept."
      ],
      "metadata": {
        "id": "cIfS5j22eq8V"
      }
    }
  ]
}
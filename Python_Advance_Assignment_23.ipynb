{
  "nbformat": 4,
  "nbformat_minor": 0,
  "metadata": {
    "colab": {
      "provenance": []
    },
    "kernelspec": {
      "name": "python3",
      "display_name": "Python 3"
    },
    "language_info": {
      "name": "python"
    }
  },
  "cells": [
    {
      "cell_type": "markdown",
      "source": [
        "# Python_Advance_Assignment-23"
      ],
      "metadata": {
        "id": "sr1lGbqKbIaW"
      }
    },
    {
      "cell_type": "markdown",
      "source": [
        "Q1. If you have any, what are your choices for increasing the comparison between different figures on the same graph?\n",
        "\n",
        "To increase the comparison between different figures on the same graph, you can use techniques like adjusting the color palette, using different types of lines or markers, adding labels or annotations, and using legends to differentiate between different data series. Additionally, you can use techniques like transparency (alpha blending) to make overlapping figures more distinguishable."
      ],
      "metadata": {
        "id": "zcNeaWsgbW4e"
      }
    },
    {
      "cell_type": "markdown",
      "source": [
        "Q2. Can you explain the benefit of compound interest over a higher rate of interest that does not compound after reading this chapter?\n",
        "\n",
        "Compound interest is beneficial over a higher rate of interest that does not compound because compound interest allows your investment to grow not only based on the initial principal but also on the accumulated interest over time. This compounding effect leads to exponential growth, resulting in higher returns in the long run compared to simple interest, where the interest is calculated only on the initial principal amount."
      ],
      "metadata": {
        "id": "Mc0r4rIpbZnd"
      }
    },
    {
      "cell_type": "markdown",
      "source": [
        "Q3. What is a histogram, exactly? Name a numpy method for creating such a graph.\n",
        "\n",
        "A histogram is a graphical representation of the distribution of a dataset. It consists of a set of bins that represent ranges of values, and the height of each bin corresponds to the frequency or count of data points falling within that range. In NumPy, you can create a histogram using the `numpy.histogram` method."
      ],
      "metadata": {
        "id": "qfehBtPCbby-"
      }
    },
    {
      "cell_type": "markdown",
      "source": [
        "Q4. If necessary, how do you change the aspect ratios between the X and Y axes?\n",
        "\n",
        "To change the aspect ratios between the X and Y axes, you can use the `plt.axis('equal')` or `plt.gca().set_aspect('equal')` function in Matplotlib. This ensures that equal units along both the X and Y axes have the same physical length on the plot, preserving the aspect ratio."
      ],
      "metadata": {
        "id": "tuPruXHYbdEO"
      }
    },
    {
      "cell_type": "markdown",
      "source": [
        "Q5. Compare and contrast the three types of array multiplication between two numpy arrays: dot product, outer product, and regular multiplication of two numpy arrays.\n",
        "\n",
        "Three types of array multiplication between two NumPy arrays:\n",
        "\n",
        "- Dot Product: The dot product involves multiplying corresponding elements of the arrays and summing the results. It is performed using the numpy.dot function or the @ operator (array1 @ array2).\n",
        "- Outer Product: The outer product produces a new array where each element is the product of all combinations of elements between the two arrays. It is calculated using the `numpy.outer` function.\n",
        "- Regular Multiplication: Regular multiplication involves element-wise multiplication between corresponding elements of the arrays. It is performed using the * operator (array1 * array2)."
      ],
      "metadata": {
        "id": "XqAPzy93beav"
      }
    },
    {
      "cell_type": "markdown",
      "source": [
        "Q6. Before you buy a home, which numpy function will you use to measure your monthly mortgage payment?\n",
        "\n",
        "Before buying a home, you can use the `numpy.pmt` function to calculate your monthly mortgage payment. This function calculates the payment for a loan based on constant payments and a constant interest rate."
      ],
      "metadata": {
        "id": "Z52KkEBibhOV"
      }
    },
    {
      "cell_type": "markdown",
      "source": [
        "Q7. Can string data be stored in numpy arrays? If so, list at least one restriction that applies to this data.\n",
        "\n",
        "Yes, string data can be stored in NumPy arrays. However, strings in NumPy arrays have a fixed length, which can lead to memory inefficiencies if the strings vary significantly in length. This is because NumPy arrays require a uniform data type. If you store variable-length strings, they will be truncated or padded to match the specified length, which can impact data integrity."
      ],
      "metadata": {
        "id": "-dY6ol7qbkN2"
      }
    },
    {
      "cell_type": "code",
      "source": [],
      "metadata": {
        "id": "zjOdBEV7cMNG"
      },
      "execution_count": null,
      "outputs": []
    }
  ]
}
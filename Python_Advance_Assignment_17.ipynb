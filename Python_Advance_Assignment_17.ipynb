{
  "nbformat": 4,
  "nbformat_minor": 0,
  "metadata": {
    "colab": {
      "provenance": []
    },
    "kernelspec": {
      "name": "python3",
      "display_name": "Python 3"
    },
    "language_info": {
      "name": "python"
    }
  },
  "cells": [
    {
      "cell_type": "markdown",
      "source": [
        "Python_Advance_Assignment - 17"
      ],
      "metadata": {
        "id": "JPfJaGbtXit1"
      }
    },
    {
      "cell_type": "markdown",
      "source": [
        "Q1. Explain the difference between greedy and non-greedy syntax with visual terms in as few words as possible. What is the bare minimum effort required to transform a greedy pattern into a non-greedy one? What characters or characters can you introduce or change?\n",
        "\n",
        " Greedy vs. Non-Greedy:\n",
        "\n",
        "- Greedy: Matches as much as possible while still allowing the entire pattern to match. For example, in the pattern a.*b, given the text aabab, the greedy match captures aabab (as much as it can).\n",
        "- Non-Greedy: Matches as little as needed to allow the entire pattern to match. For the same pattern a.*b, the non-greedy match captures aab (minimal match).\n",
        "\n",
        "Transforming to Non-Greedy: Append ? after a quantifier (e.g., *?, +?, ??, {n,}?)."
      ],
      "metadata": {
        "id": "rRBR_2-tXcPl"
      }
    },
    {
      "cell_type": "markdown",
      "source": [
        "Q2. When exactly does greedy versus non-greedy make a difference?  What if you&#39;re looking for a non-greedy match but the only one available is greedy?\n",
        "\n",
        "Greedy vs. Non-Greedy Impact:\n",
        "\n",
        "- Impact: Matters when repeated content exists, like in HTML tags: `'<div>content</div><div>more</div>'`.\n",
        "- Only Greedy: If only greedy is available, it will match the longest possible text between the first `<div>` and the last `</div>`. For non-greedy, modify .* to .*? for minimal matches."
      ],
      "metadata": {
        "id": "GEEuzEcGX0Nm"
      }
    },
    {
      "cell_type": "markdown",
      "source": [
        "Q3. In a simple match of a string, which looks only for one match and does not do any replacement, is the use of a nontagged group likely to make any practical difference?\n",
        "\n",
        "Non-Tagged Group Impact:\n",
        "\n",
        "- Practical Difference: Generally not impactful in simple matches. Often used for grouping without capturing (e.g., `(?:pattern)`). Useful when you don't need the matched content to be captured separately."
      ],
      "metadata": {
        "id": "5dxbC2emYRTF"
      }
    },
    {
      "cell_type": "markdown",
      "source": [
        "Q4. Describe a scenario in which using a nontagged category would have a significant impact on the program&#39;s outcomes.\n",
        "\n",
        "Non-Tagged Category Significance:\n",
        "\n",
        "- Scenario: Validating URLs. Using a non-tagged category `(?:https?|ftp)` ensures URLs starting with http or https are matched without creating separate capture groups for each."
      ],
      "metadata": {
        "id": "gDUpLbCQYfsV"
      }
    },
    {
      "cell_type": "markdown",
      "source": [
        "Q5. Unlike a normal regex pattern, a look-ahead condition does not consume the characters it examines. Describe a situation in which this could make a difference in the results of your programme.\n",
        "\n",
        "Look-Ahead Unconsumed Characters:\n",
        "\n",
        "- Scenario: Matching overlapping patterns, like detecting overlapping words: `(?=\\w+)\\w+`. Here, look-ahead ensures the characters are not consumed, allowing overlapping word matches to be found."
      ],
      "metadata": {
        "id": "ZQOD5cIXYrNF"
      }
    },
    {
      "cell_type": "markdown",
      "source": [
        "Q6. In standard expressions, what is the difference between positive look-ahead and negative look-ahead?\n",
        "\n",
        "Positive Look-Ahead vs. Negative Look-Ahead:\n",
        "\n",
        "- Positive Look-Ahead ((?=...)): Asserts that a specific pattern must follow the current position without consuming the characters. For example, foo(?=bar) matches \"foo\" only if followed by \"bar\".\n",
        "- Negative Look-Ahead ((?!...)): Asserts that a specific pattern must not follow the current position without consuming characters. For example, foo(?!bar) matches \"foo\" only if not followed by \"bar\"."
      ],
      "metadata": {
        "id": "sWrMQi9UYzyu"
      }
    },
    {
      "cell_type": "markdown",
      "source": [
        "Q7. What is the benefit of referring to groups by name rather than by number in a standard expression?\n",
        "\n",
        "Referring to Groups by Name:\n",
        "\n",
        "- Benefit: Increases code readability and reduces ambiguity. When using named groups, the code becomes more self-explanatory, especially when multiple capture groups are involved. Additionally, if the pattern changes, group numbering might shift, but named references remain stable."
      ],
      "metadata": {
        "id": "mf7f1XWjZI7e"
      }
    },
    {
      "cell_type": "markdown",
      "source": [
        "Q8. Can you identify repeated items within a target string using named groups, as in &quot;The cow jumped over the moon&quot;?\n",
        "\n",
        "Identifying Repeated Items with Named Groups:\n",
        "\n",
        "Yes, named groups can help identify repeated items. For example, in the pattern (?P<word>\\w+)\\s+(?P=word), it matches repeated words with whitespace in between, like \"the the\", \"cow cow\", etc."
      ],
      "metadata": {
        "id": "ubMi_0uZZTCP"
      }
    },
    {
      "cell_type": "markdown",
      "source": [
        "Q9. When parsing a string, what is at least one thing that the Scanner interface does for you that the `re.findall` feature does not?\n",
        "\n",
        "Scanner Interface vs. `re.findall`:\n",
        "\n",
        "The Scanner interface in Python's re module provides a more flexible and fine-grained way to tokenize and parse strings than `re.findall`. It allows you to iterate through matches step by step, enabling more complex parsing tasks that involve different actions for different match groups or patterns."
      ],
      "metadata": {
        "id": "ZUCp9_D7ZQ5t"
      }
    },
    {
      "cell_type": "markdown",
      "source": [
        "Q10. Does a scanner object have to be named scanner?\n",
        "\n",
        "Naming the Scanner Object:\n",
        "\n",
        "No, a Scanner object does not have to be named \"scanner\". The name is a variable name you choose to use when creating an instance of the `re.Scanner` class. You can name it according to your coding conventions or the context of its usage."
      ],
      "metadata": {
        "id": "Dole34dVZj6G"
      }
    }
  ]
}
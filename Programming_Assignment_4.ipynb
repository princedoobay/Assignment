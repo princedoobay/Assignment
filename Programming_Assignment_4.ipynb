{
 "cells": [
  {
   "cell_type": "markdown",
   "id": "54baa665",
   "metadata": {},
   "source": [
    "# Programming Assignment - 4"
   ]
  },
  {
   "cell_type": "markdown",
   "id": "aaf20098",
   "metadata": {},
   "source": [
    "#### Q1.\tWrite a Python Program to Find the Factorial of a Number?\n"
   ]
  },
  {
   "cell_type": "code",
   "execution_count": 1,
   "id": "0bbe020b",
   "metadata": {},
   "outputs": [
    {
     "name": "stdout",
     "output_type": "stream",
     "text": [
      "Enter a number: 3\n",
      "The factorial of 3 is 6\n"
     ]
    }
   ],
   "source": [
    "num = int(input(\"Enter a number: \"))\n",
    "factorial = 1\n",
    "if num < 0:\n",
    "    print(\"Sorry, factorial does not exist for negative numbers\")\n",
    "elif num == 0:\n",
    "    print(\"The factorial of 0 is 1\")\n",
    "else:\n",
    "    for i in range(1,num + 1):\n",
    "        factorial = factorial*i\n",
    "    print(\"The factorial of\",num,\"is\",factorial)"
   ]
  },
  {
   "cell_type": "markdown",
   "id": "20d88ed0",
   "metadata": {},
   "source": [
    "#### Q2.\tWrite a Python Program to Display the multiplication Table?\n"
   ]
  },
  {
   "cell_type": "code",
   "execution_count": 2,
   "id": "bd8c0015",
   "metadata": {},
   "outputs": [
    {
     "name": "stdout",
     "output_type": "stream",
     "text": [
      "Enter a number: 19\n",
      "19 * 1 = 19\n",
      "19 * 2 = 38\n",
      "19 * 3 = 57\n",
      "19 * 4 = 76\n",
      "19 * 5 = 95\n",
      "19 * 6 = 114\n",
      "19 * 7 = 133\n",
      "19 * 8 = 152\n",
      "19 * 9 = 171\n",
      "19 * 10 = 190\n"
     ]
    }
   ],
   "source": [
    "num = int(input(\"Enter a number: \"))\n",
    "i = 1\n",
    "for i in range(1,11):\n",
    "    result = num*i\n",
    "    print(num,\"*\",i,\"=\",result)"
   ]
  },
  {
   "cell_type": "markdown",
   "id": "b620f2c2",
   "metadata": {},
   "source": [
    "#### Q3.\tWrite a Python Program to Print the Fibonacci sequence?"
   ]
  },
  {
   "cell_type": "code",
   "execution_count": 3,
   "id": "77dc48fc",
   "metadata": {},
   "outputs": [
    {
     "name": "stdout",
     "output_type": "stream",
     "text": [
      "How many terms the user wants to print? 5\n",
      "The fibonacci sequence of the numbers is:\n",
      "0\n",
      "1\n",
      "1\n",
      "2\n",
      "3\n"
     ]
    }
   ],
   "source": [
    "n_terms = int(input (\"How many terms the user wants to print? \"))  \n",
    "n_1 = 0  \n",
    "n_2 = 1  \n",
    "count = 0  \n",
    "if n_terms <= 0:  \n",
    "    print (\"Please enter a positive integer\")  \n",
    "elif n_terms == 1:  \n",
    "    print (\"The Fibonacci sequence of the numbers up to\", n_terms, \": \")  \n",
    "    print(n_1)  \n",
    "else:  \n",
    "    print (\"The fibonacci sequence of the numbers is:\")  \n",
    "    while count < n_terms:  \n",
    "        print(n_1)  \n",
    "        nth = n_1 + n_2  \n",
    "        n_1 = n_2  \n",
    "        n_2 = nth  \n",
    "        count += 1"
   ]
  },
  {
   "cell_type": "markdown",
   "id": "3099e7bf",
   "metadata": {},
   "source": [
    "#### Q4.\tWrite a Python Program to Check Armstrong Number?\n"
   ]
  },
  {
   "cell_type": "code",
   "execution_count": 3,
   "id": "f788d3d6",
   "metadata": {},
   "outputs": [
    {
     "name": "stdout",
     "output_type": "stream",
     "text": [
      "Enter a number to check armstrong number:1634\n",
      "1634 is an armstrong number\n"
     ]
    }
   ],
   "source": [
    "n = int(input(\"Enter a number to check armstrong number:\"))\n",
    "sum = 0\n",
    "order = len(str(n))\n",
    "copy_n = n\n",
    "while n>0 :\n",
    "    digit = n%10\n",
    "    sum += digit**order\n",
    "    n = n//10\n",
    "if sum == copy_n :\n",
    "    print(f\"{copy_n} is an armstrong number\")\n",
    "else:\n",
    "    print(f\"{copy_n} is not an armstrong number\")"
   ]
  },
  {
   "cell_type": "markdown",
   "id": "50017e61",
   "metadata": {},
   "source": [
    "#### Q5.\tWrite a Python Program to Find Armstrong Number in an Interval?\n"
   ]
  },
  {
   "cell_type": "code",
   "execution_count": 2,
   "id": "315e8e2d",
   "metadata": {},
   "outputs": [
    {
     "name": "stdout",
     "output_type": "stream",
     "text": [
      "Enter lower number of interval:1\n",
      "Enter upper number of interval:1000\n",
      "1 is an armstrong number\n",
      "2 is an armstrong number\n",
      "3 is an armstrong number\n",
      "4 is an armstrong number\n",
      "5 is an armstrong number\n",
      "6 is an armstrong number\n",
      "7 is an armstrong number\n",
      "8 is an armstrong number\n",
      "9 is an armstrong number\n",
      "153 is an armstrong number\n",
      "370 is an armstrong number\n",
      "371 is an armstrong number\n",
      "407 is an armstrong number\n"
     ]
    }
   ],
   "source": [
    "L_value = int(input(\"Enter lower number of interval:\"))\n",
    "U_value = int(input(\"Enter upper number of interval:\"))\n",
    "\n",
    "for n in range(L_value,U_value+1):\n",
    "    sum = 0\n",
    "    order = len(str(n))\n",
    "    copy_n = n\n",
    "    \n",
    "    while n>0 :\n",
    "        digit = n%10\n",
    "        sum += digit**order\n",
    "        n = n//10\n",
    "    if sum == copy_n :\n",
    "        print(f\"{copy_n} is an armstrong number\")"
   ]
  },
  {
   "cell_type": "markdown",
   "id": "264d288e",
   "metadata": {},
   "source": [
    "#### Q6.\tWrite a Python Program to Find the Sum of Natural Numbers?\n"
   ]
  },
  {
   "cell_type": "code",
   "execution_count": 1,
   "id": "52a7c139",
   "metadata": {},
   "outputs": [
    {
     "name": "stdout",
     "output_type": "stream",
     "text": [
      "Enter a number:65\n",
      "2145 is the sum of first 65 natural numbers\n"
     ]
    }
   ],
   "source": [
    "n = int(input(\"Enter a number:\"))\n",
    "num = n\n",
    "sum = 0\n",
    "if num <= 0: \n",
    "    print(\"Enter a whole positive number!\")\n",
    "while num>=0:\n",
    "    sum += num\n",
    "    num -= 1\n",
    "print(f\"{sum} is the sum of first {n} natural numbers\")"
   ]
  }
 ],
 "metadata": {
  "kernelspec": {
   "display_name": "Python 3 (ipykernel)",
   "language": "python",
   "name": "python3"
  },
  "language_info": {
   "codemirror_mode": {
    "name": "ipython",
    "version": 3
   },
   "file_extension": ".py",
   "mimetype": "text/x-python",
   "name": "python",
   "nbconvert_exporter": "python",
   "pygments_lexer": "ipython3",
   "version": "3.9.12"
  }
 },
 "nbformat": 4,
 "nbformat_minor": 5
}

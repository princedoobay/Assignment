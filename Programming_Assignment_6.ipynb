{
 "cells": [
  {
   "cell_type": "markdown",
   "id": "ed538716",
   "metadata": {},
   "source": [
    "# Programming Assignment-6"
   ]
  },
  {
   "cell_type": "markdown",
   "id": "d8a2f310",
   "metadata": {},
   "source": [
    "#### Q1. Write a Python Program to Display Fibonacci Sequence Using Recursion?\n"
   ]
  },
  {
   "cell_type": "code",
   "execution_count": 7,
   "id": "72205441",
   "metadata": {},
   "outputs": [
    {
     "name": "stdout",
     "output_type": "stream",
     "text": [
      "Enter the number of terms required in fibonacci series: 12\n",
      "Fibonacci sequence: \n",
      "1\n",
      "1\n",
      "2\n",
      "3\n",
      "5\n",
      "8\n",
      "13\n",
      "21\n",
      "34\n",
      "55\n",
      "89\n",
      "144\n"
     ]
    }
   ],
   "source": [
    "m = int(input(\"Enter the number of terms required in fibonacci series: \"))\n",
    "def rec_fib(m):\n",
    "    if m <= 1 :\n",
    "        return  1\n",
    "    else:\n",
    "        return rec_fib(m-1) + rec_fib(m-2)\n",
    "nterms = m\n",
    "if nterms <= 0 :\n",
    "    print(\"Enter a positive interger\")\n",
    "else:\n",
    "    print(\"Fibonacci sequence: \")\n",
    "    for i in range(nterms):\n",
    "        print(rec_fib(i))"
   ]
  },
  {
   "cell_type": "markdown",
   "id": "a912dc57",
   "metadata": {},
   "source": [
    "#### Q2. Write a Python Program to Find Factorial of Number Using Recursion?\n"
   ]
  },
  {
   "cell_type": "code",
   "execution_count": 5,
   "id": "02106728",
   "metadata": {},
   "outputs": [],
   "source": [
    "def fact(n):\n",
    "    if n == 1:\n",
    "        return n\n",
    "    else:\n",
    "        return n * fact(n-1)"
   ]
  },
  {
   "cell_type": "code",
   "execution_count": 6,
   "id": "2eec0a32",
   "metadata": {},
   "outputs": [
    {
     "data": {
      "text/plain": [
       "720"
      ]
     },
     "execution_count": 6,
     "metadata": {},
     "output_type": "execute_result"
    }
   ],
   "source": [
    "fact(6)"
   ]
  },
  {
   "cell_type": "markdown",
   "id": "fb12a67b",
   "metadata": {},
   "source": [
    "#### Q3. Write a Python Program to calculate your Body Mass Index?\n"
   ]
  },
  {
   "cell_type": "code",
   "execution_count": 9,
   "id": "4633f8f8",
   "metadata": {},
   "outputs": [
    {
     "name": "stdout",
     "output_type": "stream",
     "text": [
      "Enter your height in cm:168\n",
      "Enter your weight in kg:73\n",
      "Your Body Mass Index (BMI) is 25.86451247165533\n",
      "You are over weight\n"
     ]
    }
   ],
   "source": [
    "Height = float(input(\"Enter your height in cm:\"))\n",
    "Height_mtr = Height/100\n",
    "Weight = float(input(\"Enter your weight in kg:\"))\n",
    "BMI = Weight/(Height_mtr**2)\n",
    "print(\"Your Body Mass Index (BMI) is\", BMI)\n",
    "if BMI <= 18.4 :\n",
    "    print(\"You are under weight\")\n",
    "elif 18.5<BMI<24.9 :\n",
    "    print(\"You are healthy\")\n",
    "elif 25<BMI<29.9 :\n",
    "    print(\"You are over weight\")\n",
    "elif BMI > 30 :\n",
    "    print(\"You have obesity\")"
   ]
  },
  {
   "cell_type": "markdown",
   "id": "19856c2c",
   "metadata": {},
   "source": [
    "#### Q4. Write a Python Program to calculate the natural logarithm of any number?\n"
   ]
  },
  {
   "cell_type": "code",
   "execution_count": 8,
   "id": "57d5e698",
   "metadata": {},
   "outputs": [
    {
     "name": "stdout",
     "output_type": "stream",
     "text": [
      "Enter the number: 10\n",
      "The value is: 2.302585092994046\n"
     ]
    }
   ],
   "source": [
    "import math\n",
    "\n",
    "number = int(input(\"Enter the number: \"))\n",
    "\n",
    "ans = math.log(number)\n",
    "\n",
    "print(\"The value is:\",ans)"
   ]
  },
  {
   "cell_type": "markdown",
   "id": "ea739524",
   "metadata": {},
   "source": [
    "#### Q5. Write a Python Program for cube sum of first n natural numbers?"
   ]
  },
  {
   "cell_type": "code",
   "execution_count": 10,
   "id": "b8778893",
   "metadata": {},
   "outputs": [
    {
     "name": "stdout",
     "output_type": "stream",
     "text": [
      "Enter the numbers of terms for sum of cubes:5\n",
      "cube sum of first 5 natural numbers is 225\n"
     ]
    }
   ],
   "source": [
    "n = int(input(\"Enter the numbers of terms for sum of cubes:\"))\n",
    "sum = 0\n",
    "for i in range(n+1) :\n",
    "    sum = sum + pow(i, 3)\n",
    "print(f\"cube sum of first {n} natural numbers is\", sum)"
   ]
  }
 ],
 "metadata": {
  "kernelspec": {
   "display_name": "Python 3 (ipykernel)",
   "language": "python",
   "name": "python3"
  },
  "language_info": {
   "codemirror_mode": {
    "name": "ipython",
    "version": 3
   },
   "file_extension": ".py",
   "mimetype": "text/x-python",
   "name": "python",
   "nbconvert_exporter": "python",
   "pygments_lexer": "ipython3",
   "version": "3.9.12"
  }
 },
 "nbformat": 4,
 "nbformat_minor": 5
}

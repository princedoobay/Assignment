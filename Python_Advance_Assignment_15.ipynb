{
  "nbformat": 4,
  "nbformat_minor": 0,
  "metadata": {
    "colab": {
      "provenance": []
    },
    "kernelspec": {
      "name": "python3",
      "display_name": "Python 3"
    },
    "language_info": {
      "name": "python"
    }
  },
  "cells": [
    {
      "cell_type": "markdown",
      "source": [
        "# Python_Advance_Assignment - 15"
      ],
      "metadata": {
        "id": "N06iDJ74PtLm"
      }
    },
    {
      "cell_type": "markdown",
      "source": [
        "1. What are the new features added in Python 3.8 version?\n",
        "\n",
        "Python 3.8 introduced several new features and improvements, some of which include:\n",
        "\n",
        "- Assignment Expressions (the \"walrus operator\"): Allows you to assign a value to a variable as part of an expression.\n",
        "- Positional-only Parameters: Functions can now specify parameters that can only be passed using positional arguments.\n",
        "- f-string improvements: Support for the \"=!\" specifier to indicate error messages in f-strings, and the ability to use the `str.format_map()` method in f-strings.\n",
        "- future annotations: Introduces a new syntax warning system using \\__future__ annotations.\n",
        "- len hinting: Enables more precise static type checking for the `len()` function.\n",
        "Syntax Warning: A SyntaxWarning is now issued for cases where parentheses can be omitted in function calls.\n",
        "- New Modules: The `math.prod()` function for product computation, and the `statistics.fmean()` and `statistics.geometric_mean()` functions for calculating means."
      ],
      "metadata": {
        "id": "k1dnqX6wPwyt"
      }
    },
    {
      "cell_type": "markdown",
      "source": [
        "2. What is monkey patching in Python?\n",
        "\n",
        "Monkey patching in Python refers to the practice of dynamically modifying or extending existing classes or modules at runtime. This is often done by directly altering the source code of the module or class, or by adding new methods or attributes to them. While monkey patching can be a powerful technique for adding functionality or fixing issues in third-party libraries or modules, it should be used with caution. Improper or excessive monkey patching can lead to unexpected behavior, compatibility issues, and difficult-to-maintain code.\n",
        "\n"
      ],
      "metadata": {
        "id": "i9FK67koQO_F"
      }
    },
    {
      "cell_type": "markdown",
      "source": [
        "3. What is the difference between a shallow copy and deep copy?\n",
        "Shallow Copy vs. Deep Copy:\n",
        "\n",
        "- Shallow Copy: A shallow copy of an object creates a new object that is a copy of the original object's references to other objects. However, it does not create copies of the referred objects themselves. In other words, the copy and the original object share some of the nested objects. Shallow copy can be performed using the `copy()` function or the `copy.copy()` method from the copy module.\n",
        "- Deep Copy: A deep copy of an object creates a new object and recursively creates copies of all the nested objects referenced by the original object. As a result, the copy is fully independent of the original object and its nested objects. Deep copy can be performed using the `copy.deepcopy()` method from the `copy` module."
      ],
      "metadata": {
        "id": "1TstlnZ-QWN-"
      }
    },
    {
      "cell_type": "markdown",
      "source": [
        "4. What is the maximum possible length of an identifier?\n",
        "\n",
        "The maximum possible length of an identifier (variable, function, class, etc.) in Python is implementation-dependent. In Python 3.8 and later, the limit is 255 characters. It's worth noting that using very long identifiers can harm code readability and maintainability, so it's recommended to use meaningful but concise names for your identifiers.\n",
        "\n"
      ],
      "metadata": {
        "id": "6qdb7sgvQzQ9"
      }
    },
    {
      "cell_type": "markdown",
      "source": [
        "5. What is generator comprehension?\n",
        "\n",
        "A generator comprehension is a concise way to create a generator in Python. It is similar to a list comprehension, but instead of creating a list, it creates an iterator (generator) that produces values lazily as they are needed. This can be more memory-efficient, especially when dealing with large datasets. Generator comprehensions use the same syntax as list comprehensions, but they are enclosed in parentheses instead of square brackets.\n",
        "\n",
        "Example of a list comprehension:"
      ],
      "metadata": {
        "id": "Ebptr7lFQ54V"
      }
    },
    {
      "cell_type": "code",
      "source": [
        "squares = [x * x for x in range(10)]\n"
      ],
      "metadata": {
        "id": "JLrcMQexPwMN"
      },
      "execution_count": 1,
      "outputs": []
    },
    {
      "cell_type": "markdown",
      "source": [
        "Equivalent generator comprehension:\n",
        "\n"
      ],
      "metadata": {
        "id": "A4MbgmbERGhx"
      }
    },
    {
      "cell_type": "code",
      "source": [
        "squares_generator = (x * x for x in range(10))\n"
      ],
      "metadata": {
        "id": "uwiZ-mncRBt2"
      },
      "execution_count": 2,
      "outputs": []
    },
    {
      "cell_type": "markdown",
      "source": [
        "In the generator comprehension, the values are generated one at a time when requested, rather than creating a list of all values upfront. This can be particularly useful when dealing with large datasets or when memory efficiency is important."
      ],
      "metadata": {
        "id": "ehZVvPIlROcV"
      }
    }
  ]
}
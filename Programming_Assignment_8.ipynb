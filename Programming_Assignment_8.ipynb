{
 "cells": [
  {
   "cell_type": "markdown",
   "id": "b026b45f-8777-48c0-abc4-c12e52238a62",
   "metadata": {},
   "source": [
    "# Programming_Assignment - 8"
   ]
  },
  {
   "cell_type": "markdown",
   "id": "b81d24fc-8a2e-4879-9e42-c559a1f0dee9",
   "metadata": {},
   "source": [
    "### 1. Write a Python Program to Add Two Matrices?"
   ]
  },
  {
   "cell_type": "code",
   "execution_count": 1,
   "id": "9c2f8253-d3f8-43a3-8aae-07c541670ff4",
   "metadata": {},
   "outputs": [
    {
     "name": "stdout",
     "output_type": "stream",
     "text": [
      "[10, 10, 10]\n",
      "[10, 10, 10]\n",
      "[10, 10, 10]\n"
     ]
    }
   ],
   "source": [
    "# define two matrices\n",
    "matrix1 = [[1, 2, 3], [4, 5, 6], [7, 8, 9]]\n",
    "matrix2 = [[9, 8, 7], [6, 5, 4], [3, 2, 1]]\n",
    "\n",
    "# create an empty result matrix\n",
    "result = [[0, 0, 0], [0, 0, 0], [0, 0, 0]]\n",
    "\n",
    "# iterate through each element of the matrices and add them\n",
    "for i in range(len(matrix1)):\n",
    "    for j in range(len(matrix1[0])):\n",
    "        result[i][j] = matrix1[i][j] + matrix2[i][j]\n",
    "\n",
    "# print the result matrix\n",
    "for row in result:\n",
    "    print(row)\n"
   ]
  },
  {
   "cell_type": "markdown",
   "id": "19eb667f-db45-45b6-8d99-a33d25e270f7",
   "metadata": {},
   "source": [
    "### 2. Write a Python Program to Multiply Two Matrices?"
   ]
  },
  {
   "cell_type": "code",
   "execution_count": 2,
   "id": "185cdced-0dd3-46dd-b871-c124e94ec7fc",
   "metadata": {},
   "outputs": [
    {
     "name": "stdout",
     "output_type": "stream",
     "text": [
      "[27, 30, 33]\n",
      "[61, 68, 75]\n",
      "[95, 106, 117]\n"
     ]
    }
   ],
   "source": [
    "# function to multiply two matrices\n",
    "def multiply_matrices(mat1, mat2):\n",
    "    # create an empty result matrix\n",
    "    result = [[0 for col in range(len(mat2[0]))] for row in range(len(mat1))]\n",
    "    \n",
    "    # iterate over each row of the first matrix\n",
    "    for i in range(len(mat1)):\n",
    "        # iterate over each column of the second matrix\n",
    "        for j in range(len(mat2[0])):\n",
    "            # iterate over each element of the second matrix's row\n",
    "            for k in range(len(mat2)):\n",
    "                result[i][j] += mat1[i][k] * mat2[k][j]\n",
    "    \n",
    "    return result\n",
    "\n",
    "# example matrices\n",
    "mat1 = [[1, 2],\n",
    "        [3, 4],\n",
    "        [5, 6]]\n",
    "\n",
    "mat2 = [[7, 8, 9],\n",
    "        [10, 11, 12]]\n",
    "\n",
    "# call the multiply_matrices function and print the result\n",
    "result = multiply_matrices(mat1, mat2)\n",
    "for row in result:\n",
    "    print(row)"
   ]
  },
  {
   "cell_type": "markdown",
   "id": "6a826b17-7a2f-43fe-b1a1-c87db2aa81e5",
   "metadata": {},
   "source": [
    "### 3. Write a Python Program to Transpose a Matrix?"
   ]
  },
  {
   "cell_type": "code",
   "execution_count": 3,
   "id": "4d7d2070-2fae-429e-aea3-c57eb4de539b",
   "metadata": {},
   "outputs": [],
   "source": [
    "def transpose_matrix(matrix):\n",
    "    rows = len(matrix)\n",
    "    cols = len(matrix[0])\n",
    "    transposed = [[0 for j in range(rows)] for i in range(cols)]\n",
    "    for i in range(rows):\n",
    "        for j in range(cols):\n",
    "            transposed[j][i] = matrix[i][j]\n",
    "    return transposed"
   ]
  },
  {
   "cell_type": "code",
   "execution_count": 4,
   "id": "6f1674e6-6514-48e0-b44f-3ebc71e35d88",
   "metadata": {},
   "outputs": [
    {
     "name": "stdout",
     "output_type": "stream",
     "text": [
      "[[1, 4, 7], [2, 5, 8], [3, 6, 9]]\n"
     ]
    }
   ],
   "source": [
    "matrix = [[1, 2, 3], [4, 5, 6], [7, 8, 9]]\n",
    "transposed_matrix = transpose_matrix(matrix)\n",
    "print(transposed_matrix)\n"
   ]
  },
  {
   "cell_type": "markdown",
   "id": "7ae5db95-0cb2-407a-a588-31d8f8c02141",
   "metadata": {},
   "source": [
    "### 4. Write a Python Program to Sort Words in Alphabetic Order?"
   ]
  },
  {
   "cell_type": "code",
   "execution_count": 5,
   "id": "86c116e7-7f4e-47b3-bc6d-9f019422b2f1",
   "metadata": {},
   "outputs": [
    {
     "name": "stdin",
     "output_type": "stream",
     "text": [
      "Enter a sentence:  two are none of them\n"
     ]
    },
    {
     "name": "stdout",
     "output_type": "stream",
     "text": [
      "Sorted words: ['are', 'none', 'of', 'them', 'two']\n"
     ]
    }
   ],
   "source": [
    "sentence = input(\"Enter a sentence: \")\n",
    "words = sentence.split()\n",
    "words.sort()\n",
    "print(\"Sorted words:\", words)\n"
   ]
  },
  {
   "cell_type": "markdown",
   "id": "fae81b6c-bc22-4e36-9d35-3d0cb6fde5c9",
   "metadata": {},
   "source": [
    "### 5. Write a Python Program to Remove Punctuation From a String?"
   ]
  },
  {
   "cell_type": "code",
   "execution_count": 6,
   "id": "75510006-d781-491b-b937-41141e61e41a",
   "metadata": {},
   "outputs": [
    {
     "name": "stdout",
     "output_type": "stream",
     "text": [
      "Hello World This is a test\n"
     ]
    }
   ],
   "source": [
    "import string\n",
    "\n",
    "def remove_punctuation(input_string):\n",
    "    \"\"\"Removes punctuation from a given string\"\"\"\n",
    "    no_punct = \"\"\n",
    "    for char in input_string:\n",
    "        if char not in string.punctuation:\n",
    "            no_punct += char\n",
    "    return no_punct\n",
    "\n",
    "# Example usage\n",
    "input_string = \"Hello, World! This is a test.\"\n",
    "no_punct_string = remove_punctuation(input_string)\n",
    "print(no_punct_string)"
   ]
  }
 ],
 "metadata": {
  "kernelspec": {
   "display_name": "Python 3 (ipykernel)",
   "language": "python",
   "name": "python3"
  },
  "language_info": {
   "codemirror_mode": {
    "name": "ipython",
    "version": 3
   },
   "file_extension": ".py",
   "mimetype": "text/x-python",
   "name": "python",
   "nbconvert_exporter": "python",
   "pygments_lexer": "ipython3",
   "version": "3.10.6"
  }
 },
 "nbformat": 4,
 "nbformat_minor": 5
}

{
 "cells": [
  {
   "cell_type": "markdown",
   "id": "14c84032-3345-44b0-afcb-0ad98c5417f4",
   "metadata": {},
   "source": [
    "# Assignment - 21"
   ]
  },
  {
   "cell_type": "markdown",
   "id": "8624b524-cb63-4cbf-9643-c461b850ee9c",
   "metadata": {},
   "source": [
    "### 1. Add the current date to the text file today.txt as a string.\n"
   ]
  },
  {
   "cell_type": "code",
   "execution_count": 2,
   "id": "4c8cda65-2cfc-4c16-b09d-b6eae0a1c41e",
   "metadata": {},
   "outputs": [],
   "source": [
    "import datetime\n",
    "\n",
    "# get the current date as a string\n",
    "current_date = datetime.date.today().strftime('%Y-%m-%d')\n",
    "\n",
    "# write the current date to the file today.txt\n",
    "with open('today.txt', 'w') as f:\n",
    "    f.write(current_date)\n"
   ]
  },
  {
   "cell_type": "markdown",
   "id": "d99a7c81-4a2e-4a9b-9f6e-2c4ac574ee58",
   "metadata": {},
   "source": [
    "### 2. Read the text file today.txt into the string today_string\n"
   ]
  },
  {
   "cell_type": "code",
   "execution_count": 4,
   "id": "a0e9cf98-2944-419c-bf0c-9875cac73ff9",
   "metadata": {},
   "outputs": [
    {
     "name": "stdout",
     "output_type": "stream",
     "text": [
      "2023-04-28\n"
     ]
    }
   ],
   "source": [
    "with open('today.txt', 'r') as f:\n",
    "    today_string = f.read()\n",
    "print(today_string)"
   ]
  },
  {
   "cell_type": "markdown",
   "id": "8178afc4-85fc-47a8-9520-825980196218",
   "metadata": {},
   "source": [
    "### 3. Parse the date from today_string.\n"
   ]
  },
  {
   "cell_type": "code",
   "execution_count": 5,
   "id": "cb47492f-1b8b-481b-8daa-130123b0fe1c",
   "metadata": {},
   "outputs": [
    {
     "data": {
      "text/plain": [
       "datetime.date(2023, 4, 28)"
      ]
     },
     "execution_count": 5,
     "metadata": {},
     "output_type": "execute_result"
    }
   ],
   "source": [
    "import datetime\n",
    "\n",
    "# parse the date from today_string\n",
    "date_obj = datetime.datetime.strptime(today_string, '%Y-%m-%d').date()\n",
    "date_obj"
   ]
  },
  {
   "cell_type": "markdown",
   "id": "99123e14-2d65-44b6-b362-29a192f78bdf",
   "metadata": {},
   "source": [
    "### 4. List the files in your current directory\n"
   ]
  },
  {
   "cell_type": "code",
   "execution_count": 6,
   "id": "3855d9ac-229e-4056-9c69-a473560bf43f",
   "metadata": {},
   "outputs": [
    {
     "name": "stdout",
     "output_type": "stream",
     "text": [
      "['README.md', 'test.txt', 'sample-code.ipynb', 'Assignment_21.ipynb', '.git', 'Assignment_20.ipynb', 'Assignment_19.ipynb', 'books.db', '.ipynb_checkpoints', 'today.txt', 'books.csv']\n"
     ]
    }
   ],
   "source": [
    "import os\n",
    "\n",
    "# list the files in the current directory\n",
    "files = os.listdir()\n",
    "\n",
    "# print the list of files\n",
    "print(files)\n"
   ]
  },
  {
   "cell_type": "markdown",
   "id": "4b5e29e2-f124-4aad-9dd5-b95765e005c1",
   "metadata": {},
   "source": [
    "### 5. Create a list of all of the files in your parent directory (minimum five files should be available).\n"
   ]
  },
  {
   "cell_type": "code",
   "execution_count": 7,
   "id": "753b4195-dc5a-406c-a426-893c98056902",
   "metadata": {},
   "outputs": [
    {
     "name": "stdout",
     "output_type": "stream",
     "text": [
      "['.profile', '.bash_logout', '.bashrc', '.ipython', '.cache', '.jupyter', '.local', '.conda', '.config', '.npm', '.wget-hsts', 'work']\n"
     ]
    }
   ],
   "source": [
    "import os\n",
    "\n",
    "# get the path to the parent directory\n",
    "parent_dir = os.path.abspath('..')\n",
    "\n",
    "# list the files in the parent directory\n",
    "files = os.listdir(parent_dir)\n",
    "\n",
    "# print the list of files\n",
    "print(files)\n"
   ]
  },
  {
   "cell_type": "markdown",
   "id": "2d22d63d-0841-4fc7-8038-1a27b0ed56a7",
   "metadata": {},
   "source": [
    "### 6. Use multiprocessing to create three separate processes. Make each one wait a random number of seconds between one and five, print the current time, and then exit.\n"
   ]
  },
  {
   "cell_type": "code",
   "execution_count": 8,
   "id": "33f3c506-2593-4e5e-841d-03660e0bcbb0",
   "metadata": {},
   "outputs": [
    {
     "name": "stdout",
     "output_type": "stream",
     "text": [
      "Process Process 2 waited for 1 seconds and printed the time: 06:11:49\n",
      "Process Process 3 waited for 2 seconds and printed the time: 06:11:50\n",
      "Process Process 1 waited for 4 seconds and printed the time: 06:11:52\n"
     ]
    }
   ],
   "source": [
    "import multiprocessing\n",
    "import time\n",
    "import datetime\n",
    "import random\n",
    "\n",
    "def print_time():\n",
    "    # Wait a random number of seconds between 1 and 5\n",
    "    wait_time = random.randint(1, 5)\n",
    "    time.sleep(wait_time)\n",
    "\n",
    "    # Print the current time\n",
    "    current_time = datetime.datetime.now().strftime(\"%H:%M:%S\")\n",
    "    print(f\"Process {multiprocessing.current_process().name} waited for {wait_time} seconds and printed the time: {current_time}\")\n",
    "\n",
    "if __name__ == '__main__':\n",
    "    # Create three separate processes\n",
    "    processes = []\n",
    "    for i in range(3):\n",
    "        p = multiprocessing.Process(target=print_time, name=f\"Process {i+1}\")\n",
    "        processes.append(p)\n",
    "        p.start()\n",
    "\n",
    "    # Wait for all processes to finish\n",
    "    for p in processes:\n",
    "        p.join()\n"
   ]
  },
  {
   "cell_type": "markdown",
   "id": "16f985ca-2cdb-4b22-982d-75555de9d999",
   "metadata": {},
   "source": [
    "### 7. Create a date object of your day of birth.\n"
   ]
  },
  {
   "cell_type": "code",
   "execution_count": 9,
   "id": "dec981d1-3ab8-4fcb-872f-0c8e148ded10",
   "metadata": {},
   "outputs": [
    {
     "name": "stdout",
     "output_type": "stream",
     "text": [
      "1994-10-17\n"
     ]
    }
   ],
   "source": [
    "import datetime\n",
    "\n",
    "# Create a date object of your day of birth\n",
    "birthday = datetime.date(1994, 10, 17)\n",
    "\n",
    "# Print the date object\n",
    "print(birthday)\n"
   ]
  },
  {
   "cell_type": "markdown",
   "id": "5f29c5b9-8843-401a-b979-e0d042ba4951",
   "metadata": {},
   "source": [
    "### 8. What day of the week was your day of birth?\n"
   ]
  },
  {
   "cell_type": "code",
   "execution_count": 10,
   "id": "187a319f-8ad1-4f07-a698-472de174228c",
   "metadata": {},
   "outputs": [
    {
     "name": "stdout",
     "output_type": "stream",
     "text": [
      "Monday\n"
     ]
    }
   ],
   "source": [
    "import datetime\n",
    "\n",
    "# Create a date object of your day of birth\n",
    "birthday = datetime.date(1994, 10, 17)\n",
    "\n",
    "# Get the weekday name of the date object\n",
    "weekday = birthday.strftime('%A')\n",
    "\n",
    "# Print the weekday name\n",
    "print(weekday)\n"
   ]
  },
  {
   "cell_type": "markdown",
   "id": "ad89932d-8ef0-43b3-a522-a5c9163853ab",
   "metadata": {},
   "source": [
    "### 9. When will you be (or when were you) 10,000 days old?"
   ]
  },
  {
   "cell_type": "code",
   "execution_count": 13,
   "id": "f756ac72-fbe2-433d-91a7-fbae0f03be7e",
   "metadata": {},
   "outputs": [
    {
     "name": "stdout",
     "output_type": "stream",
     "text": [
      "2022-03-04\n"
     ]
    }
   ],
   "source": [
    "import datetime\n",
    "\n",
    "# Create a date object of my day of birth\n",
    "birthday = datetime.date(1994, 10, 17)\n",
    "\n",
    "# Add 10,000 days to the date of birth\n",
    "ten_thousand_days = datetime.timedelta(days=10000)\n",
    "ten_thousand_days_date = birthday + ten_thousand_days\n",
    "\n",
    "# Print the date when I will be 10,000 days old\n",
    "print(ten_thousand_days_date)\n"
   ]
  }
 ],
 "metadata": {
  "kernelspec": {
   "display_name": "Python 3 (ipykernel)",
   "language": "python",
   "name": "python3"
  },
  "language_info": {
   "codemirror_mode": {
    "name": "ipython",
    "version": 3
   },
   "file_extension": ".py",
   "mimetype": "text/x-python",
   "name": "python",
   "nbconvert_exporter": "python",
   "pygments_lexer": "ipython3",
   "version": "3.10.6"
  }
 },
 "nbformat": 4,
 "nbformat_minor": 5
}

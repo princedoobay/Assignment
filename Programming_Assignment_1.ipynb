{
 "cells": [
  {
   "cell_type": "markdown",
   "id": "01160da7",
   "metadata": {},
   "source": [
    "# Programming Assignment - 1"
   ]
  },
  {
   "cell_type": "markdown",
   "id": "44b1c535",
   "metadata": {},
   "source": [
    "#### Q1. Write a Python program to print \"Hello Python\"?"
   ]
  },
  {
   "cell_type": "code",
   "execution_count": 2,
   "id": "ae66d8e8",
   "metadata": {},
   "outputs": [
    {
     "name": "stdout",
     "output_type": "stream",
     "text": [
      "Hello Python\n"
     ]
    }
   ],
   "source": [
    "print(\"Hello Python\")"
   ]
  },
  {
   "cell_type": "markdown",
   "id": "9fa54036",
   "metadata": {},
   "source": [
    "#### Q2. Write a Python program to do arithmetical operations addition and division.?"
   ]
  },
  {
   "cell_type": "code",
   "execution_count": 3,
   "id": "a409cc31",
   "metadata": {},
   "outputs": [
    {
     "name": "stdout",
     "output_type": "stream",
     "text": [
      "Enter the first number: 55\n",
      "Enter the second number: 5\n",
      "Sum of x,y: 60\n",
      "Division of x by y: 11.0\n"
     ]
    }
   ],
   "source": [
    "x = int(input(\"Enter the first number: \"))\n",
    "y = int(input(\"Enter the second number: \"))\n",
    "Sum = x+y\n",
    "Div = x/y\n",
    "print(\"Sum of x,y:\", Sum)\n",
    "print(\"Division of x by y:\", Div)"
   ]
  },
  {
   "cell_type": "markdown",
   "id": "ccb24037",
   "metadata": {},
   "source": [
    "#### Q3. Write a Python program to find the area of a triangle?"
   ]
  },
  {
   "cell_type": "code",
   "execution_count": 5,
   "id": "d438df08",
   "metadata": {},
   "outputs": [
    {
     "name": "stdout",
     "output_type": "stream",
     "text": [
      "Enter the length of first side: 2\n",
      "Enter the length of second side: 3\n",
      "Enter the length of third side: 4\n",
      "Area of the triangle is: 2.9047375096555625\n"
     ]
    }
   ],
   "source": [
    "a = int(input(\"Enter the length of first side: \"))\n",
    "b = int(input(\"Enter the length of second side: \"))\n",
    "c = int(input(\"Enter the length of third side: \"))\n",
    "s = (a+b+c)/2\n",
    "area = (s*(s-a)*(s-b)*(s-c))**0.5\n",
    "print(\"Area of the triangle is:\", area)"
   ]
  },
  {
   "cell_type": "markdown",
   "id": "e305bba3",
   "metadata": {},
   "source": [
    "#### Q4. Write a Python program to swap two variables?"
   ]
  },
  {
   "cell_type": "code",
   "execution_count": 7,
   "id": "41e66dec",
   "metadata": {},
   "outputs": [
    {
     "name": "stdout",
     "output_type": "stream",
     "text": [
      "3\n",
      "5\n"
     ]
    }
   ],
   "source": [
    "x = 5\n",
    "y = 3\n",
    "x,y = y,x\n",
    "print(x)\n",
    "print(y)"
   ]
  },
  {
   "cell_type": "markdown",
   "id": "e9217031",
   "metadata": {},
   "source": [
    "#### Q5. Write a Python program to generate a random number?"
   ]
  },
  {
   "cell_type": "code",
   "execution_count": 8,
   "id": "274b6ebc",
   "metadata": {},
   "outputs": [
    {
     "data": {
      "text/plain": [
       "14"
      ]
     },
     "execution_count": 8,
     "metadata": {},
     "output_type": "execute_result"
    }
   ],
   "source": [
    "import random\n",
    "random.randint(1,100)"
   ]
  }
 ],
 "metadata": {
  "kernelspec": {
   "display_name": "Python 3 (ipykernel)",
   "language": "python",
   "name": "python3"
  },
  "language_info": {
   "codemirror_mode": {
    "name": "ipython",
    "version": 3
   },
   "file_extension": ".py",
   "mimetype": "text/x-python",
   "name": "python",
   "nbconvert_exporter": "python",
   "pygments_lexer": "ipython3",
   "version": "3.9.12"
  }
 },
 "nbformat": 4,
 "nbformat_minor": 5
}

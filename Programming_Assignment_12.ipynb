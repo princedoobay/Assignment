{
 "cells": [
  {
   "cell_type": "markdown",
   "id": "1bcf4009-8d4a-481e-80ae-63613df98f2a",
   "metadata": {},
   "source": [
    "# Programming Assignment - 12"
   ]
  },
  {
   "cell_type": "markdown",
   "id": "5f390584-f78b-4057-b19a-b9cbd8268f7e",
   "metadata": {},
   "source": [
    "### 1. Write a Python program to Extract Unique values dictionary values?"
   ]
  },
  {
   "cell_type": "code",
   "execution_count": 1,
   "id": "440d9bfc-9812-4ee9-8029-9417dc223532",
   "metadata": {},
   "outputs": [
    {
     "name": "stdout",
     "output_type": "stream",
     "text": [
      "Unique values: {1, 2, 3, 4, 5, 6}\n"
     ]
    }
   ],
   "source": [
    "# Define a dictionary\n",
    "my_dict = {'a': [1, 2, 3, 2, 1], 'b': [3, 4, 5, 6, 5]}\n",
    "\n",
    "# Define an empty set to store the unique values\n",
    "unique_values = set()\n",
    "\n",
    "# Find the unique values\n",
    "for value_list in my_dict.values():\n",
    "    unique_values.update(set(value_list))\n",
    "\n",
    "# Print the unique values\n",
    "print(\"Unique values:\", unique_values)\n"
   ]
  },
  {
   "cell_type": "markdown",
   "id": "c79acb5b-0978-4a5b-96f4-e8e547464a2a",
   "metadata": {},
   "source": [
    "### 2. Write a Python program to find the sum of all items in a dictionary?"
   ]
  },
  {
   "cell_type": "code",
   "execution_count": 2,
   "id": "d67837bc-2152-467f-bf62-48960429d9a8",
   "metadata": {},
   "outputs": [
    {
     "name": "stdout",
     "output_type": "stream",
     "text": [
      "Sum of all values in the dictionary: 1000\n"
     ]
    }
   ],
   "source": [
    "# Define a dictionary\n",
    "my_dict = {'a': 100, 'b': 200, 'c': 300, 'd': 400}\n",
    "\n",
    "# Find the sum of all values in the dictionary\n",
    "sum_values = sum(my_dict.values())\n",
    "\n",
    "# Print the sum of all values in the dictionary\n",
    "print(\"Sum of all values in the dictionary:\", sum_values)\n"
   ]
  },
  {
   "cell_type": "markdown",
   "id": "d4b00363-0f11-4d38-8b94-a095a671e023",
   "metadata": {},
   "source": [
    "### 3. Write a Python program to Merging two Dictionaries?"
   ]
  },
  {
   "cell_type": "code",
   "execution_count": 3,
   "id": "b5aa6e18-6f53-48c8-998b-a7728ce02d94",
   "metadata": {},
   "outputs": [
    {
     "name": "stdout",
     "output_type": "stream",
     "text": [
      "Merged dictionary: {'a': 100, 'b': 200, 'c': 300, 'd': 400}\n"
     ]
    }
   ],
   "source": [
    "# Define two dictionaries\n",
    "dict1 = {'a': 100, 'b': 200}\n",
    "dict2 = {'c': 300, 'd': 400}\n",
    "\n",
    "# Merge the two dictionaries\n",
    "merged_dict = {**dict1, **dict2}\n",
    "\n",
    "# Print the merged dictionary\n",
    "print(\"Merged dictionary:\", merged_dict)\n"
   ]
  },
  {
   "cell_type": "markdown",
   "id": "02360bd5-9a1d-46fa-aadb-20ff28ae5244",
   "metadata": {},
   "source": [
    "### 4. Write a Python program to convert key-values list to flat dictionary?"
   ]
  },
  {
   "cell_type": "code",
   "execution_count": 4,
   "id": "c279b434-157f-43c3-8818-345e48377b00",
   "metadata": {},
   "outputs": [
    {
     "name": "stdout",
     "output_type": "stream",
     "text": [
      "{'a': 1, 'b': 2, 'c': 3}\n"
     ]
    }
   ],
   "source": [
    "# Define a list of key-value pairs\n",
    "key_value_list = [('a', 1), ('b', 2), ('c', 3)]\n",
    "\n",
    "# Initialize an empty dictionary\n",
    "flat_dict = {}\n",
    "\n",
    "# Loop through each key-value pair and add it to the dictionary\n",
    "for key, value in key_value_list:\n",
    "    flat_dict[key] = value\n",
    "\n",
    "# Print the flat dictionary\n",
    "print(flat_dict)\n"
   ]
  },
  {
   "cell_type": "markdown",
   "id": "71077071-89c5-4c44-bbe4-a37ff9e19d53",
   "metadata": {},
   "source": [
    "### 5. Write a Python program to insertion at the beginning in OrderedDict?"
   ]
  },
  {
   "cell_type": "code",
   "execution_count": 5,
   "id": "3bba91ab-e4a5-426d-9cb9-95f18ec0b18f",
   "metadata": {},
   "outputs": [
    {
     "name": "stdout",
     "output_type": "stream",
     "text": [
      "OrderedDict([('d', 4), ('a', 1), ('b', 2), ('c', 3)])\n"
     ]
    }
   ],
   "source": [
    "from collections import OrderedDict\n",
    "\n",
    "# Create an empty OrderedDict\n",
    "ordered_dict = OrderedDict()\n",
    "\n",
    "# Insert key-value pairs to the OrderedDict\n",
    "ordered_dict['a'] = 1\n",
    "ordered_dict['b'] = 2\n",
    "ordered_dict['c'] = 3\n",
    "\n",
    "# Insert a new key-value pair at the beginning of the OrderedDict\n",
    "ordered_dict.update({'d': 4})\n",
    "ordered_dict.move_to_end('d', last=False)\n",
    "\n",
    "# Print the updated OrderedDict\n",
    "print(ordered_dict)\n"
   ]
  },
  {
   "cell_type": "markdown",
   "id": "ba145df7-fd10-44ef-9f9c-0d2fa9d023e2",
   "metadata": {},
   "source": [
    "### 6. Write a Python program to check order of character in string using OrderedDict()?"
   ]
  },
  {
   "cell_type": "code",
   "execution_count": 6,
   "id": "8ead19ec-98e2-4d97-b12d-e18f4caf7862",
   "metadata": {},
   "outputs": [
    {
     "name": "stdout",
     "output_type": "stream",
     "text": [
      "The characters in pattern are in order in the string.\n"
     ]
    }
   ],
   "source": [
    "from collections import OrderedDict\n",
    "\n",
    "def check_order_of_chars(string, pattern):\n",
    "    # create an OrderedDict from the characters in the pattern\n",
    "    pattern_dict = OrderedDict.fromkeys(pattern)\n",
    "\n",
    "    # initialize a counter for the pattern dictionary\n",
    "    count = 0\n",
    "\n",
    "    # loop through the string and pattern dictionary\n",
    "    for key in string:\n",
    "\n",
    "        # if the key matches the current character in the pattern dictionary\n",
    "        if key == list(pattern_dict.keys())[count]:\n",
    "\n",
    "            # increment the counter for the pattern dictionary\n",
    "            count += 1\n",
    "\n",
    "            # if the counter is equal to the length of the pattern dictionary, return True\n",
    "            if count == len(pattern_dict):\n",
    "                return True\n",
    "    return False\n",
    "\n",
    "# Example usage:\n",
    "string = \"Hello, World!\"\n",
    "pattern = \"o,l\"\n",
    "if check_order_of_chars(string, pattern):\n",
    "    print(\"The characters in pattern are in order in the string.\")\n",
    "else:\n",
    "    print(\"The characters in pattern are not in order in the string.\")\n"
   ]
  },
  {
   "cell_type": "markdown",
   "id": "c374d922-e5ea-4b3b-9342-783f5804adf0",
   "metadata": {},
   "source": [
    "### 7. Write a Python program to sort Python Dictionaries by Key or Value?"
   ]
  },
  {
   "cell_type": "code",
   "execution_count": 7,
   "id": "a3ec2b24-cb10-4098-99c7-00622984601d",
   "metadata": {},
   "outputs": [
    {
     "name": "stdout",
     "output_type": "stream",
     "text": [
      "{'a': 1, 'b': 2, 'c': 3}\n",
      "{'a': 1, 'b': 2, 'c': 3}\n"
     ]
    }
   ],
   "source": [
    "# Sorting a dictionary by key\n",
    "my_dict = {'c': 3, 'b': 2, 'a': 1}\n",
    "sorted_dict = dict(sorted(my_dict.items(), key=lambda x: x[0]))\n",
    "print(sorted_dict)\n",
    "\n",
    "# Sorting a dictionary by value\n",
    "my_dict = {'c': 3, 'b': 2, 'a': 1}\n",
    "sorted_dict = dict(sorted(my_dict.items(), key=lambda x: x[1]))\n",
    "print(sorted_dict)\n"
   ]
  }
 ],
 "metadata": {
  "kernelspec": {
   "display_name": "Python 3 (ipykernel)",
   "language": "python",
   "name": "python3"
  },
  "language_info": {
   "codemirror_mode": {
    "name": "ipython",
    "version": 3
   },
   "file_extension": ".py",
   "mimetype": "text/x-python",
   "name": "python",
   "nbconvert_exporter": "python",
   "pygments_lexer": "ipython3",
   "version": "3.10.6"
  }
 },
 "nbformat": 4,
 "nbformat_minor": 5
}

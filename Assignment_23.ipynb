{
 "cells": [
  {
   "cell_type": "markdown",
   "id": "84b266f0-b391-4388-987d-de18b1b075c2",
   "metadata": {},
   "source": [
    "# Assignment - 23"
   ]
  },
  {
   "cell_type": "markdown",
   "id": "f22522a1-38a7-4b96-8196-789628f78344",
   "metadata": {},
   "source": [
    "### 1. What is the result of the code, and why?\n",
    "\n",
    "&gt;&gt;&gt; def func(a, b=6, c=8):\n",
    "\n",
    "print(a, b, c)\n",
    "\n",
    "&gt;&gt;&gt; func(1, 2)"
   ]
  },
  {
   "cell_type": "code",
   "execution_count": 2,
   "id": "e244e23a-f1e9-48b3-898c-23d20900304c",
   "metadata": {},
   "outputs": [
    {
     "name": "stdout",
     "output_type": "stream",
     "text": [
      "1 2 8\n"
     ]
    }
   ],
   "source": [
    "def func(a, b=6, c=8):\n",
    "    print(a, b, c)\n",
    "\n",
    "func(1, 2)"
   ]
  },
  {
   "cell_type": "markdown",
   "id": "d9ef13d2-a68d-4ac6-a740-adb59388178b",
   "metadata": {},
   "source": [
    "In the function definition of func(), there are three parameters defined: a, b, and c. The parameter a is a required positional argument, while b and c are optional parameters with default values of 6 and 8, respectively.\n",
    "\n",
    "When the function func() is called with the arguments (1, 2), the value 1 is passed as the first argument, which is assigned to the parameter a. The second argument 2 is passed to the second parameter b, and since b is not specified in the function call, it takes the default value of 6 and the value of c is 8 because it has a default value of 8 and is not specified in the function call."
   ]
  },
  {
   "cell_type": "markdown",
   "id": "1796b514-7627-4909-8755-ef016883d8e9",
   "metadata": {},
   "source": [
    "### 2. What is the result of this code, and why?\n",
    "&gt;&gt;&gt; def func(a, b, c=5):\n",
    "\n",
    "print(a, b, c)\n",
    "\n",
    "&gt;&gt;&gt; func(1, c=3, b=2)"
   ]
  },
  {
   "cell_type": "code",
   "execution_count": 3,
   "id": "9e64c440-6f51-448d-b70d-c183c855d29f",
   "metadata": {},
   "outputs": [
    {
     "name": "stdout",
     "output_type": "stream",
     "text": [
      "1 2 3\n"
     ]
    }
   ],
   "source": [
    "def func(a, b, c=5):\n",
    "    print(a, b, c)\n",
    "\n",
    "func(1, c=3, b=2)"
   ]
  },
  {
   "cell_type": "markdown",
   "id": "31d9b8d8-b35e-410c-be57-4831a807aeb7",
   "metadata": {},
   "source": [
    "In this code, a function named func is defined with three parameters: a, b, and c, where c has a default value of 5. When the function is called, the values of a, b, and c are printed.\n",
    "\n",
    "In the function call func(1, c=3, b=2), the value 1 is passed for the a parameter, the value 2 is passed for the b parameter, and the value 3 is passed for the c parameter.\n",
    "\n",
    "Since the c parameter is explicitly assigned a value of 3 in the function call, it overrides the default value of 5. Similarly, the b parameter is assigned a value of 2, which is also printed.\n",
    "\n",
    "Therefore, the output of the function call func(1, c=3, b=2) will be 1 2 3."
   ]
  },
  {
   "cell_type": "markdown",
   "id": "1f56ef63-2439-408a-b4b2-d97df6daa380",
   "metadata": {},
   "source": [
    "### 3. How about this code: what is its result, and why?\n",
    "&gt;&gt;&gt; def func(a, *pargs):\n",
    "\n",
    "print(a, pargs)\n",
    "\n",
    "&gt;&gt;&gt; func(1, 2, 3)"
   ]
  },
  {
   "cell_type": "code",
   "execution_count": 4,
   "id": "cc1b3e38-7b51-40da-805f-75cb122d8df8",
   "metadata": {},
   "outputs": [
    {
     "name": "stdout",
     "output_type": "stream",
     "text": [
      "1 (2, 3)\n"
     ]
    }
   ],
   "source": [
    "def func(a, *pargs):\n",
    "    print(a, pargs)\n",
    "\n",
    "func(1, 2, 3)"
   ]
  },
  {
   "cell_type": "markdown",
   "id": "3640d311-ca23-4bfd-9111-4c1fc85137be",
   "metadata": {},
   "source": [
    "In this code, a function named func is defined with two parameters: a and *pargs. The *pargs syntax in the parameter list means that the function can accept any number of positional arguments beyond the first parameter, and those additional arguments will be collected into a tuple named pargs.\n",
    "\n",
    "When the function is called with the arguments (1, 2, 3), the value 1 is assigned to the a parameter, and the additional arguments 2 and 3 are collected into the pargs tuple.\n",
    "\n",
    "Therefore, when the print() function inside the func() function is executed, it will print 1 for the value of a and (2, 3) for the value of pargs. The output of the function call func(1, 2, 3) will be 1 (2, 3)."
   ]
  },
  {
   "cell_type": "markdown",
   "id": "e2f16059-2fc4-4c39-a81a-fb4160e15be0",
   "metadata": {},
   "source": [
    "### 4. What does this code print, and why?\n",
    "&gt;&gt;&gt; def func(a, **kargs):\n",
    "\n",
    "print(a, kargs)\n",
    "\n",
    "&gt;&gt;&gt; func(a=1, c=3, b=2)"
   ]
  },
  {
   "cell_type": "code",
   "execution_count": 5,
   "id": "f2bb3d87-447a-4163-9688-f84d28ea4215",
   "metadata": {},
   "outputs": [
    {
     "name": "stdout",
     "output_type": "stream",
     "text": [
      "1 {'c': 3, 'b': 2}\n"
     ]
    }
   ],
   "source": [
    "def func(a, **kargs):\n",
    "    print(a, kargs)\n",
    "\n",
    "func(a=1, c=3, b=2)"
   ]
  },
  {
   "cell_type": "markdown",
   "id": "4a267eb3-e5e7-42cb-b15a-bdfdb58b7480",
   "metadata": {},
   "source": [
    "In this code, a function named func is defined with one parameter a and a variable number of keyword arguments, which are collected into a dictionary called kargs. The **kargs syntax in the parameter list means that the function can accept any number of keyword arguments beyond the first parameter, and those additional keyword arguments will be collected into a dictionary named kargs.\n",
    "\n",
    "The keyword argument a=1 is assigned to the a parameter, and the two additional keyword arguments c=3 and b=2 are collected into the kargs dictionary."
   ]
  },
  {
   "cell_type": "markdown",
   "id": "2c2e3642-6f5d-4f9b-b44a-2fb7280b1974",
   "metadata": {},
   "source": [
    "### 5. What gets printed by this, and explain?\n",
    "&gt;&gt;&gt; def func(a, b, c=8, d=5): \n",
    "\n",
    "print(a, b, c, d)\n",
    "\n",
    "&gt;&gt;&gt; func(1, *(5, 6))"
   ]
  },
  {
   "cell_type": "code",
   "execution_count": 6,
   "id": "baec1179-11eb-49ed-afef-370b708e7b30",
   "metadata": {},
   "outputs": [
    {
     "name": "stdout",
     "output_type": "stream",
     "text": [
      "1 5 6 5\n"
     ]
    }
   ],
   "source": [
    "def func(a, b, c=8, d=5):\n",
    "    print(a, b, c, d)\n",
    "\n",
    "func(1, *(5, 6))"
   ]
  },
  {
   "cell_type": "markdown",
   "id": "530c202a-8f03-4529-9eb6-1b77280d96f9",
   "metadata": {},
   "source": [
    "In this code, a function named func is defined with four parameters a, b, c, and d. The parameters c and d have default values of 8 and 5 respectively.\n",
    "\n",
    "The positional argument 1 is assigned to parameter a, and the tuple (5, 6) is unpacked and assigned to the parameters b and c. Since the tuple has two values, b is assigned 5 and c is assigned 6.\n",
    "\n",
    "The function prints the values of a, b, c, and d, which are 1, 5, 6, and the default value of d which is 5. The value 5 is assigned to parameter d because it has a default value of 5 and was not assigned a new value."
   ]
  },
  {
   "cell_type": "markdown",
   "id": "c4e3ef17-9e7b-472a-a6d7-cd6c58f63def",
   "metadata": {},
   "source": [
    "### 6. what is the result of this, and explain?\n",
    "&gt;&gt;&gt; def func(a, b, c):\n",
    "\n",
    "a = 2; b[0] = &#39;x&#39;; c[&#39;a&#39;] = &#39;y&#39;\n",
    "\n",
    "&gt;&gt;&gt; l=1; m=[1]; n={&#39;a&#39;:0}\n",
    "\n",
    "&gt;&gt;&gt; func(l, m, n)\n",
    "\n",
    "&gt;&gt;&gt; l, m, n"
   ]
  },
  {
   "cell_type": "code",
   "execution_count": 7,
   "id": "e37d9879-df88-4e65-be4a-2f03ddbf6eab",
   "metadata": {},
   "outputs": [
    {
     "data": {
      "text/plain": [
       "(1, ['x'], {'a': 'y'})"
      ]
     },
     "execution_count": 7,
     "metadata": {},
     "output_type": "execute_result"
    }
   ],
   "source": [
    "def func(a, b, c):\n",
    "    a = 2; \n",
    "    b[0] = 'x'; \n",
    "    c['a'] = 'y'\n",
    "\n",
    "l=1; \n",
    "m=[1]; \n",
    "n={'a':0}\n",
    "\n",
    "func(l, m, n)\n",
    "\n",
    "l, m, n"
   ]
  },
  {
   "cell_type": "markdown",
   "id": "e3a010dd-c630-4c8b-8e42-b6c006a2f8e6",
   "metadata": {},
   "source": [
    "In this code, a function named func is defined with three parameters a, b, and c. Inside the function, the value of a is changed to 2, the first element of b is changed to 'x', and the value associated with key 'a' in dictionary c is changed to 'y'.\n",
    "\n",
    "The function func is called with arguments l, m, and n. The value of l is an integer 1, which is immutable, so the function does not affect it. The value of m is a list [1], which is mutable. Therefore, when m is passed to the function as argument b, the function modifies the first element of m to be 'x'. The value of n is a dictionary {'a': 0}, which is also mutable. Therefore, when n is passed to the function as argument c, the function changes the value associated with key 'a' to be 'y'.\n",
    "\n",
    "After the function call, the values of l, m, and n are printed. Since l is immutable, its value is not changed by the function and remains 1. However, m and n are mutable, so the changes made to them inside the function are reflected in their values after the function call. "
   ]
  }
 ],
 "metadata": {
  "kernelspec": {
   "display_name": "Python 3 (ipykernel)",
   "language": "python",
   "name": "python3"
  },
  "language_info": {
   "codemirror_mode": {
    "name": "ipython",
    "version": 3
   },
   "file_extension": ".py",
   "mimetype": "text/x-python",
   "name": "python",
   "nbconvert_exporter": "python",
   "pygments_lexer": "ipython3",
   "version": "3.10.6"
  }
 },
 "nbformat": 4,
 "nbformat_minor": 5
}

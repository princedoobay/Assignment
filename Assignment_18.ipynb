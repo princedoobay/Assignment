{
 "cells": [
  {
   "cell_type": "markdown",
   "id": "3b1f03b8",
   "metadata": {},
   "source": [
    "# Assignment - 18"
   ]
  },
  {
   "cell_type": "markdown",
   "id": "add0d449",
   "metadata": {},
   "source": [
    "### 1. Create a zoo.py file first. Define the hours() function, which prints the string &#39;Open 9-5 daily&#39;. Then, use the interactive interpreter to import the zoo module and call its hours() function.\n"
   ]
  },
  {
   "cell_type": "code",
   "execution_count": 1,
   "id": "8521ad22",
   "metadata": {},
   "outputs": [],
   "source": [
    "# File: zoo.py\n",
    "\n",
    "def hours():\n",
    "    print('Open 9-5 daily')"
   ]
  },
  {
   "cell_type": "markdown",
   "id": "f06ca1d7",
   "metadata": {},
   "source": [
    "Save this code as a file named zoo.py in our working directory.\n",
    "\n",
    "To import the zoo module and call its hours() function in the Python interpreter, we can use the following commands:"
   ]
  },
  {
   "cell_type": "code",
   "execution_count": 5,
   "id": "11be3037",
   "metadata": {},
   "outputs": [
    {
     "name": "stdout",
     "output_type": "stream",
     "text": [
      "Open 9-5 daily\n"
     ]
    }
   ],
   "source": [
    "# import zoo\n",
    "## zoo.hours()\n",
    "hours()\n"
   ]
  },
  {
   "cell_type": "markdown",
   "id": "fed1aeff",
   "metadata": {},
   "source": [
    "### 2. In the interactive interpreter, import the zoo module as menagerie and call its hours() function.\n"
   ]
  },
  {
   "cell_type": "markdown",
   "id": "aaf28099",
   "metadata": {},
   "source": [
    "To import the `zoo` module as `menagerie` and call its `hours()` function in the Python interpreter, we can use the following commands:\n",
    "\n",
    "```python\n",
    ">>> import zoo as menagerie\n",
    ">>> menagerie.hours()\n",
    "Open 9-5 daily\n",
    "```\n",
    "\n",
    "The first command imports the `zoo` module with the name `menagerie`. The second command calls the `hours()` function in the `menagerie` module, which prints the string 'Open 9-5 daily' to the console."
   ]
  },
  {
   "cell_type": "markdown",
   "id": "c346ffcf",
   "metadata": {},
   "source": [
    "### 3. Using the interpreter, explicitly import and call the hours() function from zoo.\n"
   ]
  },
  {
   "cell_type": "markdown",
   "id": "8cc4fc8d",
   "metadata": {},
   "source": [
    "To explicitly import and call the `hours()` function from the `zoo` module in the Python interpreter, you can use the following commands:\n",
    "\n",
    "```python\n",
    ">>> from zoo import hours\n",
    ">>> hours()\n",
    "Open 9-5 daily\n",
    "```\n",
    "\n",
    "The first command imports only the `hours()` function from the `zoo` module. The second command calls the `hours()` function, which prints the string 'Open 9-5 daily' to the console."
   ]
  },
  {
   "cell_type": "markdown",
   "id": "dc58de5f",
   "metadata": {},
   "source": [
    "### 4. Import the hours() function as info and call it.\n"
   ]
  },
  {
   "cell_type": "markdown",
   "id": "4045c7bb",
   "metadata": {},
   "source": [
    "To import the `hours()` function from the `zoo` module with the name `info` and call it in the Python interpreter, you can use the following commands:\n",
    "\n",
    "```python\n",
    ">>> from zoo import hours as info\n",
    ">>> info()\n",
    "Open 9-5 daily\n",
    "```\n",
    "\n",
    "The first command imports the `hours()` function from the `zoo` module with the name `info`. The second command calls the `info()` function, which prints the string 'Open 9-5 daily' to the console."
   ]
  },
  {
   "cell_type": "markdown",
   "id": "f42be789",
   "metadata": {},
   "source": [
    "### 5. Create a plain dictionary with the key-value pairs &#39;a&#39;: 1, &#39;b&#39;: 2, and &#39;c&#39;: 3, and print it out.\n"
   ]
  },
  {
   "cell_type": "code",
   "execution_count": 6,
   "id": "fc9fb83d",
   "metadata": {},
   "outputs": [
    {
     "name": "stdout",
     "output_type": "stream",
     "text": [
      "{'a': 1, 'b': 2, 'c': 3}\n"
     ]
    }
   ],
   "source": [
    "my_dict = {'a': 1, 'b': 2, 'c': 3}\n",
    "print(my_dict)"
   ]
  },
  {
   "cell_type": "markdown",
   "id": "03280162",
   "metadata": {},
   "source": [
    "### 6. Make an OrderedDict called fancy from the same pairs listed in 5 and print it. Did it print in the same order as plain?\n"
   ]
  },
  {
   "cell_type": "code",
   "execution_count": 7,
   "id": "5b59d869",
   "metadata": {},
   "outputs": [
    {
     "name": "stdout",
     "output_type": "stream",
     "text": [
      "OrderedDict([('a', 1), ('b', 2), ('c', 3)])\n"
     ]
    }
   ],
   "source": [
    "from collections import OrderedDict\n",
    "fancy = OrderedDict([('a', 1), ('b', 2), ('c', 3)])\n",
    "print(fancy)"
   ]
  },
  {
   "cell_type": "markdown",
   "id": "841959ce",
   "metadata": {},
   "source": [
    "### 7. Make a default dictionary called dict_of_lists and pass it the argument list. Make the list\n",
    "#### dict_of_lists[&#39;a&#39;] and append the value &#39;something for a&#39; to it in one assignment. Print\n",
    "#### dict_of_lists[&#39;a&#39;]."
   ]
  },
  {
   "cell_type": "code",
   "execution_count": 8,
   "id": "5421c73d",
   "metadata": {},
   "outputs": [
    {
     "name": "stdout",
     "output_type": "stream",
     "text": [
      "['something for a']\n"
     ]
    }
   ],
   "source": [
    "from collections import defaultdict\n",
    "dict_of_lists = defaultdict(list)\n",
    "dict_of_lists['a'].append('something for a')\n",
    "print(dict_of_lists['a'])"
   ]
  }
 ],
 "metadata": {
  "kernelspec": {
   "display_name": "Python 3 (ipykernel)",
   "language": "python",
   "name": "python3"
  },
  "language_info": {
   "codemirror_mode": {
    "name": "ipython",
    "version": 3
   },
   "file_extension": ".py",
   "mimetype": "text/x-python",
   "name": "python",
   "nbconvert_exporter": "python",
   "pygments_lexer": "ipython3",
   "version": "3.9.12"
  }
 },
 "nbformat": 4,
 "nbformat_minor": 5
}
